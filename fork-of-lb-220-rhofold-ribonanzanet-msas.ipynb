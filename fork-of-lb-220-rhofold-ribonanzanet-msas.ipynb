{
 "cells": [
  {
   "cell_type": "markdown",
   "id": "4b9c4bb4",
   "metadata": {
    "papermill": {
     "duration": 0.006127,
     "end_time": "2025-04-18T05:48:14.829095",
     "exception": false,
     "start_time": "2025-04-18T05:48:14.822968",
     "status": "completed"
    },
    "tags": []
   },
   "source": [
    "# RibonanzaNet 3D Inference"
   ]
  },
  {
   "cell_type": "code",
   "execution_count": 1,
   "id": "8de1e5d6",
   "metadata": {
    "execution": {
     "iopub.execute_input": "2025-04-18T05:48:14.840681Z",
     "iopub.status.busy": "2025-04-18T05:48:14.840468Z",
     "iopub.status.idle": "2025-04-18T05:48:19.062875Z",
     "shell.execute_reply": "2025-04-18T05:48:19.062191Z"
    },
    "papermill": {
     "duration": 4.229605,
     "end_time": "2025-04-18T05:48:19.064286",
     "exception": false,
     "start_time": "2025-04-18T05:48:14.834681",
     "status": "completed"
    },
    "tags": []
   },
   "outputs": [],
   "source": [
    "import pandas as pd\n",
    "import torch\n",
    "import matplotlib.pyplot as plt\n",
    "import numpy as np\n",
    "import torch\n",
    "import random\n",
    "import pickle"
   ]
  },
  {
   "cell_type": "code",
   "execution_count": 2,
   "id": "c4c07028",
   "metadata": {
    "execution": {
     "iopub.execute_input": "2025-04-18T05:48:19.076718Z",
     "iopub.status.busy": "2025-04-18T05:48:19.076388Z",
     "iopub.status.idle": "2025-04-18T05:48:19.079321Z",
     "shell.execute_reply": "2025-04-18T05:48:19.078712Z"
    },
    "papermill": {
     "duration": 0.010263,
     "end_time": "2025-04-18T05:48:19.080599",
     "exception": false,
     "start_time": "2025-04-18T05:48:19.070336",
     "status": "completed"
    },
    "tags": []
   },
   "outputs": [],
   "source": [
    "Test = False"
   ]
  },
  {
   "cell_type": "code",
   "execution_count": 3,
   "id": "a298637a",
   "metadata": {
    "execution": {
     "iopub.execute_input": "2025-04-18T05:48:19.092100Z",
     "iopub.status.busy": "2025-04-18T05:48:19.091873Z",
     "iopub.status.idle": "2025-04-18T05:48:19.410287Z",
     "shell.execute_reply": "2025-04-18T05:48:19.409582Z"
    },
    "papermill": {
     "duration": 0.325754,
     "end_time": "2025-04-18T05:48:19.411767",
     "exception": false,
     "start_time": "2025-04-18T05:48:19.086013",
     "status": "completed"
    },
    "tags": []
   },
   "outputs": [],
   "source": [
    "train_data   = pd.read_csv(\"/kaggle/input/folding-strategy-rna/rna_dataset_with_fold.csv\")\n",
    "train_data   = train_data[train_data[\"fold\"]==1]\n",
    "train_data   = train_data.reset_index()\n",
    "if Test:\n",
    "    train_data = train_data[0:1]\n",
    "train_labels = pd.read_csv(\"/kaggle/input/stanford-rna-3d-folding/train_labels.csv\")"
   ]
  },
  {
   "cell_type": "code",
   "execution_count": 4,
   "id": "bc35809d",
   "metadata": {
    "execution": {
     "iopub.execute_input": "2025-04-18T05:48:19.423833Z",
     "iopub.status.busy": "2025-04-18T05:48:19.423595Z",
     "iopub.status.idle": "2025-04-18T05:48:19.428606Z",
     "shell.execute_reply": "2025-04-18T05:48:19.427947Z"
    },
    "papermill": {
     "duration": 0.012298,
     "end_time": "2025-04-18T05:48:19.429894",
     "exception": false,
     "start_time": "2025-04-18T05:48:19.417596",
     "status": "completed"
    },
    "tags": []
   },
   "outputs": [
    {
     "data": {
      "text/plain": [
       "(178, 8)"
      ]
     },
     "execution_count": 4,
     "metadata": {},
     "output_type": "execute_result"
    }
   ],
   "source": [
    "train_data.shape"
   ]
  },
  {
   "cell_type": "code",
   "execution_count": 5,
   "id": "480e6bcb",
   "metadata": {
    "execution": {
     "iopub.execute_input": "2025-04-18T05:48:19.441994Z",
     "iopub.status.busy": "2025-04-18T05:48:19.441782Z",
     "iopub.status.idle": "2025-04-18T05:48:19.446316Z",
     "shell.execute_reply": "2025-04-18T05:48:19.445507Z"
    },
    "papermill": {
     "duration": 0.012041,
     "end_time": "2025-04-18T05:48:19.447588",
     "exception": false,
     "start_time": "2025-04-18T05:48:19.435547",
     "status": "completed"
    },
    "tags": []
   },
   "outputs": [
    {
     "data": {
      "text/plain": [
       "Index(['index', 'target_id', 'sequence', 'temporal_cutoff', 'description',\n",
       "       'all_sequences', 'sequence_length', 'fold'],\n",
       "      dtype='object')"
      ]
     },
     "execution_count": 5,
     "metadata": {},
     "output_type": "execute_result"
    }
   ],
   "source": [
    "train_data.columns"
   ]
  },
  {
   "cell_type": "code",
   "execution_count": 6,
   "id": "325ea128",
   "metadata": {
    "execution": {
     "iopub.execute_input": "2025-04-18T05:48:19.459600Z",
     "iopub.status.busy": "2025-04-18T05:48:19.459371Z",
     "iopub.status.idle": "2025-04-18T05:48:19.464027Z",
     "shell.execute_reply": "2025-04-18T05:48:19.463172Z"
    },
    "papermill": {
     "duration": 0.011953,
     "end_time": "2025-04-18T05:48:19.465317",
     "exception": false,
     "start_time": "2025-04-18T05:48:19.453364",
     "status": "completed"
    },
    "tags": []
   },
   "outputs": [],
   "source": [
    "from torch.utils.data import Dataset, DataLoader\n",
    "\n",
    "class RNADataset(Dataset):\n",
    "    def __init__(self,data):\n",
    "        self.data=data\n",
    "        self.tokens={nt:i for i,nt in enumerate('ACGU')}\n",
    "\n",
    "    def __len__(self):\n",
    "        return len(self.data)\n",
    "    \n",
    "    def __getitem__(self, idx):\n",
    "        sequence=[self.tokens[nt] for nt in (self.data.loc[idx,'sequence'])]\n",
    "        sequence=np.array(sequence)\n",
    "        sequence=torch.tensor(sequence)\n",
    "\n",
    "        return {'sequence':sequence}"
   ]
  },
  {
   "cell_type": "code",
   "execution_count": 7,
   "id": "f804ee25",
   "metadata": {
    "execution": {
     "iopub.execute_input": "2025-04-18T05:48:19.477468Z",
     "iopub.status.busy": "2025-04-18T05:48:19.477209Z",
     "iopub.status.idle": "2025-04-18T05:48:19.525130Z",
     "shell.execute_reply": "2025-04-18T05:48:19.524503Z"
    },
    "papermill": {
     "duration": 0.055268,
     "end_time": "2025-04-18T05:48:19.526387",
     "exception": false,
     "start_time": "2025-04-18T05:48:19.471119",
     "status": "completed"
    },
    "tags": []
   },
   "outputs": [
    {
     "data": {
      "text/plain": [
       "{'sequence': tensor([3, 3, 0, 2, 2, 1, 2, 2, 1, 1, 0, 1, 0, 2, 1, 2, 2, 3, 2, 2, 2, 2, 3, 3,\n",
       "         2, 1, 1, 3, 1, 1, 1, 2, 3, 0, 1, 1, 1, 0, 3, 1, 1, 1, 2, 0, 0, 1, 0, 1,\n",
       "         2, 2, 0, 0, 2, 0, 3, 0, 0, 2, 1, 1, 1, 0, 1, 1, 0, 2, 1, 2, 3, 3, 1, 1,\n",
       "         2, 2, 2, 2, 0, 2, 3, 0, 1, 3, 2, 2, 0, 2, 3, 2, 1, 2, 1, 2, 0, 2, 1, 1,\n",
       "         3, 1, 3, 2, 2, 2, 0, 0, 0, 1, 1, 1, 2, 2, 3, 3, 1, 2, 1, 1, 2, 1, 1, 0,\n",
       "         1, 1])}"
      ]
     },
     "execution_count": 7,
     "metadata": {},
     "output_type": "execute_result"
    }
   ],
   "source": [
    "train_dataset=RNADataset(train_data)\n",
    "train_dataset[0]"
   ]
  },
  {
   "cell_type": "markdown",
   "id": "234a1b37",
   "metadata": {
    "papermill": {
     "duration": 0.005341,
     "end_time": "2025-04-18T05:48:19.537466",
     "exception": false,
     "start_time": "2025-04-18T05:48:19.532125",
     "status": "completed"
    },
    "tags": []
   },
   "source": [
    "## RhoFold Inference"
   ]
  },
  {
   "cell_type": "code",
   "execution_count": 8,
   "id": "205735a4",
   "metadata": {
    "execution": {
     "iopub.execute_input": "2025-04-18T05:48:19.549289Z",
     "iopub.status.busy": "2025-04-18T05:48:19.549032Z",
     "iopub.status.idle": "2025-04-18T05:48:19.552150Z",
     "shell.execute_reply": "2025-04-18T05:48:19.551552Z"
    },
    "papermill": {
     "duration": 0.010365,
     "end_time": "2025-04-18T05:48:19.553312",
     "exception": false,
     "start_time": "2025-04-18T05:48:19.542947",
     "status": "completed"
    },
    "tags": []
   },
   "outputs": [],
   "source": [
    "import pandas as pd\n",
    "import numpy as np\n",
    "import os\n",
    "import sys\n",
    "import argparse"
   ]
  },
  {
   "cell_type": "code",
   "execution_count": 9,
   "id": "7658051e",
   "metadata": {
    "execution": {
     "iopub.execute_input": "2025-04-18T05:48:19.565124Z",
     "iopub.status.busy": "2025-04-18T05:48:19.564920Z",
     "iopub.status.idle": "2025-04-18T05:48:24.402034Z",
     "shell.execute_reply": "2025-04-18T05:48:24.401105Z"
    },
    "papermill": {
     "duration": 4.844853,
     "end_time": "2025-04-18T05:48:24.403801",
     "exception": false,
     "start_time": "2025-04-18T05:48:19.558948",
     "status": "completed"
    },
    "tags": []
   },
   "outputs": [
    {
     "name": "stdout",
     "output_type": "stream",
     "text": [
      "Processing /kaggle/input/openmm/OpenMM-8.2.0-cp310-cp310-manylinux_2_27_x86_64.manylinux_2_28_x86_64.whl\r\n",
      "Requirement already satisfied: numpy in /usr/local/lib/python3.10/dist-packages (from OpenMM==8.2.0) (1.26.4)\r\n",
      "Requirement already satisfied: mkl_fft in /usr/local/lib/python3.10/dist-packages (from numpy->OpenMM==8.2.0) (1.3.8)\r\n",
      "Requirement already satisfied: mkl_random in /usr/local/lib/python3.10/dist-packages (from numpy->OpenMM==8.2.0) (1.2.4)\r\n",
      "Requirement already satisfied: mkl_umath in /usr/local/lib/python3.10/dist-packages (from numpy->OpenMM==8.2.0) (0.1.1)\r\n",
      "Requirement already satisfied: mkl in /usr/local/lib/python3.10/dist-packages (from numpy->OpenMM==8.2.0) (2025.0.1)\r\n",
      "Requirement already satisfied: tbb4py in /usr/local/lib/python3.10/dist-packages (from numpy->OpenMM==8.2.0) (2022.0.0)\r\n",
      "Requirement already satisfied: mkl-service in /usr/local/lib/python3.10/dist-packages (from numpy->OpenMM==8.2.0) (2.4.1)\r\n",
      "Requirement already satisfied: intel-openmp>=2024 in /usr/local/lib/python3.10/dist-packages (from mkl->numpy->OpenMM==8.2.0) (2024.2.0)\r\n",
      "Requirement already satisfied: tbb==2022.* in /usr/local/lib/python3.10/dist-packages (from mkl->numpy->OpenMM==8.2.0) (2022.0.0)\r\n",
      "Requirement already satisfied: tcmlib==1.* in /usr/local/lib/python3.10/dist-packages (from tbb==2022.*->mkl->numpy->OpenMM==8.2.0) (1.2.0)\r\n",
      "Requirement already satisfied: intel-cmplr-lib-rt in /usr/local/lib/python3.10/dist-packages (from mkl_umath->numpy->OpenMM==8.2.0) (2024.2.0)\r\n",
      "Requirement already satisfied: intel-cmplr-lib-ur==2024.2.0 in /usr/local/lib/python3.10/dist-packages (from intel-openmp>=2024->mkl->numpy->OpenMM==8.2.0) (2024.2.0)\r\n",
      "Installing collected packages: OpenMM\r\n",
      "Successfully installed OpenMM-8.2.0\r\n"
     ]
    }
   ],
   "source": [
    "!pip install /kaggle/input/openmm/OpenMM-8.2.0-cp310-cp310-manylinux_2_27_x86_64.manylinux_2_28_x86_64.whl"
   ]
  },
  {
   "cell_type": "code",
   "execution_count": 10,
   "id": "c018927f",
   "metadata": {
    "execution": {
     "iopub.execute_input": "2025-04-18T05:48:24.418175Z",
     "iopub.status.busy": "2025-04-18T05:48:24.417928Z",
     "iopub.status.idle": "2025-04-18T05:48:27.742142Z",
     "shell.execute_reply": "2025-04-18T05:48:27.741269Z"
    },
    "papermill": {
     "duration": 3.33351,
     "end_time": "2025-04-18T05:48:27.744134",
     "exception": false,
     "start_time": "2025-04-18T05:48:24.410624",
     "status": "completed"
    },
    "tags": []
   },
   "outputs": [
    {
     "name": "stdout",
     "output_type": "stream",
     "text": [
      "Processing /kaggle/input/simtk-0-1/simtk-0.1.0-py2.py3-none-any.whl\r\n",
      "Installing collected packages: simtk\r\n",
      "Successfully installed simtk-0.1.0\r\n"
     ]
    }
   ],
   "source": [
    "!pip install /kaggle/input/simtk-0-1/simtk-0.1.0-py2.py3-none-any.whl"
   ]
  },
  {
   "cell_type": "code",
   "execution_count": 11,
   "id": "d6578122",
   "metadata": {
    "execution": {
     "iopub.execute_input": "2025-04-18T05:48:27.758343Z",
     "iopub.status.busy": "2025-04-18T05:48:27.758026Z",
     "iopub.status.idle": "2025-04-18T05:48:31.208445Z",
     "shell.execute_reply": "2025-04-18T05:48:31.207514Z"
    },
    "papermill": {
     "duration": 3.459639,
     "end_time": "2025-04-18T05:48:31.210707",
     "exception": false,
     "start_time": "2025-04-18T05:48:27.751068",
     "status": "completed"
    },
    "tags": []
   },
   "outputs": [
    {
     "name": "stdout",
     "output_type": "stream",
     "text": [
      "Processing /kaggle/input/pytest-runner/pytest_runner-6.0.1-py3-none-any.whl\r\n",
      "Installing collected packages: pytest-runner\r\n",
      "Successfully installed pytest-runner-6.0.1\r\n"
     ]
    }
   ],
   "source": [
    "!pip install /kaggle/input/pytest-runner/pytest_runner-6.0.1-py3-none-any.whl"
   ]
  },
  {
   "cell_type": "code",
   "execution_count": 12,
   "id": "91c740eb",
   "metadata": {
    "execution": {
     "iopub.execute_input": "2025-04-18T05:48:31.224711Z",
     "iopub.status.busy": "2025-04-18T05:48:31.224443Z",
     "iopub.status.idle": "2025-04-18T05:48:35.645548Z",
     "shell.execute_reply": "2025-04-18T05:48:35.644380Z"
    },
    "papermill": {
     "duration": 4.429755,
     "end_time": "2025-04-18T05:48:35.647118",
     "exception": false,
     "start_time": "2025-04-18T05:48:31.217363",
     "status": "completed"
    },
    "tags": []
   },
   "outputs": [
    {
     "name": "stdout",
     "output_type": "stream",
     "text": [
      "Processing /kaggle/input/biopython/biopython-1.85-cp310-cp310-manylinux_2_17_x86_64.manylinux2014_x86_64.whl\r\n",
      "Requirement already satisfied: numpy in /usr/local/lib/python3.10/dist-packages (from biopython==1.85) (1.26.4)\r\n",
      "Requirement already satisfied: mkl_fft in /usr/local/lib/python3.10/dist-packages (from numpy->biopython==1.85) (1.3.8)\r\n",
      "Requirement already satisfied: mkl_random in /usr/local/lib/python3.10/dist-packages (from numpy->biopython==1.85) (1.2.4)\r\n",
      "Requirement already satisfied: mkl_umath in /usr/local/lib/python3.10/dist-packages (from numpy->biopython==1.85) (0.1.1)\r\n",
      "Requirement already satisfied: mkl in /usr/local/lib/python3.10/dist-packages (from numpy->biopython==1.85) (2025.0.1)\r\n",
      "Requirement already satisfied: tbb4py in /usr/local/lib/python3.10/dist-packages (from numpy->biopython==1.85) (2022.0.0)\r\n",
      "Requirement already satisfied: mkl-service in /usr/local/lib/python3.10/dist-packages (from numpy->biopython==1.85) (2.4.1)\r\n",
      "Requirement already satisfied: intel-openmp>=2024 in /usr/local/lib/python3.10/dist-packages (from mkl->numpy->biopython==1.85) (2024.2.0)\r\n",
      "Requirement already satisfied: tbb==2022.* in /usr/local/lib/python3.10/dist-packages (from mkl->numpy->biopython==1.85) (2022.0.0)\r\n",
      "Requirement already satisfied: tcmlib==1.* in /usr/local/lib/python3.10/dist-packages (from tbb==2022.*->mkl->numpy->biopython==1.85) (1.2.0)\r\n",
      "Requirement already satisfied: intel-cmplr-lib-rt in /usr/local/lib/python3.10/dist-packages (from mkl_umath->numpy->biopython==1.85) (2024.2.0)\r\n",
      "Requirement already satisfied: intel-cmplr-lib-ur==2024.2.0 in /usr/local/lib/python3.10/dist-packages (from intel-openmp>=2024->mkl->numpy->biopython==1.85) (2024.2.0)\r\n",
      "Installing collected packages: biopython\r\n",
      "Successfully installed biopython-1.85\r\n"
     ]
    }
   ],
   "source": [
    "!pip install /kaggle/input/biopython/biopython-1.85-cp310-cp310-manylinux_2_17_x86_64.manylinux2014_x86_64.whl"
   ]
  },
  {
   "cell_type": "code",
   "execution_count": 13,
   "id": "53ea6ff2",
   "metadata": {
    "execution": {
     "iopub.execute_input": "2025-04-18T05:48:35.661536Z",
     "iopub.status.busy": "2025-04-18T05:48:35.661223Z",
     "iopub.status.idle": "2025-04-18T05:48:39.115954Z",
     "shell.execute_reply": "2025-04-18T05:48:39.115073Z"
    },
    "papermill": {
     "duration": 3.46392,
     "end_time": "2025-04-18T05:48:39.118025",
     "exception": false,
     "start_time": "2025-04-18T05:48:35.654105",
     "status": "completed"
    },
    "tags": []
   },
   "outputs": [
    {
     "name": "stdout",
     "output_type": "stream",
     "text": [
      "Processing /kaggle/input/ml-collections/ml_collections-1.0.0-py3-none-any.whl\r\n",
      "Requirement already satisfied: absl-py in /usr/local/lib/python3.10/dist-packages (from ml-collections==1.0.0) (1.4.0)\r\n",
      "Requirement already satisfied: six in /usr/local/lib/python3.10/dist-packages (from ml-collections==1.0.0) (1.17.0)\r\n",
      "Requirement already satisfied: PyYAML in /usr/local/lib/python3.10/dist-packages (from ml-collections==1.0.0) (6.0.2)\r\n",
      "Installing collected packages: ml-collections\r\n",
      "Successfully installed ml-collections-1.0.0\r\n"
     ]
    }
   ],
   "source": [
    "!pip install /kaggle/input/ml-collections/ml_collections-1.0.0-py3-none-any.whl"
   ]
  },
  {
   "cell_type": "code",
   "execution_count": 14,
   "id": "5c6e8221",
   "metadata": {
    "execution": {
     "iopub.execute_input": "2025-04-18T05:48:39.132418Z",
     "iopub.status.busy": "2025-04-18T05:48:39.132137Z",
     "iopub.status.idle": "2025-04-18T05:48:43.479100Z",
     "shell.execute_reply": "2025-04-18T05:48:43.478095Z"
    },
    "papermill": {
     "duration": 4.3563,
     "end_time": "2025-04-18T05:48:43.481181",
     "exception": false,
     "start_time": "2025-04-18T05:48:39.124881",
     "status": "completed"
    },
    "tags": []
   },
   "outputs": [],
   "source": [
    "!cp -R /kaggle/input/rhofold-repo /kaggle/working/"
   ]
  },
  {
   "cell_type": "code",
   "execution_count": 15,
   "id": "efbbb3fc",
   "metadata": {
    "execution": {
     "iopub.execute_input": "2025-04-18T05:48:43.495725Z",
     "iopub.status.busy": "2025-04-18T05:48:43.495429Z",
     "iopub.status.idle": "2025-04-18T05:48:43.620828Z",
     "shell.execute_reply": "2025-04-18T05:48:43.619796Z"
    },
    "papermill": {
     "duration": 0.134108,
     "end_time": "2025-04-18T05:48:43.622158",
     "exception": false,
     "start_time": "2025-04-18T05:48:43.488050",
     "status": "completed"
    },
    "tags": []
   },
   "outputs": [],
   "source": [
    "!mv rhofold-repo RhoFold"
   ]
  },
  {
   "cell_type": "code",
   "execution_count": 16,
   "id": "e4d845de",
   "metadata": {
    "execution": {
     "iopub.execute_input": "2025-04-18T05:48:43.636060Z",
     "iopub.status.busy": "2025-04-18T05:48:43.635825Z",
     "iopub.status.idle": "2025-04-18T05:48:43.643042Z",
     "shell.execute_reply": "2025-04-18T05:48:43.642319Z"
    },
    "papermill": {
     "duration": 0.015485,
     "end_time": "2025-04-18T05:48:43.644338",
     "exception": false,
     "start_time": "2025-04-18T05:48:43.628853",
     "status": "completed"
    },
    "tags": []
   },
   "outputs": [
    {
     "name": "stdout",
     "output_type": "stream",
     "text": [
      "/kaggle/working/RhoFold\n"
     ]
    }
   ],
   "source": [
    "\n",
    "cd /kaggle/working/RhoFold"
   ]
  },
  {
   "cell_type": "code",
   "execution_count": 17,
   "id": "2813206f",
   "metadata": {
    "execution": {
     "iopub.execute_input": "2025-04-18T05:48:43.657988Z",
     "iopub.status.busy": "2025-04-18T05:48:43.657776Z",
     "iopub.status.idle": "2025-04-18T05:49:49.547462Z",
     "shell.execute_reply": "2025-04-18T05:49:49.546364Z"
    },
    "papermill": {
     "duration": 65.898163,
     "end_time": "2025-04-18T05:49:49.549088",
     "exception": false,
     "start_time": "2025-04-18T05:48:43.650925",
     "status": "completed"
    },
    "tags": []
   },
   "outputs": [
    {
     "name": "stdout",
     "output_type": "stream",
     "text": [
      "/usr/local/lib/python3.10/dist-packages/setuptools/__init__.py:94: _DeprecatedInstaller: setuptools.installer and fetch_build_eggs are deprecated.\r\n",
      "!!\r\n",
      "\r\n",
      "        ********************************************************************************\r\n",
      "        Requirements should be satisfied by a PEP 517 installer.\r\n",
      "        If you are using pip, you can try `pip install --use-pep517`.\r\n",
      "        ********************************************************************************\r\n",
      "\r\n",
      "!!\r\n",
      "  dist.fetch_build_eggs(dist.setup_requires)\r\n",
      "/usr/local/lib/python3.10/dist-packages/setuptools/_distutils/dist.py:261: UserWarning: Unknown distribution option: 'tests_require'\r\n",
      "  warnings.warn(msg)\r\n",
      "/usr/local/lib/python3.10/dist-packages/setuptools/_distutils/cmd.py:66: SetuptoolsDeprecationWarning: setup.py install is deprecated.\r\n",
      "!!\r\n",
      "\r\n",
      "        ********************************************************************************\r\n",
      "        Please avoid running ``setup.py`` directly.\r\n",
      "        Instead, use pypa/build, pypa/installer or other\r\n",
      "        standards-based tools.\r\n",
      "\r\n",
      "        See https://blog.ganssle.io/articles/2021/10/setup-py-deprecated.html for details.\r\n",
      "        ********************************************************************************\r\n",
      "\r\n",
      "!!\r\n",
      "  self.initialize_options()\r\n",
      "/usr/local/lib/python3.10/dist-packages/setuptools/_distutils/cmd.py:66: EasyInstallDeprecationWarning: easy_install command is deprecated.\r\n",
      "!!\r\n",
      "\r\n",
      "        ********************************************************************************\r\n",
      "        Please avoid running ``setup.py`` and ``easy_install``.\r\n",
      "        Instead, use pypa/build, pypa/installer or other\r\n",
      "        standards-based tools.\r\n",
      "\r\n",
      "        See https://github.com/pypa/setuptools/issues/917 for details.\r\n",
      "        ********************************************************************************\r\n",
      "\r\n",
      "!!\r\n",
      "  self.initialize_options()\r\n",
      "\u001b[2;36m[04/18/25 05:48:45]\u001b[0m\u001b[2;36m \u001b[0m\u001b[1;31mERROR   \u001b[0m listing git files failed - pretending there aren't any        \u001b]8;id=346488;file:///usr/local/lib/python3.10/dist-packages/setuptools_scm/_file_finders/git.py\u001b\\\u001b[2mgit.py\u001b[0m\u001b]8;;\u001b\\\u001b[2m:\u001b[0m\u001b]8;id=739158;file:///usr/local/lib/python3.10/dist-packages/setuptools_scm/_file_finders/git.py#26\u001b\\\u001b[2m26\u001b[0m\u001b]8;;\u001b\\\r\n",
      "error: Could not find suitable distribution for Requirement.parse('Bio')\r\n"
     ]
    }
   ],
   "source": [
    "!python setup.py install"
   ]
  },
  {
   "cell_type": "code",
   "execution_count": 18,
   "id": "9a63698f",
   "metadata": {
    "execution": {
     "iopub.execute_input": "2025-04-18T05:49:49.563592Z",
     "iopub.status.busy": "2025-04-18T05:49:49.563314Z",
     "iopub.status.idle": "2025-04-18T05:49:49.566896Z",
     "shell.execute_reply": "2025-04-18T05:49:49.566109Z"
    },
    "papermill": {
     "duration": 0.012101,
     "end_time": "2025-04-18T05:49:49.568091",
     "exception": false,
     "start_time": "2025-04-18T05:49:49.555990",
     "status": "completed"
    },
    "tags": []
   },
   "outputs": [],
   "source": [
    "fasta = train_data"
   ]
  },
  {
   "cell_type": "code",
   "execution_count": 19,
   "id": "0f1cadb0",
   "metadata": {
    "execution": {
     "iopub.execute_input": "2025-04-18T05:49:49.581915Z",
     "iopub.status.busy": "2025-04-18T05:49:49.581694Z",
     "iopub.status.idle": "2025-04-18T05:49:49.606316Z",
     "shell.execute_reply": "2025-04-18T05:49:49.605538Z"
    },
    "papermill": {
     "duration": 0.032965,
     "end_time": "2025-04-18T05:49:49.607643",
     "exception": false,
     "start_time": "2025-04-18T05:49:49.574678",
     "status": "completed"
    },
    "tags": []
   },
   "outputs": [
    {
     "data": {
      "text/html": [
       "<div>\n",
       "<style scoped>\n",
       "    .dataframe tbody tr th:only-of-type {\n",
       "        vertical-align: middle;\n",
       "    }\n",
       "\n",
       "    .dataframe tbody tr th {\n",
       "        vertical-align: top;\n",
       "    }\n",
       "\n",
       "    .dataframe thead th {\n",
       "        text-align: right;\n",
       "    }\n",
       "</style>\n",
       "<table border=\"1\" class=\"dataframe\">\n",
       "  <thead>\n",
       "    <tr style=\"text-align: right;\">\n",
       "      <th></th>\n",
       "      <th>index</th>\n",
       "      <th>target_id</th>\n",
       "      <th>sequence</th>\n",
       "      <th>temporal_cutoff</th>\n",
       "      <th>description</th>\n",
       "      <th>all_sequences</th>\n",
       "      <th>sequence_length</th>\n",
       "      <th>fold</th>\n",
       "    </tr>\n",
       "  </thead>\n",
       "  <tbody>\n",
       "    <tr>\n",
       "      <th>0</th>\n",
       "      <td>67</td>\n",
       "      <td>1FFK_9</td>\n",
       "      <td>UUAGGCGGCCACAGCGGUGGGGUUGCCUCCCGUACCCAUCCCGAAC...</td>\n",
       "      <td>2000-08-14</td>\n",
       "      <td>CRYSTAL STRUCTURE OF THE LARGE RIBOSOMAL SUBUN...</td>\n",
       "      <td>&gt;1FFK_1|Chain A[auth 0]|23S RRNA|Haloarcula ma...</td>\n",
       "      <td>122</td>\n",
       "      <td>1</td>\n",
       "    </tr>\n",
       "    <tr>\n",
       "      <th>1</th>\n",
       "      <td>74</td>\n",
       "      <td>1FOQ_A</td>\n",
       "      <td>UCAAUGGUACGGUACUUCCAUUGUCAUGUGUAUGUUGGGGAUUAAA...</td>\n",
       "      <td>2000-12-22</td>\n",
       "      <td>PENTAMERIC MODEL OF THE BACTERIOPHAGE PHI29 PR...</td>\n",
       "      <td>&gt;1FOQ_1|Chains A, B, C, D, E|BACTERIOPHAGE PHI...</td>\n",
       "      <td>120</td>\n",
       "      <td>1</td>\n",
       "    </tr>\n",
       "    <tr>\n",
       "      <th>2</th>\n",
       "      <td>148</td>\n",
       "      <td>1S9S_A</td>\n",
       "      <td>GGCGGUACUAGUUGAGAAACUAGCUCUGUAUCUGGCGGACCCGUGG...</td>\n",
       "      <td>2004-04-06</td>\n",
       "      <td>SOLUTION STRUCTURE OF MLV PSI SITE</td>\n",
       "      <td>&gt;1S9S_1|Chain A|MLV Psi encapsidation site|nul...</td>\n",
       "      <td>101</td>\n",
       "      <td>1</td>\n",
       "    </tr>\n",
       "    <tr>\n",
       "      <th>3</th>\n",
       "      <td>173</td>\n",
       "      <td>1ZC8_Z</td>\n",
       "      <td>GCCCGUCACGCCAUGGGAGCGGGCUCUACCCGAAGUCGCCGGGAGC...</td>\n",
       "      <td>2005-04-19</td>\n",
       "      <td>Coordinates of tmRNA, SmpB, EF-Tu and h44 fitt...</td>\n",
       "      <td>&gt;1ZC8_1|Chain A|TLD 16S ribosomal RNA|Thermus ...</td>\n",
       "      <td>91</td>\n",
       "      <td>1</td>\n",
       "    </tr>\n",
       "    <tr>\n",
       "      <th>4</th>\n",
       "      <td>186</td>\n",
       "      <td>1YSH_B</td>\n",
       "      <td>UAGACGGUGGGAGAGGGUGGUGGAAUUCCCGGAGUAGCGGUGAAAU...</td>\n",
       "      <td>2005-07-05</td>\n",
       "      <td>Localization and dynamic behavior of ribosomal...</td>\n",
       "      <td>&gt;1YSH_1|Chain A|RNA (28-MER)|synthetic constru...</td>\n",
       "      <td>101</td>\n",
       "      <td>1</td>\n",
       "    </tr>\n",
       "    <tr>\n",
       "      <th>...</th>\n",
       "      <td>...</td>\n",
       "      <td>...</td>\n",
       "      <td>...</td>\n",
       "      <td>...</td>\n",
       "      <td>...</td>\n",
       "      <td>...</td>\n",
       "      <td>...</td>\n",
       "      <td>...</td>\n",
       "    </tr>\n",
       "    <tr>\n",
       "      <th>173</th>\n",
       "      <td>832</td>\n",
       "      <td>9G7C_A</td>\n",
       "      <td>GGGAGUCGGGUCUGUGGUUGAAAGUCGAUGCCAGUCGCAGGCGAAA...</td>\n",
       "      <td>2024-10-30</td>\n",
       "      <td>Cryo-EM structure of raiA ncRNA from Clostridi...</td>\n",
       "      <td>&gt;9G7C_1|Chain A|raiA (224-MER)|Clostridium sp....</td>\n",
       "      <td>224</td>\n",
       "      <td>1</td>\n",
       "    </tr>\n",
       "    <tr>\n",
       "      <th>174</th>\n",
       "      <td>839</td>\n",
       "      <td>8T3E_EC</td>\n",
       "      <td>AAACUCCAUGUAUUGGUUACCCAUCUGCAUCGAAAACUCUCCGAAC...</td>\n",
       "      <td>2024-12-11</td>\n",
       "      <td>Hypomethylated yeast 80S bound with Taura synd...</td>\n",
       "      <td>&gt;8T3E_1|Chain A[auth BA]|40S ribosomal protein...</td>\n",
       "      <td>202</td>\n",
       "      <td>1</td>\n",
       "    </tr>\n",
       "    <tr>\n",
       "      <th>175</th>\n",
       "      <td>840</td>\n",
       "      <td>8T3F_EC</td>\n",
       "      <td>AAACUCCAUGUAUUGGUUACCCAUCUGCAUCGAAAACUCUCCGAAC...</td>\n",
       "      <td>2024-12-11</td>\n",
       "      <td>Hypomethylated yeast 80S bound with Taura synd...</td>\n",
       "      <td>&gt;8T3F_1|Chain A[auth BA]|40S ribosomal protein...</td>\n",
       "      <td>202</td>\n",
       "      <td>1</td>\n",
       "    </tr>\n",
       "    <tr>\n",
       "      <th>176</th>\n",
       "      <td>842</td>\n",
       "      <td>8Z1G_T</td>\n",
       "      <td>GGUAAAAUGGCUGAGUGAAGCAUUGGACUGUAAAUCUAAAGACAGG...</td>\n",
       "      <td>2024-12-18</td>\n",
       "      <td>Cryo-EM structure of human ELAC2-pre-tRNA</td>\n",
       "      <td>&gt;8Z1G_1|Chain A[auth T]|Homo sapiens mitochond...</td>\n",
       "      <td>86</td>\n",
       "      <td>1</td>\n",
       "    </tr>\n",
       "    <tr>\n",
       "      <th>177</th>\n",
       "      <td>843</td>\n",
       "      <td>8Z1F_T</td>\n",
       "      <td>GGUAAAAUGGCUGAGUGAAGCAUUGGACUGUAAAUCUAAAGACAGG...</td>\n",
       "      <td>2024-12-18</td>\n",
       "      <td>Cryo-EM structure of human ELAC2-tRNA</td>\n",
       "      <td>&gt;8Z1F_1|Chain A[auth T]|Homo sapiens mitochond...</td>\n",
       "      <td>86</td>\n",
       "      <td>1</td>\n",
       "    </tr>\n",
       "  </tbody>\n",
       "</table>\n",
       "<p>178 rows × 8 columns</p>\n",
       "</div>"
      ],
      "text/plain": [
       "     index target_id                                           sequence  \\\n",
       "0       67    1FFK_9  UUAGGCGGCCACAGCGGUGGGGUUGCCUCCCGUACCCAUCCCGAAC...   \n",
       "1       74    1FOQ_A  UCAAUGGUACGGUACUUCCAUUGUCAUGUGUAUGUUGGGGAUUAAA...   \n",
       "2      148    1S9S_A  GGCGGUACUAGUUGAGAAACUAGCUCUGUAUCUGGCGGACCCGUGG...   \n",
       "3      173    1ZC8_Z  GCCCGUCACGCCAUGGGAGCGGGCUCUACCCGAAGUCGCCGGGAGC...   \n",
       "4      186    1YSH_B  UAGACGGUGGGAGAGGGUGGUGGAAUUCCCGGAGUAGCGGUGAAAU...   \n",
       "..     ...       ...                                                ...   \n",
       "173    832    9G7C_A  GGGAGUCGGGUCUGUGGUUGAAAGUCGAUGCCAGUCGCAGGCGAAA...   \n",
       "174    839   8T3E_EC  AAACUCCAUGUAUUGGUUACCCAUCUGCAUCGAAAACUCUCCGAAC...   \n",
       "175    840   8T3F_EC  AAACUCCAUGUAUUGGUUACCCAUCUGCAUCGAAAACUCUCCGAAC...   \n",
       "176    842    8Z1G_T  GGUAAAAUGGCUGAGUGAAGCAUUGGACUGUAAAUCUAAAGACAGG...   \n",
       "177    843    8Z1F_T  GGUAAAAUGGCUGAGUGAAGCAUUGGACUGUAAAUCUAAAGACAGG...   \n",
       "\n",
       "    temporal_cutoff                                        description  \\\n",
       "0        2000-08-14  CRYSTAL STRUCTURE OF THE LARGE RIBOSOMAL SUBUN...   \n",
       "1        2000-12-22  PENTAMERIC MODEL OF THE BACTERIOPHAGE PHI29 PR...   \n",
       "2        2004-04-06                 SOLUTION STRUCTURE OF MLV PSI SITE   \n",
       "3        2005-04-19  Coordinates of tmRNA, SmpB, EF-Tu and h44 fitt...   \n",
       "4        2005-07-05  Localization and dynamic behavior of ribosomal...   \n",
       "..              ...                                                ...   \n",
       "173      2024-10-30  Cryo-EM structure of raiA ncRNA from Clostridi...   \n",
       "174      2024-12-11  Hypomethylated yeast 80S bound with Taura synd...   \n",
       "175      2024-12-11  Hypomethylated yeast 80S bound with Taura synd...   \n",
       "176      2024-12-18          Cryo-EM structure of human ELAC2-pre-tRNA   \n",
       "177      2024-12-18              Cryo-EM structure of human ELAC2-tRNA   \n",
       "\n",
       "                                         all_sequences  sequence_length  fold  \n",
       "0    >1FFK_1|Chain A[auth 0]|23S RRNA|Haloarcula ma...              122     1  \n",
       "1    >1FOQ_1|Chains A, B, C, D, E|BACTERIOPHAGE PHI...              120     1  \n",
       "2    >1S9S_1|Chain A|MLV Psi encapsidation site|nul...              101     1  \n",
       "3    >1ZC8_1|Chain A|TLD 16S ribosomal RNA|Thermus ...               91     1  \n",
       "4    >1YSH_1|Chain A|RNA (28-MER)|synthetic constru...              101     1  \n",
       "..                                                 ...              ...   ...  \n",
       "173  >9G7C_1|Chain A|raiA (224-MER)|Clostridium sp....              224     1  \n",
       "174  >8T3E_1|Chain A[auth BA]|40S ribosomal protein...              202     1  \n",
       "175  >8T3F_1|Chain A[auth BA]|40S ribosomal protein...              202     1  \n",
       "176  >8Z1G_1|Chain A[auth T]|Homo sapiens mitochond...               86     1  \n",
       "177  >8Z1F_1|Chain A[auth T]|Homo sapiens mitochond...               86     1  \n",
       "\n",
       "[178 rows x 8 columns]"
      ]
     },
     "execution_count": 19,
     "metadata": {},
     "output_type": "execute_result"
    }
   ],
   "source": [
    "fasta"
   ]
  },
  {
   "cell_type": "code",
   "execution_count": 20,
   "id": "05922d2c",
   "metadata": {
    "execution": {
     "iopub.execute_input": "2025-04-18T05:49:49.622345Z",
     "iopub.status.busy": "2025-04-18T05:49:49.622103Z",
     "iopub.status.idle": "2025-04-18T05:49:49.864463Z",
     "shell.execute_reply": "2025-04-18T05:49:49.863403Z"
    },
    "papermill": {
     "duration": 0.251299,
     "end_time": "2025-04-18T05:49:49.866039",
     "exception": false,
     "start_time": "2025-04-18T05:49:49.614740",
     "status": "completed"
    },
    "tags": []
   },
   "outputs": [],
   "source": [
    "!mkdir test_fasta\n",
    "!mkdir out"
   ]
  },
  {
   "cell_type": "markdown",
   "id": "41935269",
   "metadata": {
    "papermill": {
     "duration": 0.006791,
     "end_time": "2025-04-18T05:49:49.880177",
     "exception": false,
     "start_time": "2025-04-18T05:49:49.873386",
     "status": "completed"
    },
    "tags": []
   },
   "source": [
    "### Step : Writing the RNA sequences in Fasta Format"
   ]
  },
  {
   "cell_type": "code",
   "execution_count": 21,
   "id": "f5f91b4e",
   "metadata": {
    "execution": {
     "iopub.execute_input": "2025-04-18T05:49:49.894729Z",
     "iopub.status.busy": "2025-04-18T05:49:49.894488Z",
     "iopub.status.idle": "2025-04-18T05:49:50.101466Z",
     "shell.execute_reply": "2025-04-18T05:49:50.100686Z"
    },
    "papermill": {
     "duration": 0.215678,
     "end_time": "2025-04-18T05:49:50.102625",
     "exception": false,
     "start_time": "2025-04-18T05:49:49.886947",
     "status": "completed"
    },
    "tags": []
   },
   "outputs": [
    {
     "name": "stderr",
     "output_type": "stream",
     "text": [
      "100%|██████████| 178/178 [00:00<00:00, 901.62it/s]\n"
     ]
    }
   ],
   "source": [
    "from tqdm import tqdm\n",
    "\n",
    "for target_id in tqdm(fasta[\"target_id\"].values):\n",
    "    with open(f\"test_fasta/{target_id}.fasta\", \"w\") as text_file:\n",
    "        text_file.write(\">100500\\n\")\n",
    "        text_file.write(\n",
    "            fasta.loc[fasta[\"target_id\"] == target_id, [\"sequence\"]].to_string(index = False, header = False)\n",
    "        )"
   ]
  },
  {
   "cell_type": "code",
   "execution_count": 22,
   "id": "bcb19c01",
   "metadata": {
    "execution": {
     "iopub.execute_input": "2025-04-18T05:49:50.117789Z",
     "iopub.status.busy": "2025-04-18T05:49:50.117584Z",
     "iopub.status.idle": "2025-04-18T07:01:12.184990Z",
     "shell.execute_reply": "2025-04-18T07:01:12.183982Z"
    },
    "papermill": {
     "duration": 4282.076397,
     "end_time": "2025-04-18T07:01:12.186251",
     "exception": false,
     "start_time": "2025-04-18T05:49:50.109854",
     "status": "completed"
    },
    "tags": []
   },
   "outputs": [
    {
     "name": "stderr",
     "output_type": "stream",
     "text": [
      "100%|██████████| 178/178 [1:11:22<00:00, 24.06s/it]\n"
     ]
    }
   ],
   "source": [
    "from tqdm import tqdm\n",
    "for target_id in tqdm(fasta[\"target_id\"].values):\n",
    "    try:\n",
    "        os.makedirs(f\"./out/{target_id}\", exist_ok = True)\n",
    "        \n",
    "        a3m_file     = f\"/kaggle/input/stanford-rna-3d-folding/MSA/{target_id}.MSA.fasta\"\n",
    "        fasta_file   = f\"/kaggle/working/RhoFold/test_fasta/{target_id}.fasta\"\n",
    "        \n",
    "        if len(open(fasta_file, 'r').read()) > 400:\n",
    "            continue\n",
    "            \n",
    "        device       = \"cpu\" if len(open(fasta_file, 'r').read()) > 400 else \"cuda:0\"\n",
    "        run_folding  = f\"python inference.py --relax_steps 0 --input_fas {fasta_file} --input_a3m {a3m_file} --output_dir ./out/{target_id}/ --device {device} --ckpt ./pretrained/RhoFold_pretrained.pt\"\n",
    "        os.system(run_folding)\n",
    "    except Exception as e:\n",
    "        print(e)"
   ]
  },
  {
   "cell_type": "code",
   "execution_count": 23,
   "id": "3f03c752",
   "metadata": {
    "execution": {
     "iopub.execute_input": "2025-04-18T07:01:12.217500Z",
     "iopub.status.busy": "2025-04-18T07:01:12.217261Z",
     "iopub.status.idle": "2025-04-18T07:01:12.221876Z",
     "shell.execute_reply": "2025-04-18T07:01:12.221200Z"
    },
    "papermill": {
     "duration": 0.021183,
     "end_time": "2025-04-18T07:01:12.223064",
     "exception": false,
     "start_time": "2025-04-18T07:01:12.201881",
     "status": "completed"
    },
    "tags": []
   },
   "outputs": [],
   "source": [
    "def extract_c1_coordinates(pdb_file):\n",
    "    # Create a PDB parser object\n",
    "    parser = PDBParser()\n",
    "    \n",
    "    # Load the structure from the PDB file\n",
    "    structure = parser.get_structure('RNA_structure', pdb_file)\n",
    "    \n",
    "    # Initialize a list to store the coordinates of C1' atoms\n",
    "    c1_coordinates = []\n",
    "    \n",
    "    # Iterate over all models in the structure (usually only one model)\n",
    "    for model in structure:\n",
    "        # Iterate over all chains in the model\n",
    "        for chain in model:\n",
    "            # Iterate over all residues in the chain\n",
    "            for residue in chain:\n",
    "                # Check if the residue is an RNA nucleotide\n",
    "                if residue.get_resname() in ['A', 'U', 'G', 'C']:\n",
    "                    # Try to get the C1' atom\n",
    "                    try:\n",
    "                        c1_atom = residue['C1\\'']\n",
    "                        # Append the coordinates of the C1' atom to the list\n",
    "                        c1_coordinates.append((residue.get_resname(), c1_atom.get_coord()))\n",
    "                    except KeyError:\n",
    "                        # If C1' atom is not found, skip this residue\n",
    "                        print(f\"C1' atom not found in residue {residue.get_resname()}{residue.get_id()[1]}\")\n",
    "    \n",
    "    return c1_coordinates"
   ]
  },
  {
   "cell_type": "code",
   "execution_count": 24,
   "id": "b3c27fa3",
   "metadata": {
    "execution": {
     "iopub.execute_input": "2025-04-18T07:01:12.253356Z",
     "iopub.status.busy": "2025-04-18T07:01:12.253110Z",
     "iopub.status.idle": "2025-04-18T07:01:12.311036Z",
     "shell.execute_reply": "2025-04-18T07:01:12.310449Z"
    },
    "papermill": {
     "duration": 0.074614,
     "end_time": "2025-04-18T07:01:12.312406",
     "exception": false,
     "start_time": "2025-04-18T07:01:12.237792",
     "status": "completed"
    },
    "tags": []
   },
   "outputs": [],
   "source": [
    "from pathlib import Path\n",
    "from Bio.PDB import PDBParser"
   ]
  },
  {
   "cell_type": "code",
   "execution_count": 25,
   "id": "9ff49bdb",
   "metadata": {
    "execution": {
     "iopub.execute_input": "2025-04-18T07:01:12.344298Z",
     "iopub.status.busy": "2025-04-18T07:01:12.344067Z",
     "iopub.status.idle": "2025-04-18T07:01:19.879327Z",
     "shell.execute_reply": "2025-04-18T07:01:19.878532Z"
    },
    "papermill": {
     "duration": 7.551952,
     "end_time": "2025-04-18T07:01:19.880712",
     "exception": false,
     "start_time": "2025-04-18T07:01:12.328760",
     "status": "completed"
    },
    "tags": []
   },
   "outputs": [
    {
     "name": "stdout",
     "output_type": "stream",
     "text": [
      "Empty file.\n",
      "Empty file.\n"
     ]
    },
    {
     "data": {
      "text/html": [
       "<div>\n",
       "<style scoped>\n",
       "    .dataframe tbody tr th:only-of-type {\n",
       "        vertical-align: middle;\n",
       "    }\n",
       "\n",
       "    .dataframe tbody tr th {\n",
       "        vertical-align: top;\n",
       "    }\n",
       "\n",
       "    .dataframe thead th {\n",
       "        text-align: right;\n",
       "    }\n",
       "</style>\n",
       "<table border=\"1\" class=\"dataframe\">\n",
       "  <thead>\n",
       "    <tr style=\"text-align: right;\">\n",
       "      <th></th>\n",
       "      <th>ID</th>\n",
       "      <th>resname</th>\n",
       "      <th>resid</th>\n",
       "      <th>x_1</th>\n",
       "      <th>y_1</th>\n",
       "      <th>z_1</th>\n",
       "      <th>x_2</th>\n",
       "      <th>y_2</th>\n",
       "      <th>z_2</th>\n",
       "      <th>x_3</th>\n",
       "      <th>y_3</th>\n",
       "      <th>z_3</th>\n",
       "      <th>x_4</th>\n",
       "      <th>y_4</th>\n",
       "      <th>z_4</th>\n",
       "      <th>x_5</th>\n",
       "      <th>y_5</th>\n",
       "      <th>z_5</th>\n",
       "    </tr>\n",
       "  </thead>\n",
       "  <tbody>\n",
       "    <tr>\n",
       "      <th>0</th>\n",
       "      <td>1FFK_9_1</td>\n",
       "      <td>U</td>\n",
       "      <td>1</td>\n",
       "      <td>-15.639</td>\n",
       "      <td>2.571000</td>\n",
       "      <td>5.608</td>\n",
       "      <td>-15.639</td>\n",
       "      <td>2.571000</td>\n",
       "      <td>5.608</td>\n",
       "      <td>-15.639</td>\n",
       "      <td>2.571000</td>\n",
       "      <td>5.608</td>\n",
       "      <td>-15.639</td>\n",
       "      <td>2.571000</td>\n",
       "      <td>5.608</td>\n",
       "      <td>-15.639</td>\n",
       "      <td>2.571000</td>\n",
       "      <td>5.608</td>\n",
       "    </tr>\n",
       "    <tr>\n",
       "      <th>1</th>\n",
       "      <td>1FFK_9_2</td>\n",
       "      <td>U</td>\n",
       "      <td>2</td>\n",
       "      <td>-18.430</td>\n",
       "      <td>10.087000</td>\n",
       "      <td>-2.845</td>\n",
       "      <td>-18.430</td>\n",
       "      <td>10.087000</td>\n",
       "      <td>-2.845</td>\n",
       "      <td>-18.430</td>\n",
       "      <td>10.087000</td>\n",
       "      <td>-2.845</td>\n",
       "      <td>-18.430</td>\n",
       "      <td>10.087000</td>\n",
       "      <td>-2.845</td>\n",
       "      <td>-18.430</td>\n",
       "      <td>10.087000</td>\n",
       "      <td>-2.845</td>\n",
       "    </tr>\n",
       "    <tr>\n",
       "      <th>2</th>\n",
       "      <td>1FFK_9_3</td>\n",
       "      <td>A</td>\n",
       "      <td>3</td>\n",
       "      <td>-12.550</td>\n",
       "      <td>11.265000</td>\n",
       "      <td>-1.446</td>\n",
       "      <td>-12.550</td>\n",
       "      <td>11.265000</td>\n",
       "      <td>-1.446</td>\n",
       "      <td>-12.550</td>\n",
       "      <td>11.265000</td>\n",
       "      <td>-1.446</td>\n",
       "      <td>-12.550</td>\n",
       "      <td>11.265000</td>\n",
       "      <td>-1.446</td>\n",
       "      <td>-12.550</td>\n",
       "      <td>11.265000</td>\n",
       "      <td>-1.446</td>\n",
       "    </tr>\n",
       "    <tr>\n",
       "      <th>3</th>\n",
       "      <td>1FFK_9_4</td>\n",
       "      <td>G</td>\n",
       "      <td>4</td>\n",
       "      <td>-11.304</td>\n",
       "      <td>12.247000</td>\n",
       "      <td>6.245</td>\n",
       "      <td>-11.304</td>\n",
       "      <td>12.247000</td>\n",
       "      <td>6.245</td>\n",
       "      <td>-11.304</td>\n",
       "      <td>12.247000</td>\n",
       "      <td>6.245</td>\n",
       "      <td>-11.304</td>\n",
       "      <td>12.247000</td>\n",
       "      <td>6.245</td>\n",
       "      <td>-11.304</td>\n",
       "      <td>12.247000</td>\n",
       "      <td>6.245</td>\n",
       "    </tr>\n",
       "    <tr>\n",
       "      <th>4</th>\n",
       "      <td>1FFK_9_5</td>\n",
       "      <td>G</td>\n",
       "      <td>5</td>\n",
       "      <td>-8.366</td>\n",
       "      <td>11.717000</td>\n",
       "      <td>11.502</td>\n",
       "      <td>-8.366</td>\n",
       "      <td>11.717000</td>\n",
       "      <td>11.502</td>\n",
       "      <td>-8.366</td>\n",
       "      <td>11.717000</td>\n",
       "      <td>11.502</td>\n",
       "      <td>-8.366</td>\n",
       "      <td>11.717000</td>\n",
       "      <td>11.502</td>\n",
       "      <td>-8.366</td>\n",
       "      <td>11.717000</td>\n",
       "      <td>11.502</td>\n",
       "    </tr>\n",
       "    <tr>\n",
       "      <th>...</th>\n",
       "      <td>...</td>\n",
       "      <td>...</td>\n",
       "      <td>...</td>\n",
       "      <td>...</td>\n",
       "      <td>...</td>\n",
       "      <td>...</td>\n",
       "      <td>...</td>\n",
       "      <td>...</td>\n",
       "      <td>...</td>\n",
       "      <td>...</td>\n",
       "      <td>...</td>\n",
       "      <td>...</td>\n",
       "      <td>...</td>\n",
       "      <td>...</td>\n",
       "      <td>...</td>\n",
       "      <td>...</td>\n",
       "      <td>...</td>\n",
       "      <td>...</td>\n",
       "    </tr>\n",
       "    <tr>\n",
       "      <th>81</th>\n",
       "      <td>8Z1F_T_82</td>\n",
       "      <td>U</td>\n",
       "      <td>82</td>\n",
       "      <td>4.006</td>\n",
       "      <td>-64.322998</td>\n",
       "      <td>7.390</td>\n",
       "      <td>4.006</td>\n",
       "      <td>-64.322998</td>\n",
       "      <td>7.390</td>\n",
       "      <td>4.006</td>\n",
       "      <td>-64.322998</td>\n",
       "      <td>7.390</td>\n",
       "      <td>4.006</td>\n",
       "      <td>-64.322998</td>\n",
       "      <td>7.390</td>\n",
       "      <td>4.006</td>\n",
       "      <td>-64.322998</td>\n",
       "      <td>7.390</td>\n",
       "    </tr>\n",
       "    <tr>\n",
       "      <th>82</th>\n",
       "      <td>8Z1F_T_83</td>\n",
       "      <td>C</td>\n",
       "      <td>83</td>\n",
       "      <td>-0.629</td>\n",
       "      <td>-66.162003</td>\n",
       "      <td>9.502</td>\n",
       "      <td>-0.629</td>\n",
       "      <td>-66.162003</td>\n",
       "      <td>9.502</td>\n",
       "      <td>-0.629</td>\n",
       "      <td>-66.162003</td>\n",
       "      <td>9.502</td>\n",
       "      <td>-0.629</td>\n",
       "      <td>-66.162003</td>\n",
       "      <td>9.502</td>\n",
       "      <td>-0.629</td>\n",
       "      <td>-66.162003</td>\n",
       "      <td>9.502</td>\n",
       "    </tr>\n",
       "    <tr>\n",
       "      <th>83</th>\n",
       "      <td>8Z1F_T_84</td>\n",
       "      <td>A</td>\n",
       "      <td>84</td>\n",
       "      <td>-5.433</td>\n",
       "      <td>-68.873001</td>\n",
       "      <td>9.121</td>\n",
       "      <td>-5.433</td>\n",
       "      <td>-68.873001</td>\n",
       "      <td>9.121</td>\n",
       "      <td>-5.433</td>\n",
       "      <td>-68.873001</td>\n",
       "      <td>9.121</td>\n",
       "      <td>-5.433</td>\n",
       "      <td>-68.873001</td>\n",
       "      <td>9.121</td>\n",
       "      <td>-5.433</td>\n",
       "      <td>-68.873001</td>\n",
       "      <td>9.121</td>\n",
       "    </tr>\n",
       "    <tr>\n",
       "      <th>84</th>\n",
       "      <td>8Z1F_T_85</td>\n",
       "      <td>U</td>\n",
       "      <td>85</td>\n",
       "      <td>-9.027</td>\n",
       "      <td>-72.446999</td>\n",
       "      <td>7.096</td>\n",
       "      <td>-9.027</td>\n",
       "      <td>-72.446999</td>\n",
       "      <td>7.096</td>\n",
       "      <td>-9.027</td>\n",
       "      <td>-72.446999</td>\n",
       "      <td>7.096</td>\n",
       "      <td>-9.027</td>\n",
       "      <td>-72.446999</td>\n",
       "      <td>7.096</td>\n",
       "      <td>-9.027</td>\n",
       "      <td>-72.446999</td>\n",
       "      <td>7.096</td>\n",
       "    </tr>\n",
       "    <tr>\n",
       "      <th>85</th>\n",
       "      <td>8Z1F_T_86</td>\n",
       "      <td>A</td>\n",
       "      <td>86</td>\n",
       "      <td>-9.701</td>\n",
       "      <td>-78.214996</td>\n",
       "      <td>5.111</td>\n",
       "      <td>-9.701</td>\n",
       "      <td>-78.214996</td>\n",
       "      <td>5.111</td>\n",
       "      <td>-9.701</td>\n",
       "      <td>-78.214996</td>\n",
       "      <td>5.111</td>\n",
       "      <td>-9.701</td>\n",
       "      <td>-78.214996</td>\n",
       "      <td>5.111</td>\n",
       "      <td>-9.701</td>\n",
       "      <td>-78.214996</td>\n",
       "      <td>5.111</td>\n",
       "    </tr>\n",
       "  </tbody>\n",
       "</table>\n",
       "<p>25666 rows × 18 columns</p>\n",
       "</div>"
      ],
      "text/plain": [
       "           ID resname  resid     x_1        y_1     z_1     x_2        y_2  \\\n",
       "0    1FFK_9_1       U      1 -15.639   2.571000   5.608 -15.639   2.571000   \n",
       "1    1FFK_9_2       U      2 -18.430  10.087000  -2.845 -18.430  10.087000   \n",
       "2    1FFK_9_3       A      3 -12.550  11.265000  -1.446 -12.550  11.265000   \n",
       "3    1FFK_9_4       G      4 -11.304  12.247000   6.245 -11.304  12.247000   \n",
       "4    1FFK_9_5       G      5  -8.366  11.717000  11.502  -8.366  11.717000   \n",
       "..        ...     ...    ...     ...        ...     ...     ...        ...   \n",
       "81  8Z1F_T_82       U     82   4.006 -64.322998   7.390   4.006 -64.322998   \n",
       "82  8Z1F_T_83       C     83  -0.629 -66.162003   9.502  -0.629 -66.162003   \n",
       "83  8Z1F_T_84       A     84  -5.433 -68.873001   9.121  -5.433 -68.873001   \n",
       "84  8Z1F_T_85       U     85  -9.027 -72.446999   7.096  -9.027 -72.446999   \n",
       "85  8Z1F_T_86       A     86  -9.701 -78.214996   5.111  -9.701 -78.214996   \n",
       "\n",
       "       z_2     x_3        y_3     z_3     x_4        y_4     z_4     x_5  \\\n",
       "0    5.608 -15.639   2.571000   5.608 -15.639   2.571000   5.608 -15.639   \n",
       "1   -2.845 -18.430  10.087000  -2.845 -18.430  10.087000  -2.845 -18.430   \n",
       "2   -1.446 -12.550  11.265000  -1.446 -12.550  11.265000  -1.446 -12.550   \n",
       "3    6.245 -11.304  12.247000   6.245 -11.304  12.247000   6.245 -11.304   \n",
       "4   11.502  -8.366  11.717000  11.502  -8.366  11.717000  11.502  -8.366   \n",
       "..     ...     ...        ...     ...     ...        ...     ...     ...   \n",
       "81   7.390   4.006 -64.322998   7.390   4.006 -64.322998   7.390   4.006   \n",
       "82   9.502  -0.629 -66.162003   9.502  -0.629 -66.162003   9.502  -0.629   \n",
       "83   9.121  -5.433 -68.873001   9.121  -5.433 -68.873001   9.121  -5.433   \n",
       "84   7.096  -9.027 -72.446999   7.096  -9.027 -72.446999   7.096  -9.027   \n",
       "85   5.111  -9.701 -78.214996   5.111  -9.701 -78.214996   5.111  -9.701   \n",
       "\n",
       "          y_5     z_5  \n",
       "0    2.571000   5.608  \n",
       "1   10.087000  -2.845  \n",
       "2   11.265000  -1.446  \n",
       "3   12.247000   6.245  \n",
       "4   11.717000  11.502  \n",
       "..        ...     ...  \n",
       "81 -64.322998   7.390  \n",
       "82 -66.162003   9.502  \n",
       "83 -68.873001   9.121  \n",
       "84 -72.446999   7.096  \n",
       "85 -78.214996   5.111  \n",
       "\n",
       "[25666 rows x 18 columns]"
      ]
     },
     "execution_count": 25,
     "metadata": {},
     "output_type": "execute_result"
    }
   ],
   "source": [
    "subm = []\n",
    "for idx, row in fasta.iterrows():\n",
    "    target_id = row[\"target_id\"]\n",
    "    try:\n",
    "        fasta_file = f\"/kaggle/working/RhoFold/test_fasta/{target_id}.fasta\"    \n",
    "        if len(open(fasta_file, 'r').read()) > 400:\n",
    "            continue\n",
    "        pdb_file = f\"/kaggle/working/RhoFold/out/{target_id}/unrelaxed_model.pdb\"\n",
    "        if not Path(pdb_file).exists():\n",
    "            continue\n",
    "        coords = extract_c1_coordinates(pdb_file)\n",
    "        res_name = np.array([x[0] for x in coords])\n",
    "        res_num = np.array(range(len(res_name))) + 1\n",
    "        coords = np.array([x[1] for x in coords])\n",
    "\n",
    "        res = pd.DataFrame({\n",
    "            \"ID\" : [target_id + \"_\" + x for x in res_num.astype(\"str\")],\n",
    "            \"resname\": res_name,\n",
    "            \"resid\": res_num,\n",
    "            \"x_1\": coords[:, 0],\n",
    "            \"y_1\": coords[:, 1],\n",
    "            \"z_1\": coords[:, 2],\n",
    "            \"x_2\": coords[:, 0],\n",
    "            \"y_2\": coords[:, 1],\n",
    "            \"z_2\": coords[:, 2],\n",
    "            \"x_3\": coords[:, 0],\n",
    "            \"y_3\": coords[:, 1],\n",
    "            \"z_3\": coords[:, 2],\n",
    "            \"x_4\": coords[:, 0],\n",
    "            \"y_4\": coords[:, 1],\n",
    "            \"z_4\": coords[:, 2],\n",
    "            \"x_5\": coords[:, 0],\n",
    "            \"y_5\": coords[:, 1],\n",
    "            \"z_5\": coords[:, 2],\n",
    "        })\n",
    "        subm.append(res)\n",
    "    except Exception as e:\n",
    "        print(e)\n",
    "        seq      = row[\"sequence\"]\n",
    "        res_name = [i for i in seq]\n",
    "        res_num  = np.array(range(len(seq))) + 1\n",
    "        res = pd.DataFrame({\n",
    "            \"ID\" : [target_id + \"_\" + x for x in res_num.astype(\"str\")],\n",
    "            \"resname\": res_name,\n",
    "            \"resid\": res_num,\n",
    "            \"x_1\": 0.0,\n",
    "            \"y_1\": 0.0,\n",
    "            \"z_1\": 0.0,\n",
    "            \"x_2\": 0.0,\n",
    "            \"y_2\": 0.0,\n",
    "            \"z_2\": 0.0,\n",
    "            \"x_3\": 0.0,\n",
    "            \"y_3\": 0.0,\n",
    "            \"z_3\": 0.0,\n",
    "            \"x_4\": 0.0,\n",
    "            \"y_4\": 0.0,\n",
    "            \"z_4\": 0.0,\n",
    "            \"x_5\": 0.0,\n",
    "            \"y_5\": 0.0,\n",
    "            \"z_5\": 0.0,\n",
    "        })\n",
    "        subm.append(res)\n",
    "\n",
    "submit_rhofold = pd.concat(subm, axis = 0)\n",
    "submit_rhofold"
   ]
  },
  {
   "cell_type": "code",
   "execution_count": 26,
   "id": "12b45c92",
   "metadata": {
    "execution": {
     "iopub.execute_input": "2025-04-18T07:01:19.914045Z",
     "iopub.status.busy": "2025-04-18T07:01:19.913833Z",
     "iopub.status.idle": "2025-04-18T07:01:19.918207Z",
     "shell.execute_reply": "2025-04-18T07:01:19.917606Z"
    },
    "papermill": {
     "duration": 0.021405,
     "end_time": "2025-04-18T07:01:19.919355",
     "exception": false,
     "start_time": "2025-04-18T07:01:19.897950",
     "status": "completed"
    },
    "tags": []
   },
   "outputs": [
    {
     "data": {
      "text/plain": [
       "Index(['ID', 'resname', 'resid', 'x_1', 'y_1', 'z_1', 'x_2', 'y_2', 'z_2',\n",
       "       'x_3', 'y_3', 'z_3', 'x_4', 'y_4', 'z_4', 'x_5', 'y_5', 'z_5'],\n",
       "      dtype='object')"
      ]
     },
     "execution_count": 26,
     "metadata": {},
     "output_type": "execute_result"
    }
   ],
   "source": [
    "submit_rhofold.columns"
   ]
  },
  {
   "cell_type": "code",
   "execution_count": 27,
   "id": "d2dbf09f",
   "metadata": {
    "execution": {
     "iopub.execute_input": "2025-04-18T07:01:19.951103Z",
     "iopub.status.busy": "2025-04-18T07:01:19.950908Z",
     "iopub.status.idle": "2025-04-18T07:01:19.963434Z",
     "shell.execute_reply": "2025-04-18T07:01:19.962628Z"
    },
    "papermill": {
     "duration": 0.029798,
     "end_time": "2025-04-18T07:01:19.964668",
     "exception": false,
     "start_time": "2025-04-18T07:01:19.934870",
     "status": "completed"
    },
    "tags": []
   },
   "outputs": [
    {
     "name": "stderr",
     "output_type": "stream",
     "text": [
      "/usr/local/lib/python3.10/dist-packages/pandas/io/formats/format.py:1458: RuntimeWarning: invalid value encountered in greater\n",
      "  has_large_values = (abs_vals > 1e6).any()\n",
      "/usr/local/lib/python3.10/dist-packages/pandas/io/formats/format.py:1459: RuntimeWarning: invalid value encountered in less\n",
      "  has_small_values = ((abs_vals < 10 ** (-self.digits)) & (abs_vals > 0)).any()\n",
      "/usr/local/lib/python3.10/dist-packages/pandas/io/formats/format.py:1459: RuntimeWarning: invalid value encountered in greater\n",
      "  has_small_values = ((abs_vals < 10 ** (-self.digits)) & (abs_vals > 0)).any()\n"
     ]
    },
    {
     "data": {
      "text/html": [
       "<div>\n",
       "<style scoped>\n",
       "    .dataframe tbody tr th:only-of-type {\n",
       "        vertical-align: middle;\n",
       "    }\n",
       "\n",
       "    .dataframe tbody tr th {\n",
       "        vertical-align: top;\n",
       "    }\n",
       "\n",
       "    .dataframe thead th {\n",
       "        text-align: right;\n",
       "    }\n",
       "</style>\n",
       "<table border=\"1\" class=\"dataframe\">\n",
       "  <thead>\n",
       "    <tr style=\"text-align: right;\">\n",
       "      <th></th>\n",
       "      <th>ID</th>\n",
       "      <th>resname</th>\n",
       "      <th>resid</th>\n",
       "      <th>x_1</th>\n",
       "      <th>y_1</th>\n",
       "      <th>z_1</th>\n",
       "    </tr>\n",
       "  </thead>\n",
       "  <tbody>\n",
       "    <tr>\n",
       "      <th>0</th>\n",
       "      <td>1SCL_A_1</td>\n",
       "      <td>G</td>\n",
       "      <td>1</td>\n",
       "      <td>13.760</td>\n",
       "      <td>-25.974001</td>\n",
       "      <td>0.102</td>\n",
       "    </tr>\n",
       "    <tr>\n",
       "      <th>1</th>\n",
       "      <td>1SCL_A_2</td>\n",
       "      <td>G</td>\n",
       "      <td>2</td>\n",
       "      <td>9.310</td>\n",
       "      <td>-29.638000</td>\n",
       "      <td>2.669</td>\n",
       "    </tr>\n",
       "    <tr>\n",
       "      <th>2</th>\n",
       "      <td>1SCL_A_3</td>\n",
       "      <td>G</td>\n",
       "      <td>3</td>\n",
       "      <td>5.529</td>\n",
       "      <td>-27.813000</td>\n",
       "      <td>5.878</td>\n",
       "    </tr>\n",
       "    <tr>\n",
       "      <th>3</th>\n",
       "      <td>1SCL_A_4</td>\n",
       "      <td>U</td>\n",
       "      <td>4</td>\n",
       "      <td>2.678</td>\n",
       "      <td>-24.900999</td>\n",
       "      <td>9.793</td>\n",
       "    </tr>\n",
       "    <tr>\n",
       "      <th>4</th>\n",
       "      <td>1SCL_A_5</td>\n",
       "      <td>G</td>\n",
       "      <td>5</td>\n",
       "      <td>1.827</td>\n",
       "      <td>-20.136000</td>\n",
       "      <td>11.793</td>\n",
       "    </tr>\n",
       "    <tr>\n",
       "      <th>...</th>\n",
       "      <td>...</td>\n",
       "      <td>...</td>\n",
       "      <td>...</td>\n",
       "      <td>...</td>\n",
       "      <td>...</td>\n",
       "      <td>...</td>\n",
       "    </tr>\n",
       "    <tr>\n",
       "      <th>137090</th>\n",
       "      <td>8Z1F_T_82</td>\n",
       "      <td>U</td>\n",
       "      <td>82</td>\n",
       "      <td>NaN</td>\n",
       "      <td>NaN</td>\n",
       "      <td>NaN</td>\n",
       "    </tr>\n",
       "    <tr>\n",
       "      <th>137091</th>\n",
       "      <td>8Z1F_T_83</td>\n",
       "      <td>C</td>\n",
       "      <td>83</td>\n",
       "      <td>NaN</td>\n",
       "      <td>NaN</td>\n",
       "      <td>NaN</td>\n",
       "    </tr>\n",
       "    <tr>\n",
       "      <th>137092</th>\n",
       "      <td>8Z1F_T_84</td>\n",
       "      <td>A</td>\n",
       "      <td>84</td>\n",
       "      <td>NaN</td>\n",
       "      <td>NaN</td>\n",
       "      <td>NaN</td>\n",
       "    </tr>\n",
       "    <tr>\n",
       "      <th>137093</th>\n",
       "      <td>8Z1F_T_85</td>\n",
       "      <td>U</td>\n",
       "      <td>85</td>\n",
       "      <td>NaN</td>\n",
       "      <td>NaN</td>\n",
       "      <td>NaN</td>\n",
       "    </tr>\n",
       "    <tr>\n",
       "      <th>137094</th>\n",
       "      <td>8Z1F_T_86</td>\n",
       "      <td>A</td>\n",
       "      <td>86</td>\n",
       "      <td>NaN</td>\n",
       "      <td>NaN</td>\n",
       "      <td>NaN</td>\n",
       "    </tr>\n",
       "  </tbody>\n",
       "</table>\n",
       "<p>137095 rows × 6 columns</p>\n",
       "</div>"
      ],
      "text/plain": [
       "               ID resname  resid     x_1        y_1     z_1\n",
       "0        1SCL_A_1       G      1  13.760 -25.974001   0.102\n",
       "1        1SCL_A_2       G      2   9.310 -29.638000   2.669\n",
       "2        1SCL_A_3       G      3   5.529 -27.813000   5.878\n",
       "3        1SCL_A_4       U      4   2.678 -24.900999   9.793\n",
       "4        1SCL_A_5       G      5   1.827 -20.136000  11.793\n",
       "...           ...     ...    ...     ...        ...     ...\n",
       "137090  8Z1F_T_82       U     82     NaN        NaN     NaN\n",
       "137091  8Z1F_T_83       C     83     NaN        NaN     NaN\n",
       "137092  8Z1F_T_84       A     84     NaN        NaN     NaN\n",
       "137093  8Z1F_T_85       U     85     NaN        NaN     NaN\n",
       "137094  8Z1F_T_86       A     86     NaN        NaN     NaN\n",
       "\n",
       "[137095 rows x 6 columns]"
      ]
     },
     "execution_count": 27,
     "metadata": {},
     "output_type": "execute_result"
    }
   ],
   "source": [
    "train_labels"
   ]
  },
  {
   "cell_type": "code",
   "execution_count": 28,
   "id": "c0a32df6",
   "metadata": {
    "execution": {
     "iopub.execute_input": "2025-04-18T07:01:19.996820Z",
     "iopub.status.busy": "2025-04-18T07:01:19.996600Z",
     "iopub.status.idle": "2025-04-18T07:01:20.000126Z",
     "shell.execute_reply": "2025-04-18T07:01:19.999391Z"
    },
    "papermill": {
     "duration": 0.020933,
     "end_time": "2025-04-18T07:01:20.001441",
     "exception": false,
     "start_time": "2025-04-18T07:01:19.980508",
     "status": "completed"
    },
    "tags": []
   },
   "outputs": [],
   "source": [
    "train_labels.rename(columns={\"x_1\":\"x_1_true\",\"y_1\":\"y_1_true\", \"z_1\":\"z_1_true\"}, inplace=True)"
   ]
  },
  {
   "cell_type": "code",
   "execution_count": 29,
   "id": "013a8aad",
   "metadata": {
    "execution": {
     "iopub.execute_input": "2025-04-18T07:01:20.032962Z",
     "iopub.status.busy": "2025-04-18T07:01:20.032748Z",
     "iopub.status.idle": "2025-04-18T07:01:20.087888Z",
     "shell.execute_reply": "2025-04-18T07:01:20.086973Z"
    },
    "papermill": {
     "duration": 0.072654,
     "end_time": "2025-04-18T07:01:20.089564",
     "exception": false,
     "start_time": "2025-04-18T07:01:20.016910",
     "status": "completed"
    },
    "tags": []
   },
   "outputs": [],
   "source": [
    "merged_df = submit_rhofold.merge(train_labels[[\"ID\", \"x_1_true\", \"y_1_true\", \"z_1_true\"]], on=\"ID\", how=\"left\")"
   ]
  },
  {
   "cell_type": "code",
   "execution_count": 30,
   "id": "77375ea5",
   "metadata": {
    "execution": {
     "iopub.execute_input": "2025-04-18T07:01:20.122581Z",
     "iopub.status.busy": "2025-04-18T07:01:20.122359Z",
     "iopub.status.idle": "2025-04-18T07:01:20.160915Z",
     "shell.execute_reply": "2025-04-18T07:01:20.160073Z"
    },
    "papermill": {
     "duration": 0.056077,
     "end_time": "2025-04-18T07:01:20.162360",
     "exception": false,
     "start_time": "2025-04-18T07:01:20.106283",
     "status": "completed"
    },
    "tags": []
   },
   "outputs": [
    {
     "name": "stderr",
     "output_type": "stream",
     "text": [
      "/usr/local/lib/python3.10/dist-packages/pandas/io/formats/format.py:1458: RuntimeWarning: invalid value encountered in greater\n",
      "  has_large_values = (abs_vals > 1e6).any()\n",
      "/usr/local/lib/python3.10/dist-packages/pandas/io/formats/format.py:1459: RuntimeWarning: invalid value encountered in less\n",
      "  has_small_values = ((abs_vals < 10 ** (-self.digits)) & (abs_vals > 0)).any()\n",
      "/usr/local/lib/python3.10/dist-packages/pandas/io/formats/format.py:1459: RuntimeWarning: invalid value encountered in greater\n",
      "  has_small_values = ((abs_vals < 10 ** (-self.digits)) & (abs_vals > 0)).any()\n",
      "/usr/local/lib/python3.10/dist-packages/pandas/io/formats/format.py:1458: RuntimeWarning: invalid value encountered in greater\n",
      "  has_large_values = (abs_vals > 1e6).any()\n",
      "/usr/local/lib/python3.10/dist-packages/pandas/io/formats/format.py:1459: RuntimeWarning: invalid value encountered in less\n",
      "  has_small_values = ((abs_vals < 10 ** (-self.digits)) & (abs_vals > 0)).any()\n",
      "/usr/local/lib/python3.10/dist-packages/pandas/io/formats/format.py:1459: RuntimeWarning: invalid value encountered in greater\n",
      "  has_small_values = ((abs_vals < 10 ** (-self.digits)) & (abs_vals > 0)).any()\n"
     ]
    },
    {
     "data": {
      "text/html": [
       "<div>\n",
       "<style scoped>\n",
       "    .dataframe tbody tr th:only-of-type {\n",
       "        vertical-align: middle;\n",
       "    }\n",
       "\n",
       "    .dataframe tbody tr th {\n",
       "        vertical-align: top;\n",
       "    }\n",
       "\n",
       "    .dataframe thead th {\n",
       "        text-align: right;\n",
       "    }\n",
       "</style>\n",
       "<table border=\"1\" class=\"dataframe\">\n",
       "  <thead>\n",
       "    <tr style=\"text-align: right;\">\n",
       "      <th></th>\n",
       "      <th>ID</th>\n",
       "      <th>resname</th>\n",
       "      <th>resid</th>\n",
       "      <th>x_1</th>\n",
       "      <th>y_1</th>\n",
       "      <th>z_1</th>\n",
       "      <th>x_2</th>\n",
       "      <th>y_2</th>\n",
       "      <th>z_2</th>\n",
       "      <th>x_3</th>\n",
       "      <th>...</th>\n",
       "      <th>z_3</th>\n",
       "      <th>x_4</th>\n",
       "      <th>y_4</th>\n",
       "      <th>z_4</th>\n",
       "      <th>x_5</th>\n",
       "      <th>y_5</th>\n",
       "      <th>z_5</th>\n",
       "      <th>x_1_true</th>\n",
       "      <th>y_1_true</th>\n",
       "      <th>z_1_true</th>\n",
       "    </tr>\n",
       "  </thead>\n",
       "  <tbody>\n",
       "    <tr>\n",
       "      <th>0</th>\n",
       "      <td>1FFK_9_1</td>\n",
       "      <td>U</td>\n",
       "      <td>1</td>\n",
       "      <td>-15.639</td>\n",
       "      <td>2.571000</td>\n",
       "      <td>5.608</td>\n",
       "      <td>-15.639</td>\n",
       "      <td>2.571000</td>\n",
       "      <td>5.608</td>\n",
       "      <td>-15.639</td>\n",
       "      <td>...</td>\n",
       "      <td>5.608</td>\n",
       "      <td>-15.639</td>\n",
       "      <td>2.571000</td>\n",
       "      <td>5.608</td>\n",
       "      <td>-15.639</td>\n",
       "      <td>2.571000</td>\n",
       "      <td>5.608</td>\n",
       "      <td>50.841000</td>\n",
       "      <td>14.916</td>\n",
       "      <td>99.295998</td>\n",
       "    </tr>\n",
       "    <tr>\n",
       "      <th>1</th>\n",
       "      <td>1FFK_9_2</td>\n",
       "      <td>U</td>\n",
       "      <td>2</td>\n",
       "      <td>-18.430</td>\n",
       "      <td>10.087000</td>\n",
       "      <td>-2.845</td>\n",
       "      <td>-18.430</td>\n",
       "      <td>10.087000</td>\n",
       "      <td>-2.845</td>\n",
       "      <td>-18.430</td>\n",
       "      <td>...</td>\n",
       "      <td>-2.845</td>\n",
       "      <td>-18.430</td>\n",
       "      <td>10.087000</td>\n",
       "      <td>-2.845</td>\n",
       "      <td>-18.430</td>\n",
       "      <td>10.087000</td>\n",
       "      <td>-2.845</td>\n",
       "      <td>52.405998</td>\n",
       "      <td>10.401</td>\n",
       "      <td>106.478996</td>\n",
       "    </tr>\n",
       "    <tr>\n",
       "      <th>2</th>\n",
       "      <td>1FFK_9_3</td>\n",
       "      <td>A</td>\n",
       "      <td>3</td>\n",
       "      <td>-12.550</td>\n",
       "      <td>11.265000</td>\n",
       "      <td>-1.446</td>\n",
       "      <td>-12.550</td>\n",
       "      <td>11.265000</td>\n",
       "      <td>-1.446</td>\n",
       "      <td>-12.550</td>\n",
       "      <td>...</td>\n",
       "      <td>-1.446</td>\n",
       "      <td>-12.550</td>\n",
       "      <td>11.265000</td>\n",
       "      <td>-1.446</td>\n",
       "      <td>-12.550</td>\n",
       "      <td>11.265000</td>\n",
       "      <td>-1.446</td>\n",
       "      <td>57.773998</td>\n",
       "      <td>14.789</td>\n",
       "      <td>103.852997</td>\n",
       "    </tr>\n",
       "    <tr>\n",
       "      <th>3</th>\n",
       "      <td>1FFK_9_4</td>\n",
       "      <td>G</td>\n",
       "      <td>4</td>\n",
       "      <td>-11.304</td>\n",
       "      <td>12.247000</td>\n",
       "      <td>6.245</td>\n",
       "      <td>-11.304</td>\n",
       "      <td>12.247000</td>\n",
       "      <td>6.245</td>\n",
       "      <td>-11.304</td>\n",
       "      <td>...</td>\n",
       "      <td>6.245</td>\n",
       "      <td>-11.304</td>\n",
       "      <td>12.247000</td>\n",
       "      <td>6.245</td>\n",
       "      <td>-11.304</td>\n",
       "      <td>12.247000</td>\n",
       "      <td>6.245</td>\n",
       "      <td>57.311001</td>\n",
       "      <td>16.924</td>\n",
       "      <td>96.344002</td>\n",
       "    </tr>\n",
       "    <tr>\n",
       "      <th>4</th>\n",
       "      <td>1FFK_9_5</td>\n",
       "      <td>G</td>\n",
       "      <td>5</td>\n",
       "      <td>-8.366</td>\n",
       "      <td>11.717000</td>\n",
       "      <td>11.502</td>\n",
       "      <td>-8.366</td>\n",
       "      <td>11.717000</td>\n",
       "      <td>11.502</td>\n",
       "      <td>-8.366</td>\n",
       "      <td>...</td>\n",
       "      <td>11.502</td>\n",
       "      <td>-8.366</td>\n",
       "      <td>11.717000</td>\n",
       "      <td>11.502</td>\n",
       "      <td>-8.366</td>\n",
       "      <td>11.717000</td>\n",
       "      <td>11.502</td>\n",
       "      <td>57.646999</td>\n",
       "      <td>20.913</td>\n",
       "      <td>92.202003</td>\n",
       "    </tr>\n",
       "    <tr>\n",
       "      <th>...</th>\n",
       "      <td>...</td>\n",
       "      <td>...</td>\n",
       "      <td>...</td>\n",
       "      <td>...</td>\n",
       "      <td>...</td>\n",
       "      <td>...</td>\n",
       "      <td>...</td>\n",
       "      <td>...</td>\n",
       "      <td>...</td>\n",
       "      <td>...</td>\n",
       "      <td>...</td>\n",
       "      <td>...</td>\n",
       "      <td>...</td>\n",
       "      <td>...</td>\n",
       "      <td>...</td>\n",
       "      <td>...</td>\n",
       "      <td>...</td>\n",
       "      <td>...</td>\n",
       "      <td>...</td>\n",
       "      <td>...</td>\n",
       "      <td>...</td>\n",
       "    </tr>\n",
       "    <tr>\n",
       "      <th>25661</th>\n",
       "      <td>8Z1F_T_82</td>\n",
       "      <td>U</td>\n",
       "      <td>82</td>\n",
       "      <td>4.006</td>\n",
       "      <td>-64.322998</td>\n",
       "      <td>7.390</td>\n",
       "      <td>4.006</td>\n",
       "      <td>-64.322998</td>\n",
       "      <td>7.390</td>\n",
       "      <td>4.006</td>\n",
       "      <td>...</td>\n",
       "      <td>7.390</td>\n",
       "      <td>4.006</td>\n",
       "      <td>-64.322998</td>\n",
       "      <td>7.390</td>\n",
       "      <td>4.006</td>\n",
       "      <td>-64.322998</td>\n",
       "      <td>7.390</td>\n",
       "      <td>NaN</td>\n",
       "      <td>NaN</td>\n",
       "      <td>NaN</td>\n",
       "    </tr>\n",
       "    <tr>\n",
       "      <th>25662</th>\n",
       "      <td>8Z1F_T_83</td>\n",
       "      <td>C</td>\n",
       "      <td>83</td>\n",
       "      <td>-0.629</td>\n",
       "      <td>-66.162003</td>\n",
       "      <td>9.502</td>\n",
       "      <td>-0.629</td>\n",
       "      <td>-66.162003</td>\n",
       "      <td>9.502</td>\n",
       "      <td>-0.629</td>\n",
       "      <td>...</td>\n",
       "      <td>9.502</td>\n",
       "      <td>-0.629</td>\n",
       "      <td>-66.162003</td>\n",
       "      <td>9.502</td>\n",
       "      <td>-0.629</td>\n",
       "      <td>-66.162003</td>\n",
       "      <td>9.502</td>\n",
       "      <td>NaN</td>\n",
       "      <td>NaN</td>\n",
       "      <td>NaN</td>\n",
       "    </tr>\n",
       "    <tr>\n",
       "      <th>25663</th>\n",
       "      <td>8Z1F_T_84</td>\n",
       "      <td>A</td>\n",
       "      <td>84</td>\n",
       "      <td>-5.433</td>\n",
       "      <td>-68.873001</td>\n",
       "      <td>9.121</td>\n",
       "      <td>-5.433</td>\n",
       "      <td>-68.873001</td>\n",
       "      <td>9.121</td>\n",
       "      <td>-5.433</td>\n",
       "      <td>...</td>\n",
       "      <td>9.121</td>\n",
       "      <td>-5.433</td>\n",
       "      <td>-68.873001</td>\n",
       "      <td>9.121</td>\n",
       "      <td>-5.433</td>\n",
       "      <td>-68.873001</td>\n",
       "      <td>9.121</td>\n",
       "      <td>NaN</td>\n",
       "      <td>NaN</td>\n",
       "      <td>NaN</td>\n",
       "    </tr>\n",
       "    <tr>\n",
       "      <th>25664</th>\n",
       "      <td>8Z1F_T_85</td>\n",
       "      <td>U</td>\n",
       "      <td>85</td>\n",
       "      <td>-9.027</td>\n",
       "      <td>-72.446999</td>\n",
       "      <td>7.096</td>\n",
       "      <td>-9.027</td>\n",
       "      <td>-72.446999</td>\n",
       "      <td>7.096</td>\n",
       "      <td>-9.027</td>\n",
       "      <td>...</td>\n",
       "      <td>7.096</td>\n",
       "      <td>-9.027</td>\n",
       "      <td>-72.446999</td>\n",
       "      <td>7.096</td>\n",
       "      <td>-9.027</td>\n",
       "      <td>-72.446999</td>\n",
       "      <td>7.096</td>\n",
       "      <td>NaN</td>\n",
       "      <td>NaN</td>\n",
       "      <td>NaN</td>\n",
       "    </tr>\n",
       "    <tr>\n",
       "      <th>25665</th>\n",
       "      <td>8Z1F_T_86</td>\n",
       "      <td>A</td>\n",
       "      <td>86</td>\n",
       "      <td>-9.701</td>\n",
       "      <td>-78.214996</td>\n",
       "      <td>5.111</td>\n",
       "      <td>-9.701</td>\n",
       "      <td>-78.214996</td>\n",
       "      <td>5.111</td>\n",
       "      <td>-9.701</td>\n",
       "      <td>...</td>\n",
       "      <td>5.111</td>\n",
       "      <td>-9.701</td>\n",
       "      <td>-78.214996</td>\n",
       "      <td>5.111</td>\n",
       "      <td>-9.701</td>\n",
       "      <td>-78.214996</td>\n",
       "      <td>5.111</td>\n",
       "      <td>NaN</td>\n",
       "      <td>NaN</td>\n",
       "      <td>NaN</td>\n",
       "    </tr>\n",
       "  </tbody>\n",
       "</table>\n",
       "<p>25666 rows × 21 columns</p>\n",
       "</div>"
      ],
      "text/plain": [
       "              ID resname  resid     x_1        y_1     z_1     x_2        y_2  \\\n",
       "0       1FFK_9_1       U      1 -15.639   2.571000   5.608 -15.639   2.571000   \n",
       "1       1FFK_9_2       U      2 -18.430  10.087000  -2.845 -18.430  10.087000   \n",
       "2       1FFK_9_3       A      3 -12.550  11.265000  -1.446 -12.550  11.265000   \n",
       "3       1FFK_9_4       G      4 -11.304  12.247000   6.245 -11.304  12.247000   \n",
       "4       1FFK_9_5       G      5  -8.366  11.717000  11.502  -8.366  11.717000   \n",
       "...          ...     ...    ...     ...        ...     ...     ...        ...   \n",
       "25661  8Z1F_T_82       U     82   4.006 -64.322998   7.390   4.006 -64.322998   \n",
       "25662  8Z1F_T_83       C     83  -0.629 -66.162003   9.502  -0.629 -66.162003   \n",
       "25663  8Z1F_T_84       A     84  -5.433 -68.873001   9.121  -5.433 -68.873001   \n",
       "25664  8Z1F_T_85       U     85  -9.027 -72.446999   7.096  -9.027 -72.446999   \n",
       "25665  8Z1F_T_86       A     86  -9.701 -78.214996   5.111  -9.701 -78.214996   \n",
       "\n",
       "          z_2     x_3  ...     z_3     x_4        y_4     z_4     x_5  \\\n",
       "0       5.608 -15.639  ...   5.608 -15.639   2.571000   5.608 -15.639   \n",
       "1      -2.845 -18.430  ...  -2.845 -18.430  10.087000  -2.845 -18.430   \n",
       "2      -1.446 -12.550  ...  -1.446 -12.550  11.265000  -1.446 -12.550   \n",
       "3       6.245 -11.304  ...   6.245 -11.304  12.247000   6.245 -11.304   \n",
       "4      11.502  -8.366  ...  11.502  -8.366  11.717000  11.502  -8.366   \n",
       "...       ...     ...  ...     ...     ...        ...     ...     ...   \n",
       "25661   7.390   4.006  ...   7.390   4.006 -64.322998   7.390   4.006   \n",
       "25662   9.502  -0.629  ...   9.502  -0.629 -66.162003   9.502  -0.629   \n",
       "25663   9.121  -5.433  ...   9.121  -5.433 -68.873001   9.121  -5.433   \n",
       "25664   7.096  -9.027  ...   7.096  -9.027 -72.446999   7.096  -9.027   \n",
       "25665   5.111  -9.701  ...   5.111  -9.701 -78.214996   5.111  -9.701   \n",
       "\n",
       "             y_5     z_5   x_1_true  y_1_true    z_1_true  \n",
       "0       2.571000   5.608  50.841000    14.916   99.295998  \n",
       "1      10.087000  -2.845  52.405998    10.401  106.478996  \n",
       "2      11.265000  -1.446  57.773998    14.789  103.852997  \n",
       "3      12.247000   6.245  57.311001    16.924   96.344002  \n",
       "4      11.717000  11.502  57.646999    20.913   92.202003  \n",
       "...          ...     ...        ...       ...         ...  \n",
       "25661 -64.322998   7.390        NaN       NaN         NaN  \n",
       "25662 -66.162003   9.502        NaN       NaN         NaN  \n",
       "25663 -68.873001   9.121        NaN       NaN         NaN  \n",
       "25664 -72.446999   7.096        NaN       NaN         NaN  \n",
       "25665 -78.214996   5.111        NaN       NaN         NaN  \n",
       "\n",
       "[25666 rows x 21 columns]"
      ]
     },
     "execution_count": 30,
     "metadata": {},
     "output_type": "execute_result"
    }
   ],
   "source": [
    "merged_df"
   ]
  },
  {
   "cell_type": "code",
   "execution_count": 31,
   "id": "68c7dfb5",
   "metadata": {
    "execution": {
     "iopub.execute_input": "2025-04-18T07:01:20.195180Z",
     "iopub.status.busy": "2025-04-18T07:01:20.194970Z",
     "iopub.status.idle": "2025-04-18T07:01:20.788473Z",
     "shell.execute_reply": "2025-04-18T07:01:20.787741Z"
    },
    "papermill": {
     "duration": 0.611399,
     "end_time": "2025-04-18T07:01:20.789979",
     "exception": false,
     "start_time": "2025-04-18T07:01:20.178580",
     "status": "completed"
    },
    "tags": []
   },
   "outputs": [],
   "source": [
    "merged_df.to_csv(\"rhofold_01_oof.csv\")"
   ]
  },
  {
   "cell_type": "code",
   "execution_count": null,
   "id": "2f19ad11",
   "metadata": {
    "papermill": {
     "duration": 0.015642,
     "end_time": "2025-04-18T07:01:20.822263",
     "exception": false,
     "start_time": "2025-04-18T07:01:20.806621",
     "status": "completed"
    },
    "tags": []
   },
   "outputs": [],
   "source": []
  }
 ],
 "metadata": {
  "kaggle": {
   "accelerator": "nvidiaTeslaT4",
   "dataSources": [
    {
     "databundleVersionId": 11553390,
     "sourceId": 87793,
     "sourceType": "competition"
    },
    {
     "datasetId": 3580819,
     "sourceId": 6233380,
     "sourceType": "datasetVersion"
    },
    {
     "datasetId": 4299455,
     "sourceId": 7395079,
     "sourceType": "datasetVersion"
    },
    {
     "datasetId": 4299272,
     "sourceId": 7639698,
     "sourceType": "datasetVersion"
    },
    {
     "datasetId": 6758842,
     "sourceId": 10878276,
     "sourceType": "datasetVersion"
    },
    {
     "datasetId": 6759157,
     "sourceId": 10878463,
     "sourceType": "datasetVersion"
    },
    {
     "datasetId": 6760419,
     "sourceId": 10880297,
     "sourceType": "datasetVersion"
    },
    {
     "datasetId": 6760463,
     "sourceId": 10880353,
     "sourceType": "datasetVersion"
    },
    {
     "datasetId": 6760482,
     "sourceId": 10880374,
     "sourceType": "datasetVersion"
    },
    {
     "datasetId": 6760509,
     "sourceId": 10880419,
     "sourceType": "datasetVersion"
    },
    {
     "sourceId": 224703571,
     "sourceType": "kernelVersion"
    },
    {
     "sourceId": 232543512,
     "sourceType": "kernelVersion"
    },
    {
     "sourceId": 233747992,
     "sourceType": "kernelVersion"
    }
   ],
   "dockerImageVersionId": 30919,
   "isGpuEnabled": true,
   "isInternetEnabled": false,
   "language": "python",
   "sourceType": "notebook"
  },
  "kernelspec": {
   "display_name": "Python 3",
   "language": "python",
   "name": "python3"
  },
  "language_info": {
   "codemirror_mode": {
    "name": "ipython",
    "version": 3
   },
   "file_extension": ".py",
   "mimetype": "text/x-python",
   "name": "python",
   "nbconvert_exporter": "python",
   "pygments_lexer": "ipython3",
   "version": "3.10.12"
  },
  "papermill": {
   "default_parameters": {},
   "duration": 4389.459723,
   "end_time": "2025-04-18T07:01:21.762119",
   "environment_variables": {},
   "exception": null,
   "input_path": "__notebook__.ipynb",
   "output_path": "__notebook__.ipynb",
   "parameters": {},
   "start_time": "2025-04-18T05:48:12.302396",
   "version": "2.6.0"
  }
 },
 "nbformat": 4,
 "nbformat_minor": 5
}
