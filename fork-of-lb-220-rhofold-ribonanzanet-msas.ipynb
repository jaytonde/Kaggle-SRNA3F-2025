{
 "cells": [
  {
   "cell_type": "markdown",
   "id": "af1cbbd2",
   "metadata": {
    "papermill": {
     "duration": 0.005742,
     "end_time": "2025-04-12T13:01:52.291356",
     "exception": false,
     "start_time": "2025-04-12T13:01:52.285614",
     "status": "completed"
    },
    "tags": []
   },
   "source": [
    "# RibonanzaNet 3D Inference"
   ]
  },
  {
   "cell_type": "code",
   "execution_count": 1,
   "id": "aca42158",
   "metadata": {
    "execution": {
     "iopub.execute_input": "2025-04-12T13:01:52.302375Z",
     "iopub.status.busy": "2025-04-12T13:01:52.302122Z",
     "iopub.status.idle": "2025-04-12T13:01:56.694117Z",
     "shell.execute_reply": "2025-04-12T13:01:56.693405Z"
    },
    "papermill": {
     "duration": 4.399057,
     "end_time": "2025-04-12T13:01:56.695619",
     "exception": false,
     "start_time": "2025-04-12T13:01:52.296562",
     "status": "completed"
    },
    "tags": []
   },
   "outputs": [],
   "source": [
    "import pandas as pd\n",
    "import torch\n",
    "import matplotlib.pyplot as plt\n",
    "import numpy as np\n",
    "import torch\n",
    "import random\n",
    "import pickle"
   ]
  },
  {
   "cell_type": "code",
   "execution_count": 2,
   "id": "052f890f",
   "metadata": {
    "execution": {
     "iopub.execute_input": "2025-04-12T13:01:56.707246Z",
     "iopub.status.busy": "2025-04-12T13:01:56.706907Z",
     "iopub.status.idle": "2025-04-12T13:01:57.007331Z",
     "shell.execute_reply": "2025-04-12T13:01:57.006597Z"
    },
    "papermill": {
     "duration": 0.30773,
     "end_time": "2025-04-12T13:01:57.009031",
     "exception": false,
     "start_time": "2025-04-12T13:01:56.701301",
     "status": "completed"
    },
    "tags": []
   },
   "outputs": [],
   "source": [
    "train_data=pd.read_csv(\"/kaggle/input/stanford-rna-3d-folding/train_sequences.csv\")\n",
    "train_labels=pd.read_csv(\"/kaggle/input/stanford-rna-3d-folding/train_labels.csv\")"
   ]
  },
  {
   "cell_type": "code",
   "execution_count": 3,
   "id": "f603ed5d",
   "metadata": {
    "execution": {
     "iopub.execute_input": "2025-04-12T13:01:57.021972Z",
     "iopub.status.busy": "2025-04-12T13:01:57.021716Z",
     "iopub.status.idle": "2025-04-12T13:01:57.026524Z",
     "shell.execute_reply": "2025-04-12T13:01:57.025907Z"
    },
    "papermill": {
     "duration": 0.012321,
     "end_time": "2025-04-12T13:01:57.027832",
     "exception": false,
     "start_time": "2025-04-12T13:01:57.015511",
     "status": "completed"
    },
    "tags": []
   },
   "outputs": [],
   "source": [
    "from torch.utils.data import Dataset, DataLoader\n",
    "\n",
    "class RNADataset(Dataset):\n",
    "    def __init__(self,data):\n",
    "        self.data=data\n",
    "        self.tokens={nt:i for i,nt in enumerate('ACGU')}\n",
    "\n",
    "    def __len__(self):\n",
    "        return len(self.data)\n",
    "    \n",
    "    def __getitem__(self, idx):\n",
    "        sequence=[self.tokens[nt] for nt in (self.data.loc[idx,'sequence'])]\n",
    "        sequence=np.array(sequence)\n",
    "        sequence=torch.tensor(sequence)\n",
    "\n",
    "        return {'sequence':sequence}"
   ]
  },
  {
   "cell_type": "code",
   "execution_count": 4,
   "id": "d5fb5a41",
   "metadata": {
    "execution": {
     "iopub.execute_input": "2025-04-12T13:01:57.038665Z",
     "iopub.status.busy": "2025-04-12T13:01:57.038449Z",
     "iopub.status.idle": "2025-04-12T13:01:57.093220Z",
     "shell.execute_reply": "2025-04-12T13:01:57.092570Z"
    },
    "papermill": {
     "duration": 0.061445,
     "end_time": "2025-04-12T13:01:57.094444",
     "exception": false,
     "start_time": "2025-04-12T13:01:57.032999",
     "status": "completed"
    },
    "tags": []
   },
   "outputs": [
    {
     "data": {
      "text/plain": [
       "{'sequence': tensor([2, 2, 2, 3, 2, 1, 3, 1, 0, 2, 3, 0, 1, 2, 0, 2, 0, 2, 2, 0, 0, 1, 1, 2,\n",
       "         1, 0, 1, 1, 1])}"
      ]
     },
     "execution_count": 4,
     "metadata": {},
     "output_type": "execute_result"
    }
   ],
   "source": [
    "train_dataset=RNADataset(train_data)\n",
    "train_dataset[0]"
   ]
  },
  {
   "cell_type": "markdown",
   "id": "d3cf6fba",
   "metadata": {
    "papermill": {
     "duration": 0.005104,
     "end_time": "2025-04-12T13:01:57.105041",
     "exception": false,
     "start_time": "2025-04-12T13:01:57.099937",
     "status": "completed"
    },
    "tags": []
   },
   "source": [
    "## RhoFold Inference"
   ]
  },
  {
   "cell_type": "code",
   "execution_count": 5,
   "id": "70edea91",
   "metadata": {
    "execution": {
     "iopub.execute_input": "2025-04-12T13:01:57.116090Z",
     "iopub.status.busy": "2025-04-12T13:01:57.115891Z",
     "iopub.status.idle": "2025-04-12T13:01:57.119023Z",
     "shell.execute_reply": "2025-04-12T13:01:57.118410Z"
    },
    "papermill": {
     "duration": 0.009842,
     "end_time": "2025-04-12T13:01:57.120144",
     "exception": false,
     "start_time": "2025-04-12T13:01:57.110302",
     "status": "completed"
    },
    "tags": []
   },
   "outputs": [],
   "source": [
    "import pandas as pd\n",
    "import numpy as np\n",
    "import os\n",
    "import sys\n",
    "import argparse"
   ]
  },
  {
   "cell_type": "code",
   "execution_count": 6,
   "id": "c4660046",
   "metadata": {
    "execution": {
     "iopub.execute_input": "2025-04-12T13:01:57.130921Z",
     "iopub.status.busy": "2025-04-12T13:01:57.130720Z",
     "iopub.status.idle": "2025-04-12T13:02:02.306043Z",
     "shell.execute_reply": "2025-04-12T13:02:02.305197Z"
    },
    "papermill": {
     "duration": 5.182693,
     "end_time": "2025-04-12T13:02:02.307997",
     "exception": false,
     "start_time": "2025-04-12T13:01:57.125304",
     "status": "completed"
    },
    "tags": []
   },
   "outputs": [
    {
     "name": "stdout",
     "output_type": "stream",
     "text": [
      "Processing /kaggle/input/openmm/OpenMM-8.2.0-cp310-cp310-manylinux_2_27_x86_64.manylinux_2_28_x86_64.whl\r\n",
      "Requirement already satisfied: numpy in /usr/local/lib/python3.10/dist-packages (from OpenMM==8.2.0) (1.26.4)\r\n",
      "Requirement already satisfied: mkl_fft in /usr/local/lib/python3.10/dist-packages (from numpy->OpenMM==8.2.0) (1.3.8)\r\n",
      "Requirement already satisfied: mkl_random in /usr/local/lib/python3.10/dist-packages (from numpy->OpenMM==8.2.0) (1.2.4)\r\n",
      "Requirement already satisfied: mkl_umath in /usr/local/lib/python3.10/dist-packages (from numpy->OpenMM==8.2.0) (0.1.1)\r\n",
      "Requirement already satisfied: mkl in /usr/local/lib/python3.10/dist-packages (from numpy->OpenMM==8.2.0) (2025.0.1)\r\n",
      "Requirement already satisfied: tbb4py in /usr/local/lib/python3.10/dist-packages (from numpy->OpenMM==8.2.0) (2022.0.0)\r\n",
      "Requirement already satisfied: mkl-service in /usr/local/lib/python3.10/dist-packages (from numpy->OpenMM==8.2.0) (2.4.1)\r\n",
      "Requirement already satisfied: intel-openmp>=2024 in /usr/local/lib/python3.10/dist-packages (from mkl->numpy->OpenMM==8.2.0) (2024.2.0)\r\n",
      "Requirement already satisfied: tbb==2022.* in /usr/local/lib/python3.10/dist-packages (from mkl->numpy->OpenMM==8.2.0) (2022.0.0)\r\n",
      "Requirement already satisfied: tcmlib==1.* in /usr/local/lib/python3.10/dist-packages (from tbb==2022.*->mkl->numpy->OpenMM==8.2.0) (1.2.0)\r\n",
      "Requirement already satisfied: intel-cmplr-lib-rt in /usr/local/lib/python3.10/dist-packages (from mkl_umath->numpy->OpenMM==8.2.0) (2024.2.0)\r\n",
      "Requirement already satisfied: intel-cmplr-lib-ur==2024.2.0 in /usr/local/lib/python3.10/dist-packages (from intel-openmp>=2024->mkl->numpy->OpenMM==8.2.0) (2024.2.0)\r\n",
      "Installing collected packages: OpenMM\r\n",
      "Successfully installed OpenMM-8.2.0\r\n"
     ]
    }
   ],
   "source": [
    "!pip install /kaggle/input/openmm/OpenMM-8.2.0-cp310-cp310-manylinux_2_27_x86_64.manylinux_2_28_x86_64.whl"
   ]
  },
  {
   "cell_type": "code",
   "execution_count": 7,
   "id": "b8ccb4aa",
   "metadata": {
    "execution": {
     "iopub.execute_input": "2025-04-12T13:02:02.321086Z",
     "iopub.status.busy": "2025-04-12T13:02:02.320688Z",
     "iopub.status.idle": "2025-04-12T13:02:05.799136Z",
     "shell.execute_reply": "2025-04-12T13:02:05.798039Z"
    },
    "papermill": {
     "duration": 3.486992,
     "end_time": "2025-04-12T13:02:05.800952",
     "exception": false,
     "start_time": "2025-04-12T13:02:02.313960",
     "status": "completed"
    },
    "tags": []
   },
   "outputs": [
    {
     "name": "stdout",
     "output_type": "stream",
     "text": [
      "Processing /kaggle/input/simtk-0-1/simtk-0.1.0-py2.py3-none-any.whl\r\n",
      "Installing collected packages: simtk\r\n",
      "Successfully installed simtk-0.1.0\r\n"
     ]
    }
   ],
   "source": [
    "!pip install /kaggle/input/simtk-0-1/simtk-0.1.0-py2.py3-none-any.whl"
   ]
  },
  {
   "cell_type": "code",
   "execution_count": 8,
   "id": "276c83a7",
   "metadata": {
    "execution": {
     "iopub.execute_input": "2025-04-12T13:02:05.813711Z",
     "iopub.status.busy": "2025-04-12T13:02:05.813295Z",
     "iopub.status.idle": "2025-04-12T13:02:09.147062Z",
     "shell.execute_reply": "2025-04-12T13:02:09.145796Z"
    },
    "papermill": {
     "duration": 3.342151,
     "end_time": "2025-04-12T13:02:09.148949",
     "exception": false,
     "start_time": "2025-04-12T13:02:05.806798",
     "status": "completed"
    },
    "tags": []
   },
   "outputs": [
    {
     "name": "stdout",
     "output_type": "stream",
     "text": [
      "Processing /kaggle/input/pytest-runner/pytest_runner-6.0.1-py3-none-any.whl\r\n",
      "Installing collected packages: pytest-runner\r\n",
      "Successfully installed pytest-runner-6.0.1\r\n"
     ]
    }
   ],
   "source": [
    "!pip install /kaggle/input/pytest-runner/pytest_runner-6.0.1-py3-none-any.whl"
   ]
  },
  {
   "cell_type": "code",
   "execution_count": 9,
   "id": "e282b2b0",
   "metadata": {
    "execution": {
     "iopub.execute_input": "2025-04-12T13:02:09.162220Z",
     "iopub.status.busy": "2025-04-12T13:02:09.161924Z",
     "iopub.status.idle": "2025-04-12T13:02:13.543656Z",
     "shell.execute_reply": "2025-04-12T13:02:13.542787Z"
    },
    "papermill": {
     "duration": 4.389698,
     "end_time": "2025-04-12T13:02:13.545170",
     "exception": false,
     "start_time": "2025-04-12T13:02:09.155472",
     "status": "completed"
    },
    "tags": []
   },
   "outputs": [
    {
     "name": "stdout",
     "output_type": "stream",
     "text": [
      "Processing /kaggle/input/biopython/biopython-1.85-cp310-cp310-manylinux_2_17_x86_64.manylinux2014_x86_64.whl\r\n",
      "Requirement already satisfied: numpy in /usr/local/lib/python3.10/dist-packages (from biopython==1.85) (1.26.4)\r\n",
      "Requirement already satisfied: mkl_fft in /usr/local/lib/python3.10/dist-packages (from numpy->biopython==1.85) (1.3.8)\r\n",
      "Requirement already satisfied: mkl_random in /usr/local/lib/python3.10/dist-packages (from numpy->biopython==1.85) (1.2.4)\r\n",
      "Requirement already satisfied: mkl_umath in /usr/local/lib/python3.10/dist-packages (from numpy->biopython==1.85) (0.1.1)\r\n",
      "Requirement already satisfied: mkl in /usr/local/lib/python3.10/dist-packages (from numpy->biopython==1.85) (2025.0.1)\r\n",
      "Requirement already satisfied: tbb4py in /usr/local/lib/python3.10/dist-packages (from numpy->biopython==1.85) (2022.0.0)\r\n",
      "Requirement already satisfied: mkl-service in /usr/local/lib/python3.10/dist-packages (from numpy->biopython==1.85) (2.4.1)\r\n",
      "Requirement already satisfied: intel-openmp>=2024 in /usr/local/lib/python3.10/dist-packages (from mkl->numpy->biopython==1.85) (2024.2.0)\r\n",
      "Requirement already satisfied: tbb==2022.* in /usr/local/lib/python3.10/dist-packages (from mkl->numpy->biopython==1.85) (2022.0.0)\r\n",
      "Requirement already satisfied: tcmlib==1.* in /usr/local/lib/python3.10/dist-packages (from tbb==2022.*->mkl->numpy->biopython==1.85) (1.2.0)\r\n",
      "Requirement already satisfied: intel-cmplr-lib-rt in /usr/local/lib/python3.10/dist-packages (from mkl_umath->numpy->biopython==1.85) (2024.2.0)\r\n",
      "Requirement already satisfied: intel-cmplr-lib-ur==2024.2.0 in /usr/local/lib/python3.10/dist-packages (from intel-openmp>=2024->mkl->numpy->biopython==1.85) (2024.2.0)\r\n",
      "Installing collected packages: biopython\r\n",
      "Successfully installed biopython-1.85\r\n"
     ]
    }
   ],
   "source": [
    "!pip install /kaggle/input/biopython/biopython-1.85-cp310-cp310-manylinux_2_17_x86_64.manylinux2014_x86_64.whl"
   ]
  },
  {
   "cell_type": "code",
   "execution_count": 10,
   "id": "cd2ac576",
   "metadata": {
    "execution": {
     "iopub.execute_input": "2025-04-12T13:02:13.558262Z",
     "iopub.status.busy": "2025-04-12T13:02:13.558008Z",
     "iopub.status.idle": "2025-04-12T13:02:16.925287Z",
     "shell.execute_reply": "2025-04-12T13:02:16.924200Z"
    },
    "papermill": {
     "duration": 3.375483,
     "end_time": "2025-04-12T13:02:16.926969",
     "exception": false,
     "start_time": "2025-04-12T13:02:13.551486",
     "status": "completed"
    },
    "tags": []
   },
   "outputs": [
    {
     "name": "stdout",
     "output_type": "stream",
     "text": [
      "Processing /kaggle/input/ml-collections/ml_collections-1.0.0-py3-none-any.whl\r\n",
      "Requirement already satisfied: absl-py in /usr/local/lib/python3.10/dist-packages (from ml-collections==1.0.0) (1.4.0)\r\n",
      "Requirement already satisfied: six in /usr/local/lib/python3.10/dist-packages (from ml-collections==1.0.0) (1.17.0)\r\n",
      "Requirement already satisfied: PyYAML in /usr/local/lib/python3.10/dist-packages (from ml-collections==1.0.0) (6.0.2)\r\n",
      "Installing collected packages: ml-collections\r\n",
      "Successfully installed ml-collections-1.0.0\r\n"
     ]
    }
   ],
   "source": [
    "!pip install /kaggle/input/ml-collections/ml_collections-1.0.0-py3-none-any.whl"
   ]
  },
  {
   "cell_type": "code",
   "execution_count": 11,
   "id": "ee9e9a9c",
   "metadata": {
    "execution": {
     "iopub.execute_input": "2025-04-12T13:02:16.940305Z",
     "iopub.status.busy": "2025-04-12T13:02:16.940068Z",
     "iopub.status.idle": "2025-04-12T13:02:22.244648Z",
     "shell.execute_reply": "2025-04-12T13:02:22.243462Z"
    },
    "papermill": {
     "duration": 5.313003,
     "end_time": "2025-04-12T13:02:22.246370",
     "exception": false,
     "start_time": "2025-04-12T13:02:16.933367",
     "status": "completed"
    },
    "tags": []
   },
   "outputs": [],
   "source": [
    "!cp -R /kaggle/input/rhofold-repo /kaggle/working/"
   ]
  },
  {
   "cell_type": "code",
   "execution_count": 12,
   "id": "ab5049e7",
   "metadata": {
    "execution": {
     "iopub.execute_input": "2025-04-12T13:02:22.259608Z",
     "iopub.status.busy": "2025-04-12T13:02:22.259354Z",
     "iopub.status.idle": "2025-04-12T13:02:22.384470Z",
     "shell.execute_reply": "2025-04-12T13:02:22.383592Z"
    },
    "papermill": {
     "duration": 0.133105,
     "end_time": "2025-04-12T13:02:22.385841",
     "exception": false,
     "start_time": "2025-04-12T13:02:22.252736",
     "status": "completed"
    },
    "tags": []
   },
   "outputs": [],
   "source": [
    "!mv rhofold-repo RhoFold"
   ]
  },
  {
   "cell_type": "code",
   "execution_count": 13,
   "id": "da5a8e0e",
   "metadata": {
    "execution": {
     "iopub.execute_input": "2025-04-12T13:02:22.398609Z",
     "iopub.status.busy": "2025-04-12T13:02:22.398385Z",
     "iopub.status.idle": "2025-04-12T13:02:22.404336Z",
     "shell.execute_reply": "2025-04-12T13:02:22.403691Z"
    },
    "papermill": {
     "duration": 0.013726,
     "end_time": "2025-04-12T13:02:22.405555",
     "exception": false,
     "start_time": "2025-04-12T13:02:22.391829",
     "status": "completed"
    },
    "tags": []
   },
   "outputs": [
    {
     "name": "stdout",
     "output_type": "stream",
     "text": [
      "/kaggle/working/RhoFold\n"
     ]
    }
   ],
   "source": [
    "\n",
    "cd /kaggle/working/RhoFold"
   ]
  },
  {
   "cell_type": "code",
   "execution_count": 14,
   "id": "cb446388",
   "metadata": {
    "execution": {
     "iopub.execute_input": "2025-04-12T13:02:22.418115Z",
     "iopub.status.busy": "2025-04-12T13:02:22.417911Z",
     "iopub.status.idle": "2025-04-12T13:03:28.237937Z",
     "shell.execute_reply": "2025-04-12T13:03:28.237063Z"
    },
    "papermill": {
     "duration": 65.827819,
     "end_time": "2025-04-12T13:03:28.239368",
     "exception": false,
     "start_time": "2025-04-12T13:02:22.411549",
     "status": "completed"
    },
    "tags": []
   },
   "outputs": [
    {
     "name": "stdout",
     "output_type": "stream",
     "text": [
      "/usr/local/lib/python3.10/dist-packages/setuptools/__init__.py:94: _DeprecatedInstaller: setuptools.installer and fetch_build_eggs are deprecated.\r\n",
      "!!\r\n",
      "\r\n",
      "        ********************************************************************************\r\n",
      "        Requirements should be satisfied by a PEP 517 installer.\r\n",
      "        If you are using pip, you can try `pip install --use-pep517`.\r\n",
      "        ********************************************************************************\r\n",
      "\r\n",
      "!!\r\n",
      "  dist.fetch_build_eggs(dist.setup_requires)\r\n",
      "/usr/local/lib/python3.10/dist-packages/setuptools/_distutils/dist.py:261: UserWarning: Unknown distribution option: 'tests_require'\r\n",
      "  warnings.warn(msg)\r\n",
      "/usr/local/lib/python3.10/dist-packages/setuptools/_distutils/cmd.py:66: SetuptoolsDeprecationWarning: setup.py install is deprecated.\r\n",
      "!!\r\n",
      "\r\n",
      "        ********************************************************************************\r\n",
      "        Please avoid running ``setup.py`` directly.\r\n",
      "        Instead, use pypa/build, pypa/installer or other\r\n",
      "        standards-based tools.\r\n",
      "\r\n",
      "        See https://blog.ganssle.io/articles/2021/10/setup-py-deprecated.html for details.\r\n",
      "        ********************************************************************************\r\n",
      "\r\n",
      "!!\r\n",
      "  self.initialize_options()\r\n",
      "/usr/local/lib/python3.10/dist-packages/setuptools/_distutils/cmd.py:66: EasyInstallDeprecationWarning: easy_install command is deprecated.\r\n",
      "!!\r\n",
      "\r\n",
      "        ********************************************************************************\r\n",
      "        Please avoid running ``setup.py`` and ``easy_install``.\r\n",
      "        Instead, use pypa/build, pypa/installer or other\r\n",
      "        standards-based tools.\r\n",
      "\r\n",
      "        See https://github.com/pypa/setuptools/issues/917 for details.\r\n",
      "        ********************************************************************************\r\n",
      "\r\n",
      "!!\r\n",
      "  self.initialize_options()\r\n",
      "\u001b[2;36m[04/12/25 13:02:23]\u001b[0m\u001b[2;36m \u001b[0m\u001b[1;31mERROR   \u001b[0m listing git files failed - pretending there aren't any        \u001b]8;id=780742;file:///usr/local/lib/python3.10/dist-packages/setuptools_scm/_file_finders/git.py\u001b\\\u001b[2mgit.py\u001b[0m\u001b]8;;\u001b\\\u001b[2m:\u001b[0m\u001b]8;id=961354;file:///usr/local/lib/python3.10/dist-packages/setuptools_scm/_file_finders/git.py#26\u001b\\\u001b[2m26\u001b[0m\u001b]8;;\u001b\\\r\n",
      "error: Could not find suitable distribution for Requirement.parse('Bio')\r\n"
     ]
    }
   ],
   "source": [
    "!python setup.py install"
   ]
  },
  {
   "cell_type": "code",
   "execution_count": 15,
   "id": "6dcea75a",
   "metadata": {
    "execution": {
     "iopub.execute_input": "2025-04-12T13:03:28.252734Z",
     "iopub.status.busy": "2025-04-12T13:03:28.252448Z",
     "iopub.status.idle": "2025-04-12T13:03:28.255847Z",
     "shell.execute_reply": "2025-04-12T13:03:28.255217Z"
    },
    "papermill": {
     "duration": 0.011358,
     "end_time": "2025-04-12T13:03:28.257052",
     "exception": false,
     "start_time": "2025-04-12T13:03:28.245694",
     "status": "completed"
    },
    "tags": []
   },
   "outputs": [],
   "source": [
    "fasta = train_data"
   ]
  },
  {
   "cell_type": "code",
   "execution_count": 16,
   "id": "d80297b3",
   "metadata": {
    "execution": {
     "iopub.execute_input": "2025-04-12T13:03:28.269774Z",
     "iopub.status.busy": "2025-04-12T13:03:28.269539Z",
     "iopub.status.idle": "2025-04-12T13:03:28.295505Z",
     "shell.execute_reply": "2025-04-12T13:03:28.294687Z"
    },
    "papermill": {
     "duration": 0.033706,
     "end_time": "2025-04-12T13:03:28.296739",
     "exception": false,
     "start_time": "2025-04-12T13:03:28.263033",
     "status": "completed"
    },
    "tags": []
   },
   "outputs": [
    {
     "data": {
      "text/html": [
       "<div>\n",
       "<style scoped>\n",
       "    .dataframe tbody tr th:only-of-type {\n",
       "        vertical-align: middle;\n",
       "    }\n",
       "\n",
       "    .dataframe tbody tr th {\n",
       "        vertical-align: top;\n",
       "    }\n",
       "\n",
       "    .dataframe thead th {\n",
       "        text-align: right;\n",
       "    }\n",
       "</style>\n",
       "<table border=\"1\" class=\"dataframe\">\n",
       "  <thead>\n",
       "    <tr style=\"text-align: right;\">\n",
       "      <th></th>\n",
       "      <th>target_id</th>\n",
       "      <th>sequence</th>\n",
       "      <th>temporal_cutoff</th>\n",
       "      <th>description</th>\n",
       "      <th>all_sequences</th>\n",
       "    </tr>\n",
       "  </thead>\n",
       "  <tbody>\n",
       "    <tr>\n",
       "      <th>0</th>\n",
       "      <td>1SCL_A</td>\n",
       "      <td>GGGUGCUCAGUACGAGAGGAACCGCACCC</td>\n",
       "      <td>1995-01-26</td>\n",
       "      <td>THE SARCIN-RICIN LOOP, A MODULAR RNA</td>\n",
       "      <td>&gt;1SCL_1|Chain A|RNA SARCIN-RICIN LOOP|Rattus n...</td>\n",
       "    </tr>\n",
       "    <tr>\n",
       "      <th>1</th>\n",
       "      <td>1RNK_A</td>\n",
       "      <td>GGCGCAGUGGGCUAGCGCCACUCAAAAGGCCCAU</td>\n",
       "      <td>1995-02-27</td>\n",
       "      <td>THE STRUCTURE OF AN RNA PSEUDOKNOT THAT CAUSES...</td>\n",
       "      <td>&gt;1RNK_1|Chain A|RNA PSEUDOKNOT|null\\nGGCGCAGUG...</td>\n",
       "    </tr>\n",
       "    <tr>\n",
       "      <th>2</th>\n",
       "      <td>1RHT_A</td>\n",
       "      <td>GGGACUGACGAUCACGCAGUCUAU</td>\n",
       "      <td>1995-06-03</td>\n",
       "      <td>24-MER RNA HAIRPIN COAT PROTEIN BINDING SITE F...</td>\n",
       "      <td>&gt;1RHT_1|Chain A|RNA (5'-R(P*GP*GP*GP*AP*CP*UP*...</td>\n",
       "    </tr>\n",
       "    <tr>\n",
       "      <th>3</th>\n",
       "      <td>1HLX_A</td>\n",
       "      <td>GGGAUAACUUCGGUUGUCCC</td>\n",
       "      <td>1995-09-15</td>\n",
       "      <td>P1 HELIX NUCLEIC ACIDS (DNA/RNA) RIBONUCLEIC ACID</td>\n",
       "      <td>&gt;1HLX_1|Chain A|RNA (5'-R(*GP*GP*GP*AP*UP*AP*A...</td>\n",
       "    </tr>\n",
       "    <tr>\n",
       "      <th>4</th>\n",
       "      <td>1HMH_E</td>\n",
       "      <td>GGCGACCCUGAUGAGGCCGAAAGGCCGAAACCGU</td>\n",
       "      <td>1995-12-07</td>\n",
       "      <td>THREE-DIMENSIONAL STRUCTURE OF A HAMMERHEAD RI...</td>\n",
       "      <td>&gt;1HMH_1|Chains A, C, E|HAMMERHEAD RIBOZYME-RNA...</td>\n",
       "    </tr>\n",
       "    <tr>\n",
       "      <th>...</th>\n",
       "      <td>...</td>\n",
       "      <td>...</td>\n",
       "      <td>...</td>\n",
       "      <td>...</td>\n",
       "      <td>...</td>\n",
       "    </tr>\n",
       "    <tr>\n",
       "      <th>839</th>\n",
       "      <td>8T3E_EC</td>\n",
       "      <td>AAACUCCAUGUAUUGGUUACCCAUCUGCAUCGAAAACUCUCCGAAC...</td>\n",
       "      <td>2024-12-11</td>\n",
       "      <td>Hypomethylated yeast 80S bound with Taura synd...</td>\n",
       "      <td>&gt;8T3E_1|Chain A[auth BA]|40S ribosomal protein...</td>\n",
       "    </tr>\n",
       "    <tr>\n",
       "      <th>840</th>\n",
       "      <td>8T3F_EC</td>\n",
       "      <td>AAACUCCAUGUAUUGGUUACCCAUCUGCAUCGAAAACUCUCCGAAC...</td>\n",
       "      <td>2024-12-11</td>\n",
       "      <td>Hypomethylated yeast 80S bound with Taura synd...</td>\n",
       "      <td>&gt;8T3F_1|Chain A[auth BA]|40S ribosomal protein...</td>\n",
       "    </tr>\n",
       "    <tr>\n",
       "      <th>841</th>\n",
       "      <td>8XCC_B</td>\n",
       "      <td>GUGCUGCUGUCUCCCAGACGGGAGGCAGAACUGCACCUUCCAUCAG...</td>\n",
       "      <td>2024-12-11</td>\n",
       "      <td>Cryo-EM structure of Cas12j19 (E100K), crRNA a...</td>\n",
       "      <td>&gt;8XCC_1|Chain A|Cas12j19(E100K)|unclassified s...</td>\n",
       "    </tr>\n",
       "    <tr>\n",
       "      <th>842</th>\n",
       "      <td>8Z1G_T</td>\n",
       "      <td>GGUAAAAUGGCUGAGUGAAGCAUUGGACUGUAAAUCUAAAGACAGG...</td>\n",
       "      <td>2024-12-18</td>\n",
       "      <td>Cryo-EM structure of human ELAC2-pre-tRNA</td>\n",
       "      <td>&gt;8Z1G_1|Chain A[auth T]|Homo sapiens mitochond...</td>\n",
       "    </tr>\n",
       "    <tr>\n",
       "      <th>843</th>\n",
       "      <td>8Z1F_T</td>\n",
       "      <td>GGUAAAAUGGCUGAGUGAAGCAUUGGACUGUAAAUCUAAAGACAGG...</td>\n",
       "      <td>2024-12-18</td>\n",
       "      <td>Cryo-EM structure of human ELAC2-tRNA</td>\n",
       "      <td>&gt;8Z1F_1|Chain A[auth T]|Homo sapiens mitochond...</td>\n",
       "    </tr>\n",
       "  </tbody>\n",
       "</table>\n",
       "<p>844 rows × 5 columns</p>\n",
       "</div>"
      ],
      "text/plain": [
       "    target_id                                           sequence  \\\n",
       "0      1SCL_A                      GGGUGCUCAGUACGAGAGGAACCGCACCC   \n",
       "1      1RNK_A                 GGCGCAGUGGGCUAGCGCCACUCAAAAGGCCCAU   \n",
       "2      1RHT_A                           GGGACUGACGAUCACGCAGUCUAU   \n",
       "3      1HLX_A                               GGGAUAACUUCGGUUGUCCC   \n",
       "4      1HMH_E                 GGCGACCCUGAUGAGGCCGAAAGGCCGAAACCGU   \n",
       "..        ...                                                ...   \n",
       "839   8T3E_EC  AAACUCCAUGUAUUGGUUACCCAUCUGCAUCGAAAACUCUCCGAAC...   \n",
       "840   8T3F_EC  AAACUCCAUGUAUUGGUUACCCAUCUGCAUCGAAAACUCUCCGAAC...   \n",
       "841    8XCC_B  GUGCUGCUGUCUCCCAGACGGGAGGCAGAACUGCACCUUCCAUCAG...   \n",
       "842    8Z1G_T  GGUAAAAUGGCUGAGUGAAGCAUUGGACUGUAAAUCUAAAGACAGG...   \n",
       "843    8Z1F_T  GGUAAAAUGGCUGAGUGAAGCAUUGGACUGUAAAUCUAAAGACAGG...   \n",
       "\n",
       "    temporal_cutoff                                        description  \\\n",
       "0        1995-01-26               THE SARCIN-RICIN LOOP, A MODULAR RNA   \n",
       "1        1995-02-27  THE STRUCTURE OF AN RNA PSEUDOKNOT THAT CAUSES...   \n",
       "2        1995-06-03  24-MER RNA HAIRPIN COAT PROTEIN BINDING SITE F...   \n",
       "3        1995-09-15  P1 HELIX NUCLEIC ACIDS (DNA/RNA) RIBONUCLEIC ACID   \n",
       "4        1995-12-07  THREE-DIMENSIONAL STRUCTURE OF A HAMMERHEAD RI...   \n",
       "..              ...                                                ...   \n",
       "839      2024-12-11  Hypomethylated yeast 80S bound with Taura synd...   \n",
       "840      2024-12-11  Hypomethylated yeast 80S bound with Taura synd...   \n",
       "841      2024-12-11  Cryo-EM structure of Cas12j19 (E100K), crRNA a...   \n",
       "842      2024-12-18          Cryo-EM structure of human ELAC2-pre-tRNA   \n",
       "843      2024-12-18              Cryo-EM structure of human ELAC2-tRNA   \n",
       "\n",
       "                                         all_sequences  \n",
       "0    >1SCL_1|Chain A|RNA SARCIN-RICIN LOOP|Rattus n...  \n",
       "1    >1RNK_1|Chain A|RNA PSEUDOKNOT|null\\nGGCGCAGUG...  \n",
       "2    >1RHT_1|Chain A|RNA (5'-R(P*GP*GP*GP*AP*CP*UP*...  \n",
       "3    >1HLX_1|Chain A|RNA (5'-R(*GP*GP*GP*AP*UP*AP*A...  \n",
       "4    >1HMH_1|Chains A, C, E|HAMMERHEAD RIBOZYME-RNA...  \n",
       "..                                                 ...  \n",
       "839  >8T3E_1|Chain A[auth BA]|40S ribosomal protein...  \n",
       "840  >8T3F_1|Chain A[auth BA]|40S ribosomal protein...  \n",
       "841  >8XCC_1|Chain A|Cas12j19(E100K)|unclassified s...  \n",
       "842  >8Z1G_1|Chain A[auth T]|Homo sapiens mitochond...  \n",
       "843  >8Z1F_1|Chain A[auth T]|Homo sapiens mitochond...  \n",
       "\n",
       "[844 rows x 5 columns]"
      ]
     },
     "execution_count": 16,
     "metadata": {},
     "output_type": "execute_result"
    }
   ],
   "source": [
    "fasta"
   ]
  },
  {
   "cell_type": "code",
   "execution_count": 17,
   "id": "f90d73cf",
   "metadata": {
    "execution": {
     "iopub.execute_input": "2025-04-12T13:03:28.310323Z",
     "iopub.status.busy": "2025-04-12T13:03:28.310128Z",
     "iopub.status.idle": "2025-04-12T13:03:28.552250Z",
     "shell.execute_reply": "2025-04-12T13:03:28.551312Z"
    },
    "papermill": {
     "duration": 0.250767,
     "end_time": "2025-04-12T13:03:28.553882",
     "exception": false,
     "start_time": "2025-04-12T13:03:28.303115",
     "status": "completed"
    },
    "tags": []
   },
   "outputs": [],
   "source": [
    "!mkdir test_fasta\n",
    "!mkdir out"
   ]
  },
  {
   "cell_type": "markdown",
   "id": "3050e611",
   "metadata": {
    "papermill": {
     "duration": 0.006144,
     "end_time": "2025-04-12T13:03:28.566524",
     "exception": false,
     "start_time": "2025-04-12T13:03:28.560380",
     "status": "completed"
    },
    "tags": []
   },
   "source": [
    "### Step : Writing the RNA sequences in Fasta Format"
   ]
  },
  {
   "cell_type": "code",
   "execution_count": 18,
   "id": "6e4cfe5a",
   "metadata": {
    "execution": {
     "iopub.execute_input": "2025-04-12T13:03:28.580303Z",
     "iopub.status.busy": "2025-04-12T13:03:28.580074Z",
     "iopub.status.idle": "2025-04-12T13:03:29.567978Z",
     "shell.execute_reply": "2025-04-12T13:03:29.567053Z"
    },
    "papermill": {
     "duration": 0.996499,
     "end_time": "2025-04-12T13:03:29.569358",
     "exception": false,
     "start_time": "2025-04-12T13:03:28.572859",
     "status": "completed"
    },
    "tags": []
   },
   "outputs": [
    {
     "name": "stderr",
     "output_type": "stream",
     "text": [
      "100%|██████████| 844/844 [00:00<00:00, 863.61it/s]\n"
     ]
    }
   ],
   "source": [
    "from tqdm import tqdm\n",
    "\n",
    "for target_id in tqdm(fasta[\"target_id\"].values):\n",
    "    with open(f\"test_fasta/{target_id}.fasta\", \"w\") as text_file:\n",
    "        text_file.write(\">100500\\n\")\n",
    "        text_file.write(\n",
    "            fasta.loc[fasta[\"target_id\"] == target_id, [\"sequence\"]].to_string(index = False, header = False)\n",
    "        )"
   ]
  },
  {
   "cell_type": "code",
   "execution_count": 19,
   "id": "72e1ad49",
   "metadata": {
    "execution": {
     "iopub.execute_input": "2025-04-12T13:03:29.587578Z",
     "iopub.status.busy": "2025-04-12T13:03:29.587292Z",
     "iopub.status.idle": "2025-04-12T15:34:37.515514Z",
     "shell.execute_reply": "2025-04-12T15:34:37.514749Z"
    },
    "papermill": {
     "duration": 9067.93872,
     "end_time": "2025-04-12T15:34:37.516793",
     "exception": false,
     "start_time": "2025-04-12T13:03:29.578073",
     "status": "completed"
    },
    "tags": []
   },
   "outputs": [
    {
     "name": "stderr",
     "output_type": "stream",
     "text": [
      "100%|██████████| 844/844 [2:31:07<00:00, 10.74s/it]\n"
     ]
    }
   ],
   "source": [
    "from tqdm import tqdm\n",
    "for target_id in tqdm(fasta[\"target_id\"].values):\n",
    "    try:\n",
    "        os.makedirs(f\"./out/{target_id}\", exist_ok = True)\n",
    "        \n",
    "        a3m_file     = f\"/kaggle/input/stanford-rna-3d-folding/MSA/{target_id}.MSA.fasta\"\n",
    "        fasta_file   = f\"/kaggle/working/RhoFold/test_fasta/{target_id}.fasta\"\n",
    "        \n",
    "        if len(open(fasta_file, 'r').read()) > 400:\n",
    "            continue\n",
    "            \n",
    "        device       = \"cpu\" if len(open(fasta_file, 'r').read()) > 400 else \"cuda:0\"\n",
    "        run_folding  = f\"python inference.py --relax_steps 0 --input_fas {fasta_file} --input_a3m {a3m_file} --output_dir ./out/{target_id}/ --device {device} --ckpt ./pretrained/RhoFold_pretrained.pt\"\n",
    "        os.system(run_folding)\n",
    "    except Exception as e:\n",
    "        print(e)"
   ]
  },
  {
   "cell_type": "code",
   "execution_count": 20,
   "id": "8913eb80",
   "metadata": {
    "execution": {
     "iopub.execute_input": "2025-04-12T15:34:37.601868Z",
     "iopub.status.busy": "2025-04-12T15:34:37.601559Z",
     "iopub.status.idle": "2025-04-12T15:34:37.606532Z",
     "shell.execute_reply": "2025-04-12T15:34:37.605757Z"
    },
    "papermill": {
     "duration": 0.049169,
     "end_time": "2025-04-12T15:34:37.608052",
     "exception": false,
     "start_time": "2025-04-12T15:34:37.558883",
     "status": "completed"
    },
    "tags": []
   },
   "outputs": [],
   "source": [
    "def extract_c1_coordinates(pdb_file):\n",
    "    # Create a PDB parser object\n",
    "    parser = PDBParser()\n",
    "    \n",
    "    # Load the structure from the PDB file\n",
    "    structure = parser.get_structure('RNA_structure', pdb_file)\n",
    "    \n",
    "    # Initialize a list to store the coordinates of C1' atoms\n",
    "    c1_coordinates = []\n",
    "    \n",
    "    # Iterate over all models in the structure (usually only one model)\n",
    "    for model in structure:\n",
    "        # Iterate over all chains in the model\n",
    "        for chain in model:\n",
    "            # Iterate over all residues in the chain\n",
    "            for residue in chain:\n",
    "                # Check if the residue is an RNA nucleotide\n",
    "                if residue.get_resname() in ['A', 'U', 'G', 'C']:\n",
    "                    # Try to get the C1' atom\n",
    "                    try:\n",
    "                        c1_atom = residue['C1\\'']\n",
    "                        # Append the coordinates of the C1' atom to the list\n",
    "                        c1_coordinates.append((residue.get_resname(), c1_atom.get_coord()))\n",
    "                    except KeyError:\n",
    "                        # If C1' atom is not found, skip this residue\n",
    "                        print(f\"C1' atom not found in residue {residue.get_resname()}{residue.get_id()[1]}\")\n",
    "    \n",
    "    return c1_coordinates"
   ]
  },
  {
   "cell_type": "code",
   "execution_count": 21,
   "id": "19e1ff05",
   "metadata": {
    "execution": {
     "iopub.execute_input": "2025-04-12T15:34:37.696590Z",
     "iopub.status.busy": "2025-04-12T15:34:37.696368Z",
     "iopub.status.idle": "2025-04-12T15:34:37.754064Z",
     "shell.execute_reply": "2025-04-12T15:34:37.753340Z"
    },
    "papermill": {
     "duration": 0.10009,
     "end_time": "2025-04-12T15:34:37.755323",
     "exception": false,
     "start_time": "2025-04-12T15:34:37.655233",
     "status": "completed"
    },
    "tags": []
   },
   "outputs": [],
   "source": [
    "from pathlib import Path\n",
    "from Bio.PDB import PDBParser"
   ]
  },
  {
   "cell_type": "code",
   "execution_count": 22,
   "id": "4158c09d",
   "metadata": {
    "execution": {
     "iopub.execute_input": "2025-04-12T15:34:37.838381Z",
     "iopub.status.busy": "2025-04-12T15:34:37.838162Z",
     "iopub.status.idle": "2025-04-12T15:34:52.539098Z",
     "shell.execute_reply": "2025-04-12T15:34:52.538183Z"
    },
    "papermill": {
     "duration": 14.743686,
     "end_time": "2025-04-12T15:34:52.540612",
     "exception": false,
     "start_time": "2025-04-12T15:34:37.796926",
     "status": "completed"
    },
    "tags": []
   },
   "outputs": [
    {
     "name": "stdout",
     "output_type": "stream",
     "text": [
      "Empty file.\n",
      "Empty file.\n"
     ]
    },
    {
     "data": {
      "text/html": [
       "<div>\n",
       "<style scoped>\n",
       "    .dataframe tbody tr th:only-of-type {\n",
       "        vertical-align: middle;\n",
       "    }\n",
       "\n",
       "    .dataframe tbody tr th {\n",
       "        vertical-align: top;\n",
       "    }\n",
       "\n",
       "    .dataframe thead th {\n",
       "        text-align: right;\n",
       "    }\n",
       "</style>\n",
       "<table border=\"1\" class=\"dataframe\">\n",
       "  <thead>\n",
       "    <tr style=\"text-align: right;\">\n",
       "      <th></th>\n",
       "      <th>ID</th>\n",
       "      <th>resname</th>\n",
       "      <th>resid</th>\n",
       "      <th>x_1</th>\n",
       "      <th>y_1</th>\n",
       "      <th>z_1</th>\n",
       "      <th>x_2</th>\n",
       "      <th>y_2</th>\n",
       "      <th>z_2</th>\n",
       "      <th>x_3</th>\n",
       "      <th>y_3</th>\n",
       "      <th>z_3</th>\n",
       "      <th>x_4</th>\n",
       "      <th>y_4</th>\n",
       "      <th>z_4</th>\n",
       "      <th>x_5</th>\n",
       "      <th>y_5</th>\n",
       "      <th>z_5</th>\n",
       "    </tr>\n",
       "  </thead>\n",
       "  <tbody>\n",
       "    <tr>\n",
       "      <th>0</th>\n",
       "      <td>1SCL_A_1</td>\n",
       "      <td>G</td>\n",
       "      <td>1</td>\n",
       "      <td>-2.356</td>\n",
       "      <td>12.116000</td>\n",
       "      <td>0.453</td>\n",
       "      <td>-2.356</td>\n",
       "      <td>12.116000</td>\n",
       "      <td>0.453</td>\n",
       "      <td>-2.356</td>\n",
       "      <td>12.116000</td>\n",
       "      <td>0.453</td>\n",
       "      <td>-2.356</td>\n",
       "      <td>12.116000</td>\n",
       "      <td>0.453</td>\n",
       "      <td>-2.356</td>\n",
       "      <td>12.116000</td>\n",
       "      <td>0.453</td>\n",
       "    </tr>\n",
       "    <tr>\n",
       "      <th>1</th>\n",
       "      <td>1SCL_A_2</td>\n",
       "      <td>G</td>\n",
       "      <td>2</td>\n",
       "      <td>-5.678</td>\n",
       "      <td>8.330000</td>\n",
       "      <td>2.603</td>\n",
       "      <td>-5.678</td>\n",
       "      <td>8.330000</td>\n",
       "      <td>2.603</td>\n",
       "      <td>-5.678</td>\n",
       "      <td>8.330000</td>\n",
       "      <td>2.603</td>\n",
       "      <td>-5.678</td>\n",
       "      <td>8.330000</td>\n",
       "      <td>2.603</td>\n",
       "      <td>-5.678</td>\n",
       "      <td>8.330000</td>\n",
       "      <td>2.603</td>\n",
       "    </tr>\n",
       "    <tr>\n",
       "      <th>2</th>\n",
       "      <td>1SCL_A_3</td>\n",
       "      <td>G</td>\n",
       "      <td>3</td>\n",
       "      <td>-8.261</td>\n",
       "      <td>3.360000</td>\n",
       "      <td>2.895</td>\n",
       "      <td>-8.261</td>\n",
       "      <td>3.360000</td>\n",
       "      <td>2.895</td>\n",
       "      <td>-8.261</td>\n",
       "      <td>3.360000</td>\n",
       "      <td>2.895</td>\n",
       "      <td>-8.261</td>\n",
       "      <td>3.360000</td>\n",
       "      <td>2.895</td>\n",
       "      <td>-8.261</td>\n",
       "      <td>3.360000</td>\n",
       "      <td>2.895</td>\n",
       "    </tr>\n",
       "    <tr>\n",
       "      <th>3</th>\n",
       "      <td>1SCL_A_4</td>\n",
       "      <td>U</td>\n",
       "      <td>4</td>\n",
       "      <td>-8.788</td>\n",
       "      <td>-1.854000</td>\n",
       "      <td>1.349</td>\n",
       "      <td>-8.788</td>\n",
       "      <td>-1.854000</td>\n",
       "      <td>1.349</td>\n",
       "      <td>-8.788</td>\n",
       "      <td>-1.854000</td>\n",
       "      <td>1.349</td>\n",
       "      <td>-8.788</td>\n",
       "      <td>-1.854000</td>\n",
       "      <td>1.349</td>\n",
       "      <td>-8.788</td>\n",
       "      <td>-1.854000</td>\n",
       "      <td>1.349</td>\n",
       "    </tr>\n",
       "    <tr>\n",
       "      <th>4</th>\n",
       "      <td>1SCL_A_5</td>\n",
       "      <td>G</td>\n",
       "      <td>5</td>\n",
       "      <td>-7.089</td>\n",
       "      <td>-6.228000</td>\n",
       "      <td>-0.914</td>\n",
       "      <td>-7.089</td>\n",
       "      <td>-6.228000</td>\n",
       "      <td>-0.914</td>\n",
       "      <td>-7.089</td>\n",
       "      <td>-6.228000</td>\n",
       "      <td>-0.914</td>\n",
       "      <td>-7.089</td>\n",
       "      <td>-6.228000</td>\n",
       "      <td>-0.914</td>\n",
       "      <td>-7.089</td>\n",
       "      <td>-6.228000</td>\n",
       "      <td>-0.914</td>\n",
       "    </tr>\n",
       "    <tr>\n",
       "      <th>...</th>\n",
       "      <td>...</td>\n",
       "      <td>...</td>\n",
       "      <td>...</td>\n",
       "      <td>...</td>\n",
       "      <td>...</td>\n",
       "      <td>...</td>\n",
       "      <td>...</td>\n",
       "      <td>...</td>\n",
       "      <td>...</td>\n",
       "      <td>...</td>\n",
       "      <td>...</td>\n",
       "      <td>...</td>\n",
       "      <td>...</td>\n",
       "      <td>...</td>\n",
       "      <td>...</td>\n",
       "      <td>...</td>\n",
       "      <td>...</td>\n",
       "      <td>...</td>\n",
       "    </tr>\n",
       "    <tr>\n",
       "      <th>81</th>\n",
       "      <td>8Z1F_T_82</td>\n",
       "      <td>U</td>\n",
       "      <td>82</td>\n",
       "      <td>4.006</td>\n",
       "      <td>-64.322998</td>\n",
       "      <td>7.390</td>\n",
       "      <td>4.006</td>\n",
       "      <td>-64.322998</td>\n",
       "      <td>7.390</td>\n",
       "      <td>4.006</td>\n",
       "      <td>-64.322998</td>\n",
       "      <td>7.390</td>\n",
       "      <td>4.006</td>\n",
       "      <td>-64.322998</td>\n",
       "      <td>7.390</td>\n",
       "      <td>4.006</td>\n",
       "      <td>-64.322998</td>\n",
       "      <td>7.390</td>\n",
       "    </tr>\n",
       "    <tr>\n",
       "      <th>82</th>\n",
       "      <td>8Z1F_T_83</td>\n",
       "      <td>C</td>\n",
       "      <td>83</td>\n",
       "      <td>-0.629</td>\n",
       "      <td>-66.162003</td>\n",
       "      <td>9.502</td>\n",
       "      <td>-0.629</td>\n",
       "      <td>-66.162003</td>\n",
       "      <td>9.502</td>\n",
       "      <td>-0.629</td>\n",
       "      <td>-66.162003</td>\n",
       "      <td>9.502</td>\n",
       "      <td>-0.629</td>\n",
       "      <td>-66.162003</td>\n",
       "      <td>9.502</td>\n",
       "      <td>-0.629</td>\n",
       "      <td>-66.162003</td>\n",
       "      <td>9.502</td>\n",
       "    </tr>\n",
       "    <tr>\n",
       "      <th>83</th>\n",
       "      <td>8Z1F_T_84</td>\n",
       "      <td>A</td>\n",
       "      <td>84</td>\n",
       "      <td>-5.433</td>\n",
       "      <td>-68.873001</td>\n",
       "      <td>9.121</td>\n",
       "      <td>-5.433</td>\n",
       "      <td>-68.873001</td>\n",
       "      <td>9.121</td>\n",
       "      <td>-5.433</td>\n",
       "      <td>-68.873001</td>\n",
       "      <td>9.121</td>\n",
       "      <td>-5.433</td>\n",
       "      <td>-68.873001</td>\n",
       "      <td>9.121</td>\n",
       "      <td>-5.433</td>\n",
       "      <td>-68.873001</td>\n",
       "      <td>9.121</td>\n",
       "    </tr>\n",
       "    <tr>\n",
       "      <th>84</th>\n",
       "      <td>8Z1F_T_85</td>\n",
       "      <td>U</td>\n",
       "      <td>85</td>\n",
       "      <td>-9.027</td>\n",
       "      <td>-72.446999</td>\n",
       "      <td>7.096</td>\n",
       "      <td>-9.027</td>\n",
       "      <td>-72.446999</td>\n",
       "      <td>7.096</td>\n",
       "      <td>-9.027</td>\n",
       "      <td>-72.446999</td>\n",
       "      <td>7.096</td>\n",
       "      <td>-9.027</td>\n",
       "      <td>-72.446999</td>\n",
       "      <td>7.096</td>\n",
       "      <td>-9.027</td>\n",
       "      <td>-72.446999</td>\n",
       "      <td>7.096</td>\n",
       "    </tr>\n",
       "    <tr>\n",
       "      <th>85</th>\n",
       "      <td>8Z1F_T_86</td>\n",
       "      <td>A</td>\n",
       "      <td>86</td>\n",
       "      <td>-9.701</td>\n",
       "      <td>-78.214996</td>\n",
       "      <td>5.111</td>\n",
       "      <td>-9.701</td>\n",
       "      <td>-78.214996</td>\n",
       "      <td>5.111</td>\n",
       "      <td>-9.701</td>\n",
       "      <td>-78.214996</td>\n",
       "      <td>5.111</td>\n",
       "      <td>-9.701</td>\n",
       "      <td>-78.214996</td>\n",
       "      <td>5.111</td>\n",
       "      <td>-9.701</td>\n",
       "      <td>-78.214996</td>\n",
       "      <td>5.111</td>\n",
       "    </tr>\n",
       "  </tbody>\n",
       "</table>\n",
       "<p>47857 rows × 18 columns</p>\n",
       "</div>"
      ],
      "text/plain": [
       "           ID resname  resid    x_1        y_1    z_1    x_2        y_2  \\\n",
       "0    1SCL_A_1       G      1 -2.356  12.116000  0.453 -2.356  12.116000   \n",
       "1    1SCL_A_2       G      2 -5.678   8.330000  2.603 -5.678   8.330000   \n",
       "2    1SCL_A_3       G      3 -8.261   3.360000  2.895 -8.261   3.360000   \n",
       "3    1SCL_A_4       U      4 -8.788  -1.854000  1.349 -8.788  -1.854000   \n",
       "4    1SCL_A_5       G      5 -7.089  -6.228000 -0.914 -7.089  -6.228000   \n",
       "..        ...     ...    ...    ...        ...    ...    ...        ...   \n",
       "81  8Z1F_T_82       U     82  4.006 -64.322998  7.390  4.006 -64.322998   \n",
       "82  8Z1F_T_83       C     83 -0.629 -66.162003  9.502 -0.629 -66.162003   \n",
       "83  8Z1F_T_84       A     84 -5.433 -68.873001  9.121 -5.433 -68.873001   \n",
       "84  8Z1F_T_85       U     85 -9.027 -72.446999  7.096 -9.027 -72.446999   \n",
       "85  8Z1F_T_86       A     86 -9.701 -78.214996  5.111 -9.701 -78.214996   \n",
       "\n",
       "      z_2    x_3        y_3    z_3    x_4        y_4    z_4    x_5        y_5  \\\n",
       "0   0.453 -2.356  12.116000  0.453 -2.356  12.116000  0.453 -2.356  12.116000   \n",
       "1   2.603 -5.678   8.330000  2.603 -5.678   8.330000  2.603 -5.678   8.330000   \n",
       "2   2.895 -8.261   3.360000  2.895 -8.261   3.360000  2.895 -8.261   3.360000   \n",
       "3   1.349 -8.788  -1.854000  1.349 -8.788  -1.854000  1.349 -8.788  -1.854000   \n",
       "4  -0.914 -7.089  -6.228000 -0.914 -7.089  -6.228000 -0.914 -7.089  -6.228000   \n",
       "..    ...    ...        ...    ...    ...        ...    ...    ...        ...   \n",
       "81  7.390  4.006 -64.322998  7.390  4.006 -64.322998  7.390  4.006 -64.322998   \n",
       "82  9.502 -0.629 -66.162003  9.502 -0.629 -66.162003  9.502 -0.629 -66.162003   \n",
       "83  9.121 -5.433 -68.873001  9.121 -5.433 -68.873001  9.121 -5.433 -68.873001   \n",
       "84  7.096 -9.027 -72.446999  7.096 -9.027 -72.446999  7.096 -9.027 -72.446999   \n",
       "85  5.111 -9.701 -78.214996  5.111 -9.701 -78.214996  5.111 -9.701 -78.214996   \n",
       "\n",
       "      z_5  \n",
       "0   0.453  \n",
       "1   2.603  \n",
       "2   2.895  \n",
       "3   1.349  \n",
       "4  -0.914  \n",
       "..    ...  \n",
       "81  7.390  \n",
       "82  9.502  \n",
       "83  9.121  \n",
       "84  7.096  \n",
       "85  5.111  \n",
       "\n",
       "[47857 rows x 18 columns]"
      ]
     },
     "execution_count": 22,
     "metadata": {},
     "output_type": "execute_result"
    }
   ],
   "source": [
    "subm = []\n",
    "for idx, row in fasta.iterrows():\n",
    "    target_id = row[\"target_id\"]\n",
    "    try:\n",
    "        fasta_file = f\"/kaggle/working/RhoFold/test_fasta/{target_id}.fasta\"    \n",
    "        if len(open(fasta_file, 'r').read()) > 400:\n",
    "            continue\n",
    "        pdb_file = f\"/kaggle/working/RhoFold/out/{target_id}/unrelaxed_model.pdb\"\n",
    "        if not Path(pdb_file).exists():\n",
    "            continue\n",
    "        coords = extract_c1_coordinates(pdb_file)\n",
    "        res_name = np.array([x[0] for x in coords])\n",
    "        res_num = np.array(range(len(res_name))) + 1\n",
    "        coords = np.array([x[1] for x in coords])\n",
    "\n",
    "        res = pd.DataFrame({\n",
    "            \"ID\" : [target_id + \"_\" + x for x in res_num.astype(\"str\")],\n",
    "            \"resname\": res_name,\n",
    "            \"resid\": res_num,\n",
    "            \"x_1\": coords[:, 0],\n",
    "            \"y_1\": coords[:, 1],\n",
    "            \"z_1\": coords[:, 2],\n",
    "            \"x_2\": coords[:, 0],\n",
    "            \"y_2\": coords[:, 1],\n",
    "            \"z_2\": coords[:, 2],\n",
    "            \"x_3\": coords[:, 0],\n",
    "            \"y_3\": coords[:, 1],\n",
    "            \"z_3\": coords[:, 2],\n",
    "            \"x_4\": coords[:, 0],\n",
    "            \"y_4\": coords[:, 1],\n",
    "            \"z_4\": coords[:, 2],\n",
    "            \"x_5\": coords[:, 0],\n",
    "            \"y_5\": coords[:, 1],\n",
    "            \"z_5\": coords[:, 2],\n",
    "        })\n",
    "        subm.append(res)\n",
    "    except Exception as e:\n",
    "        print(e)\n",
    "        seq      = row[\"sequence\"]\n",
    "        res_name = [i for i in seq]\n",
    "        res_num  = np.array(range(len(seq))) + 1\n",
    "        res = pd.DataFrame({\n",
    "            \"ID\" : [target_id + \"_\" + x for x in res_num.astype(\"str\")],\n",
    "            \"resname\": res_name,\n",
    "            \"resid\": res_num,\n",
    "            \"x_1\": 0.0,\n",
    "            \"y_1\": 0.0,\n",
    "            \"z_1\": 0.0,\n",
    "            \"x_2\": 0.0,\n",
    "            \"y_2\": 0.0,\n",
    "            \"z_2\": 0.0,\n",
    "            \"x_3\": 0.0,\n",
    "            \"y_3\": 0.0,\n",
    "            \"z_3\": 0.0,\n",
    "            \"x_4\": 0.0,\n",
    "            \"y_4\": 0.0,\n",
    "            \"z_4\": 0.0,\n",
    "            \"x_5\": 0.0,\n",
    "            \"y_5\": 0.0,\n",
    "            \"z_5\": 0.0,\n",
    "        })\n",
    "        subm.append(res)\n",
    "\n",
    "submit_rhofold = pd.concat(subm, axis = 0)\n",
    "submit_rhofold"
   ]
  },
  {
   "cell_type": "code",
   "execution_count": 23,
   "id": "eb6295d7",
   "metadata": {
    "execution": {
     "iopub.execute_input": "2025-04-12T15:34:52.632393Z",
     "iopub.status.busy": "2025-04-12T15:34:52.632106Z",
     "iopub.status.idle": "2025-04-12T15:34:52.637385Z",
     "shell.execute_reply": "2025-04-12T15:34:52.636592Z"
    },
    "papermill": {
     "duration": 0.053306,
     "end_time": "2025-04-12T15:34:52.638665",
     "exception": false,
     "start_time": "2025-04-12T15:34:52.585359",
     "status": "completed"
    },
    "tags": []
   },
   "outputs": [
    {
     "data": {
      "text/plain": [
       "Index(['ID', 'resname', 'resid', 'x_1', 'y_1', 'z_1', 'x_2', 'y_2', 'z_2',\n",
       "       'x_3', 'y_3', 'z_3', 'x_4', 'y_4', 'z_4', 'x_5', 'y_5', 'z_5'],\n",
       "      dtype='object')"
      ]
     },
     "execution_count": 23,
     "metadata": {},
     "output_type": "execute_result"
    }
   ],
   "source": [
    "submit_rhofold.columns"
   ]
  },
  {
   "cell_type": "code",
   "execution_count": 24,
   "id": "1f11dbac",
   "metadata": {
    "execution": {
     "iopub.execute_input": "2025-04-12T15:34:52.728193Z",
     "iopub.status.busy": "2025-04-12T15:34:52.727906Z",
     "iopub.status.idle": "2025-04-12T15:34:52.744226Z",
     "shell.execute_reply": "2025-04-12T15:34:52.743215Z"
    },
    "papermill": {
     "duration": 0.059601,
     "end_time": "2025-04-12T15:34:52.745515",
     "exception": false,
     "start_time": "2025-04-12T15:34:52.685914",
     "status": "completed"
    },
    "tags": []
   },
   "outputs": [
    {
     "name": "stderr",
     "output_type": "stream",
     "text": [
      "/usr/local/lib/python3.10/dist-packages/pandas/io/formats/format.py:1458: RuntimeWarning: invalid value encountered in greater\n",
      "  has_large_values = (abs_vals > 1e6).any()\n",
      "/usr/local/lib/python3.10/dist-packages/pandas/io/formats/format.py:1459: RuntimeWarning: invalid value encountered in less\n",
      "  has_small_values = ((abs_vals < 10 ** (-self.digits)) & (abs_vals > 0)).any()\n",
      "/usr/local/lib/python3.10/dist-packages/pandas/io/formats/format.py:1459: RuntimeWarning: invalid value encountered in greater\n",
      "  has_small_values = ((abs_vals < 10 ** (-self.digits)) & (abs_vals > 0)).any()\n"
     ]
    },
    {
     "data": {
      "text/html": [
       "<div>\n",
       "<style scoped>\n",
       "    .dataframe tbody tr th:only-of-type {\n",
       "        vertical-align: middle;\n",
       "    }\n",
       "\n",
       "    .dataframe tbody tr th {\n",
       "        vertical-align: top;\n",
       "    }\n",
       "\n",
       "    .dataframe thead th {\n",
       "        text-align: right;\n",
       "    }\n",
       "</style>\n",
       "<table border=\"1\" class=\"dataframe\">\n",
       "  <thead>\n",
       "    <tr style=\"text-align: right;\">\n",
       "      <th></th>\n",
       "      <th>ID</th>\n",
       "      <th>resname</th>\n",
       "      <th>resid</th>\n",
       "      <th>x_1</th>\n",
       "      <th>y_1</th>\n",
       "      <th>z_1</th>\n",
       "    </tr>\n",
       "  </thead>\n",
       "  <tbody>\n",
       "    <tr>\n",
       "      <th>0</th>\n",
       "      <td>1SCL_A_1</td>\n",
       "      <td>G</td>\n",
       "      <td>1</td>\n",
       "      <td>13.760</td>\n",
       "      <td>-25.974001</td>\n",
       "      <td>0.102</td>\n",
       "    </tr>\n",
       "    <tr>\n",
       "      <th>1</th>\n",
       "      <td>1SCL_A_2</td>\n",
       "      <td>G</td>\n",
       "      <td>2</td>\n",
       "      <td>9.310</td>\n",
       "      <td>-29.638000</td>\n",
       "      <td>2.669</td>\n",
       "    </tr>\n",
       "    <tr>\n",
       "      <th>2</th>\n",
       "      <td>1SCL_A_3</td>\n",
       "      <td>G</td>\n",
       "      <td>3</td>\n",
       "      <td>5.529</td>\n",
       "      <td>-27.813000</td>\n",
       "      <td>5.878</td>\n",
       "    </tr>\n",
       "    <tr>\n",
       "      <th>3</th>\n",
       "      <td>1SCL_A_4</td>\n",
       "      <td>U</td>\n",
       "      <td>4</td>\n",
       "      <td>2.678</td>\n",
       "      <td>-24.900999</td>\n",
       "      <td>9.793</td>\n",
       "    </tr>\n",
       "    <tr>\n",
       "      <th>4</th>\n",
       "      <td>1SCL_A_5</td>\n",
       "      <td>G</td>\n",
       "      <td>5</td>\n",
       "      <td>1.827</td>\n",
       "      <td>-20.136000</td>\n",
       "      <td>11.793</td>\n",
       "    </tr>\n",
       "    <tr>\n",
       "      <th>...</th>\n",
       "      <td>...</td>\n",
       "      <td>...</td>\n",
       "      <td>...</td>\n",
       "      <td>...</td>\n",
       "      <td>...</td>\n",
       "      <td>...</td>\n",
       "    </tr>\n",
       "    <tr>\n",
       "      <th>137090</th>\n",
       "      <td>8Z1F_T_82</td>\n",
       "      <td>U</td>\n",
       "      <td>82</td>\n",
       "      <td>NaN</td>\n",
       "      <td>NaN</td>\n",
       "      <td>NaN</td>\n",
       "    </tr>\n",
       "    <tr>\n",
       "      <th>137091</th>\n",
       "      <td>8Z1F_T_83</td>\n",
       "      <td>C</td>\n",
       "      <td>83</td>\n",
       "      <td>NaN</td>\n",
       "      <td>NaN</td>\n",
       "      <td>NaN</td>\n",
       "    </tr>\n",
       "    <tr>\n",
       "      <th>137092</th>\n",
       "      <td>8Z1F_T_84</td>\n",
       "      <td>A</td>\n",
       "      <td>84</td>\n",
       "      <td>NaN</td>\n",
       "      <td>NaN</td>\n",
       "      <td>NaN</td>\n",
       "    </tr>\n",
       "    <tr>\n",
       "      <th>137093</th>\n",
       "      <td>8Z1F_T_85</td>\n",
       "      <td>U</td>\n",
       "      <td>85</td>\n",
       "      <td>NaN</td>\n",
       "      <td>NaN</td>\n",
       "      <td>NaN</td>\n",
       "    </tr>\n",
       "    <tr>\n",
       "      <th>137094</th>\n",
       "      <td>8Z1F_T_86</td>\n",
       "      <td>A</td>\n",
       "      <td>86</td>\n",
       "      <td>NaN</td>\n",
       "      <td>NaN</td>\n",
       "      <td>NaN</td>\n",
       "    </tr>\n",
       "  </tbody>\n",
       "</table>\n",
       "<p>137095 rows × 6 columns</p>\n",
       "</div>"
      ],
      "text/plain": [
       "               ID resname  resid     x_1        y_1     z_1\n",
       "0        1SCL_A_1       G      1  13.760 -25.974001   0.102\n",
       "1        1SCL_A_2       G      2   9.310 -29.638000   2.669\n",
       "2        1SCL_A_3       G      3   5.529 -27.813000   5.878\n",
       "3        1SCL_A_4       U      4   2.678 -24.900999   9.793\n",
       "4        1SCL_A_5       G      5   1.827 -20.136000  11.793\n",
       "...           ...     ...    ...     ...        ...     ...\n",
       "137090  8Z1F_T_82       U     82     NaN        NaN     NaN\n",
       "137091  8Z1F_T_83       C     83     NaN        NaN     NaN\n",
       "137092  8Z1F_T_84       A     84     NaN        NaN     NaN\n",
       "137093  8Z1F_T_85       U     85     NaN        NaN     NaN\n",
       "137094  8Z1F_T_86       A     86     NaN        NaN     NaN\n",
       "\n",
       "[137095 rows x 6 columns]"
      ]
     },
     "execution_count": 24,
     "metadata": {},
     "output_type": "execute_result"
    }
   ],
   "source": [
    "train_labels"
   ]
  },
  {
   "cell_type": "code",
   "execution_count": 25,
   "id": "d94707d3",
   "metadata": {
    "execution": {
     "iopub.execute_input": "2025-04-12T15:34:52.829778Z",
     "iopub.status.busy": "2025-04-12T15:34:52.829519Z",
     "iopub.status.idle": "2025-04-12T15:34:52.833344Z",
     "shell.execute_reply": "2025-04-12T15:34:52.832522Z"
    },
    "papermill": {
     "duration": 0.047248,
     "end_time": "2025-04-12T15:34:52.834897",
     "exception": false,
     "start_time": "2025-04-12T15:34:52.787649",
     "status": "completed"
    },
    "tags": []
   },
   "outputs": [],
   "source": [
    "train_labels.rename(columns={\"x_1\":\"x_1_true\",\"y_1\":\"y_1_true\", \"z_1\":\"z_1_true\"}, inplace=True)"
   ]
  },
  {
   "cell_type": "code",
   "execution_count": 26,
   "id": "40eede1b",
   "metadata": {
    "execution": {
     "iopub.execute_input": "2025-04-12T15:34:52.928232Z",
     "iopub.status.busy": "2025-04-12T15:34:52.928020Z",
     "iopub.status.idle": "2025-04-12T15:34:53.004649Z",
     "shell.execute_reply": "2025-04-12T15:34:53.003978Z"
    },
    "papermill": {
     "duration": 0.122459,
     "end_time": "2025-04-12T15:34:53.006148",
     "exception": false,
     "start_time": "2025-04-12T15:34:52.883689",
     "status": "completed"
    },
    "tags": []
   },
   "outputs": [],
   "source": [
    "merged_df = submit_rhofold.merge(train_labels[[\"ID\", \"x_1_true\", \"y_1_true\", \"z_1_true\"]], on=\"ID\")"
   ]
  },
  {
   "cell_type": "code",
   "execution_count": 27,
   "id": "ddd8a8a4",
   "metadata": {
    "execution": {
     "iopub.execute_input": "2025-04-12T15:34:53.091684Z",
     "iopub.status.busy": "2025-04-12T15:34:53.091409Z",
     "iopub.status.idle": "2025-04-12T15:34:53.156082Z",
     "shell.execute_reply": "2025-04-12T15:34:53.155250Z"
    },
    "papermill": {
     "duration": 0.108566,
     "end_time": "2025-04-12T15:34:53.157696",
     "exception": false,
     "start_time": "2025-04-12T15:34:53.049130",
     "status": "completed"
    },
    "tags": []
   },
   "outputs": [
    {
     "name": "stderr",
     "output_type": "stream",
     "text": [
      "/usr/local/lib/python3.10/dist-packages/pandas/io/formats/format.py:1458: RuntimeWarning: invalid value encountered in greater\n",
      "  has_large_values = (abs_vals > 1e6).any()\n",
      "/usr/local/lib/python3.10/dist-packages/pandas/io/formats/format.py:1459: RuntimeWarning: invalid value encountered in less\n",
      "  has_small_values = ((abs_vals < 10 ** (-self.digits)) & (abs_vals > 0)).any()\n",
      "/usr/local/lib/python3.10/dist-packages/pandas/io/formats/format.py:1459: RuntimeWarning: invalid value encountered in greater\n",
      "  has_small_values = ((abs_vals < 10 ** (-self.digits)) & (abs_vals > 0)).any()\n",
      "/usr/local/lib/python3.10/dist-packages/pandas/io/formats/format.py:1458: RuntimeWarning: invalid value encountered in greater\n",
      "  has_large_values = (abs_vals > 1e6).any()\n",
      "/usr/local/lib/python3.10/dist-packages/pandas/io/formats/format.py:1459: RuntimeWarning: invalid value encountered in less\n",
      "  has_small_values = ((abs_vals < 10 ** (-self.digits)) & (abs_vals > 0)).any()\n",
      "/usr/local/lib/python3.10/dist-packages/pandas/io/formats/format.py:1459: RuntimeWarning: invalid value encountered in greater\n",
      "  has_small_values = ((abs_vals < 10 ** (-self.digits)) & (abs_vals > 0)).any()\n"
     ]
    },
    {
     "data": {
      "text/html": [
       "<div>\n",
       "<style scoped>\n",
       "    .dataframe tbody tr th:only-of-type {\n",
       "        vertical-align: middle;\n",
       "    }\n",
       "\n",
       "    .dataframe tbody tr th {\n",
       "        vertical-align: top;\n",
       "    }\n",
       "\n",
       "    .dataframe thead th {\n",
       "        text-align: right;\n",
       "    }\n",
       "</style>\n",
       "<table border=\"1\" class=\"dataframe\">\n",
       "  <thead>\n",
       "    <tr style=\"text-align: right;\">\n",
       "      <th></th>\n",
       "      <th>ID</th>\n",
       "      <th>resname</th>\n",
       "      <th>resid</th>\n",
       "      <th>x_1</th>\n",
       "      <th>y_1</th>\n",
       "      <th>z_1</th>\n",
       "      <th>x_2</th>\n",
       "      <th>y_2</th>\n",
       "      <th>z_2</th>\n",
       "      <th>x_3</th>\n",
       "      <th>...</th>\n",
       "      <th>z_3</th>\n",
       "      <th>x_4</th>\n",
       "      <th>y_4</th>\n",
       "      <th>z_4</th>\n",
       "      <th>x_5</th>\n",
       "      <th>y_5</th>\n",
       "      <th>z_5</th>\n",
       "      <th>x_1_true</th>\n",
       "      <th>y_1_true</th>\n",
       "      <th>z_1_true</th>\n",
       "    </tr>\n",
       "  </thead>\n",
       "  <tbody>\n",
       "    <tr>\n",
       "      <th>0</th>\n",
       "      <td>1SCL_A_1</td>\n",
       "      <td>G</td>\n",
       "      <td>1</td>\n",
       "      <td>-2.356</td>\n",
       "      <td>12.116000</td>\n",
       "      <td>0.453</td>\n",
       "      <td>-2.356</td>\n",
       "      <td>12.116000</td>\n",
       "      <td>0.453</td>\n",
       "      <td>-2.356</td>\n",
       "      <td>...</td>\n",
       "      <td>0.453</td>\n",
       "      <td>-2.356</td>\n",
       "      <td>12.116000</td>\n",
       "      <td>0.453</td>\n",
       "      <td>-2.356</td>\n",
       "      <td>12.116000</td>\n",
       "      <td>0.453</td>\n",
       "      <td>13.760</td>\n",
       "      <td>-25.974001</td>\n",
       "      <td>0.102</td>\n",
       "    </tr>\n",
       "    <tr>\n",
       "      <th>1</th>\n",
       "      <td>1SCL_A_2</td>\n",
       "      <td>G</td>\n",
       "      <td>2</td>\n",
       "      <td>-5.678</td>\n",
       "      <td>8.330000</td>\n",
       "      <td>2.603</td>\n",
       "      <td>-5.678</td>\n",
       "      <td>8.330000</td>\n",
       "      <td>2.603</td>\n",
       "      <td>-5.678</td>\n",
       "      <td>...</td>\n",
       "      <td>2.603</td>\n",
       "      <td>-5.678</td>\n",
       "      <td>8.330000</td>\n",
       "      <td>2.603</td>\n",
       "      <td>-5.678</td>\n",
       "      <td>8.330000</td>\n",
       "      <td>2.603</td>\n",
       "      <td>9.310</td>\n",
       "      <td>-29.638000</td>\n",
       "      <td>2.669</td>\n",
       "    </tr>\n",
       "    <tr>\n",
       "      <th>2</th>\n",
       "      <td>1SCL_A_3</td>\n",
       "      <td>G</td>\n",
       "      <td>3</td>\n",
       "      <td>-8.261</td>\n",
       "      <td>3.360000</td>\n",
       "      <td>2.895</td>\n",
       "      <td>-8.261</td>\n",
       "      <td>3.360000</td>\n",
       "      <td>2.895</td>\n",
       "      <td>-8.261</td>\n",
       "      <td>...</td>\n",
       "      <td>2.895</td>\n",
       "      <td>-8.261</td>\n",
       "      <td>3.360000</td>\n",
       "      <td>2.895</td>\n",
       "      <td>-8.261</td>\n",
       "      <td>3.360000</td>\n",
       "      <td>2.895</td>\n",
       "      <td>5.529</td>\n",
       "      <td>-27.813000</td>\n",
       "      <td>5.878</td>\n",
       "    </tr>\n",
       "    <tr>\n",
       "      <th>3</th>\n",
       "      <td>1SCL_A_4</td>\n",
       "      <td>U</td>\n",
       "      <td>4</td>\n",
       "      <td>-8.788</td>\n",
       "      <td>-1.854000</td>\n",
       "      <td>1.349</td>\n",
       "      <td>-8.788</td>\n",
       "      <td>-1.854000</td>\n",
       "      <td>1.349</td>\n",
       "      <td>-8.788</td>\n",
       "      <td>...</td>\n",
       "      <td>1.349</td>\n",
       "      <td>-8.788</td>\n",
       "      <td>-1.854000</td>\n",
       "      <td>1.349</td>\n",
       "      <td>-8.788</td>\n",
       "      <td>-1.854000</td>\n",
       "      <td>1.349</td>\n",
       "      <td>2.678</td>\n",
       "      <td>-24.900999</td>\n",
       "      <td>9.793</td>\n",
       "    </tr>\n",
       "    <tr>\n",
       "      <th>4</th>\n",
       "      <td>1SCL_A_5</td>\n",
       "      <td>G</td>\n",
       "      <td>5</td>\n",
       "      <td>-7.089</td>\n",
       "      <td>-6.228000</td>\n",
       "      <td>-0.914</td>\n",
       "      <td>-7.089</td>\n",
       "      <td>-6.228000</td>\n",
       "      <td>-0.914</td>\n",
       "      <td>-7.089</td>\n",
       "      <td>...</td>\n",
       "      <td>-0.914</td>\n",
       "      <td>-7.089</td>\n",
       "      <td>-6.228000</td>\n",
       "      <td>-0.914</td>\n",
       "      <td>-7.089</td>\n",
       "      <td>-6.228000</td>\n",
       "      <td>-0.914</td>\n",
       "      <td>1.827</td>\n",
       "      <td>-20.136000</td>\n",
       "      <td>11.793</td>\n",
       "    </tr>\n",
       "    <tr>\n",
       "      <th>...</th>\n",
       "      <td>...</td>\n",
       "      <td>...</td>\n",
       "      <td>...</td>\n",
       "      <td>...</td>\n",
       "      <td>...</td>\n",
       "      <td>...</td>\n",
       "      <td>...</td>\n",
       "      <td>...</td>\n",
       "      <td>...</td>\n",
       "      <td>...</td>\n",
       "      <td>...</td>\n",
       "      <td>...</td>\n",
       "      <td>...</td>\n",
       "      <td>...</td>\n",
       "      <td>...</td>\n",
       "      <td>...</td>\n",
       "      <td>...</td>\n",
       "      <td>...</td>\n",
       "      <td>...</td>\n",
       "      <td>...</td>\n",
       "      <td>...</td>\n",
       "    </tr>\n",
       "    <tr>\n",
       "      <th>47852</th>\n",
       "      <td>8Z1F_T_82</td>\n",
       "      <td>U</td>\n",
       "      <td>82</td>\n",
       "      <td>4.006</td>\n",
       "      <td>-64.322998</td>\n",
       "      <td>7.390</td>\n",
       "      <td>4.006</td>\n",
       "      <td>-64.322998</td>\n",
       "      <td>7.390</td>\n",
       "      <td>4.006</td>\n",
       "      <td>...</td>\n",
       "      <td>7.390</td>\n",
       "      <td>4.006</td>\n",
       "      <td>-64.322998</td>\n",
       "      <td>7.390</td>\n",
       "      <td>4.006</td>\n",
       "      <td>-64.322998</td>\n",
       "      <td>7.390</td>\n",
       "      <td>NaN</td>\n",
       "      <td>NaN</td>\n",
       "      <td>NaN</td>\n",
       "    </tr>\n",
       "    <tr>\n",
       "      <th>47853</th>\n",
       "      <td>8Z1F_T_83</td>\n",
       "      <td>C</td>\n",
       "      <td>83</td>\n",
       "      <td>-0.629</td>\n",
       "      <td>-66.162003</td>\n",
       "      <td>9.502</td>\n",
       "      <td>-0.629</td>\n",
       "      <td>-66.162003</td>\n",
       "      <td>9.502</td>\n",
       "      <td>-0.629</td>\n",
       "      <td>...</td>\n",
       "      <td>9.502</td>\n",
       "      <td>-0.629</td>\n",
       "      <td>-66.162003</td>\n",
       "      <td>9.502</td>\n",
       "      <td>-0.629</td>\n",
       "      <td>-66.162003</td>\n",
       "      <td>9.502</td>\n",
       "      <td>NaN</td>\n",
       "      <td>NaN</td>\n",
       "      <td>NaN</td>\n",
       "    </tr>\n",
       "    <tr>\n",
       "      <th>47854</th>\n",
       "      <td>8Z1F_T_84</td>\n",
       "      <td>A</td>\n",
       "      <td>84</td>\n",
       "      <td>-5.433</td>\n",
       "      <td>-68.873001</td>\n",
       "      <td>9.121</td>\n",
       "      <td>-5.433</td>\n",
       "      <td>-68.873001</td>\n",
       "      <td>9.121</td>\n",
       "      <td>-5.433</td>\n",
       "      <td>...</td>\n",
       "      <td>9.121</td>\n",
       "      <td>-5.433</td>\n",
       "      <td>-68.873001</td>\n",
       "      <td>9.121</td>\n",
       "      <td>-5.433</td>\n",
       "      <td>-68.873001</td>\n",
       "      <td>9.121</td>\n",
       "      <td>NaN</td>\n",
       "      <td>NaN</td>\n",
       "      <td>NaN</td>\n",
       "    </tr>\n",
       "    <tr>\n",
       "      <th>47855</th>\n",
       "      <td>8Z1F_T_85</td>\n",
       "      <td>U</td>\n",
       "      <td>85</td>\n",
       "      <td>-9.027</td>\n",
       "      <td>-72.446999</td>\n",
       "      <td>7.096</td>\n",
       "      <td>-9.027</td>\n",
       "      <td>-72.446999</td>\n",
       "      <td>7.096</td>\n",
       "      <td>-9.027</td>\n",
       "      <td>...</td>\n",
       "      <td>7.096</td>\n",
       "      <td>-9.027</td>\n",
       "      <td>-72.446999</td>\n",
       "      <td>7.096</td>\n",
       "      <td>-9.027</td>\n",
       "      <td>-72.446999</td>\n",
       "      <td>7.096</td>\n",
       "      <td>NaN</td>\n",
       "      <td>NaN</td>\n",
       "      <td>NaN</td>\n",
       "    </tr>\n",
       "    <tr>\n",
       "      <th>47856</th>\n",
       "      <td>8Z1F_T_86</td>\n",
       "      <td>A</td>\n",
       "      <td>86</td>\n",
       "      <td>-9.701</td>\n",
       "      <td>-78.214996</td>\n",
       "      <td>5.111</td>\n",
       "      <td>-9.701</td>\n",
       "      <td>-78.214996</td>\n",
       "      <td>5.111</td>\n",
       "      <td>-9.701</td>\n",
       "      <td>...</td>\n",
       "      <td>5.111</td>\n",
       "      <td>-9.701</td>\n",
       "      <td>-78.214996</td>\n",
       "      <td>5.111</td>\n",
       "      <td>-9.701</td>\n",
       "      <td>-78.214996</td>\n",
       "      <td>5.111</td>\n",
       "      <td>NaN</td>\n",
       "      <td>NaN</td>\n",
       "      <td>NaN</td>\n",
       "    </tr>\n",
       "  </tbody>\n",
       "</table>\n",
       "<p>47857 rows × 21 columns</p>\n",
       "</div>"
      ],
      "text/plain": [
       "              ID resname  resid    x_1        y_1    z_1    x_2        y_2  \\\n",
       "0       1SCL_A_1       G      1 -2.356  12.116000  0.453 -2.356  12.116000   \n",
       "1       1SCL_A_2       G      2 -5.678   8.330000  2.603 -5.678   8.330000   \n",
       "2       1SCL_A_3       G      3 -8.261   3.360000  2.895 -8.261   3.360000   \n",
       "3       1SCL_A_4       U      4 -8.788  -1.854000  1.349 -8.788  -1.854000   \n",
       "4       1SCL_A_5       G      5 -7.089  -6.228000 -0.914 -7.089  -6.228000   \n",
       "...          ...     ...    ...    ...        ...    ...    ...        ...   \n",
       "47852  8Z1F_T_82       U     82  4.006 -64.322998  7.390  4.006 -64.322998   \n",
       "47853  8Z1F_T_83       C     83 -0.629 -66.162003  9.502 -0.629 -66.162003   \n",
       "47854  8Z1F_T_84       A     84 -5.433 -68.873001  9.121 -5.433 -68.873001   \n",
       "47855  8Z1F_T_85       U     85 -9.027 -72.446999  7.096 -9.027 -72.446999   \n",
       "47856  8Z1F_T_86       A     86 -9.701 -78.214996  5.111 -9.701 -78.214996   \n",
       "\n",
       "         z_2    x_3  ...    z_3    x_4        y_4    z_4    x_5        y_5  \\\n",
       "0      0.453 -2.356  ...  0.453 -2.356  12.116000  0.453 -2.356  12.116000   \n",
       "1      2.603 -5.678  ...  2.603 -5.678   8.330000  2.603 -5.678   8.330000   \n",
       "2      2.895 -8.261  ...  2.895 -8.261   3.360000  2.895 -8.261   3.360000   \n",
       "3      1.349 -8.788  ...  1.349 -8.788  -1.854000  1.349 -8.788  -1.854000   \n",
       "4     -0.914 -7.089  ... -0.914 -7.089  -6.228000 -0.914 -7.089  -6.228000   \n",
       "...      ...    ...  ...    ...    ...        ...    ...    ...        ...   \n",
       "47852  7.390  4.006  ...  7.390  4.006 -64.322998  7.390  4.006 -64.322998   \n",
       "47853  9.502 -0.629  ...  9.502 -0.629 -66.162003  9.502 -0.629 -66.162003   \n",
       "47854  9.121 -5.433  ...  9.121 -5.433 -68.873001  9.121 -5.433 -68.873001   \n",
       "47855  7.096 -9.027  ...  7.096 -9.027 -72.446999  7.096 -9.027 -72.446999   \n",
       "47856  5.111 -9.701  ...  5.111 -9.701 -78.214996  5.111 -9.701 -78.214996   \n",
       "\n",
       "         z_5  x_1_true   y_1_true  z_1_true  \n",
       "0      0.453    13.760 -25.974001     0.102  \n",
       "1      2.603     9.310 -29.638000     2.669  \n",
       "2      2.895     5.529 -27.813000     5.878  \n",
       "3      1.349     2.678 -24.900999     9.793  \n",
       "4     -0.914     1.827 -20.136000    11.793  \n",
       "...      ...       ...        ...       ...  \n",
       "47852  7.390       NaN        NaN       NaN  \n",
       "47853  9.502       NaN        NaN       NaN  \n",
       "47854  9.121       NaN        NaN       NaN  \n",
       "47855  7.096       NaN        NaN       NaN  \n",
       "47856  5.111       NaN        NaN       NaN  \n",
       "\n",
       "[47857 rows x 21 columns]"
      ]
     },
     "execution_count": 27,
     "metadata": {},
     "output_type": "execute_result"
    }
   ],
   "source": [
    "merged_df"
   ]
  },
  {
   "cell_type": "code",
   "execution_count": 28,
   "id": "660e930c",
   "metadata": {
    "execution": {
     "iopub.execute_input": "2025-04-12T15:34:53.248051Z",
     "iopub.status.busy": "2025-04-12T15:34:53.247814Z",
     "iopub.status.idle": "2025-04-12T15:34:54.342131Z",
     "shell.execute_reply": "2025-04-12T15:34:54.341186Z"
    },
    "papermill": {
     "duration": 1.141021,
     "end_time": "2025-04-12T15:34:54.343783",
     "exception": false,
     "start_time": "2025-04-12T15:34:53.202762",
     "status": "completed"
    },
    "tags": []
   },
   "outputs": [],
   "source": [
    "merged_df.to_csv(\"rhofold_01_oof.csv\")"
   ]
  },
  {
   "cell_type": "code",
   "execution_count": null,
   "id": "7d93707f",
   "metadata": {
    "papermill": {
     "duration": 0.041396,
     "end_time": "2025-04-12T15:34:54.428940",
     "exception": false,
     "start_time": "2025-04-12T15:34:54.387544",
     "status": "completed"
    },
    "tags": []
   },
   "outputs": [],
   "source": []
  }
 ],
 "metadata": {
  "kaggle": {
   "accelerator": "nvidiaTeslaT4",
   "dataSources": [
    {
     "databundleVersionId": 11553390,
     "sourceId": 87793,
     "sourceType": "competition"
    },
    {
     "datasetId": 3580819,
     "sourceId": 6233380,
     "sourceType": "datasetVersion"
    },
    {
     "datasetId": 4299455,
     "sourceId": 7395079,
     "sourceType": "datasetVersion"
    },
    {
     "datasetId": 4299272,
     "sourceId": 7639698,
     "sourceType": "datasetVersion"
    },
    {
     "datasetId": 6758842,
     "sourceId": 10878276,
     "sourceType": "datasetVersion"
    },
    {
     "datasetId": 6759157,
     "sourceId": 10878463,
     "sourceType": "datasetVersion"
    },
    {
     "datasetId": 6760419,
     "sourceId": 10880297,
     "sourceType": "datasetVersion"
    },
    {
     "datasetId": 6760463,
     "sourceId": 10880353,
     "sourceType": "datasetVersion"
    },
    {
     "datasetId": 6760482,
     "sourceId": 10880374,
     "sourceType": "datasetVersion"
    },
    {
     "datasetId": 6760509,
     "sourceId": 10880419,
     "sourceType": "datasetVersion"
    },
    {
     "sourceId": 224703571,
     "sourceType": "kernelVersion"
    },
    {
     "sourceId": 232543512,
     "sourceType": "kernelVersion"
    }
   ],
   "dockerImageVersionId": 30919,
   "isGpuEnabled": true,
   "isInternetEnabled": false,
   "language": "python",
   "sourceType": "notebook"
  },
  "kernelspec": {
   "display_name": "Python 3",
   "language": "python",
   "name": "python3"
  },
  "language_info": {
   "codemirror_mode": {
    "name": "ipython",
    "version": 3
   },
   "file_extension": ".py",
   "mimetype": "text/x-python",
   "name": "python",
   "nbconvert_exporter": "python",
   "pygments_lexer": "ipython3",
   "version": "3.10.12"
  },
  "papermill": {
   "default_parameters": {},
   "duration": 9185.612221,
   "end_time": "2025-04-12T15:34:55.300488",
   "environment_variables": {},
   "exception": null,
   "input_path": "__notebook__.ipynb",
   "output_path": "__notebook__.ipynb",
   "parameters": {},
   "start_time": "2025-04-12T13:01:49.688267",
   "version": "2.6.0"
  }
 },
 "nbformat": 4,
 "nbformat_minor": 5
}
