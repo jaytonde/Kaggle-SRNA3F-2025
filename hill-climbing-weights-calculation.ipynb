{
 "cells": [
  {
   "cell_type": "markdown",
   "id": "17f2fd47",
   "metadata": {
    "papermill": {
     "duration": 0.006215,
     "end_time": "2025-04-19T03:40:14.390905",
     "exception": false,
     "start_time": "2025-04-19T03:40:14.384690",
     "status": "completed"
    },
    "tags": []
   },
   "source": [
    "## Step 1 : Imports"
   ]
  },
  {
   "cell_type": "code",
   "execution_count": 1,
   "id": "6ef60b10",
   "metadata": {
    "execution": {
     "iopub.execute_input": "2025-04-19T03:40:14.403950Z",
     "iopub.status.busy": "2025-04-19T03:40:14.403632Z",
     "iopub.status.idle": "2025-04-19T03:40:16.589069Z",
     "shell.execute_reply": "2025-04-19T03:40:16.588196Z"
    },
    "papermill": {
     "duration": 2.194009,
     "end_time": "2025-04-19T03:40:16.590954",
     "exception": false,
     "start_time": "2025-04-19T03:40:14.396945",
     "status": "completed"
    },
    "tags": []
   },
   "outputs": [],
   "source": [
    "import pandas as pd"
   ]
  },
  {
   "cell_type": "markdown",
   "id": "7eda0ff6",
   "metadata": {
    "papermill": {
     "duration": 0.006984,
     "end_time": "2025-04-19T03:40:16.603747",
     "exception": false,
     "start_time": "2025-04-19T03:40:16.596763",
     "status": "completed"
    },
    "tags": []
   },
   "source": [
    "## Step 2: Load the oof files"
   ]
  },
  {
   "cell_type": "code",
   "execution_count": 2,
   "id": "93e1e86b",
   "metadata": {
    "execution": {
     "iopub.execute_input": "2025-04-19T03:40:16.616621Z",
     "iopub.status.busy": "2025-04-19T03:40:16.615866Z",
     "iopub.status.idle": "2025-04-19T03:40:16.744478Z",
     "shell.execute_reply": "2025-04-19T03:40:16.743579Z"
    },
    "papermill": {
     "duration": 0.136987,
     "end_time": "2025-04-19T03:40:16.746167",
     "exception": false,
     "start_time": "2025-04-19T03:40:16.609180",
     "status": "completed"
    },
    "tags": []
   },
   "outputs": [
    {
     "data": {
      "text/plain": [
       "(178, 7)"
      ]
     },
     "execution_count": 2,
     "metadata": {},
     "output_type": "execute_result"
    }
   ],
   "source": [
    "fold_df = pd.read_csv(\"/kaggle/input/folding-strategy-rna/rna_dataset_with_fold.csv\")\n",
    "fold_df = fold_df[fold_df[\"fold\"]==1]\n",
    "fold_df.shape"
   ]
  },
  {
   "cell_type": "code",
   "execution_count": 3,
   "id": "b579ae0e",
   "metadata": {
    "execution": {
     "iopub.execute_input": "2025-04-19T03:40:16.759416Z",
     "iopub.status.busy": "2025-04-19T03:40:16.758753Z",
     "iopub.status.idle": "2025-04-19T03:40:16.766820Z",
     "shell.execute_reply": "2025-04-19T03:40:16.765707Z"
    },
    "papermill": {
     "duration": 0.016557,
     "end_time": "2025-04-19T03:40:16.768317",
     "exception": false,
     "start_time": "2025-04-19T03:40:16.751760",
     "status": "completed"
    },
    "tags": []
   },
   "outputs": [
    {
     "data": {
      "text/plain": [
       "Index(['target_id', 'sequence', 'temporal_cutoff', 'description',\n",
       "       'all_sequences', 'sequence_length', 'fold'],\n",
       "      dtype='object')"
      ]
     },
     "execution_count": 3,
     "metadata": {},
     "output_type": "execute_result"
    }
   ],
   "source": [
    "fold_df.columns"
   ]
  },
  {
   "cell_type": "code",
   "execution_count": 4,
   "id": "3380ea0a",
   "metadata": {
    "execution": {
     "iopub.execute_input": "2025-04-19T03:40:16.781035Z",
     "iopub.status.busy": "2025-04-19T03:40:16.780758Z",
     "iopub.status.idle": "2025-04-19T03:40:16.805281Z",
     "shell.execute_reply": "2025-04-19T03:40:16.804320Z"
    },
    "papermill": {
     "duration": 0.032781,
     "end_time": "2025-04-19T03:40:16.807008",
     "exception": false,
     "start_time": "2025-04-19T03:40:16.774227",
     "status": "completed"
    },
    "tags": []
   },
   "outputs": [
    {
     "data": {
      "text/html": [
       "<div>\n",
       "<style scoped>\n",
       "    .dataframe tbody tr th:only-of-type {\n",
       "        vertical-align: middle;\n",
       "    }\n",
       "\n",
       "    .dataframe tbody tr th {\n",
       "        vertical-align: top;\n",
       "    }\n",
       "\n",
       "    .dataframe thead th {\n",
       "        text-align: right;\n",
       "    }\n",
       "</style>\n",
       "<table border=\"1\" class=\"dataframe\">\n",
       "  <thead>\n",
       "    <tr style=\"text-align: right;\">\n",
       "      <th></th>\n",
       "      <th>target_id</th>\n",
       "      <th>sequence</th>\n",
       "      <th>temporal_cutoff</th>\n",
       "      <th>description</th>\n",
       "      <th>all_sequences</th>\n",
       "      <th>sequence_length</th>\n",
       "      <th>fold</th>\n",
       "    </tr>\n",
       "  </thead>\n",
       "  <tbody>\n",
       "    <tr>\n",
       "      <th>67</th>\n",
       "      <td>1FFK_9</td>\n",
       "      <td>UUAGGCGGCCACAGCGGUGGGGUUGCCUCCCGUACCCAUCCCGAAC...</td>\n",
       "      <td>2000-08-14</td>\n",
       "      <td>CRYSTAL STRUCTURE OF THE LARGE RIBOSOMAL SUBUN...</td>\n",
       "      <td>&gt;1FFK_1|Chain A[auth 0]|23S RRNA|Haloarcula ma...</td>\n",
       "      <td>122</td>\n",
       "      <td>1</td>\n",
       "    </tr>\n",
       "    <tr>\n",
       "      <th>74</th>\n",
       "      <td>1FOQ_A</td>\n",
       "      <td>UCAAUGGUACGGUACUUCCAUUGUCAUGUGUAUGUUGGGGAUUAAA...</td>\n",
       "      <td>2000-12-22</td>\n",
       "      <td>PENTAMERIC MODEL OF THE BACTERIOPHAGE PHI29 PR...</td>\n",
       "      <td>&gt;1FOQ_1|Chains A, B, C, D, E|BACTERIOPHAGE PHI...</td>\n",
       "      <td>120</td>\n",
       "      <td>1</td>\n",
       "    </tr>\n",
       "    <tr>\n",
       "      <th>148</th>\n",
       "      <td>1S9S_A</td>\n",
       "      <td>GGCGGUACUAGUUGAGAAACUAGCUCUGUAUCUGGCGGACCCGUGG...</td>\n",
       "      <td>2004-04-06</td>\n",
       "      <td>SOLUTION STRUCTURE OF MLV PSI SITE</td>\n",
       "      <td>&gt;1S9S_1|Chain A|MLV Psi encapsidation site|nul...</td>\n",
       "      <td>101</td>\n",
       "      <td>1</td>\n",
       "    </tr>\n",
       "    <tr>\n",
       "      <th>173</th>\n",
       "      <td>1ZC8_Z</td>\n",
       "      <td>GCCCGUCACGCCAUGGGAGCGGGCUCUACCCGAAGUCGCCGGGAGC...</td>\n",
       "      <td>2005-04-19</td>\n",
       "      <td>Coordinates of tmRNA, SmpB, EF-Tu and h44 fitt...</td>\n",
       "      <td>&gt;1ZC8_1|Chain A|TLD 16S ribosomal RNA|Thermus ...</td>\n",
       "      <td>91</td>\n",
       "      <td>1</td>\n",
       "    </tr>\n",
       "    <tr>\n",
       "      <th>186</th>\n",
       "      <td>1YSH_B</td>\n",
       "      <td>UAGACGGUGGGAGAGGGUGGUGGAAUUCCCGGAGUAGCGGUGAAAU...</td>\n",
       "      <td>2005-07-05</td>\n",
       "      <td>Localization and dynamic behavior of ribosomal...</td>\n",
       "      <td>&gt;1YSH_1|Chain A|RNA (28-MER)|synthetic constru...</td>\n",
       "      <td>101</td>\n",
       "      <td>1</td>\n",
       "    </tr>\n",
       "    <tr>\n",
       "      <th>...</th>\n",
       "      <td>...</td>\n",
       "      <td>...</td>\n",
       "      <td>...</td>\n",
       "      <td>...</td>\n",
       "      <td>...</td>\n",
       "      <td>...</td>\n",
       "      <td>...</td>\n",
       "    </tr>\n",
       "    <tr>\n",
       "      <th>832</th>\n",
       "      <td>9G7C_A</td>\n",
       "      <td>GGGAGUCGGGUCUGUGGUUGAAAGUCGAUGCCAGUCGCAGGCGAAA...</td>\n",
       "      <td>2024-10-30</td>\n",
       "      <td>Cryo-EM structure of raiA ncRNA from Clostridi...</td>\n",
       "      <td>&gt;9G7C_1|Chain A|raiA (224-MER)|Clostridium sp....</td>\n",
       "      <td>224</td>\n",
       "      <td>1</td>\n",
       "    </tr>\n",
       "    <tr>\n",
       "      <th>839</th>\n",
       "      <td>8T3E_EC</td>\n",
       "      <td>AAACUCCAUGUAUUGGUUACCCAUCUGCAUCGAAAACUCUCCGAAC...</td>\n",
       "      <td>2024-12-11</td>\n",
       "      <td>Hypomethylated yeast 80S bound with Taura synd...</td>\n",
       "      <td>&gt;8T3E_1|Chain A[auth BA]|40S ribosomal protein...</td>\n",
       "      <td>202</td>\n",
       "      <td>1</td>\n",
       "    </tr>\n",
       "    <tr>\n",
       "      <th>840</th>\n",
       "      <td>8T3F_EC</td>\n",
       "      <td>AAACUCCAUGUAUUGGUUACCCAUCUGCAUCGAAAACUCUCCGAAC...</td>\n",
       "      <td>2024-12-11</td>\n",
       "      <td>Hypomethylated yeast 80S bound with Taura synd...</td>\n",
       "      <td>&gt;8T3F_1|Chain A[auth BA]|40S ribosomal protein...</td>\n",
       "      <td>202</td>\n",
       "      <td>1</td>\n",
       "    </tr>\n",
       "    <tr>\n",
       "      <th>842</th>\n",
       "      <td>8Z1G_T</td>\n",
       "      <td>GGUAAAAUGGCUGAGUGAAGCAUUGGACUGUAAAUCUAAAGACAGG...</td>\n",
       "      <td>2024-12-18</td>\n",
       "      <td>Cryo-EM structure of human ELAC2-pre-tRNA</td>\n",
       "      <td>&gt;8Z1G_1|Chain A[auth T]|Homo sapiens mitochond...</td>\n",
       "      <td>86</td>\n",
       "      <td>1</td>\n",
       "    </tr>\n",
       "    <tr>\n",
       "      <th>843</th>\n",
       "      <td>8Z1F_T</td>\n",
       "      <td>GGUAAAAUGGCUGAGUGAAGCAUUGGACUGUAAAUCUAAAGACAGG...</td>\n",
       "      <td>2024-12-18</td>\n",
       "      <td>Cryo-EM structure of human ELAC2-tRNA</td>\n",
       "      <td>&gt;8Z1F_1|Chain A[auth T]|Homo sapiens mitochond...</td>\n",
       "      <td>86</td>\n",
       "      <td>1</td>\n",
       "    </tr>\n",
       "  </tbody>\n",
       "</table>\n",
       "<p>178 rows × 7 columns</p>\n",
       "</div>"
      ],
      "text/plain": [
       "    target_id                                           sequence  \\\n",
       "67     1FFK_9  UUAGGCGGCCACAGCGGUGGGGUUGCCUCCCGUACCCAUCCCGAAC...   \n",
       "74     1FOQ_A  UCAAUGGUACGGUACUUCCAUUGUCAUGUGUAUGUUGGGGAUUAAA...   \n",
       "148    1S9S_A  GGCGGUACUAGUUGAGAAACUAGCUCUGUAUCUGGCGGACCCGUGG...   \n",
       "173    1ZC8_Z  GCCCGUCACGCCAUGGGAGCGGGCUCUACCCGAAGUCGCCGGGAGC...   \n",
       "186    1YSH_B  UAGACGGUGGGAGAGGGUGGUGGAAUUCCCGGAGUAGCGGUGAAAU...   \n",
       "..        ...                                                ...   \n",
       "832    9G7C_A  GGGAGUCGGGUCUGUGGUUGAAAGUCGAUGCCAGUCGCAGGCGAAA...   \n",
       "839   8T3E_EC  AAACUCCAUGUAUUGGUUACCCAUCUGCAUCGAAAACUCUCCGAAC...   \n",
       "840   8T3F_EC  AAACUCCAUGUAUUGGUUACCCAUCUGCAUCGAAAACUCUCCGAAC...   \n",
       "842    8Z1G_T  GGUAAAAUGGCUGAGUGAAGCAUUGGACUGUAAAUCUAAAGACAGG...   \n",
       "843    8Z1F_T  GGUAAAAUGGCUGAGUGAAGCAUUGGACUGUAAAUCUAAAGACAGG...   \n",
       "\n",
       "    temporal_cutoff                                        description  \\\n",
       "67       2000-08-14  CRYSTAL STRUCTURE OF THE LARGE RIBOSOMAL SUBUN...   \n",
       "74       2000-12-22  PENTAMERIC MODEL OF THE BACTERIOPHAGE PHI29 PR...   \n",
       "148      2004-04-06                 SOLUTION STRUCTURE OF MLV PSI SITE   \n",
       "173      2005-04-19  Coordinates of tmRNA, SmpB, EF-Tu and h44 fitt...   \n",
       "186      2005-07-05  Localization and dynamic behavior of ribosomal...   \n",
       "..              ...                                                ...   \n",
       "832      2024-10-30  Cryo-EM structure of raiA ncRNA from Clostridi...   \n",
       "839      2024-12-11  Hypomethylated yeast 80S bound with Taura synd...   \n",
       "840      2024-12-11  Hypomethylated yeast 80S bound with Taura synd...   \n",
       "842      2024-12-18          Cryo-EM structure of human ELAC2-pre-tRNA   \n",
       "843      2024-12-18              Cryo-EM structure of human ELAC2-tRNA   \n",
       "\n",
       "                                         all_sequences  sequence_length  fold  \n",
       "67   >1FFK_1|Chain A[auth 0]|23S RRNA|Haloarcula ma...              122     1  \n",
       "74   >1FOQ_1|Chains A, B, C, D, E|BACTERIOPHAGE PHI...              120     1  \n",
       "148  >1S9S_1|Chain A|MLV Psi encapsidation site|nul...              101     1  \n",
       "173  >1ZC8_1|Chain A|TLD 16S ribosomal RNA|Thermus ...               91     1  \n",
       "186  >1YSH_1|Chain A|RNA (28-MER)|synthetic constru...              101     1  \n",
       "..                                                 ...              ...   ...  \n",
       "832  >9G7C_1|Chain A|raiA (224-MER)|Clostridium sp....              224     1  \n",
       "839  >8T3E_1|Chain A[auth BA]|40S ribosomal protein...              202     1  \n",
       "840  >8T3F_1|Chain A[auth BA]|40S ribosomal protein...              202     1  \n",
       "842  >8Z1G_1|Chain A[auth T]|Homo sapiens mitochond...               86     1  \n",
       "843  >8Z1F_1|Chain A[auth T]|Homo sapiens mitochond...               86     1  \n",
       "\n",
       "[178 rows x 7 columns]"
      ]
     },
     "execution_count": 4,
     "metadata": {},
     "output_type": "execute_result"
    }
   ],
   "source": [
    "fold_df"
   ]
  },
  {
   "cell_type": "code",
   "execution_count": 5,
   "id": "a42566ca",
   "metadata": {
    "execution": {
     "iopub.execute_input": "2025-04-19T03:40:16.820707Z",
     "iopub.status.busy": "2025-04-19T03:40:16.820051Z",
     "iopub.status.idle": "2025-04-19T03:40:18.368351Z",
     "shell.execute_reply": "2025-04-19T03:40:18.367398Z"
    },
    "papermill": {
     "duration": 1.557188,
     "end_time": "2025-04-19T03:40:18.370487",
     "exception": false,
     "start_time": "2025-04-19T03:40:16.813299",
     "status": "completed"
    },
    "tags": []
   },
   "outputs": [],
   "source": [
    "exp_1_oof = pd.read_csv(\"/kaggle/input/train-ribonanzanet-inference-03/ribonanzanet1_oof.csv\")\n",
    "exp_2_oof = pd.read_csv(\"/kaggle/input/ribonanzanet-3d-inference/ribonanzanet1_public_oof.csv\")\n",
    "exp_3_oof = pd.read_csv(\"/kaggle/input/ribonanzanet2-ddpm-inference/ribonanzanet2_oof.csv\")"
   ]
  },
  {
   "cell_type": "code",
   "execution_count": 6,
   "id": "3480a1db",
   "metadata": {
    "execution": {
     "iopub.execute_input": "2025-04-19T03:40:18.392782Z",
     "iopub.status.busy": "2025-04-19T03:40:18.392476Z",
     "iopub.status.idle": "2025-04-19T03:40:18.397246Z",
     "shell.execute_reply": "2025-04-19T03:40:18.396168Z"
    },
    "papermill": {
     "duration": 0.018016,
     "end_time": "2025-04-19T03:40:18.399384",
     "exception": false,
     "start_time": "2025-04-19T03:40:18.381368",
     "status": "completed"
    },
    "tags": []
   },
   "outputs": [],
   "source": [
    "#exp_4_oof = pd.read_csv(\"/kaggle/input/train-rhofold-inference/rhofold_01_oof.csv\")"
   ]
  },
  {
   "cell_type": "code",
   "execution_count": 7,
   "id": "d7f86797",
   "metadata": {
    "execution": {
     "iopub.execute_input": "2025-04-19T03:40:18.424250Z",
     "iopub.status.busy": "2025-04-19T03:40:18.423067Z",
     "iopub.status.idle": "2025-04-19T03:40:18.531242Z",
     "shell.execute_reply": "2025-04-19T03:40:18.530271Z"
    },
    "papermill": {
     "duration": 0.121013,
     "end_time": "2025-04-19T03:40:18.533393",
     "exception": false,
     "start_time": "2025-04-19T03:40:18.412380",
     "status": "completed"
    },
    "tags": []
   },
   "outputs": [],
   "source": [
    "exp_1_oof[\"target_id\"] = exp_1_oof[\"ID\"].apply(lambda x: x.split(\"_\")[0]+'_'+x.split(\"_\")[1])\n",
    "exp_2_oof[\"target_id\"] = exp_2_oof[\"ID\"].apply(lambda x: x.split(\"_\")[0]+'_'+x.split(\"_\")[1])\n",
    "exp_3_oof[\"target_id\"] = exp_3_oof[\"ID\"].apply(lambda x: x.split(\"_\")[0]+'_'+x.split(\"_\")[1])"
   ]
  },
  {
   "cell_type": "code",
   "execution_count": 8,
   "id": "fc49b2a4",
   "metadata": {
    "execution": {
     "iopub.execute_input": "2025-04-19T03:40:18.547859Z",
     "iopub.status.busy": "2025-04-19T03:40:18.546974Z",
     "iopub.status.idle": "2025-04-19T03:40:18.553288Z",
     "shell.execute_reply": "2025-04-19T03:40:18.552349Z"
    },
    "papermill": {
     "duration": 0.015071,
     "end_time": "2025-04-19T03:40:18.555152",
     "exception": false,
     "start_time": "2025-04-19T03:40:18.540081",
     "status": "completed"
    },
    "tags": []
   },
   "outputs": [
    {
     "data": {
      "text/plain": [
       "((59508, 24), (59508, 24), (25713, 22))"
      ]
     },
     "execution_count": 8,
     "metadata": {},
     "output_type": "execute_result"
    }
   ],
   "source": [
    "exp_1_oof.shape, exp_2_oof.shape, exp_3_oof.shape"
   ]
  },
  {
   "cell_type": "code",
   "execution_count": 9,
   "id": "cb11e2e9",
   "metadata": {
    "execution": {
     "iopub.execute_input": "2025-04-19T03:40:18.568631Z",
     "iopub.status.busy": "2025-04-19T03:40:18.568311Z",
     "iopub.status.idle": "2025-04-19T03:40:18.574951Z",
     "shell.execute_reply": "2025-04-19T03:40:18.574051Z"
    },
    "papermill": {
     "duration": 0.01526,
     "end_time": "2025-04-19T03:40:18.576572",
     "exception": false,
     "start_time": "2025-04-19T03:40:18.561312",
     "status": "completed"
    },
    "tags": []
   },
   "outputs": [
    {
     "data": {
      "text/plain": [
       "(Index(['Unnamed: 0', 'ID', 'resname', 'resid', 'x_1', 'y_1', 'z_1', 'x_2',\n",
       "        'y_2', 'z_2', 'x_3', 'y_3', 'z_3', 'x_4', 'y_4', 'z_4', 'x_5', 'y_5',\n",
       "        'z_5', 'flag', 'x_1_true', 'y_1_true', 'z_1_true', 'target_id'],\n",
       "       dtype='object'),\n",
       " Index(['Unnamed: 0', 'ID', 'resname', 'resid', 'x_1', 'y_1', 'z_1', 'x_2',\n",
       "        'y_2', 'z_2', 'x_3', 'y_3', 'z_3', 'x_4', 'y_4', 'z_4', 'x_5', 'y_5',\n",
       "        'z_5', 'flag', 'x_1_true', 'y_1_true', 'z_1_true', 'target_id'],\n",
       "       dtype='object'),\n",
       " Index(['ID', 'resname', 'resid', 'x_1', 'y_1', 'z_1', 'x_2', 'y_2', 'z_2',\n",
       "        'x_3', 'y_3', 'z_3', 'x_4', 'y_4', 'z_4', 'x_5', 'y_5', 'z_5',\n",
       "        'x_1_true', 'y_1_true', 'z_1_true', 'target_id'],\n",
       "       dtype='object'))"
      ]
     },
     "execution_count": 9,
     "metadata": {},
     "output_type": "execute_result"
    }
   ],
   "source": [
    "exp_1_oof.columns, exp_2_oof.columns, exp_3_oof.columns"
   ]
  },
  {
   "cell_type": "code",
   "execution_count": 10,
   "id": "17bd04a3",
   "metadata": {
    "execution": {
     "iopub.execute_input": "2025-04-19T03:40:18.590276Z",
     "iopub.status.busy": "2025-04-19T03:40:18.589951Z",
     "iopub.status.idle": "2025-04-19T03:40:18.619603Z",
     "shell.execute_reply": "2025-04-19T03:40:18.618647Z"
    },
    "papermill": {
     "duration": 0.038149,
     "end_time": "2025-04-19T03:40:18.621071",
     "exception": false,
     "start_time": "2025-04-19T03:40:18.582922",
     "status": "completed"
    },
    "tags": []
   },
   "outputs": [
    {
     "data": {
      "text/html": [
       "<div>\n",
       "<style scoped>\n",
       "    .dataframe tbody tr th:only-of-type {\n",
       "        vertical-align: middle;\n",
       "    }\n",
       "\n",
       "    .dataframe tbody tr th {\n",
       "        vertical-align: top;\n",
       "    }\n",
       "\n",
       "    .dataframe thead th {\n",
       "        text-align: right;\n",
       "    }\n",
       "</style>\n",
       "<table border=\"1\" class=\"dataframe\">\n",
       "  <thead>\n",
       "    <tr style=\"text-align: right;\">\n",
       "      <th></th>\n",
       "      <th>Unnamed: 0</th>\n",
       "      <th>ID</th>\n",
       "      <th>resname</th>\n",
       "      <th>resid</th>\n",
       "      <th>x_1</th>\n",
       "      <th>y_1</th>\n",
       "      <th>z_1</th>\n",
       "      <th>x_2</th>\n",
       "      <th>y_2</th>\n",
       "      <th>z_2</th>\n",
       "      <th>...</th>\n",
       "      <th>y_4</th>\n",
       "      <th>z_4</th>\n",
       "      <th>x_5</th>\n",
       "      <th>y_5</th>\n",
       "      <th>z_5</th>\n",
       "      <th>flag</th>\n",
       "      <th>x_1_true</th>\n",
       "      <th>y_1_true</th>\n",
       "      <th>z_1_true</th>\n",
       "      <th>target_id</th>\n",
       "    </tr>\n",
       "  </thead>\n",
       "  <tbody>\n",
       "    <tr>\n",
       "      <th>0</th>\n",
       "      <td>0</td>\n",
       "      <td>1SCL_A_1</td>\n",
       "      <td>G</td>\n",
       "      <td>1</td>\n",
       "      <td>-89.44650</td>\n",
       "      <td>440.98752</td>\n",
       "      <td>-191.07695</td>\n",
       "      <td>-85.431590</td>\n",
       "      <td>441.04114</td>\n",
       "      <td>-191.89421</td>\n",
       "      <td>...</td>\n",
       "      <td>440.77075</td>\n",
       "      <td>-189.97743</td>\n",
       "      <td>-88.49204</td>\n",
       "      <td>443.50134</td>\n",
       "      <td>-189.03722</td>\n",
       "      <td>False</td>\n",
       "      <td>13.760</td>\n",
       "      <td>-25.974001</td>\n",
       "      <td>0.102</td>\n",
       "      <td>1SCL_A</td>\n",
       "    </tr>\n",
       "    <tr>\n",
       "      <th>1</th>\n",
       "      <td>1</td>\n",
       "      <td>1SCL_A_2</td>\n",
       "      <td>G</td>\n",
       "      <td>2</td>\n",
       "      <td>-86.84754</td>\n",
       "      <td>444.70746</td>\n",
       "      <td>-187.42662</td>\n",
       "      <td>-82.974150</td>\n",
       "      <td>444.25116</td>\n",
       "      <td>-188.79414</td>\n",
       "      <td>...</td>\n",
       "      <td>445.63367</td>\n",
       "      <td>-186.70834</td>\n",
       "      <td>-86.35016</td>\n",
       "      <td>448.01245</td>\n",
       "      <td>-185.88399</td>\n",
       "      <td>False</td>\n",
       "      <td>9.310</td>\n",
       "      <td>-29.638000</td>\n",
       "      <td>2.669</td>\n",
       "      <td>1SCL_A</td>\n",
       "    </tr>\n",
       "    <tr>\n",
       "      <th>2</th>\n",
       "      <td>2</td>\n",
       "      <td>1SCL_A_3</td>\n",
       "      <td>G</td>\n",
       "      <td>3</td>\n",
       "      <td>-84.42002</td>\n",
       "      <td>450.20407</td>\n",
       "      <td>-186.49513</td>\n",
       "      <td>-80.990265</td>\n",
       "      <td>448.82376</td>\n",
       "      <td>-186.72595</td>\n",
       "      <td>...</td>\n",
       "      <td>450.10754</td>\n",
       "      <td>-184.92595</td>\n",
       "      <td>-84.62899</td>\n",
       "      <td>453.17456</td>\n",
       "      <td>-185.34094</td>\n",
       "      <td>False</td>\n",
       "      <td>5.529</td>\n",
       "      <td>-27.813000</td>\n",
       "      <td>5.878</td>\n",
       "      <td>1SCL_A</td>\n",
       "    </tr>\n",
       "    <tr>\n",
       "      <th>3</th>\n",
       "      <td>3</td>\n",
       "      <td>1SCL_A_4</td>\n",
       "      <td>U</td>\n",
       "      <td>4</td>\n",
       "      <td>-82.65829</td>\n",
       "      <td>454.56104</td>\n",
       "      <td>-187.05147</td>\n",
       "      <td>-80.184710</td>\n",
       "      <td>455.09888</td>\n",
       "      <td>-187.27373</td>\n",
       "      <td>...</td>\n",
       "      <td>455.17950</td>\n",
       "      <td>-185.91920</td>\n",
       "      <td>-83.52623</td>\n",
       "      <td>458.62033</td>\n",
       "      <td>-186.64482</td>\n",
       "      <td>False</td>\n",
       "      <td>2.678</td>\n",
       "      <td>-24.900999</td>\n",
       "      <td>9.793</td>\n",
       "      <td>1SCL_A</td>\n",
       "    </tr>\n",
       "    <tr>\n",
       "      <th>4</th>\n",
       "      <td>4</td>\n",
       "      <td>1SCL_A_5</td>\n",
       "      <td>G</td>\n",
       "      <td>5</td>\n",
       "      <td>-82.31447</td>\n",
       "      <td>459.51068</td>\n",
       "      <td>-189.50598</td>\n",
       "      <td>-80.920364</td>\n",
       "      <td>459.51350</td>\n",
       "      <td>-188.50897</td>\n",
       "      <td>...</td>\n",
       "      <td>460.33838</td>\n",
       "      <td>-188.98530</td>\n",
       "      <td>-84.19373</td>\n",
       "      <td>462.99750</td>\n",
       "      <td>-190.29022</td>\n",
       "      <td>False</td>\n",
       "      <td>1.827</td>\n",
       "      <td>-20.136000</td>\n",
       "      <td>11.793</td>\n",
       "      <td>1SCL_A</td>\n",
       "    </tr>\n",
       "  </tbody>\n",
       "</table>\n",
       "<p>5 rows × 24 columns</p>\n",
       "</div>"
      ],
      "text/plain": [
       "   Unnamed: 0        ID resname  resid       x_1        y_1        z_1  \\\n",
       "0           0  1SCL_A_1       G      1 -89.44650  440.98752 -191.07695   \n",
       "1           1  1SCL_A_2       G      2 -86.84754  444.70746 -187.42662   \n",
       "2           2  1SCL_A_3       G      3 -84.42002  450.20407 -186.49513   \n",
       "3           3  1SCL_A_4       U      4 -82.65829  454.56104 -187.05147   \n",
       "4           4  1SCL_A_5       G      5 -82.31447  459.51068 -189.50598   \n",
       "\n",
       "         x_2        y_2        z_2  ...        y_4        z_4       x_5  \\\n",
       "0 -85.431590  441.04114 -191.89421  ...  440.77075 -189.97743 -88.49204   \n",
       "1 -82.974150  444.25116 -188.79414  ...  445.63367 -186.70834 -86.35016   \n",
       "2 -80.990265  448.82376 -186.72595  ...  450.10754 -184.92595 -84.62899   \n",
       "3 -80.184710  455.09888 -187.27373  ...  455.17950 -185.91920 -83.52623   \n",
       "4 -80.920364  459.51350 -188.50897  ...  460.33838 -188.98530 -84.19373   \n",
       "\n",
       "         y_5        z_5   flag  x_1_true   y_1_true  z_1_true  target_id  \n",
       "0  443.50134 -189.03722  False    13.760 -25.974001     0.102     1SCL_A  \n",
       "1  448.01245 -185.88399  False     9.310 -29.638000     2.669     1SCL_A  \n",
       "2  453.17456 -185.34094  False     5.529 -27.813000     5.878     1SCL_A  \n",
       "3  458.62033 -186.64482  False     2.678 -24.900999     9.793     1SCL_A  \n",
       "4  462.99750 -190.29022  False     1.827 -20.136000    11.793     1SCL_A  \n",
       "\n",
       "[5 rows x 24 columns]"
      ]
     },
     "execution_count": 10,
     "metadata": {},
     "output_type": "execute_result"
    }
   ],
   "source": [
    "exp_1_oof.head()"
   ]
  },
  {
   "cell_type": "code",
   "execution_count": 11,
   "id": "d341654d",
   "metadata": {
    "execution": {
     "iopub.execute_input": "2025-04-19T03:40:18.635855Z",
     "iopub.status.busy": "2025-04-19T03:40:18.634960Z",
     "iopub.status.idle": "2025-04-19T03:40:18.684353Z",
     "shell.execute_reply": "2025-04-19T03:40:18.683381Z"
    },
    "papermill": {
     "duration": 0.058448,
     "end_time": "2025-04-19T03:40:18.686057",
     "exception": false,
     "start_time": "2025-04-19T03:40:18.627609",
     "status": "completed"
    },
    "tags": []
   },
   "outputs": [],
   "source": [
    "# Find common target_ids across all three dataframes\n",
    "common_target_ids = set(exp_1_oof['target_id']).intersection(\n",
    "    set(exp_2_oof['target_id'])).intersection(\n",
    "    set(exp_3_oof['target_id'])).intersection(\n",
    "    set(fold_df['target_id']))\n",
    "\n",
    "# Filter exp_1_oof to keep only rows with common target_ids\n",
    "exp_1_oof = exp_1_oof[exp_1_oof['target_id'].isin(common_target_ids)]\n",
    "\n",
    "# Filter exp_2_oof to keep only rows with common target_ids\n",
    "exp_2_oof = exp_2_oof[exp_2_oof['target_id'].isin(common_target_ids)]\n",
    "\n",
    "exp_3_oof = exp_3_oof[exp_3_oof['target_id'].isin(common_target_ids)]"
   ]
  },
  {
   "cell_type": "code",
   "execution_count": 12,
   "id": "c43f224a",
   "metadata": {
    "execution": {
     "iopub.execute_input": "2025-04-19T03:40:18.700450Z",
     "iopub.status.busy": "2025-04-19T03:40:18.700137Z",
     "iopub.status.idle": "2025-04-19T03:40:18.706197Z",
     "shell.execute_reply": "2025-04-19T03:40:18.705180Z"
    },
    "papermill": {
     "duration": 0.01511,
     "end_time": "2025-04-19T03:40:18.707739",
     "exception": false,
     "start_time": "2025-04-19T03:40:18.692629",
     "status": "completed"
    },
    "tags": []
   },
   "outputs": [
    {
     "data": {
      "text/plain": [
       "173"
      ]
     },
     "execution_count": 12,
     "metadata": {},
     "output_type": "execute_result"
    }
   ],
   "source": [
    "len(common_target_ids)"
   ]
  },
  {
   "cell_type": "code",
   "execution_count": 13,
   "id": "37a54317",
   "metadata": {
    "execution": {
     "iopub.execute_input": "2025-04-19T03:40:18.722657Z",
     "iopub.status.busy": "2025-04-19T03:40:18.722313Z",
     "iopub.status.idle": "2025-04-19T03:40:18.728475Z",
     "shell.execute_reply": "2025-04-19T03:40:18.727314Z"
    },
    "papermill": {
     "duration": 0.015378,
     "end_time": "2025-04-19T03:40:18.730202",
     "exception": false,
     "start_time": "2025-04-19T03:40:18.714824",
     "status": "completed"
    },
    "tags": []
   },
   "outputs": [
    {
     "data": {
      "text/plain": [
       "((23230, 24), (23230, 24), (25124, 22))"
      ]
     },
     "execution_count": 13,
     "metadata": {},
     "output_type": "execute_result"
    }
   ],
   "source": [
    "exp_1_oof.shape, exp_2_oof.shape, exp_3_oof.shape"
   ]
  },
  {
   "cell_type": "code",
   "execution_count": 14,
   "id": "a752ee1f",
   "metadata": {
    "execution": {
     "iopub.execute_input": "2025-04-19T03:40:18.744783Z",
     "iopub.status.busy": "2025-04-19T03:40:18.744380Z",
     "iopub.status.idle": "2025-04-19T03:40:18.897725Z",
     "shell.execute_reply": "2025-04-19T03:40:18.896650Z"
    },
    "papermill": {
     "duration": 0.162902,
     "end_time": "2025-04-19T03:40:18.899733",
     "exception": false,
     "start_time": "2025-04-19T03:40:18.736831",
     "status": "completed"
    },
    "tags": []
   },
   "outputs": [],
   "source": [
    "import pandas as pd\n",
    "\n",
    "# Define key columns for matching\n",
    "key_cols = ['ID', 'resname', 'resid', 'target_id']\n",
    "\n",
    "# Find common keys across all three DataFrames\n",
    "common_keys = pd.merge(exp_1_oof[key_cols], exp_2_oof[key_cols], on=key_cols)\n",
    "common_keys = pd.merge(common_keys, exp_3_oof[key_cols], on=key_cols)\n",
    "\n",
    "# Filter each DataFrame using common keys\n",
    "exp_1_oof = pd.merge(exp_1_oof, common_keys, on=key_cols)\n",
    "exp_2_oof = pd.merge(exp_2_oof, common_keys, on=key_cols)\n",
    "exp_3_oof = pd.merge(exp_3_oof, common_keys, on=key_cols)"
   ]
  },
  {
   "cell_type": "code",
   "execution_count": 15,
   "id": "3a125bd7",
   "metadata": {
    "execution": {
     "iopub.execute_input": "2025-04-19T03:40:18.921005Z",
     "iopub.status.busy": "2025-04-19T03:40:18.920129Z",
     "iopub.status.idle": "2025-04-19T03:40:18.926615Z",
     "shell.execute_reply": "2025-04-19T03:40:18.925663Z"
    },
    "papermill": {
     "duration": 0.016439,
     "end_time": "2025-04-19T03:40:18.928337",
     "exception": false,
     "start_time": "2025-04-19T03:40:18.911898",
     "status": "completed"
    },
    "tags": []
   },
   "outputs": [
    {
     "data": {
      "text/plain": [
       "((23230, 24), (23230, 24), (23230, 22))"
      ]
     },
     "execution_count": 15,
     "metadata": {},
     "output_type": "execute_result"
    }
   ],
   "source": [
    "exp_1_oof.shape, exp_2_oof.shape, exp_3_oof.shape"
   ]
  },
  {
   "cell_type": "markdown",
   "id": "ff8343d2",
   "metadata": {
    "papermill": {
     "duration": 0.012301,
     "end_time": "2025-04-19T03:40:18.952527",
     "exception": false,
     "start_time": "2025-04-19T03:40:18.940226",
     "status": "completed"
    },
    "tags": []
   },
   "source": [
    "## Step -1: Hill climbing code"
   ]
  },
  {
   "cell_type": "code",
   "execution_count": 16,
   "id": "be20885d",
   "metadata": {
    "execution": {
     "iopub.execute_input": "2025-04-19T03:40:18.967969Z",
     "iopub.status.busy": "2025-04-19T03:40:18.967596Z",
     "iopub.status.idle": "2025-04-19T03:40:19.010763Z",
     "shell.execute_reply": "2025-04-19T03:40:19.009524Z"
    },
    "papermill": {
     "duration": 0.052947,
     "end_time": "2025-04-19T03:40:19.012929",
     "exception": false,
     "start_time": "2025-04-19T03:40:18.959982",
     "status": "completed"
    },
    "tags": []
   },
   "outputs": [],
   "source": [
    "import gc\n",
    "import os\n",
    "import re\n",
    "import sys\n",
    "import numpy as np\n",
    "import pandas as pd\n",
    "from tqdm import tqdm\n",
    "from concurrent.futures import ProcessPoolExecutor, as_completed\n",
    "import multiprocessing"
   ]
  },
  {
   "cell_type": "code",
   "execution_count": 17,
   "id": "9965d72c",
   "metadata": {
    "execution": {
     "iopub.execute_input": "2025-04-19T03:40:19.033507Z",
     "iopub.status.busy": "2025-04-19T03:40:19.033061Z",
     "iopub.status.idle": "2025-04-19T03:40:19.039661Z",
     "shell.execute_reply": "2025-04-19T03:40:19.038726Z"
    },
    "papermill": {
     "duration": 0.016571,
     "end_time": "2025-04-19T03:40:19.041347",
     "exception": false,
     "start_time": "2025-04-19T03:40:19.024776",
     "status": "completed"
    },
    "tags": []
   },
   "outputs": [],
   "source": [
    "def setup_usalign():\n",
    "    \"\"\"\n",
    "    Sets up USalign by copying it to the working directory and making it executable.\n",
    "    \"\"\"\n",
    "    # Copy USalign to working directory if it doesn't exist\n",
    "    if not os.path.exists('/kaggle/working/USalign'):\n",
    "        os.system('cp //kaggle/input/usalign/USalign /kaggle/working/')\n",
    "        os.system('sudo chmod u+x /kaggle/working/USalign')\n",
    "        print(\"USalign binary copied and made executable\")\n",
    "    return '/kaggle/working/USalign'"
   ]
  },
  {
   "cell_type": "code",
   "execution_count": 18,
   "id": "259fc012",
   "metadata": {
    "execution": {
     "iopub.execute_input": "2025-04-19T03:40:19.056273Z",
     "iopub.status.busy": "2025-04-19T03:40:19.055858Z",
     "iopub.status.idle": "2025-04-19T03:40:19.063545Z",
     "shell.execute_reply": "2025-04-19T03:40:19.062583Z"
    },
    "papermill": {
     "duration": 0.016978,
     "end_time": "2025-04-19T03:40:19.065134",
     "exception": false,
     "start_time": "2025-04-19T03:40:19.048156",
     "status": "completed"
    },
    "tags": []
   },
   "outputs": [],
   "source": [
    "def parse_tmscore_output(output):\n",
    "    # Extract TM-score based on length of reference structure (second)\n",
    "    tm_score_match = re.findall(r'TM-score=\\s+([\\d.]+)', output)[1]\n",
    "    if not tm_score_match:\n",
    "        raise ValueError('No TM score found')\n",
    "    return float(tm_score_match)\n",
    "\n",
    "\n",
    "def write_target_line(\n",
    "    atom_name, atom_serial, residue_name, chain_id, residue_num, x_coord, y_coord, z_coord, occupancy=1.0, b_factor=0.0, atom_type='P'\n",
    ") -> str:\n",
    "    \"\"\"\n",
    "    Writes a single line of PDB format based on provided atom information.\n",
    "    \"\"\"\n",
    "    return f'ATOM  {atom_serial:>5d}  {atom_name:<5s} {residue_name:<3s} {residue_num:>3d}    {x_coord:>8.3f}{y_coord:>8.3f}{z_coord:>8.3f}{occupancy:>6.2f}{b_factor:>6.2f}           {atom_type}\\n'"
   ]
  },
  {
   "cell_type": "code",
   "execution_count": 19,
   "id": "36b1b7e9",
   "metadata": {
    "execution": {
     "iopub.execute_input": "2025-04-19T03:40:19.079968Z",
     "iopub.status.busy": "2025-04-19T03:40:19.079633Z",
     "iopub.status.idle": "2025-04-19T03:40:19.086495Z",
     "shell.execute_reply": "2025-04-19T03:40:19.085583Z"
    },
    "papermill": {
     "duration": 0.016461,
     "end_time": "2025-04-19T03:40:19.088295",
     "exception": false,
     "start_time": "2025-04-19T03:40:19.071834",
     "status": "completed"
    },
    "tags": []
   },
   "outputs": [],
   "source": [
    "def write2pdb(df: pd.DataFrame, xyz_id: str, target_path: str) -> int:\n",
    "    resolved_cnt = 0\n",
    "    with open(target_path, 'w') as target_file:\n",
    "        for _, row in df.iterrows():\n",
    "            x_coord = row[f'x_{xyz_id}']\n",
    "            y_coord = row[f'y_{xyz_id}']\n",
    "            z_coord = row[f'z_{xyz_id}']\n",
    "\n",
    "            if x_coord > -1e17 and y_coord > -1e17 and z_coord > -1e17:\n",
    "                resolved_cnt += 1\n",
    "                target_line = write_target_line(\n",
    "                    atom_name=\"C1'\",\n",
    "                    atom_serial=int(row['resid']),\n",
    "                    residue_name=row['resname'],\n",
    "                    chain_id='0',\n",
    "                    residue_num=int(row['resid']),\n",
    "                    x_coord=x_coord,\n",
    "                    y_coord=y_coord,\n",
    "                    z_coord=z_coord,\n",
    "                    atom_type='C',\n",
    "                )\n",
    "                target_file.write(target_line)\n",
    "    return resolved_cnt"
   ]
  },
  {
   "cell_type": "code",
   "execution_count": 20,
   "id": "e37fbc40",
   "metadata": {
    "execution": {
     "iopub.execute_input": "2025-04-19T03:40:19.103162Z",
     "iopub.status.busy": "2025-04-19T03:40:19.102732Z",
     "iopub.status.idle": "2025-04-19T03:40:19.112195Z",
     "shell.execute_reply": "2025-04-19T03:40:19.111229Z"
    },
    "papermill": {
     "duration": 0.01925,
     "end_time": "2025-04-19T03:40:19.114147",
     "exception": false,
     "start_time": "2025-04-19T03:40:19.094897",
     "status": "completed"
    },
    "tags": []
   },
   "outputs": [],
   "source": [
    "def write_ground_truth_pdb(df: pd.DataFrame, target_path: str) -> int:\n",
    "    \"\"\"\n",
    "    Writes ground truth coordinates to a PDB file.\n",
    "    \"\"\"\n",
    "    resolved_cnt = 0\n",
    "    with open(target_path, 'w') as target_file:\n",
    "        for _, row in df.iterrows():\n",
    "            x_coord = row['x_1_true']\n",
    "            y_coord = row['y_1_true']\n",
    "            z_coord = row['z_1_true']\n",
    "\n",
    "            if x_coord > -1e17 and y_coord > -1e17 and z_coord > -1e17:\n",
    "                resolved_cnt += 1\n",
    "                target_line = write_target_line(\n",
    "                    atom_name=\"C1'\",\n",
    "                    atom_serial=int(row['resid']),\n",
    "                    residue_name=row['resname'],\n",
    "                    chain_id='0',\n",
    "                    residue_num=int(row['resid']),\n",
    "                    x_coord=x_coord,\n",
    "                    y_coord=y_coord,\n",
    "                    z_coord=z_coord,\n",
    "                    atom_type='C',\n",
    "                )\n",
    "                target_file.write(target_line)\n",
    "    return resolved_cnt"
   ]
  },
  {
   "cell_type": "code",
   "execution_count": 21,
   "id": "bdc6a310",
   "metadata": {
    "execution": {
     "iopub.execute_input": "2025-04-19T03:40:19.134767Z",
     "iopub.status.busy": "2025-04-19T03:40:19.134358Z",
     "iopub.status.idle": "2025-04-19T03:40:19.144491Z",
     "shell.execute_reply": "2025-04-19T03:40:19.143430Z"
    },
    "papermill": {
     "duration": 0.020477,
     "end_time": "2025-04-19T03:40:19.146550",
     "exception": false,
     "start_time": "2025-04-19T03:40:19.126073",
     "status": "completed"
    },
    "tags": []
   },
   "outputs": [],
   "source": [
    "def evaluate_single_weight(args):\n",
    "    \"\"\"\n",
    "    Evaluates a single weight combination for ensembling two RNA structure predictions.\n",
    "    \n",
    "    Args:\n",
    "        args (tuple): Contains weight, first_pred_df, second_pred_df, temporary_dir, and usalign_path\n",
    "        \n",
    "    Returns:\n",
    "        tuple: weight and resulting score\n",
    "    \"\"\"\n",
    "    weight, first_pred_df, second_pred_df, temp_dir, usalign_path = args\n",
    "    \n",
    "    # Create a copy of the first prediction dataframe\n",
    "    ensemble_df = first_pred_df.copy()\n",
    "    \n",
    "    # For each prediction (1-5), blend the coordinates using the weight\n",
    "    for pred_idx in range(1, 6):\n",
    "        # Blend x coordinates\n",
    "        ensemble_df[f'x_{pred_idx}'] = (1 - weight) * first_pred_df[f'x_{pred_idx}'] + weight * second_pred_df[f'x_{pred_idx}']\n",
    "        # Blend y coordinates\n",
    "        ensemble_df[f'y_{pred_idx}'] = (1 - weight) * first_pred_df[f'y_{pred_idx}'] + weight * second_pred_df[f'y_{pred_idx}']\n",
    "        # Blend z coordinates\n",
    "        ensemble_df[f'z_{pred_idx}'] = (1 - weight) * first_pred_df[f'z_{pred_idx}'] + weight * second_pred_df[f'z_{pred_idx}']\n",
    "    \n",
    "    # Create unique filenames for this process to avoid conflicts in parallel processing\n",
    "    process_id = os.getpid()\n",
    "    native_pdb = f'{temp_dir}/native_{process_id}.pdb'\n",
    "    predicted_pdb = f'{temp_dir}/predicted_{process_id}.pdb'\n",
    "    \n",
    "    # Evaluate using TM-score\n",
    "    score = score_ensemble(ensemble_df, native_pdb, predicted_pdb, usalign_path)\n",
    "    \n",
    "    return weight, score"
   ]
  },
  {
   "cell_type": "code",
   "execution_count": 22,
   "id": "d5210a05",
   "metadata": {
    "execution": {
     "iopub.execute_input": "2025-04-19T03:40:19.168554Z",
     "iopub.status.busy": "2025-04-19T03:40:19.168153Z",
     "iopub.status.idle": "2025-04-19T03:40:19.182607Z",
     "shell.execute_reply": "2025-04-19T03:40:19.181472Z"
    },
    "papermill": {
     "duration": 0.025938,
     "end_time": "2025-04-19T03:40:19.184537",
     "exception": false,
     "start_time": "2025-04-19T03:40:19.158599",
     "status": "completed"
    },
    "tags": []
   },
   "outputs": [],
   "source": [
    "from tqdm import tqdm\n",
    "\n",
    "def score_ensemble(ensemble_df, native_pdb='native.pdb', predicted_pdb='predicted.pdb', usalign_path=None):\n",
    "    \"\"\"\n",
    "    Scores the ensemble predictions against the ground truth using TM-score.\n",
    "    \n",
    "    Args:\n",
    "        ensemble_df (pd.DataFrame): DataFrame with predicted coordinates and ground truth\n",
    "        native_pdb (str): Path to write the native PDB file\n",
    "        predicted_pdb (str): Path to write the predicted PDB file\n",
    "        usalign_path (str): Path to the USalign executable\n",
    "        \n",
    "    Returns:\n",
    "        float: Average TM-score across all targets\n",
    "    \"\"\"\n",
    "    if usalign_path is None:\n",
    "        usalign_path = '/kaggle/working/USalign'\n",
    "    \n",
    "    from contextlib import contextmanager\n",
    "    \n",
    "    @contextmanager\n",
    "    def no_stdout():\n",
    "        old_stdout = sys.stdout\n",
    "        sys.stdout = open(os.devnull, 'w')\n",
    "        try:\n",
    "            yield\n",
    "        finally:\n",
    "            sys.stdout = old_stdout\n",
    "    \n",
    "    # Extract target_id from ID (target_resid)\n",
    "    ensemble_df['target_id'] = ensemble_df['ID'].apply(lambda x: x.split('_')[0])\n",
    "    \n",
    "    results = []\n",
    "    # Iterate through each target_id and compute TM-score\n",
    "    unique_targets = ensemble_df['target_id'].unique()\n",
    "    for target_id in tqdm(unique_targets):\n",
    "        group_data = ensemble_df[ensemble_df['target_id'] == target_id]\n",
    "        \n",
    "        # Write ground truth PDB once per target\n",
    "        with no_stdout():\n",
    "            resolved_cnt_truth = write_ground_truth_pdb(group_data, native_pdb)\n",
    "        \n",
    "        if resolved_cnt_truth == 0:\n",
    "            continue  # Skip if no ground truth coordinates\n",
    "        \n",
    "        target_id_scores = []\n",
    "        for pred_cnt in range(1, 6):\n",
    "            # Write predicted PDB\n",
    "            with no_stdout():\n",
    "                resolved_cnt_pred = write2pdb(group_data, pred_cnt, predicted_pdb)\n",
    "            \n",
    "            if resolved_cnt_pred > 0:\n",
    "                try:\n",
    "                    command = f'{usalign_path} {predicted_pdb} {native_pdb} -atom \" C1\\'\"'\n",
    "                    usalign_output = os.popen(command).read()\n",
    "                    tm_score = parse_tmscore_output(usalign_output)\n",
    "                    target_id_scores.append(tm_score)\n",
    "                except Exception as e:\n",
    "                    # Silent error handling during optimization\n",
    "                    continue\n",
    "        \n",
    "        if target_id_scores:\n",
    "            results.append(max(target_id_scores))\n",
    "    \n",
    "    # Return average TM-score across all targets\n",
    "    if not results:\n",
    "        return 0.0\n",
    "    return float(sum(results) / len(results))"
   ]
  },
  {
   "cell_type": "code",
   "execution_count": 23,
   "id": "b57f323d",
   "metadata": {
    "execution": {
     "iopub.execute_input": "2025-04-19T03:40:19.200474Z",
     "iopub.status.busy": "2025-04-19T03:40:19.200037Z",
     "iopub.status.idle": "2025-04-19T03:40:19.223734Z",
     "shell.execute_reply": "2025-04-19T03:40:19.222636Z"
    },
    "papermill": {
     "duration": 0.03411,
     "end_time": "2025-04-19T03:40:19.225408",
     "exception": false,
     "start_time": "2025-04-19T03:40:19.191298",
     "status": "completed"
    },
    "tags": []
   },
   "outputs": [],
   "source": [
    "def hill_climbing_optimizer(experiments_list, weight_step=0.05, max_iterations=50, num_cores=None):\n",
    "    \"\"\"\n",
    "    Performs hill climbing optimization to find the best ensemble weights for RNA structure predictions.\n",
    "    \n",
    "    Args:\n",
    "        experiments_list (list): List of dataframes with predictions\n",
    "        weight_step (float): Step size for weight exploration\n",
    "        max_iterations (int): Maximum number of iterations\n",
    "        num_cores (int): Number of CPU cores to use for parallelization\n",
    "        \n",
    "    Returns:\n",
    "        tuple: Dictionary of weights, best score, and final ensemble dataframe\n",
    "    \"\"\"\n",
    "    # Set up USalign\n",
    "    usalign_path = setup_usalign()\n",
    "    \n",
    "    if num_cores is None:\n",
    "        num_cores = max(1, multiprocessing.cpu_count() - 1)\n",
    "    \n",
    "    # Create temporary directory for parallel processing\n",
    "    temp_dir = '/tmp/rna_ensemble'\n",
    "    os.makedirs(temp_dir, exist_ok=True)\n",
    "    \n",
    "    # Start with the first experiment as baseline\n",
    "    best_ensemble_df = experiments_list[0].copy()\n",
    "    remaining_experiments = experiments_list[1:].copy()\n",
    "    \n",
    "    # Dictionary to store weights for each experiment\n",
    "    model_weights = {}\n",
    "    \n",
    "    # Define the weight range to explore\n",
    "    weights_range = np.arange(0.0, 1.0 + weight_step, weight_step)\n",
    "    weights_range = np.arange(-0.50, 0.51, 0.01)\n",
    "    print(f\"Number of weights testing : {len(weights_range)}\")\n",
    "    \n",
    "    # Get initial score\n",
    "    initial_score = score_ensemble(best_ensemble_df, usalign_path=usalign_path)\n",
    "    best_score = initial_score\n",
    "    print(f\"Initial score: {best_score:.6f}\")\n",
    "    \n",
    "    iteration = 0\n",
    "    while remaining_experiments and iteration < max_iterations:\n",
    "        iteration += 1\n",
    "        print(f\"\\nIteration {iteration}/{max_iterations}\")\n",
    "        \n",
    "        best_iteration = {\n",
    "            'index': -1,\n",
    "            'weight': 0,\n",
    "            'score': best_score,\n",
    "            'df': None\n",
    "        }\n",
    "        \n",
    "        # Try each remaining model\n",
    "        for i, model_df in enumerate(remaining_experiments):\n",
    "            try:\n",
    "                print(f\"Testing model {i+1}/{len(remaining_experiments)}\")\n",
    "                \n",
    "                # Prepare arguments for parallel processing\n",
    "                args_list = [(weight, best_ensemble_df, model_df, temp_dir, usalign_path) \n",
    "                             for weight in weights_range]\n",
    "                \n",
    "                # Process weights in parallel\n",
    "                with ProcessPoolExecutor(max_workers=num_cores) as executor:\n",
    "                    futures = [executor.submit(evaluate_single_weight, args) for args in args_list]\n",
    "                    \n",
    "                    # Process results as they complete\n",
    "                    for future in tqdm(as_completed(futures), total=len(futures), \n",
    "                                      desc=f\"Testing weights for model {i+1}\"):\n",
    "                        weight, new_score = future.result()\n",
    "                        \n",
    "                        # Update best if improved\n",
    "                        if new_score > best_iteration['score']:\n",
    "                            # Create the ensemble for this weight\n",
    "                            tmp_ensemble_df = best_ensemble_df.copy()\n",
    "                            for pred_idx in range(1, 6):\n",
    "                                tmp_ensemble_df[f'x_{pred_idx}'] = (1 - weight) * best_ensemble_df[f'x_{pred_idx}'] + weight * model_df[f'x_{pred_idx}']\n",
    "                                tmp_ensemble_df[f'y_{pred_idx}'] = (1 - weight) * best_ensemble_df[f'y_{pred_idx}'] + weight * model_df[f'y_{pred_idx}']\n",
    "                                tmp_ensemble_df[f'z_{pred_idx}'] = (1 - weight) * best_ensemble_df[f'z_{pred_idx}'] + weight * model_df[f'z_{pred_idx}']\n",
    "                            \n",
    "                            best_iteration.update({\n",
    "                                'index': i,\n",
    "                                'weight': weight,\n",
    "                                'score': new_score,\n",
    "                                'df': tmp_ensemble_df.copy()\n",
    "                            })\n",
    "                \n",
    "                # Clean up\n",
    "                gc.collect()\n",
    "                \n",
    "            except Exception as e:\n",
    "                print(f\"Error processing model {i+1}: {str(e)}\")\n",
    "                continue\n",
    "        \n",
    "        # Check if we found an improvement\n",
    "        if best_iteration['index'] == -1:\n",
    "            print(\"No improvement found, stopping\")\n",
    "            break\n",
    "            \n",
    "        # Update ensemble with best model found\n",
    "        best_score = best_iteration['score']\n",
    "        best_ensemble_df = best_iteration['df'].copy()\n",
    "        \n",
    "        # Add weight to the selected model and remove it from remaining\n",
    "        selected_model = remaining_experiments.pop(best_iteration['index'])\n",
    "        model_weights[f\"model_{iteration}\"] = best_iteration['weight']\n",
    "        \n",
    "        print(f\"Added model with weight {best_iteration['weight']:.4f}, New score: {best_iteration['score']:.6f}\")\n",
    "        \n",
    "    print(\"\\nOptimization complete!\")\n",
    "    print(f\"Initial score: {initial_score:.6f}\")\n",
    "    print(f\"Final score: {best_score:.6f}\")\n",
    "    print(f\"Improvement: {best_score - initial_score:.6f} ({(best_score - initial_score) / initial_score * 100:.2f}%)\")\n",
    "    print(f\"Model weights: {model_weights}\")\n",
    "    \n",
    "    # Clean up temporary directory\n",
    "    for filename in os.listdir(temp_dir):\n",
    "        os.remove(os.path.join(temp_dir, filename))\n",
    "    os.rmdir(temp_dir)\n",
    "    \n",
    "    return model_weights, best_score, best_ensemble_df"
   ]
  },
  {
   "cell_type": "code",
   "execution_count": 24,
   "id": "257a0016",
   "metadata": {
    "execution": {
     "iopub.execute_input": "2025-04-19T03:40:19.240811Z",
     "iopub.status.busy": "2025-04-19T03:40:19.239907Z",
     "iopub.status.idle": "2025-04-19T04:22:41.212971Z",
     "shell.execute_reply": "2025-04-19T04:22:41.211629Z"
    },
    "papermill": {
     "duration": 2541.982438,
     "end_time": "2025-04-19T04:22:41.214702",
     "exception": false,
     "start_time": "2025-04-19T03:40:19.232264",
     "status": "completed"
    },
    "tags": []
   },
   "outputs": [
    {
     "name": "stdout",
     "output_type": "stream",
     "text": [
      "USalign binary copied and made executable\n",
      "Number of weights testing : 101\n"
     ]
    },
    {
     "name": "stderr",
     "output_type": "stream",
     "text": [
      "100%|██████████| 155/155 [00:56<00:00,  2.76it/s]"
     ]
    },
    {
     "name": "stdout",
     "output_type": "stream",
     "text": [
      "Initial score: 0.356892\n",
      "\n",
      "Iteration 1/10\n",
      "Testing model 1/1\n"
     ]
    },
    {
     "name": "stderr",
     "output_type": "stream",
     "text": [
      "\n",
      "100%|██████████| 155/155 [01:27<00:00,  1.78it/s]\n",
      "100%|██████████| 155/155 [01:28<00:00,  1.76it/s]\n",
      "100%|██████████| 155/155 [01:29<00:00,  1.74it/s]\n",
      "100%|██████████| 155/155 [01:30<00:00,  1.71it/s]\n",
      "100%|██████████| 155/155 [01:28<00:00,  1.76it/s]\n",
      "100%|██████████| 155/155 [01:27<00:00,  1.77it/s]\n",
      "100%|██████████| 155/155 [01:28<00:00,  1.74it/s]\n",
      "100%|██████████| 155/155 [01:29<00:00,  1.72it/s]\n",
      "100%|██████████| 155/155 [01:28<00:00,  1.74it/s]\n",
      "100%|██████████| 155/155 [01:29<00:00,  1.72it/s]\n",
      "100%|██████████| 155/155 [01:28<00:00,  1.75it/s]\n",
      "100%|██████████| 155/155 [01:29<00:00,  1.74it/s]\n",
      "100%|██████████| 155/155 [01:30<00:00,  1.71it/s]\n",
      "100%|██████████| 155/155 [01:31<00:00,  1.69it/s]\n",
      "100%|██████████| 155/155 [01:30<00:00,  1.71it/s]\n",
      "100%|██████████| 155/155 [01:30<00:00,  1.70it/s]\n",
      "100%|██████████| 155/155 [01:32<00:00,  1.67it/s]\n",
      "100%|██████████| 155/155 [01:33<00:00,  1.65it/s]\n",
      "100%|██████████| 155/155 [01:34<00:00,  1.64it/s]\n",
      "100%|██████████| 155/155 [01:33<00:00,  1.65it/s]\n",
      "100%|██████████| 155/155 [01:33<00:00,  1.65it/s]\n",
      "100%|██████████| 155/155 [01:34<00:00,  1.64it/s]\n",
      "100%|██████████| 155/155 [01:35<00:00,  1.63it/s]\n",
      "100%|██████████| 155/155 [01:36<00:00,  1.61it/s]\n",
      "100%|██████████| 155/155 [01:35<00:00,  1.62it/s]\n",
      "100%|██████████| 155/155 [01:36<00:00,  1.61it/s]\n",
      "100%|██████████| 155/155 [01:37<00:00,  1.59it/s]\n",
      "100%|██████████| 155/155 [01:38<00:00,  1.57it/s]\n",
      "100%|██████████| 155/155 [01:37<00:00,  1.60it/s]\n",
      "100%|██████████| 155/155 [01:38<00:00,  1.58it/s]\n",
      "100%|██████████| 155/155 [01:37<00:00,  1.59it/s]\n",
      "100%|██████████| 155/155 [01:37<00:00,  1.59it/s]\n",
      "100%|██████████| 155/155 [01:38<00:00,  1.57it/s]\n",
      "100%|██████████| 155/155 [01:38<00:00,  1.58it/s]\n",
      "100%|██████████| 155/155 [01:39<00:00,  1.57it/s]\n",
      "100%|██████████| 155/155 [01:38<00:00,  1.57it/s]\n",
      "100%|██████████| 155/155 [01:40<00:00,  1.54it/s]\n",
      "100%|██████████| 155/155 [01:40<00:00,  1.55it/s]\n",
      "100%|██████████| 155/155 [01:41<00:00,  1.52it/s]\n",
      "100%|██████████| 155/155 [01:40<00:00,  1.54it/s]\n",
      "100%|██████████| 155/155 [01:40<00:00,  1.54it/s]\n",
      "100%|██████████| 155/155 [01:39<00:00,  1.56it/s]\n",
      "100%|██████████| 155/155 [01:39<00:00,  1.56it/s]\n",
      "100%|██████████| 155/155 [01:40<00:00,  1.55it/s]\n",
      "100%|██████████| 155/155 [01:37<00:00,  1.58it/s]\n",
      "100%|██████████| 155/155 [01:39<00:00,  1.57it/s]\n",
      "100%|██████████| 155/155 [01:38<00:00,  1.57it/s]\n",
      "100%|██████████| 155/155 [01:41<00:00,  1.52it/s]\n",
      "100%|██████████| 155/155 [01:36<00:00,  1.60it/s]\n",
      "100%|██████████| 155/155 [01:37<00:00,  1.59it/s]\n",
      "100%|██████████| 155/155 [01:37<00:00,  1.60it/s]\n",
      "100%|██████████| 155/155 [01:35<00:00,  1.62it/s]\n",
      "100%|██████████| 155/155 [01:34<00:00,  1.64it/s]\n",
      "100%|██████████| 155/155 [01:37<00:00,  1.59it/s]\n",
      "100%|██████████| 155/155 [01:39<00:00,  1.56it/s]\n",
      "100%|██████████| 155/155 [01:37<00:00,  1.59it/s]\n",
      "100%|██████████| 155/155 [01:37<00:00,  1.58it/s]\n",
      "100%|██████████| 155/155 [01:41<00:00,  1.52it/s]\n",
      "100%|██████████| 155/155 [01:43<00:00,  1.50it/s]\n",
      "100%|██████████| 155/155 [01:43<00:00,  1.49it/s]\n",
      "100%|██████████| 155/155 [01:41<00:00,  1.52it/s]\n",
      "100%|██████████| 155/155 [01:42<00:00,  1.52it/s]\n",
      "100%|██████████| 155/155 [01:45<00:00,  1.47it/s]\n",
      "100%|██████████| 155/155 [01:44<00:00,  1.48it/s]\n",
      "100%|██████████| 155/155 [01:43<00:00,  1.50it/s]\n",
      "100%|██████████| 155/155 [01:43<00:00,  1.50it/s]\n",
      "100%|██████████| 155/155 [01:43<00:00,  1.50it/s]\n",
      "Testing weights for model 1:  67%|██████▋   | 68/101 [27:38<10:01, 18.24s/it]\n",
      "100%|██████████| 155/155 [01:44<00:00,  1.49it/s]\n",
      "100%|██████████| 155/155 [01:45<00:00,  1.47it/s]\n",
      "100%|██████████| 155/155 [01:41<00:00,  1.52it/s]\n",
      "100%|██████████| 155/155 [01:43<00:00,  1.49it/s]\n",
      "100%|██████████| 155/155 [01:44<00:00,  1.48it/s]\n",
      "100%|██████████| 155/155 [01:41<00:00,  1.53it/s]\n",
      "100%|██████████| 155/155 [01:42<00:00,  1.51it/s]\n",
      "100%|██████████| 155/155 [01:40<00:00,  1.53it/s]\n",
      "100%|██████████| 155/155 [01:40<00:00,  1.54it/s]\n",
      "100%|██████████| 155/155 [01:38<00:00,  1.57it/s]\n",
      "100%|██████████| 155/155 [01:40<00:00,  1.55it/s]\n",
      "100%|██████████| 155/155 [01:38<00:00,  1.58it/s]\n",
      "100%|██████████| 155/155 [01:41<00:00,  1.53it/s]\n",
      "100%|██████████| 155/155 [01:39<00:00,  1.55it/s]\n",
      "100%|██████████| 155/155 [01:39<00:00,  1.56it/s]\n",
      "100%|██████████| 155/155 [01:37<00:00,  1.59it/s]\n",
      "100%|██████████| 155/155 [01:37<00:00,  1.59it/s]\n",
      "100%|██████████| 155/155 [01:37<00:00,  1.59it/s]\n",
      "100%|██████████| 155/155 [01:39<00:00,  1.57it/s]\n",
      "100%|██████████| 155/155 [01:39<00:00,  1.55it/s]\n",
      "100%|██████████| 155/155 [01:36<00:00,  1.60it/s]\n",
      "100%|██████████| 155/155 [01:38<00:00,  1.58it/s]\n",
      "100%|██████████| 155/155 [01:36<00:00,  3.77it/s]\n",
      "100%|██████████| 155/155 [01:38<00:00,  1.58it/s]\n",
      "100%|██████████| 155/155 [01:34<00:00,  1.64it/s]\n",
      "100%|██████████| 155/155 [01:35<00:00,  1.62it/s]\n",
      "100%|██████████| 155/155 [01:36<00:00,  1.61it/s]\n",
      "100%|██████████| 155/155 [01:34<00:00,  1.64it/s]\n",
      "100%|██████████| 155/155 [01:35<00:00,  1.62it/s]\n",
      "100%|██████████| 155/155 [01:33<00:00,  1.65it/s]\n",
      "100%|██████████| 155/155 [01:30<00:00,  1.71it/s]\n",
      "100%|██████████| 155/155 [01:30<00:00,  1.71it/s]\n",
      "100%|██████████| 155/155 [00:58<00:00,  2.67it/s]\n",
      "Testing weights for model 1: 100%|██████████| 101/101 [41:25<00:00, 24.61s/it]"
     ]
    },
    {
     "name": "stdout",
     "output_type": "stream",
     "text": [
      "Added model with weight 0.0100, New score: 0.360055\n",
      "\n",
      "Optimization complete!\n",
      "Initial score: 0.356892\n",
      "Final score: 0.360055\n",
      "Improvement: 0.003163 (0.89%)\n",
      "Model weights: {'model_1': 0.010000000000000453}\n"
     ]
    },
    {
     "name": "stderr",
     "output_type": "stream",
     "text": [
      "\n"
     ]
    }
   ],
   "source": [
    "# Load your experiment dataframes\n",
    "experiment1_df = exp_1_oof\n",
    "experiment2_df = exp_2_oof\n",
    "\n",
    "# Create list of experiment dataframes\n",
    "experiments_list = [experiment1_df, experiment2_df]\n",
    "\n",
    "# Run the hill climbing optimizer\n",
    "model_weights, best_score, final_ensemble = hill_climbing_optimizer(\n",
    "    experiments_list=experiments_list,\n",
    "    weight_step=0.1,\n",
    "    max_iterations=10,\n",
    "    num_cores=4\n",
    ")"
   ]
  },
  {
   "cell_type": "code",
   "execution_count": 25,
   "id": "49b966f3",
   "metadata": {
    "execution": {
     "iopub.execute_input": "2025-04-19T04:22:42.787323Z",
     "iopub.status.busy": "2025-04-19T04:22:42.786811Z",
     "iopub.status.idle": "2025-04-19T04:22:42.808019Z",
     "shell.execute_reply": "2025-04-19T04:22:42.807170Z"
    },
    "papermill": {
     "duration": 0.76577,
     "end_time": "2025-04-19T04:22:42.809423",
     "exception": false,
     "start_time": "2025-04-19T04:22:42.043653",
     "status": "completed"
    },
    "tags": []
   },
   "outputs": [
    {
     "data": {
      "text/plain": [
       "({'model_1': 0.010000000000000453},\n",
       " 0.3600551612903228,\n",
       "        Unnamed: 0         ID resname  resid         x_1         y_1  \\\n",
       " 0            1720   1FFK_9_1       U      1 -105.116440  472.604155   \n",
       " 1            1721   1FFK_9_2       U      2 -103.569543  469.711245   \n",
       " 2            1722   1FFK_9_3       A      3 -100.721181  466.767187   \n",
       " 3            1723   1FFK_9_4       G      4 -105.674383  461.825833   \n",
       " 4            1724   1FFK_9_5       G      5 -108.873500  456.556830   \n",
       " ...           ...        ...     ...    ...         ...         ...   \n",
       " 23225       64413  8Z1F_T_62       U     62  -91.282302  457.036544   \n",
       " 23226       64414  8Z1F_T_63       A     63  -87.750626  453.817912   \n",
       " 23227       64415  8Z1F_T_64       C     64  -87.527391  454.765797   \n",
       " 23228       64416  8Z1F_T_65       C     65  -88.011947  449.739074   \n",
       " 23229       64417  8Z1F_T_66       A     66  -90.967616  445.921439   \n",
       " \n",
       "               z_1         x_2         y_2         z_2  ...         y_4  \\\n",
       " 0     -180.298954 -104.644095  473.708276 -177.594005  ...  472.568249   \n",
       " 1     -175.328832 -102.548390  472.218044 -175.582170  ...  470.713143   \n",
       " 2     -172.097380 -101.602430  468.231386 -174.109809  ...  467.540881   \n",
       " 3     -173.137153 -107.511303  463.842983 -173.074118  ...  463.649226   \n",
       " 4     -175.552407 -108.259239  458.190002 -175.409796  ...  458.178330   \n",
       " ...           ...         ...         ...         ...  ...         ...   \n",
       " 23225 -200.149836  -90.598929  459.152839 -200.954539  ...  458.034059   \n",
       " 23226 -203.457772  -88.835624  458.120016 -206.129453  ...  454.558919   \n",
       " 23227 -207.741461  -89.840863  456.712880 -209.693063  ...  454.400545   \n",
       " 23228 -209.736695  -91.946716  451.349022 -209.607637  ...  451.833422   \n",
       " 23229 -213.844028  -94.891689  447.750721 -210.841863  ...  446.883759   \n",
       " \n",
       "               z_4         x_5         y_5         z_5   flag    x_1_true  \\\n",
       " 0     -181.635328 -106.762464  476.268370 -180.821363  False   50.841000   \n",
       " 1     -175.562173 -105.114225  474.865155 -175.782171  False   52.405998   \n",
       " 2     -173.026720 -102.525717  470.020167 -173.139192  False   57.773998   \n",
       " 3     -173.524111 -108.271843  465.777157 -173.134978  False   57.311001   \n",
       " 4     -175.140276 -111.045938  460.820747 -175.327189  False   57.646999   \n",
       " ...           ...         ...         ...         ...    ...         ...   \n",
       " 23225 -200.961801  -89.276798  461.462363 -200.162551  False  112.516998   \n",
       " 23226 -205.419342  -87.842206  460.215533 -205.059689  False  115.292999   \n",
       " 23227 -209.025744  -88.823813  460.115063 -208.273272  False  115.857002   \n",
       " 23228 -214.252026  -89.985562  457.461877 -212.807591  False  113.816002   \n",
       " 23229 -214.590273  -94.689414  455.006864 -215.398174  False  118.279999   \n",
       " \n",
       "          y_1_true    z_1_true  target_id  \n",
       " 0       14.916000   99.295998       1FFK  \n",
       " 1       10.401000  106.478996       1FFK  \n",
       " 2       14.789000  103.852997       1FFK  \n",
       " 3       16.924000   96.344002       1FFK  \n",
       " 4       20.913000   92.202003       1FFK  \n",
       " ...           ...         ...        ...  \n",
       " 23225  117.880997  119.245003       8Z1F  \n",
       " 23226  116.571999  114.827003       8Z1F  \n",
       " 23227  114.595001  109.509003       8Z1F  \n",
       " 23228  113.236000  104.339996       8Z1F  \n",
       " 23229  113.883003   98.071999       8Z1F  \n",
       " \n",
       " [23230 rows x 24 columns])"
      ]
     },
     "execution_count": 25,
     "metadata": {},
     "output_type": "execute_result"
    }
   ],
   "source": [
    "model_weights, best_score, final_ensemble"
   ]
  },
  {
   "cell_type": "code",
   "execution_count": 26,
   "id": "eff3ee46",
   "metadata": {
    "execution": {
     "iopub.execute_input": "2025-04-19T04:22:44.516062Z",
     "iopub.status.busy": "2025-04-19T04:22:44.515736Z",
     "iopub.status.idle": "2025-04-19T04:22:45.336510Z",
     "shell.execute_reply": "2025-04-19T04:22:45.335516Z"
    },
    "papermill": {
     "duration": 1.589945,
     "end_time": "2025-04-19T04:22:45.338275",
     "exception": false,
     "start_time": "2025-04-19T04:22:43.748330",
     "status": "completed"
    },
    "tags": []
   },
   "outputs": [],
   "source": [
    "# Save the final ensemble\n",
    "final_ensemble.to_csv('final_ensemble.csv', index=False)"
   ]
  },
  {
   "cell_type": "code",
   "execution_count": null,
   "id": "06cf3516",
   "metadata": {
    "papermill": {
     "duration": 0.746943,
     "end_time": "2025-04-19T04:22:46.949145",
     "exception": false,
     "start_time": "2025-04-19T04:22:46.202202",
     "status": "completed"
    },
    "tags": []
   },
   "outputs": [],
   "source": []
  }
 ],
 "metadata": {
  "kaggle": {
   "accelerator": "none",
   "dataSources": [
    {
     "databundleVersionId": 11553390,
     "isSourceIdPinned": false,
     "sourceId": 87793,
     "sourceType": "competition"
    },
    {
     "datasetId": 6742586,
     "sourceId": 10855324,
     "sourceType": "datasetVersion"
    },
    {
     "sourceId": 232754793,
     "sourceType": "kernelVersion"
    },
    {
     "sourceId": 233427159,
     "sourceType": "kernelVersion"
    },
    {
     "sourceId": 233747992,
     "sourceType": "kernelVersion"
    },
    {
     "sourceId": 233810385,
     "sourceType": "kernelVersion"
    },
    {
     "sourceId": 234620162,
     "sourceType": "kernelVersion"
    },
    {
     "sourceId": 234582641,
     "sourceType": "kernelVersion"
    }
   ],
   "dockerImageVersionId": 31012,
   "isGpuEnabled": false,
   "isInternetEnabled": true,
   "language": "python",
   "sourceType": "notebook"
  },
  "kernelspec": {
   "display_name": "Python 3",
   "language": "python",
   "name": "python3"
  },
  "language_info": {
   "codemirror_mode": {
    "name": "ipython",
    "version": 3
   },
   "file_extension": ".py",
   "mimetype": "text/x-python",
   "name": "python",
   "nbconvert_exporter": "python",
   "pygments_lexer": "ipython3",
   "version": "3.11.11"
  },
  "papermill": {
   "default_parameters": {},
   "duration": 2561.293557,
   "end_time": "2025-04-19T04:22:50.409471",
   "environment_variables": {},
   "exception": null,
   "input_path": "__notebook__.ipynb",
   "output_path": "__notebook__.ipynb",
   "parameters": {},
   "start_time": "2025-04-19T03:40:09.115914",
   "version": "2.6.0"
  }
 },
 "nbformat": 4,
 "nbformat_minor": 5
}
