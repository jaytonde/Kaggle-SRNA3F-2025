{
 "cells": [
  {
   "cell_type": "markdown",
   "id": "ac37ba32",
   "metadata": {
    "papermill": {
     "duration": 0.004462,
     "end_time": "2025-04-13T13:27:12.448660",
     "exception": false,
     "start_time": "2025-04-13T13:27:12.444198",
     "status": "completed"
    },
    "tags": []
   },
   "source": [
    "## Step 1 : Imports"
   ]
  },
  {
   "cell_type": "code",
   "execution_count": 1,
   "id": "3bc24588",
   "metadata": {
    "execution": {
     "iopub.execute_input": "2025-04-13T13:27:12.457688Z",
     "iopub.status.busy": "2025-04-13T13:27:12.457292Z",
     "iopub.status.idle": "2025-04-13T13:27:14.219885Z",
     "shell.execute_reply": "2025-04-13T13:27:14.219010Z"
    },
    "papermill": {
     "duration": 1.768888,
     "end_time": "2025-04-13T13:27:14.221451",
     "exception": false,
     "start_time": "2025-04-13T13:27:12.452563",
     "status": "completed"
    },
    "tags": []
   },
   "outputs": [],
   "source": [
    "import pandas as pd"
   ]
  },
  {
   "cell_type": "markdown",
   "id": "d8adb8db",
   "metadata": {
    "papermill": {
     "duration": 0.003854,
     "end_time": "2025-04-13T13:27:14.229416",
     "exception": false,
     "start_time": "2025-04-13T13:27:14.225562",
     "status": "completed"
    },
    "tags": []
   },
   "source": [
    "## Step 2: Load the oof files"
   ]
  },
  {
   "cell_type": "code",
   "execution_count": 2,
   "id": "117f39f3",
   "metadata": {
    "execution": {
     "iopub.execute_input": "2025-04-13T13:27:14.238173Z",
     "iopub.status.busy": "2025-04-13T13:27:14.237775Z",
     "iopub.status.idle": "2025-04-13T13:27:16.173899Z",
     "shell.execute_reply": "2025-04-13T13:27:16.172887Z"
    },
    "papermill": {
     "duration": 1.94227,
     "end_time": "2025-04-13T13:27:16.175529",
     "exception": false,
     "start_time": "2025-04-13T13:27:14.233259",
     "status": "completed"
    },
    "tags": []
   },
   "outputs": [],
   "source": [
    "exp_1_oof = pd.read_csv(\"/kaggle/input/train-ribonanzanet-inference-03/ribonanzanet1_oof.csv\")\n",
    "exp_2_oof = pd.read_csv(\"/kaggle/input/train-rhofold-inference/RhoFold/rhofold_01_oof.csv\")"
   ]
  },
  {
   "cell_type": "code",
   "execution_count": 3,
   "id": "5a956aab",
   "metadata": {
    "execution": {
     "iopub.execute_input": "2025-04-13T13:27:16.184468Z",
     "iopub.status.busy": "2025-04-13T13:27:16.184160Z",
     "iopub.status.idle": "2025-04-13T13:27:16.190640Z",
     "shell.execute_reply": "2025-04-13T13:27:16.189907Z"
    },
    "papermill": {
     "duration": 0.01255,
     "end_time": "2025-04-13T13:27:16.192045",
     "exception": false,
     "start_time": "2025-04-13T13:27:16.179495",
     "status": "completed"
    },
    "tags": []
   },
   "outputs": [
    {
     "data": {
      "text/plain": [
       "((59508, 23), (47857, 22))"
      ]
     },
     "execution_count": 3,
     "metadata": {},
     "output_type": "execute_result"
    }
   ],
   "source": [
    "exp_1_oof.shape, exp_2_oof.shape"
   ]
  },
  {
   "cell_type": "code",
   "execution_count": 4,
   "id": "e0ed5f4d",
   "metadata": {
    "execution": {
     "iopub.execute_input": "2025-04-13T13:27:16.201043Z",
     "iopub.status.busy": "2025-04-13T13:27:16.200715Z",
     "iopub.status.idle": "2025-04-13T13:27:16.208224Z",
     "shell.execute_reply": "2025-04-13T13:27:16.207186Z"
    },
    "papermill": {
     "duration": 0.013742,
     "end_time": "2025-04-13T13:27:16.209756",
     "exception": false,
     "start_time": "2025-04-13T13:27:16.196014",
     "status": "completed"
    },
    "tags": []
   },
   "outputs": [
    {
     "data": {
      "text/plain": [
       "(Index(['Unnamed: 0', 'ID', 'resname', 'resid', 'x_1', 'y_1', 'z_1', 'x_2',\n",
       "        'y_2', 'z_2', 'x_3', 'y_3', 'z_3', 'x_4', 'y_4', 'z_4', 'x_5', 'y_5',\n",
       "        'z_5', 'flag', 'x_1_true', 'y_1_true', 'z_1_true'],\n",
       "       dtype='object'),\n",
       " Index(['Unnamed: 0', 'ID', 'resname', 'resid', 'x_1', 'y_1', 'z_1', 'x_2',\n",
       "        'y_2', 'z_2', 'x_3', 'y_3', 'z_3', 'x_4', 'y_4', 'z_4', 'x_5', 'y_5',\n",
       "        'z_5', 'x_1_true', 'y_1_true', 'z_1_true'],\n",
       "       dtype='object'))"
      ]
     },
     "execution_count": 4,
     "metadata": {},
     "output_type": "execute_result"
    }
   ],
   "source": [
    "exp_1_oof.columns, exp_2_oof.columns"
   ]
  },
  {
   "cell_type": "markdown",
   "id": "4d27855d",
   "metadata": {
    "papermill": {
     "duration": 0.003581,
     "end_time": "2025-04-13T13:27:16.217420",
     "exception": false,
     "start_time": "2025-04-13T13:27:16.213839",
     "status": "completed"
    },
    "tags": []
   },
   "source": [
    "## Step -1: Hill climbing code"
   ]
  },
  {
   "cell_type": "code",
   "execution_count": 5,
   "id": "1c7ba0b0",
   "metadata": {
    "execution": {
     "iopub.execute_input": "2025-04-13T13:27:16.226467Z",
     "iopub.status.busy": "2025-04-13T13:27:16.225841Z",
     "iopub.status.idle": "2025-04-13T13:27:16.264325Z",
     "shell.execute_reply": "2025-04-13T13:27:16.263498Z"
    },
    "papermill": {
     "duration": 0.044833,
     "end_time": "2025-04-13T13:27:16.266066",
     "exception": false,
     "start_time": "2025-04-13T13:27:16.221233",
     "status": "completed"
    },
    "tags": []
   },
   "outputs": [],
   "source": [
    "import gc\n",
    "import os\n",
    "import re\n",
    "import sys\n",
    "import numpy as np\n",
    "import pandas as pd\n",
    "from tqdm import tqdm\n",
    "from concurrent.futures import ProcessPoolExecutor, as_completed\n",
    "import multiprocessing"
   ]
  },
  {
   "cell_type": "code",
   "execution_count": 6,
   "id": "21963234",
   "metadata": {
    "execution": {
     "iopub.execute_input": "2025-04-13T13:27:16.275813Z",
     "iopub.status.busy": "2025-04-13T13:27:16.275013Z",
     "iopub.status.idle": "2025-04-13T13:27:16.280048Z",
     "shell.execute_reply": "2025-04-13T13:27:16.279220Z"
    },
    "papermill": {
     "duration": 0.011254,
     "end_time": "2025-04-13T13:27:16.281469",
     "exception": false,
     "start_time": "2025-04-13T13:27:16.270215",
     "status": "completed"
    },
    "tags": []
   },
   "outputs": [],
   "source": [
    "def setup_usalign():\n",
    "    \"\"\"\n",
    "    Sets up USalign by copying it to the working directory and making it executable.\n",
    "    \"\"\"\n",
    "    # Copy USalign to working directory if it doesn't exist\n",
    "    if not os.path.exists('/kaggle/working/USalign'):\n",
    "        os.system('cp //kaggle/input/usalign/USalign /kaggle/working/')\n",
    "        os.system('sudo chmod u+x /kaggle/working/USalign')\n",
    "        print(\"USalign binary copied and made executable\")\n",
    "    return '/kaggle/working/USalign'"
   ]
  },
  {
   "cell_type": "code",
   "execution_count": 7,
   "id": "41cb226d",
   "metadata": {
    "execution": {
     "iopub.execute_input": "2025-04-13T13:27:16.290918Z",
     "iopub.status.busy": "2025-04-13T13:27:16.290057Z",
     "iopub.status.idle": "2025-04-13T13:27:16.295930Z",
     "shell.execute_reply": "2025-04-13T13:27:16.295004Z"
    },
    "papermill": {
     "duration": 0.011838,
     "end_time": "2025-04-13T13:27:16.297281",
     "exception": false,
     "start_time": "2025-04-13T13:27:16.285443",
     "status": "completed"
    },
    "tags": []
   },
   "outputs": [],
   "source": [
    "def parse_tmscore_output(output):\n",
    "    # Extract TM-score based on length of reference structure (second)\n",
    "    tm_score_match = re.findall(r'TM-score=\\s+([\\d.]+)', output)[1]\n",
    "    if not tm_score_match:\n",
    "        raise ValueError('No TM score found')\n",
    "    return float(tm_score_match)\n",
    "\n",
    "\n",
    "def write_target_line(\n",
    "    atom_name, atom_serial, residue_name, chain_id, residue_num, x_coord, y_coord, z_coord, occupancy=1.0, b_factor=0.0, atom_type='P'\n",
    ") -> str:\n",
    "    \"\"\"\n",
    "    Writes a single line of PDB format based on provided atom information.\n",
    "    \"\"\"\n",
    "    return f'ATOM  {atom_serial:>5d}  {atom_name:<5s} {residue_name:<3s} {residue_num:>3d}    {x_coord:>8.3f}{y_coord:>8.3f}{z_coord:>8.3f}{occupancy:>6.2f}{b_factor:>6.2f}           {atom_type}\\n'"
   ]
  },
  {
   "cell_type": "code",
   "execution_count": 8,
   "id": "76fa44ce",
   "metadata": {
    "execution": {
     "iopub.execute_input": "2025-04-13T13:27:16.306133Z",
     "iopub.status.busy": "2025-04-13T13:27:16.305826Z",
     "iopub.status.idle": "2025-04-13T13:27:16.311968Z",
     "shell.execute_reply": "2025-04-13T13:27:16.311184Z"
    },
    "papermill": {
     "duration": 0.012174,
     "end_time": "2025-04-13T13:27:16.313332",
     "exception": false,
     "start_time": "2025-04-13T13:27:16.301158",
     "status": "completed"
    },
    "tags": []
   },
   "outputs": [],
   "source": [
    "def write2pdb(df: pd.DataFrame, xyz_id: str, target_path: str) -> int:\n",
    "    resolved_cnt = 0\n",
    "    with open(target_path, 'w') as target_file:\n",
    "        for _, row in df.iterrows():\n",
    "            x_coord = row[f'x_{xyz_id}']\n",
    "            y_coord = row[f'y_{xyz_id}']\n",
    "            z_coord = row[f'z_{xyz_id}']\n",
    "\n",
    "            if x_coord > -1e17 and y_coord > -1e17 and z_coord > -1e17:\n",
    "                resolved_cnt += 1\n",
    "                target_line = write_target_line(\n",
    "                    atom_name=\"C1'\",\n",
    "                    atom_serial=int(row['resid']),\n",
    "                    residue_name=row['resname'],\n",
    "                    chain_id='0',\n",
    "                    residue_num=int(row['resid']),\n",
    "                    x_coord=x_coord,\n",
    "                    y_coord=y_coord,\n",
    "                    z_coord=z_coord,\n",
    "                    atom_type='C',\n",
    "                )\n",
    "                target_file.write(target_line)\n",
    "    return resolved_cnt"
   ]
  },
  {
   "cell_type": "code",
   "execution_count": 9,
   "id": "54b2b008",
   "metadata": {
    "execution": {
     "iopub.execute_input": "2025-04-13T13:27:16.323327Z",
     "iopub.status.busy": "2025-04-13T13:27:16.322996Z",
     "iopub.status.idle": "2025-04-13T13:27:16.329524Z",
     "shell.execute_reply": "2025-04-13T13:27:16.328561Z"
    },
    "papermill": {
     "duration": 0.013914,
     "end_time": "2025-04-13T13:27:16.331210",
     "exception": false,
     "start_time": "2025-04-13T13:27:16.317296",
     "status": "completed"
    },
    "tags": []
   },
   "outputs": [],
   "source": [
    "def write_ground_truth_pdb(df: pd.DataFrame, target_path: str) -> int:\n",
    "    \"\"\"\n",
    "    Writes ground truth coordinates to a PDB file.\n",
    "    \"\"\"\n",
    "    resolved_cnt = 0\n",
    "    with open(target_path, 'w') as target_file:\n",
    "        for _, row in df.iterrows():\n",
    "            x_coord = row['x_1_true']\n",
    "            y_coord = row['y_1_true']\n",
    "            z_coord = row['z_1_true']\n",
    "\n",
    "            if x_coord > -1e17 and y_coord > -1e17 and z_coord > -1e17:\n",
    "                resolved_cnt += 1\n",
    "                target_line = write_target_line(\n",
    "                    atom_name=\"C1'\",\n",
    "                    atom_serial=int(row['resid']),\n",
    "                    residue_name=row['resname'],\n",
    "                    chain_id='0',\n",
    "                    residue_num=int(row['resid']),\n",
    "                    x_coord=x_coord,\n",
    "                    y_coord=y_coord,\n",
    "                    z_coord=z_coord,\n",
    "                    atom_type='C',\n",
    "                )\n",
    "                target_file.write(target_line)\n",
    "    return resolved_cnt"
   ]
  },
  {
   "cell_type": "code",
   "execution_count": 10,
   "id": "acd65717",
   "metadata": {
    "execution": {
     "iopub.execute_input": "2025-04-13T13:27:16.342942Z",
     "iopub.status.busy": "2025-04-13T13:27:16.341976Z",
     "iopub.status.idle": "2025-04-13T13:27:16.350485Z",
     "shell.execute_reply": "2025-04-13T13:27:16.349085Z"
    },
    "papermill": {
     "duration": 0.015727,
     "end_time": "2025-04-13T13:27:16.352457",
     "exception": false,
     "start_time": "2025-04-13T13:27:16.336730",
     "status": "completed"
    },
    "tags": []
   },
   "outputs": [],
   "source": [
    "def evaluate_single_weight(args):\n",
    "    \"\"\"\n",
    "    Evaluates a single weight combination for ensembling two RNA structure predictions.\n",
    "    \n",
    "    Args:\n",
    "        args (tuple): Contains weight, first_pred_df, second_pred_df, temporary_dir, and usalign_path\n",
    "        \n",
    "    Returns:\n",
    "        tuple: weight and resulting score\n",
    "    \"\"\"\n",
    "    weight, first_pred_df, second_pred_df, temp_dir, usalign_path = args\n",
    "    \n",
    "    # Create a copy of the first prediction dataframe\n",
    "    ensemble_df = first_pred_df.copy()\n",
    "    \n",
    "    # For each prediction (1-5), blend the coordinates using the weight\n",
    "    for pred_idx in range(1, 6):\n",
    "        # Blend x coordinates\n",
    "        ensemble_df[f'x_{pred_idx}'] = (1 - weight) * first_pred_df[f'x_{pred_idx}'] + weight * second_pred_df[f'x_{pred_idx}']\n",
    "        # Blend y coordinates\n",
    "        ensemble_df[f'y_{pred_idx}'] = (1 - weight) * first_pred_df[f'y_{pred_idx}'] + weight * second_pred_df[f'y_{pred_idx}']\n",
    "        # Blend z coordinates\n",
    "        ensemble_df[f'z_{pred_idx}'] = (1 - weight) * first_pred_df[f'z_{pred_idx}'] + weight * second_pred_df[f'z_{pred_idx}']\n",
    "    \n",
    "    # Create unique filenames for this process to avoid conflicts in parallel processing\n",
    "    process_id = os.getpid()\n",
    "    native_pdb = f'{temp_dir}/native_{process_id}.pdb'\n",
    "    predicted_pdb = f'{temp_dir}/predicted_{process_id}.pdb'\n",
    "    \n",
    "    # Evaluate using TM-score\n",
    "    score = score_ensemble(ensemble_df, native_pdb, predicted_pdb, usalign_path)\n",
    "    \n",
    "    return weight, score"
   ]
  },
  {
   "cell_type": "code",
   "execution_count": 11,
   "id": "07433d34",
   "metadata": {
    "execution": {
     "iopub.execute_input": "2025-04-13T13:27:16.362450Z",
     "iopub.status.busy": "2025-04-13T13:27:16.362053Z",
     "iopub.status.idle": "2025-04-13T13:27:16.375246Z",
     "shell.execute_reply": "2025-04-13T13:27:16.374214Z"
    },
    "papermill": {
     "duration": 0.020478,
     "end_time": "2025-04-13T13:27:16.377337",
     "exception": false,
     "start_time": "2025-04-13T13:27:16.356859",
     "status": "completed"
    },
    "tags": []
   },
   "outputs": [],
   "source": [
    "from tqdm import tqdm\n",
    "\n",
    "def score_ensemble(ensemble_df, native_pdb='native.pdb', predicted_pdb='predicted.pdb', usalign_path=None):\n",
    "    \"\"\"\n",
    "    Scores the ensemble predictions against the ground truth using TM-score.\n",
    "    \n",
    "    Args:\n",
    "        ensemble_df (pd.DataFrame): DataFrame with predicted coordinates and ground truth\n",
    "        native_pdb (str): Path to write the native PDB file\n",
    "        predicted_pdb (str): Path to write the predicted PDB file\n",
    "        usalign_path (str): Path to the USalign executable\n",
    "        \n",
    "    Returns:\n",
    "        float: Average TM-score across all targets\n",
    "    \"\"\"\n",
    "    if usalign_path is None:\n",
    "        usalign_path = '/kaggle/working/USalign'\n",
    "    \n",
    "    from contextlib import contextmanager\n",
    "    \n",
    "    @contextmanager\n",
    "    def no_stdout():\n",
    "        old_stdout = sys.stdout\n",
    "        sys.stdout = open(os.devnull, 'w')\n",
    "        try:\n",
    "            yield\n",
    "        finally:\n",
    "            sys.stdout = old_stdout\n",
    "    \n",
    "    # Extract target_id from ID (target_resid)\n",
    "    ensemble_df['target_id'] = ensemble_df['ID'].apply(lambda x: x.split('_')[0])\n",
    "    \n",
    "    results = []\n",
    "    # Iterate through each target_id and compute TM-score\n",
    "    unique_targets = ensemble_df['target_id'].unique()\n",
    "    for target_id in tqdm(unique_targets):\n",
    "        group_data = ensemble_df[ensemble_df['target_id'] == target_id]\n",
    "        \n",
    "        # Write ground truth PDB once per target\n",
    "        with no_stdout():\n",
    "            resolved_cnt_truth = write_ground_truth_pdb(group_data, native_pdb)\n",
    "        \n",
    "        if resolved_cnt_truth == 0:\n",
    "            continue  # Skip if no ground truth coordinates\n",
    "        \n",
    "        target_id_scores = []\n",
    "        for pred_cnt in range(1, 6):\n",
    "            # Write predicted PDB\n",
    "            with no_stdout():\n",
    "                resolved_cnt_pred = write2pdb(group_data, pred_cnt, predicted_pdb)\n",
    "            \n",
    "            if resolved_cnt_pred > 0:\n",
    "                try:\n",
    "                    command = f'{usalign_path} {predicted_pdb} {native_pdb} -atom \" C1\\'\"'\n",
    "                    usalign_output = os.popen(command).read()\n",
    "                    tm_score = parse_tmscore_output(usalign_output)\n",
    "                    target_id_scores.append(tm_score)\n",
    "                except Exception as e:\n",
    "                    # Silent error handling during optimization\n",
    "                    continue\n",
    "        \n",
    "        if target_id_scores:\n",
    "            results.append(max(target_id_scores))\n",
    "    \n",
    "    # Return average TM-score across all targets\n",
    "    if not results:\n",
    "        return 0.0\n",
    "    return float(sum(results) / len(results))"
   ]
  },
  {
   "cell_type": "code",
   "execution_count": 12,
   "id": "2570509f",
   "metadata": {
    "execution": {
     "iopub.execute_input": "2025-04-13T13:27:16.388241Z",
     "iopub.status.busy": "2025-04-13T13:27:16.387897Z",
     "iopub.status.idle": "2025-04-13T13:27:16.402186Z",
     "shell.execute_reply": "2025-04-13T13:27:16.401276Z"
    },
    "papermill": {
     "duration": 0.020918,
     "end_time": "2025-04-13T13:27:16.403570",
     "exception": false,
     "start_time": "2025-04-13T13:27:16.382652",
     "status": "completed"
    },
    "tags": []
   },
   "outputs": [],
   "source": [
    "def hill_climbing_optimizer(experiments_list, weight_step=0.05, max_iterations=50, num_cores=None):\n",
    "    \"\"\"\n",
    "    Performs hill climbing optimization to find the best ensemble weights for RNA structure predictions.\n",
    "    \n",
    "    Args:\n",
    "        experiments_list (list): List of dataframes with predictions\n",
    "        weight_step (float): Step size for weight exploration\n",
    "        max_iterations (int): Maximum number of iterations\n",
    "        num_cores (int): Number of CPU cores to use for parallelization\n",
    "        \n",
    "    Returns:\n",
    "        tuple: Dictionary of weights, best score, and final ensemble dataframe\n",
    "    \"\"\"\n",
    "    # Set up USalign\n",
    "    usalign_path = setup_usalign()\n",
    "    \n",
    "    if num_cores is None:\n",
    "        num_cores = max(1, multiprocessing.cpu_count() - 1)\n",
    "    \n",
    "    # Create temporary directory for parallel processing\n",
    "    temp_dir = '/tmp/rna_ensemble'\n",
    "    os.makedirs(temp_dir, exist_ok=True)\n",
    "    \n",
    "    # Start with the first experiment as baseline\n",
    "    best_ensemble_df = experiments_list[0].copy()\n",
    "    remaining_experiments = experiments_list[1:].copy()\n",
    "    \n",
    "    # Dictionary to store weights for each experiment\n",
    "    model_weights = {}\n",
    "    \n",
    "    # Define the weight range to explore\n",
    "    weights_range = np.arange(0.0, 1.0 + weight_step, weight_step)\n",
    "    print(f\"Number of weights testing : {len(weights_range)}\")\n",
    "    \n",
    "    # Get initial score\n",
    "    initial_score = score_ensemble(best_ensemble_df, usalign_path=usalign_path)\n",
    "    best_score = initial_score\n",
    "    print(f\"Initial score: {best_score:.6f}\")\n",
    "    \n",
    "    iteration = 0\n",
    "    while remaining_experiments and iteration < max_iterations:\n",
    "        iteration += 1\n",
    "        print(f\"\\nIteration {iteration}/{max_iterations}\")\n",
    "        \n",
    "        best_iteration = {\n",
    "            'index': -1,\n",
    "            'weight': 0,\n",
    "            'score': best_score,\n",
    "            'df': None\n",
    "        }\n",
    "        \n",
    "        # Try each remaining model\n",
    "        for i, model_df in enumerate(remaining_experiments):\n",
    "            try:\n",
    "                print(f\"Testing model {i+1}/{len(remaining_experiments)}\")\n",
    "                \n",
    "                # Prepare arguments for parallel processing\n",
    "                args_list = [(weight, best_ensemble_df, model_df, temp_dir, usalign_path) \n",
    "                             for weight in weights_range]\n",
    "                \n",
    "                # Process weights in parallel\n",
    "                with ProcessPoolExecutor(max_workers=num_cores) as executor:\n",
    "                    futures = [executor.submit(evaluate_single_weight, args) for args in args_list]\n",
    "                    \n",
    "                    # Process results as they complete\n",
    "                    for future in tqdm(as_completed(futures), total=len(futures), \n",
    "                                      desc=f\"Testing weights for model {i+1}\"):\n",
    "                        weight, new_score = future.result()\n",
    "                        \n",
    "                        # Update best if improved\n",
    "                        if new_score > best_iteration['score']:\n",
    "                            # Create the ensemble for this weight\n",
    "                            tmp_ensemble_df = best_ensemble_df.copy()\n",
    "                            for pred_idx in range(1, 6):\n",
    "                                tmp_ensemble_df[f'x_{pred_idx}'] = (1 - weight) * best_ensemble_df[f'x_{pred_idx}'] + weight * model_df[f'x_{pred_idx}']\n",
    "                                tmp_ensemble_df[f'y_{pred_idx}'] = (1 - weight) * best_ensemble_df[f'y_{pred_idx}'] + weight * model_df[f'y_{pred_idx}']\n",
    "                                tmp_ensemble_df[f'z_{pred_idx}'] = (1 - weight) * best_ensemble_df[f'z_{pred_idx}'] + weight * model_df[f'z_{pred_idx}']\n",
    "                            \n",
    "                            best_iteration.update({\n",
    "                                'index': i,\n",
    "                                'weight': weight,\n",
    "                                'score': new_score,\n",
    "                                'df': tmp_ensemble_df.copy()\n",
    "                            })\n",
    "                \n",
    "                # Clean up\n",
    "                gc.collect()\n",
    "                \n",
    "            except Exception as e:\n",
    "                print(f\"Error processing model {i+1}: {str(e)}\")\n",
    "                continue\n",
    "        \n",
    "        # Check if we found an improvement\n",
    "        if best_iteration['index'] == -1:\n",
    "            print(\"No improvement found, stopping\")\n",
    "            break\n",
    "            \n",
    "        # Update ensemble with best model found\n",
    "        best_score = best_iteration['score']\n",
    "        best_ensemble_df = best_iteration['df'].copy()\n",
    "        \n",
    "        # Add weight to the selected model and remove it from remaining\n",
    "        selected_model = remaining_experiments.pop(best_iteration['index'])\n",
    "        model_weights[f\"model_{iteration}\"] = best_iteration['weight']\n",
    "        \n",
    "        print(f\"Added model with weight {best_iteration['weight']:.4f}, New score: {best_iteration['score']:.6f}\")\n",
    "        \n",
    "    print(\"\\nOptimization complete!\")\n",
    "    print(f\"Initial score: {initial_score:.6f}\")\n",
    "    print(f\"Final score: {best_score:.6f}\")\n",
    "    print(f\"Improvement: {best_score - initial_score:.6f} ({(best_score - initial_score) / initial_score * 100:.2f}%)\")\n",
    "    print(f\"Model weights: {model_weights}\")\n",
    "    \n",
    "    # Clean up temporary directory\n",
    "    for filename in os.listdir(temp_dir):\n",
    "        os.remove(os.path.join(temp_dir, filename))\n",
    "    os.rmdir(temp_dir)\n",
    "    \n",
    "    return model_weights, best_score, best_ensemble_df"
   ]
  },
  {
   "cell_type": "code",
   "execution_count": 13,
   "id": "39751ca7",
   "metadata": {
    "execution": {
     "iopub.execute_input": "2025-04-13T13:27:16.413187Z",
     "iopub.status.busy": "2025-04-13T13:27:16.412577Z",
     "iopub.status.idle": "2025-04-13T14:07:12.124466Z",
     "shell.execute_reply": "2025-04-13T14:07:12.123330Z"
    },
    "papermill": {
     "duration": 2395.71825,
     "end_time": "2025-04-13T14:07:12.126063",
     "exception": false,
     "start_time": "2025-04-13T13:27:16.407813",
     "status": "completed"
    },
    "tags": []
   },
   "outputs": [
    {
     "name": "stdout",
     "output_type": "stream",
     "text": [
      "USalign binary copied and made executable\n",
      "Number of weights testing : 11\n"
     ]
    },
    {
     "name": "stderr",
     "output_type": "stream",
     "text": [
      " 50%|█████     | 361/716 [04:20<56:07,  9.49s/it]  Sequence is too short <3!: predicted.pdb\n",
      "Sequence is too short <3!: predicted.pdb\n",
      "Sequence is too short <3!: predicted.pdb\n",
      "Sequence is too short <3!: predicted.pdb\n",
      "Sequence is too short <3!: predicted.pdb\n",
      " 67%|██████▋   | 478/716 [04:50<02:02,  1.94it/s]Sequence is too short <3!: predicted.pdb\n",
      "Sequence is too short <3!: predicted.pdb\n",
      "Sequence is too short <3!: predicted.pdb\n",
      "Sequence is too short <3!: predicted.pdb\n",
      "Sequence is too short <3!: predicted.pdb\n",
      "100%|██████████| 716/716 [07:13<00:00,  1.65it/s]"
     ]
    },
    {
     "name": "stdout",
     "output_type": "stream",
     "text": [
      "Initial score: 0.251968\n",
      "\n",
      "Iteration 1/10\n",
      "Testing model 1/1\n"
     ]
    },
    {
     "name": "stderr",
     "output_type": "stream",
     "text": [
      "\n",
      " 51%|█████     | 363/716 [07:10<59:53, 10.18s/it]  Sequence is too short <3!: /tmp/rna_ensemble/predicted_7204.pdb\n",
      "Segmentation fault (core dumped)\n",
      "Sequence is too short <3!: /tmp/rna_ensemble/predicted_7204.pdb\n",
      "Segmentation fault (core dumped)\n",
      "Sequence is too short <3!: /tmp/rna_ensemble/predicted_7204.pdb\n",
      "Segmentation fault (core dumped)\n",
      "Sequence is too short <3!: /tmp/rna_ensemble/predicted_7204.pdb\n",
      "Segmentation fault (core dumped)\n",
      "Sequence is too short <3!: /tmp/rna_ensemble/predicted_7204.pdb\n",
      "Segmentation fault (core dumped)\n",
      " 51%|█████▏    | 367/716 [07:11<19:51,  3.41s/it]Sequence is too short <3!: /tmp/rna_ensemble/predicted_7205.pdb\n",
      "Segmentation fault (core dumped)\n",
      "Sequence is too short <3!: /tmp/rna_ensemble/predicted_7205.pdb\n",
      "Segmentation fault (core dumped)\n",
      "Sequence is too short <3!: /tmp/rna_ensemble/predicted_7205.pdb\n",
      "Segmentation fault (core dumped)\n",
      "Sequence is too short <3!: /tmp/rna_ensemble/predicted_7205.pdb\n",
      "Segmentation fault (core dumped)\n",
      "Sequence is too short <3!: /tmp/rna_ensemble/predicted_7205.pdb\n",
      " 52%|█████▏    | 371/716 [07:11<07:07,  1.24s/it]Segmentation fault (core dumped)\n",
      " 50%|█████     | 361/716 [07:22<1:41:15, 17.12s/it]Sequence is too short <3!: /tmp/rna_ensemble/predicted_7206.pdb\n",
      "Segmentation fault (core dumped)\n",
      "Sequence is too short <3!: /tmp/rna_ensemble/predicted_7206.pdb\n",
      "Segmentation fault (core dumped)\n",
      "Sequence is too short <3!: /tmp/rna_ensemble/predicted_7206.pdb\n",
      "Segmentation fault (core dumped)\n",
      "Sequence is too short <3!: /tmp/rna_ensemble/predicted_7206.pdb\n",
      "Segmentation fault (core dumped)\n",
      "Sequence is too short <3!: /tmp/rna_ensemble/predicted_7206.pdb\n",
      " 51%|█████     | 364/716 [07:23<47:51,  8.16s/it]  Segmentation fault (core dumped)\n",
      " 50%|█████     | 361/716 [07:26<1:42:57, 17.40s/it]Sequence is too short <3!: /tmp/rna_ensemble/predicted_7207.pdb\n",
      "Segmentation fault (core dumped)\n",
      "Sequence is too short <3!: /tmp/rna_ensemble/predicted_7207.pdb\n",
      "Segmentation fault (core dumped)\n",
      "Sequence is too short <3!: /tmp/rna_ensemble/predicted_7207.pdb\n",
      "Segmentation fault (core dumped)\n",
      "Sequence is too short <3!: /tmp/rna_ensemble/predicted_7207.pdb\n",
      "Segmentation fault (core dumped)\n",
      "Sequence is too short <3!: /tmp/rna_ensemble/predicted_7207.pdb\n",
      " 51%|█████     | 364/716 [07:26<48:42,  8.30s/it]  Segmentation fault (core dumped)\n",
      " 67%|██████▋   | 478/716 [07:58<04:11,  1.06s/it]Sequence is too short <3!: /tmp/rna_ensemble/predicted_7204.pdb\n",
      "Segmentation fault (core dumped)\n",
      "Sequence is too short <3!: /tmp/rna_ensemble/predicted_7204.pdb\n",
      "Segmentation fault (core dumped)\n",
      "Sequence is too short <3!: /tmp/rna_ensemble/predicted_7204.pdb\n",
      "Segmentation fault (core dumped)\n",
      "Sequence is too short <3!: /tmp/rna_ensemble/predicted_7204.pdb\n",
      "Segmentation fault (core dumped)\n",
      " 67%|██████▋   | 482/716 [07:58<01:38,  2.38it/s]\n",
      "Segmentation fault (core dumped)\n",
      " 68%|██████▊   | 485/716 [08:01<02:10,  1.77it/s]Sequence is too short <3!: /tmp/rna_ensemble/predicted_7205.pdb\n",
      "Segmentation fault (core dumped)\n",
      "Sequence is too short <3!: /tmp/rna_ensemble/predicted_7205.pdb\n",
      "Segmentation fault (core dumped)\n",
      "Sequence is too short <3!: /tmp/rna_ensemble/predicted_7205.pdb\n",
      "Segmentation fault (core dumped)\n",
      "Sequence is too short <3!: /tmp/rna_ensemble/predicted_7205.pdb\n",
      "Segmentation fault (core dumped)\n",
      "Sequence is too short <3!: /tmp/rna_ensemble/predicted_7205.pdb\n",
      " 68%|██████▊   | 488/716 [08:02<01:11,  3.21it/s]Segmentation fault (core dumped)\n",
      " 71%|███████▏  | 511/716 [08:15<06:11,  1.81s/it]Sequence is too short <3!: /tmp/rna_ensemble/predicted_7206.pdb\n",
      "Segmentation fault (core dumped)\n",
      "Sequence is too short <3!: /tmp/rna_ensemble/predicted_7206.pdb\n",
      "Segmentation fault (core dumped)\n",
      "Sequence is too short <3!: /tmp/rna_ensemble/predicted_7206.pdb\n",
      "Segmentation fault (core dumped)\n",
      "Sequence is too short <3!: /tmp/rna_ensemble/predicted_7206.pdb\n",
      "Segmentation fault (core dumped)\n",
      "Sequence is too short <3!: /tmp/rna_ensemble/predicted_7206.pdb\n",
      " 67%|██████▋   | 481/716 [08:15<02:13,  1.76it/s]Segmentation fault (core dumped)\n",
      " 68%|██████▊   | 487/716 [08:18<01:22,  2.79it/s]Sequence is too short <3!: /tmp/rna_ensemble/predicted_7207.pdb\n",
      "Segmentation fault (core dumped)\n",
      "Sequence is too short <3!: /tmp/rna_ensemble/predicted_7207.pdb\n",
      "Segmentation fault (core dumped)\n",
      "Sequence is too short <3!: /tmp/rna_ensemble/predicted_7207.pdb\n",
      "Segmentation fault (core dumped)\n",
      "Sequence is too short <3!: /tmp/rna_ensemble/predicted_7207.pdb\n",
      "Segmentation fault (core dumped)\n",
      "Sequence is too short <3!: /tmp/rna_ensemble/predicted_7207.pdb\n",
      " 68%|██████▊   | 488/716 [08:18<01:10,  3.22it/s]Segmentation fault (core dumped)\n",
      "100%|██████████| 716/716 [11:23<00:00,  1.05it/s]\n",
      "100%|██████████| 716/716 [11:27<00:00,  1.04it/s]\n",
      "100%|██████████| 716/716 [11:44<00:00,  1.02it/s]\n",
      "100%|██████████| 716/716 [11:48<00:00,  1.01it/s]\n",
      " 50%|█████     | 361/716 [07:23<1:42:04, 17.25s/it]Sequence is too short <3!: /tmp/rna_ensemble/predicted_7204.pdb\n",
      "Segmentation fault (core dumped)\n",
      "Sequence is too short <3!: /tmp/rna_ensemble/predicted_7204.pdb\n",
      "Segmentation fault (core dumped)\n",
      "Sequence is too short <3!: /tmp/rna_ensemble/predicted_7204.pdb\n",
      "Segmentation fault (core dumped)\n",
      "Sequence is too short <3!: /tmp/rna_ensemble/predicted_7204.pdb\n",
      " 51%|█████     | 364/716 [07:24<48:15,  8.22s/it]  Segmentation fault (core dumped)\n",
      "Sequence is too short <3!: /tmp/rna_ensemble/predicted_7204.pdb\n",
      "Segmentation fault (core dumped)\n",
      " 50%|█████     | 361/716 [07:20<1:41:41, 17.19s/it]Sequence is too short <3!: /tmp/rna_ensemble/predicted_7205.pdb\n",
      "Segmentation fault (core dumped)\n",
      "Sequence is too short <3!: /tmp/rna_ensemble/predicted_7205.pdb\n",
      "Segmentation fault (core dumped)\n",
      "Sequence is too short <3!: /tmp/rna_ensemble/predicted_7205.pdb\n",
      "Segmentation fault (core dumped)\n",
      "Sequence is too short <3!: /tmp/rna_ensemble/predicted_7205.pdb\n",
      "Segmentation fault (core dumped)\n",
      "Sequence is too short <3!: /tmp/rna_ensemble/predicted_7205.pdb\n",
      " 51%|█████     | 364/716 [07:20<47:57,  8.18s/it]  Segmentation fault (core dumped)\n",
      " 59%|█████▉    | 426/716 [07:42<02:05,  2.31it/s]Sequence is too short <3!: /tmp/rna_ensemble/predicted_7206.pdb\n",
      "Segmentation fault (core dumped)\n",
      "Sequence is too short <3!: /tmp/rna_ensemble/predicted_7206.pdb\n",
      "Segmentation fault (core dumped)\n",
      "Sequence is too short <3!: /tmp/rna_ensemble/predicted_7206.pdb\n",
      "Segmentation fault (core dumped)\n",
      "Sequence is too short <3!: /tmp/rna_ensemble/predicted_7206.pdb\n",
      "Segmentation fault (core dumped)\n",
      "Sequence is too short <3!: /tmp/rna_ensemble/predicted_7206.pdb\n",
      " 51%|█████     | 364/716 [07:21<48:01,  8.19s/it]  Segmentation fault (core dumped)\n",
      " 50%|█████     | 361/716 [07:21<1:43:34, 17.51s/it]Sequence is too short <3!: /tmp/rna_ensemble/predicted_7207.pdb\n",
      "Segmentation fault (core dumped)\n",
      "Sequence is too short <3!: /tmp/rna_ensemble/predicted_7207.pdb\n",
      "Segmentation fault (core dumped)\n",
      "Sequence is too short <3!: /tmp/rna_ensemble/predicted_7207.pdb\n",
      "Segmentation fault (core dumped)\n",
      "Sequence is too short <3!: /tmp/rna_ensemble/predicted_7207.pdb\n",
      "Segmentation fault (core dumped)\n",
      "Sequence is too short <3!: /tmp/rna_ensemble/predicted_7207.pdb\n",
      " 51%|█████     | 364/716 [07:21<48:53,  8.33s/it]  Segmentation fault (core dumped)\n",
      " 62%|██████▏   | 441/716 [07:52<04:43,  1.03s/it]Sequence is too short <3!: /tmp/rna_ensemble/predicted_7204.pdb\n",
      "Segmentation fault (core dumped)\n",
      "Sequence is too short <3!: /tmp/rna_ensemble/predicted_7204.pdb\n",
      "Segmentation fault (core dumped)\n",
      "Sequence is too short <3!: /tmp/rna_ensemble/predicted_7204.pdb\n",
      "Segmentation fault (core dumped)\n",
      "Sequence is too short <3!: /tmp/rna_ensemble/predicted_7204.pdb\n",
      "Segmentation fault (core dumped)\n",
      "Sequence is too short <3!: /tmp/rna_ensemble/predicted_7204.pdb\n",
      " 62%|██████▏   | 445/716 [07:52<02:07,  2.13it/s]Segmentation fault (core dumped)\n",
      " 67%|██████▋   | 478/716 [08:10<04:45,  1.20s/it]Sequence is too short <3!: /tmp/rna_ensemble/predicted_7205.pdb\n",
      "Segmentation fault (core dumped)\n",
      "Sequence is too short <3!: /tmp/rna_ensemble/predicted_7205.pdb\n",
      "Segmentation fault (core dumped)\n",
      "Sequence is too short <3!: /tmp/rna_ensemble/predicted_7205.pdb\n",
      "Segmentation fault (core dumped)\n",
      "Sequence is too short <3!: /tmp/rna_ensemble/predicted_7205.pdb\n",
      "Segmentation fault (core dumped)\n",
      "Sequence is too short <3!: /tmp/rna_ensemble/predicted_7205.pdb\n",
      " 67%|██████▋   | 482/716 [08:11<01:48,  2.15it/s]Segmentation fault (core dumped)\n",
      " 72%|███████▏  | 512/716 [08:29<04:27,  1.31s/it]Sequence is too short <3!: /tmp/rna_ensemble/predicted_7206.pdb\n",
      "Segmentation fault (core dumped)\n",
      "Sequence is too short <3!: /tmp/rna_ensemble/predicted_7206.pdb\n",
      "Segmentation fault (core dumped)\n",
      "Sequence is too short <3!: /tmp/rna_ensemble/predicted_7206.pdb\n",
      "Segmentation fault (core dumped)\n",
      "Sequence is too short <3!: /tmp/rna_ensemble/predicted_7206.pdb\n",
      "Segmentation fault (core dumped)\n",
      "Sequence is too short <3!: /tmp/rna_ensemble/predicted_7206.pdb\n",
      " 72%|███████▏  | 513/716 [08:30<03:28,  1.03s/it]Segmentation fault (core dumped)\n",
      " 74%|███████▎  | 528/716 [08:34<01:13,  2.58it/s]Sequence is too short <3!: /tmp/rna_ensemble/predicted_7207.pdb\n",
      "Segmentation fault (core dumped)\n",
      "Sequence is too short <3!: /tmp/rna_ensemble/predicted_7207.pdb\n",
      "Segmentation fault (core dumped)\n",
      "Sequence is too short <3!: /tmp/rna_ensemble/predicted_7207.pdb\n",
      "Segmentation fault (core dumped)\n",
      "Sequence is too short <3!: /tmp/rna_ensemble/predicted_7207.pdb\n",
      "Segmentation fault (core dumped)\n",
      "Sequence is too short <3!: /tmp/rna_ensemble/predicted_7207.pdb\n",
      " 70%|███████   | 502/716 [08:13<00:30,  7.02it/s]Segmentation fault (core dumped)\n",
      "100%|██████████| 716/716 [11:40<00:00,  1.02it/s]\n",
      "100%|██████████| 716/716 [11:37<00:00,  1.03it/s]\n",
      "100%|██████████| 716/716 [11:36<00:00,  1.03it/s]\n",
      "100%|██████████| 716/716 [11:34<00:00,  1.03it/s]\n",
      " 50%|█████     | 361/716 [06:08<1:27:28, 14.78s/it]Sequence is too short <3!: /tmp/rna_ensemble/predicted_7204.pdb\n",
      "Segmentation fault (core dumped)\n",
      "Sequence is too short <3!: /tmp/rna_ensemble/predicted_7204.pdb\n",
      "Segmentation fault (core dumped)\n",
      "Sequence is too short <3!: /tmp/rna_ensemble/predicted_7204.pdb\n",
      "Segmentation fault (core dumped)\n",
      "Sequence is too short <3!: /tmp/rna_ensemble/predicted_7204.pdb\n",
      "Segmentation fault (core dumped)\n",
      "Sequence is too short <3!: /tmp/rna_ensemble/predicted_7204.pdb\n",
      " 51%|█████     | 364/716 [06:08<42:10,  7.19s/it]Segmentation fault (core dumped)\n",
      " 50%|█████     | 361/716 [06:10<1:27:10, 14.73s/it]Sequence is too short <3!: /tmp/rna_ensemble/predicted_7205.pdb\n",
      "Segmentation fault (core dumped)\n",
      "Sequence is too short <3!: /tmp/rna_ensemble/predicted_7205.pdb\n",
      "Segmentation fault (core dumped)\n",
      "Sequence is too short <3!: /tmp/rna_ensemble/predicted_7205.pdb\n",
      "Segmentation fault (core dumped)\n",
      "Sequence is too short <3!: /tmp/rna_ensemble/predicted_7205.pdb\n",
      "Segmentation fault (core dumped)\n",
      "Sequence is too short <3!: /tmp/rna_ensemble/predicted_7205.pdb\n",
      " 50%|█████     | 359/716 [05:54<2:18:37, 23.30s/it]Segmentation fault (core dumped)\n",
      " 51%|█████     | 363/716 [05:58<47:55,  8.15s/it]  Sequence is too short <3!: /tmp/rna_ensemble/predicted_7206.pdb\n",
      "Segmentation fault (core dumped)\n",
      "Sequence is too short <3!: /tmp/rna_ensemble/predicted_7206.pdb\n",
      "Segmentation fault (core dumped)\n",
      "Sequence is too short <3!: /tmp/rna_ensemble/predicted_7206.pdb\n",
      "Segmentation fault (core dumped)\n",
      "Sequence is too short <3!: /tmp/rna_ensemble/predicted_7206.pdb\n",
      "Segmentation fault (core dumped)\n",
      "Sequence is too short <3!: /tmp/rna_ensemble/predicted_7206.pdb\n",
      "Segmentation fault (core dumped)\n",
      " 65%|██████▌   | 466/716 [06:29<00:59,  4.23it/s]Sequence is too short <3!: /tmp/rna_ensemble/predicted_7205.pdb\n",
      "Segmentation fault (core dumped)\n",
      "Sequence is too short <3!: /tmp/rna_ensemble/predicted_7205.pdb\n",
      "Segmentation fault (core dumped)\n",
      "Sequence is too short <3!: /tmp/rna_ensemble/predicted_7205.pdb\n",
      "Segmentation fault (core dumped)\n",
      "Sequence is too short <3!: /tmp/rna_ensemble/predicted_7205.pdb\n",
      "Segmentation fault (core dumped)\n",
      "Sequence is too short <3!: /tmp/rna_ensemble/predicted_7205.pdb\n",
      " 67%|██████▋   | 482/716 [06:46<01:26,  2.71it/s]Segmentation fault (core dumped)\n",
      " 67%|██████▋   | 478/716 [06:48<03:42,  1.07it/s]Sequence is too short <3!: /tmp/rna_ensemble/predicted_7204.pdb\n",
      "Segmentation fault (core dumped)\n",
      "Sequence is too short <3!: /tmp/rna_ensemble/predicted_7204.pdb\n",
      "Segmentation fault (core dumped)\n",
      "Sequence is too short <3!: /tmp/rna_ensemble/predicted_7204.pdb\n",
      "Segmentation fault (core dumped)\n",
      "Sequence is too short <3!: /tmp/rna_ensemble/predicted_7204.pdb\n",
      "Segmentation fault (core dumped)\n",
      "Sequence is too short <3!: /tmp/rna_ensemble/predicted_7204.pdb\n",
      " 67%|██████▋   | 481/716 [06:49<01:50,  2.12it/s]Segmentation fault (core dumped)\n",
      " 67%|██████▋   | 479/716 [06:36<02:20,  1.69it/s]Sequence is too short <3!: /tmp/rna_ensemble/predicted_7206.pdb\n",
      "Segmentation fault (core dumped)\n",
      "Sequence is too short <3!: /tmp/rna_ensemble/predicted_7206.pdb\n",
      "Segmentation fault (core dumped)\n",
      "Sequence is too short <3!: /tmp/rna_ensemble/predicted_7206.pdb\n",
      "Segmentation fault (core dumped)\n",
      "Sequence is too short <3!: /tmp/rna_ensemble/predicted_7206.pdb\n",
      "Segmentation fault (core dumped)\n",
      "Sequence is too short <3!: /tmp/rna_ensemble/predicted_7206.pdb\n",
      "Segmentation fault (core dumped)\n",
      "100%|██████████| 716/716 [09:30<00:00,  1.26it/s]\n",
      "100%|██████████| 716/716 [09:36<00:00,  1.24it/s]\n",
      "100%|██████████| 716/716 [09:19<00:00,  1.28it/s]\n",
      "Testing weights for model 1: 100%|██████████| 11/11 [32:41<00:00, 178.34s/it]"
     ]
    },
    {
     "name": "stdout",
     "output_type": "stream",
     "text": [
      "Added model with weight 0.0000, New score: 0.258163\n",
      "\n",
      "Optimization complete!\n",
      "Initial score: 0.251968\n",
      "Final score: 0.258163\n",
      "Improvement: 0.006195 (2.46%)\n",
      "Model weights: {'model_1': 0.0}\n"
     ]
    },
    {
     "name": "stderr",
     "output_type": "stream",
     "text": [
      "\n"
     ]
    }
   ],
   "source": [
    "# Load your experiment dataframes\n",
    "experiment1_df = exp_1_oof\n",
    "experiment2_df = exp_2_oof\n",
    "\n",
    "# Create list of experiment dataframes\n",
    "experiments_list = [experiment1_df, experiment2_df]\n",
    "\n",
    "# Run the hill climbing optimizer\n",
    "model_weights, best_score, final_ensemble = hill_climbing_optimizer(\n",
    "    experiments_list=experiments_list,\n",
    "    weight_step=0.1,\n",
    "    max_iterations=10,\n",
    "    num_cores=4\n",
    ")"
   ]
  },
  {
   "cell_type": "code",
   "execution_count": 14,
   "id": "d8833f5f",
   "metadata": {
    "execution": {
     "iopub.execute_input": "2025-04-13T14:07:12.642790Z",
     "iopub.status.busy": "2025-04-13T14:07:12.642026Z",
     "iopub.status.idle": "2025-04-13T14:07:12.676184Z",
     "shell.execute_reply": "2025-04-13T14:07:12.675122Z"
    },
    "papermill": {
     "duration": 0.330103,
     "end_time": "2025-04-13T14:07:12.677653",
     "exception": false,
     "start_time": "2025-04-13T14:07:12.347550",
     "status": "completed"
    },
    "tags": []
   },
   "outputs": [
    {
     "name": "stderr",
     "output_type": "stream",
     "text": [
      "/usr/local/lib/python3.11/dist-packages/pandas/io/formats/format.py:1458: RuntimeWarning: invalid value encountered in greater\n",
      "  has_large_values = (abs_vals > 1e6).any()\n",
      "/usr/local/lib/python3.11/dist-packages/pandas/io/formats/format.py:1459: RuntimeWarning: invalid value encountered in less\n",
      "  has_small_values = ((abs_vals < 10 ** (-self.digits)) & (abs_vals > 0)).any()\n",
      "/usr/local/lib/python3.11/dist-packages/pandas/io/formats/format.py:1459: RuntimeWarning: invalid value encountered in greater\n",
      "  has_small_values = ((abs_vals < 10 ** (-self.digits)) & (abs_vals > 0)).any()\n"
     ]
    },
    {
     "data": {
      "text/plain": [
       "({'model_1': 0.0},\n",
       " 0.2581630434782607,\n",
       "        Unnamed: 0         ID resname  resid       x_1        y_1        z_1  \\\n",
       " 0               0   1SCL_A_1       G      1 -89.44650  440.98752 -191.07695   \n",
       " 1               1   1SCL_A_2       G      2 -86.84754  444.70746 -187.42662   \n",
       " 2               2   1SCL_A_3       G      3 -84.42002  450.20407 -186.49513   \n",
       " 3               3   1SCL_A_4       U      4 -82.65829  454.56104 -187.05147   \n",
       " 4               4   1SCL_A_5       G      5 -82.31447  459.51068 -189.50598   \n",
       " ...           ...        ...     ...    ...       ...        ...        ...   \n",
       " 59503       64413  8Z1F_T_62       U     62       NaN        NaN        NaN   \n",
       " 59504       64414  8Z1F_T_63       A     63       NaN        NaN        NaN   \n",
       " 59505       64415  8Z1F_T_64       C     64       NaN        NaN        NaN   \n",
       " 59506       64416  8Z1F_T_65       C     65       NaN        NaN        NaN   \n",
       " 59507       64417  8Z1F_T_66       A     66       NaN        NaN        NaN   \n",
       " \n",
       "              x_2        y_2        z_2  ...        y_4        z_4       x_5  \\\n",
       " 0     -85.431590  441.04114 -191.89421  ...  440.77075 -189.97743 -88.49204   \n",
       " 1     -82.974150  444.25116 -188.79414  ...  445.63367 -186.70834 -86.35016   \n",
       " 2     -80.990265  448.82376 -186.72595  ...  450.10754 -184.92595 -84.62899   \n",
       " 3     -80.184710  455.09888 -187.27373  ...  455.17950 -185.91920 -83.52623   \n",
       " 4     -80.920364  459.51350 -188.50897  ...  460.33838 -188.98530 -84.19373   \n",
       " ...          ...        ...        ...  ...        ...        ...       ...   \n",
       " 59503        NaN        NaN        NaN  ...        NaN        NaN       NaN   \n",
       " 59504        NaN        NaN        NaN  ...        NaN        NaN       NaN   \n",
       " 59505        NaN        NaN        NaN  ...        NaN        NaN       NaN   \n",
       " 59506        NaN        NaN        NaN  ...        NaN        NaN       NaN   \n",
       " 59507        NaN        NaN        NaN  ...        NaN        NaN       NaN   \n",
       " \n",
       "              y_5        z_5   flag    x_1_true    y_1_true    z_1_true  \\\n",
       " 0      443.50134 -189.03722  False   13.760000  -25.974001    0.102000   \n",
       " 1      448.01245 -185.88399  False    9.310000  -29.638000    2.669000   \n",
       " 2      453.17456 -185.34094  False    5.529000  -27.813000    5.878000   \n",
       " 3      458.62033 -186.64482  False    2.678000  -24.900999    9.793000   \n",
       " 4      462.99750 -190.29022  False    1.827000  -20.136000   11.793000   \n",
       " ...          ...        ...    ...         ...         ...         ...   \n",
       " 59503        NaN        NaN  False  112.516998  117.880997  119.245003   \n",
       " 59504        NaN        NaN  False  115.292999  116.571999  114.827003   \n",
       " 59505        NaN        NaN  False  115.857002  114.595001  109.509003   \n",
       " 59506        NaN        NaN  False  113.816002  113.236000  104.339996   \n",
       " 59507        NaN        NaN  False  118.279999  113.883003   98.071999   \n",
       " \n",
       "        target_id  \n",
       " 0           1SCL  \n",
       " 1           1SCL  \n",
       " 2           1SCL  \n",
       " 3           1SCL  \n",
       " 4           1SCL  \n",
       " ...          ...  \n",
       " 59503       8Z1F  \n",
       " 59504       8Z1F  \n",
       " 59505       8Z1F  \n",
       " 59506       8Z1F  \n",
       " 59507       8Z1F  \n",
       " \n",
       " [59508 rows x 24 columns])"
      ]
     },
     "execution_count": 14,
     "metadata": {},
     "output_type": "execute_result"
    }
   ],
   "source": [
    "model_weights, best_score, final_ensemble"
   ]
  },
  {
   "cell_type": "code",
   "execution_count": 15,
   "id": "fe7c37a6",
   "metadata": {
    "execution": {
     "iopub.execute_input": "2025-04-13T14:07:13.120102Z",
     "iopub.status.busy": "2025-04-13T14:07:13.119803Z",
     "iopub.status.idle": "2025-04-13T14:07:14.450197Z",
     "shell.execute_reply": "2025-04-13T14:07:14.449224Z"
    },
    "papermill": {
     "duration": 1.550238,
     "end_time": "2025-04-13T14:07:14.451796",
     "exception": false,
     "start_time": "2025-04-13T14:07:12.901558",
     "status": "completed"
    },
    "tags": []
   },
   "outputs": [],
   "source": [
    "# Save the final ensemble\n",
    "final_ensemble.to_csv('final_ensemble.csv', index=False)"
   ]
  },
  {
   "cell_type": "code",
   "execution_count": null,
   "id": "ae87a31e",
   "metadata": {
    "papermill": {
     "duration": 0.220206,
     "end_time": "2025-04-13T14:07:14.896462",
     "exception": false,
     "start_time": "2025-04-13T14:07:14.676256",
     "status": "completed"
    },
    "tags": []
   },
   "outputs": [],
   "source": []
  }
 ],
 "metadata": {
  "kaggle": {
   "accelerator": "none",
   "dataSources": [
    {
     "databundleVersionId": 11553390,
     "isSourceIdPinned": false,
     "sourceId": 87793,
     "sourceType": "competition"
    },
    {
     "datasetId": 6742586,
     "sourceId": 10855324,
     "sourceType": "datasetVersion"
    },
    {
     "sourceId": 232754793,
     "sourceType": "kernelVersion"
    },
    {
     "sourceId": 233427159,
     "sourceType": "kernelVersion"
    },
    {
     "sourceId": 233465492,
     "sourceType": "kernelVersion"
    }
   ],
   "dockerImageVersionId": 31012,
   "isGpuEnabled": false,
   "isInternetEnabled": true,
   "language": "python",
   "sourceType": "notebook"
  },
  "kernelspec": {
   "display_name": "Python 3",
   "language": "python",
   "name": "python3"
  },
  "language_info": {
   "codemirror_mode": {
    "name": "ipython",
    "version": 3
   },
   "file_extension": ".py",
   "mimetype": "text/x-python",
   "name": "python",
   "nbconvert_exporter": "python",
   "pygments_lexer": "ipython3",
   "version": "3.11.11"
  },
  "papermill": {
   "default_parameters": {},
   "duration": 2409.879479,
   "end_time": "2025-04-13T14:07:17.741414",
   "environment_variables": {},
   "exception": null,
   "input_path": "__notebook__.ipynb",
   "output_path": "__notebook__.ipynb",
   "parameters": {},
   "start_time": "2025-04-13T13:27:07.861935",
   "version": "2.6.0"
  }
 },
 "nbformat": 4,
 "nbformat_minor": 5
}
