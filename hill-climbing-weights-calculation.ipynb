{
 "cells": [
  {
   "cell_type": "markdown",
   "id": "c3cf1856",
   "metadata": {
    "papermill": {
     "duration": 0.006256,
     "end_time": "2025-04-20T09:09:54.657915",
     "exception": false,
     "start_time": "2025-04-20T09:09:54.651659",
     "status": "completed"
    },
    "tags": []
   },
   "source": [
    "## Step 1 : Imports"
   ]
  },
  {
   "cell_type": "code",
   "execution_count": 1,
   "id": "a03b945b",
   "metadata": {
    "execution": {
     "iopub.execute_input": "2025-04-20T09:09:54.670130Z",
     "iopub.status.busy": "2025-04-20T09:09:54.669806Z",
     "iopub.status.idle": "2025-04-20T09:09:56.705969Z",
     "shell.execute_reply": "2025-04-20T09:09:56.704467Z"
    },
    "papermill": {
     "duration": 2.045211,
     "end_time": "2025-04-20T09:09:56.708762",
     "exception": false,
     "start_time": "2025-04-20T09:09:54.663551",
     "status": "completed"
    },
    "tags": []
   },
   "outputs": [],
   "source": [
    "import pandas as pd"
   ]
  },
  {
   "cell_type": "markdown",
   "id": "d2d159d9",
   "metadata": {
    "papermill": {
     "duration": 0.00692,
     "end_time": "2025-04-20T09:09:56.721524",
     "exception": false,
     "start_time": "2025-04-20T09:09:56.714604",
     "status": "completed"
    },
    "tags": []
   },
   "source": [
    "## Step 2: Load the oof files"
   ]
  },
  {
   "cell_type": "code",
   "execution_count": 2,
   "id": "98083aa7",
   "metadata": {
    "execution": {
     "iopub.execute_input": "2025-04-20T09:09:56.736737Z",
     "iopub.status.busy": "2025-04-20T09:09:56.735995Z",
     "iopub.status.idle": "2025-04-20T09:09:56.829703Z",
     "shell.execute_reply": "2025-04-20T09:09:56.828559Z"
    },
    "papermill": {
     "duration": 0.103888,
     "end_time": "2025-04-20T09:09:56.831595",
     "exception": false,
     "start_time": "2025-04-20T09:09:56.727707",
     "status": "completed"
    },
    "tags": []
   },
   "outputs": [
    {
     "data": {
      "text/plain": [
       "(178, 7)"
      ]
     },
     "execution_count": 2,
     "metadata": {},
     "output_type": "execute_result"
    }
   ],
   "source": [
    "fold_df = pd.read_csv(\"/kaggle/input/folding-strategy-rna/rna_dataset_with_fold.csv\")\n",
    "fold_df = fold_df[fold_df[\"fold\"]==1]\n",
    "fold_df.shape"
   ]
  },
  {
   "cell_type": "code",
   "execution_count": 3,
   "id": "caf24e56",
   "metadata": {
    "execution": {
     "iopub.execute_input": "2025-04-20T09:09:56.844550Z",
     "iopub.status.busy": "2025-04-20T09:09:56.844009Z",
     "iopub.status.idle": "2025-04-20T09:09:56.853816Z",
     "shell.execute_reply": "2025-04-20T09:09:56.852656Z"
    },
    "papermill": {
     "duration": 0.018696,
     "end_time": "2025-04-20T09:09:56.855889",
     "exception": false,
     "start_time": "2025-04-20T09:09:56.837193",
     "status": "completed"
    },
    "tags": []
   },
   "outputs": [
    {
     "data": {
      "text/plain": [
       "Index(['target_id', 'sequence', 'temporal_cutoff', 'description',\n",
       "       'all_sequences', 'sequence_length', 'fold'],\n",
       "      dtype='object')"
      ]
     },
     "execution_count": 3,
     "metadata": {},
     "output_type": "execute_result"
    }
   ],
   "source": [
    "fold_df.columns"
   ]
  },
  {
   "cell_type": "code",
   "execution_count": 4,
   "id": "497ccf80",
   "metadata": {
    "execution": {
     "iopub.execute_input": "2025-04-20T09:09:56.869398Z",
     "iopub.status.busy": "2025-04-20T09:09:56.869020Z",
     "iopub.status.idle": "2025-04-20T09:09:56.893559Z",
     "shell.execute_reply": "2025-04-20T09:09:56.892589Z"
    },
    "papermill": {
     "duration": 0.03268,
     "end_time": "2025-04-20T09:09:56.895061",
     "exception": false,
     "start_time": "2025-04-20T09:09:56.862381",
     "status": "completed"
    },
    "tags": []
   },
   "outputs": [
    {
     "data": {
      "text/html": [
       "<div>\n",
       "<style scoped>\n",
       "    .dataframe tbody tr th:only-of-type {\n",
       "        vertical-align: middle;\n",
       "    }\n",
       "\n",
       "    .dataframe tbody tr th {\n",
       "        vertical-align: top;\n",
       "    }\n",
       "\n",
       "    .dataframe thead th {\n",
       "        text-align: right;\n",
       "    }\n",
       "</style>\n",
       "<table border=\"1\" class=\"dataframe\">\n",
       "  <thead>\n",
       "    <tr style=\"text-align: right;\">\n",
       "      <th></th>\n",
       "      <th>target_id</th>\n",
       "      <th>sequence</th>\n",
       "      <th>temporal_cutoff</th>\n",
       "      <th>description</th>\n",
       "      <th>all_sequences</th>\n",
       "      <th>sequence_length</th>\n",
       "      <th>fold</th>\n",
       "    </tr>\n",
       "  </thead>\n",
       "  <tbody>\n",
       "    <tr>\n",
       "      <th>67</th>\n",
       "      <td>1FFK_9</td>\n",
       "      <td>UUAGGCGGCCACAGCGGUGGGGUUGCCUCCCGUACCCAUCCCGAAC...</td>\n",
       "      <td>2000-08-14</td>\n",
       "      <td>CRYSTAL STRUCTURE OF THE LARGE RIBOSOMAL SUBUN...</td>\n",
       "      <td>&gt;1FFK_1|Chain A[auth 0]|23S RRNA|Haloarcula ma...</td>\n",
       "      <td>122</td>\n",
       "      <td>1</td>\n",
       "    </tr>\n",
       "    <tr>\n",
       "      <th>74</th>\n",
       "      <td>1FOQ_A</td>\n",
       "      <td>UCAAUGGUACGGUACUUCCAUUGUCAUGUGUAUGUUGGGGAUUAAA...</td>\n",
       "      <td>2000-12-22</td>\n",
       "      <td>PENTAMERIC MODEL OF THE BACTERIOPHAGE PHI29 PR...</td>\n",
       "      <td>&gt;1FOQ_1|Chains A, B, C, D, E|BACTERIOPHAGE PHI...</td>\n",
       "      <td>120</td>\n",
       "      <td>1</td>\n",
       "    </tr>\n",
       "    <tr>\n",
       "      <th>148</th>\n",
       "      <td>1S9S_A</td>\n",
       "      <td>GGCGGUACUAGUUGAGAAACUAGCUCUGUAUCUGGCGGACCCGUGG...</td>\n",
       "      <td>2004-04-06</td>\n",
       "      <td>SOLUTION STRUCTURE OF MLV PSI SITE</td>\n",
       "      <td>&gt;1S9S_1|Chain A|MLV Psi encapsidation site|nul...</td>\n",
       "      <td>101</td>\n",
       "      <td>1</td>\n",
       "    </tr>\n",
       "    <tr>\n",
       "      <th>173</th>\n",
       "      <td>1ZC8_Z</td>\n",
       "      <td>GCCCGUCACGCCAUGGGAGCGGGCUCUACCCGAAGUCGCCGGGAGC...</td>\n",
       "      <td>2005-04-19</td>\n",
       "      <td>Coordinates of tmRNA, SmpB, EF-Tu and h44 fitt...</td>\n",
       "      <td>&gt;1ZC8_1|Chain A|TLD 16S ribosomal RNA|Thermus ...</td>\n",
       "      <td>91</td>\n",
       "      <td>1</td>\n",
       "    </tr>\n",
       "    <tr>\n",
       "      <th>186</th>\n",
       "      <td>1YSH_B</td>\n",
       "      <td>UAGACGGUGGGAGAGGGUGGUGGAAUUCCCGGAGUAGCGGUGAAAU...</td>\n",
       "      <td>2005-07-05</td>\n",
       "      <td>Localization and dynamic behavior of ribosomal...</td>\n",
       "      <td>&gt;1YSH_1|Chain A|RNA (28-MER)|synthetic constru...</td>\n",
       "      <td>101</td>\n",
       "      <td>1</td>\n",
       "    </tr>\n",
       "    <tr>\n",
       "      <th>...</th>\n",
       "      <td>...</td>\n",
       "      <td>...</td>\n",
       "      <td>...</td>\n",
       "      <td>...</td>\n",
       "      <td>...</td>\n",
       "      <td>...</td>\n",
       "      <td>...</td>\n",
       "    </tr>\n",
       "    <tr>\n",
       "      <th>832</th>\n",
       "      <td>9G7C_A</td>\n",
       "      <td>GGGAGUCGGGUCUGUGGUUGAAAGUCGAUGCCAGUCGCAGGCGAAA...</td>\n",
       "      <td>2024-10-30</td>\n",
       "      <td>Cryo-EM structure of raiA ncRNA from Clostridi...</td>\n",
       "      <td>&gt;9G7C_1|Chain A|raiA (224-MER)|Clostridium sp....</td>\n",
       "      <td>224</td>\n",
       "      <td>1</td>\n",
       "    </tr>\n",
       "    <tr>\n",
       "      <th>839</th>\n",
       "      <td>8T3E_EC</td>\n",
       "      <td>AAACUCCAUGUAUUGGUUACCCAUCUGCAUCGAAAACUCUCCGAAC...</td>\n",
       "      <td>2024-12-11</td>\n",
       "      <td>Hypomethylated yeast 80S bound with Taura synd...</td>\n",
       "      <td>&gt;8T3E_1|Chain A[auth BA]|40S ribosomal protein...</td>\n",
       "      <td>202</td>\n",
       "      <td>1</td>\n",
       "    </tr>\n",
       "    <tr>\n",
       "      <th>840</th>\n",
       "      <td>8T3F_EC</td>\n",
       "      <td>AAACUCCAUGUAUUGGUUACCCAUCUGCAUCGAAAACUCUCCGAAC...</td>\n",
       "      <td>2024-12-11</td>\n",
       "      <td>Hypomethylated yeast 80S bound with Taura synd...</td>\n",
       "      <td>&gt;8T3F_1|Chain A[auth BA]|40S ribosomal protein...</td>\n",
       "      <td>202</td>\n",
       "      <td>1</td>\n",
       "    </tr>\n",
       "    <tr>\n",
       "      <th>842</th>\n",
       "      <td>8Z1G_T</td>\n",
       "      <td>GGUAAAAUGGCUGAGUGAAGCAUUGGACUGUAAAUCUAAAGACAGG...</td>\n",
       "      <td>2024-12-18</td>\n",
       "      <td>Cryo-EM structure of human ELAC2-pre-tRNA</td>\n",
       "      <td>&gt;8Z1G_1|Chain A[auth T]|Homo sapiens mitochond...</td>\n",
       "      <td>86</td>\n",
       "      <td>1</td>\n",
       "    </tr>\n",
       "    <tr>\n",
       "      <th>843</th>\n",
       "      <td>8Z1F_T</td>\n",
       "      <td>GGUAAAAUGGCUGAGUGAAGCAUUGGACUGUAAAUCUAAAGACAGG...</td>\n",
       "      <td>2024-12-18</td>\n",
       "      <td>Cryo-EM structure of human ELAC2-tRNA</td>\n",
       "      <td>&gt;8Z1F_1|Chain A[auth T]|Homo sapiens mitochond...</td>\n",
       "      <td>86</td>\n",
       "      <td>1</td>\n",
       "    </tr>\n",
       "  </tbody>\n",
       "</table>\n",
       "<p>178 rows × 7 columns</p>\n",
       "</div>"
      ],
      "text/plain": [
       "    target_id                                           sequence  \\\n",
       "67     1FFK_9  UUAGGCGGCCACAGCGGUGGGGUUGCCUCCCGUACCCAUCCCGAAC...   \n",
       "74     1FOQ_A  UCAAUGGUACGGUACUUCCAUUGUCAUGUGUAUGUUGGGGAUUAAA...   \n",
       "148    1S9S_A  GGCGGUACUAGUUGAGAAACUAGCUCUGUAUCUGGCGGACCCGUGG...   \n",
       "173    1ZC8_Z  GCCCGUCACGCCAUGGGAGCGGGCUCUACCCGAAGUCGCCGGGAGC...   \n",
       "186    1YSH_B  UAGACGGUGGGAGAGGGUGGUGGAAUUCCCGGAGUAGCGGUGAAAU...   \n",
       "..        ...                                                ...   \n",
       "832    9G7C_A  GGGAGUCGGGUCUGUGGUUGAAAGUCGAUGCCAGUCGCAGGCGAAA...   \n",
       "839   8T3E_EC  AAACUCCAUGUAUUGGUUACCCAUCUGCAUCGAAAACUCUCCGAAC...   \n",
       "840   8T3F_EC  AAACUCCAUGUAUUGGUUACCCAUCUGCAUCGAAAACUCUCCGAAC...   \n",
       "842    8Z1G_T  GGUAAAAUGGCUGAGUGAAGCAUUGGACUGUAAAUCUAAAGACAGG...   \n",
       "843    8Z1F_T  GGUAAAAUGGCUGAGUGAAGCAUUGGACUGUAAAUCUAAAGACAGG...   \n",
       "\n",
       "    temporal_cutoff                                        description  \\\n",
       "67       2000-08-14  CRYSTAL STRUCTURE OF THE LARGE RIBOSOMAL SUBUN...   \n",
       "74       2000-12-22  PENTAMERIC MODEL OF THE BACTERIOPHAGE PHI29 PR...   \n",
       "148      2004-04-06                 SOLUTION STRUCTURE OF MLV PSI SITE   \n",
       "173      2005-04-19  Coordinates of tmRNA, SmpB, EF-Tu and h44 fitt...   \n",
       "186      2005-07-05  Localization and dynamic behavior of ribosomal...   \n",
       "..              ...                                                ...   \n",
       "832      2024-10-30  Cryo-EM structure of raiA ncRNA from Clostridi...   \n",
       "839      2024-12-11  Hypomethylated yeast 80S bound with Taura synd...   \n",
       "840      2024-12-11  Hypomethylated yeast 80S bound with Taura synd...   \n",
       "842      2024-12-18          Cryo-EM structure of human ELAC2-pre-tRNA   \n",
       "843      2024-12-18              Cryo-EM structure of human ELAC2-tRNA   \n",
       "\n",
       "                                         all_sequences  sequence_length  fold  \n",
       "67   >1FFK_1|Chain A[auth 0]|23S RRNA|Haloarcula ma...              122     1  \n",
       "74   >1FOQ_1|Chains A, B, C, D, E|BACTERIOPHAGE PHI...              120     1  \n",
       "148  >1S9S_1|Chain A|MLV Psi encapsidation site|nul...              101     1  \n",
       "173  >1ZC8_1|Chain A|TLD 16S ribosomal RNA|Thermus ...               91     1  \n",
       "186  >1YSH_1|Chain A|RNA (28-MER)|synthetic constru...              101     1  \n",
       "..                                                 ...              ...   ...  \n",
       "832  >9G7C_1|Chain A|raiA (224-MER)|Clostridium sp....              224     1  \n",
       "839  >8T3E_1|Chain A[auth BA]|40S ribosomal protein...              202     1  \n",
       "840  >8T3F_1|Chain A[auth BA]|40S ribosomal protein...              202     1  \n",
       "842  >8Z1G_1|Chain A[auth T]|Homo sapiens mitochond...               86     1  \n",
       "843  >8Z1F_1|Chain A[auth T]|Homo sapiens mitochond...               86     1  \n",
       "\n",
       "[178 rows x 7 columns]"
      ]
     },
     "execution_count": 4,
     "metadata": {},
     "output_type": "execute_result"
    }
   ],
   "source": [
    "fold_df"
   ]
  },
  {
   "cell_type": "code",
   "execution_count": 5,
   "id": "dbe5acc5",
   "metadata": {
    "execution": {
     "iopub.execute_input": "2025-04-20T09:09:56.908731Z",
     "iopub.status.busy": "2025-04-20T09:09:56.908384Z",
     "iopub.status.idle": "2025-04-20T09:09:57.996806Z",
     "shell.execute_reply": "2025-04-20T09:09:57.995791Z"
    },
    "papermill": {
     "duration": 1.097862,
     "end_time": "2025-04-20T09:09:57.999212",
     "exception": false,
     "start_time": "2025-04-20T09:09:56.901350",
     "status": "completed"
    },
    "tags": []
   },
   "outputs": [],
   "source": [
    "exp_1_oof = pd.read_csv(\"/kaggle/input/train-ribonanzanet-inference-03/ribonanzanet1_oof.csv\")\n",
    "exp_2_oof = pd.read_csv(\"/kaggle/input/ribonanzanet-3d-inference/ribonanzanet1_public_oof.csv\")\n",
    "exp_3_oof = pd.read_csv(\"/kaggle/input/ribonanzanet2-ddpm-inference/ribonanzanet2_oof.csv\")"
   ]
  },
  {
   "cell_type": "code",
   "execution_count": 6,
   "id": "e297d20b",
   "metadata": {
    "execution": {
     "iopub.execute_input": "2025-04-20T09:09:58.012198Z",
     "iopub.status.busy": "2025-04-20T09:09:58.011864Z",
     "iopub.status.idle": "2025-04-20T09:09:58.016352Z",
     "shell.execute_reply": "2025-04-20T09:09:58.015460Z"
    },
    "papermill": {
     "duration": 0.012864,
     "end_time": "2025-04-20T09:09:58.018099",
     "exception": false,
     "start_time": "2025-04-20T09:09:58.005235",
     "status": "completed"
    },
    "tags": []
   },
   "outputs": [],
   "source": [
    "#exp_4_oof = pd.read_csv(\"/kaggle/input/train-rhofold-inference/rhofold_01_oof.csv\")"
   ]
  },
  {
   "cell_type": "code",
   "execution_count": 7,
   "id": "30efc510",
   "metadata": {
    "execution": {
     "iopub.execute_input": "2025-04-20T09:09:58.032092Z",
     "iopub.status.busy": "2025-04-20T09:09:58.031774Z",
     "iopub.status.idle": "2025-04-20T09:09:58.130831Z",
     "shell.execute_reply": "2025-04-20T09:09:58.129281Z"
    },
    "papermill": {
     "duration": 0.108242,
     "end_time": "2025-04-20T09:09:58.132833",
     "exception": false,
     "start_time": "2025-04-20T09:09:58.024591",
     "status": "completed"
    },
    "tags": []
   },
   "outputs": [],
   "source": [
    "exp_1_oof[\"target_id\"] = exp_1_oof[\"ID\"].apply(lambda x: x.split(\"_\")[0]+'_'+x.split(\"_\")[1])\n",
    "exp_2_oof[\"target_id\"] = exp_2_oof[\"ID\"].apply(lambda x: x.split(\"_\")[0]+'_'+x.split(\"_\")[1])\n",
    "exp_3_oof[\"target_id\"] = exp_3_oof[\"ID\"].apply(lambda x: x.split(\"_\")[0]+'_'+x.split(\"_\")[1])"
   ]
  },
  {
   "cell_type": "code",
   "execution_count": 8,
   "id": "f6db600e",
   "metadata": {
    "execution": {
     "iopub.execute_input": "2025-04-20T09:09:58.146850Z",
     "iopub.status.busy": "2025-04-20T09:09:58.146502Z",
     "iopub.status.idle": "2025-04-20T09:09:58.153704Z",
     "shell.execute_reply": "2025-04-20T09:09:58.152199Z"
    },
    "papermill": {
     "duration": 0.016798,
     "end_time": "2025-04-20T09:09:58.155584",
     "exception": false,
     "start_time": "2025-04-20T09:09:58.138786",
     "status": "completed"
    },
    "tags": []
   },
   "outputs": [
    {
     "data": {
      "text/plain": [
       "((59508, 24), (59508, 24), (25713, 22))"
      ]
     },
     "execution_count": 8,
     "metadata": {},
     "output_type": "execute_result"
    }
   ],
   "source": [
    "exp_1_oof.shape, exp_2_oof.shape, exp_3_oof.shape"
   ]
  },
  {
   "cell_type": "code",
   "execution_count": 9,
   "id": "ee90d724",
   "metadata": {
    "execution": {
     "iopub.execute_input": "2025-04-20T09:09:58.170069Z",
     "iopub.status.busy": "2025-04-20T09:09:58.169739Z",
     "iopub.status.idle": "2025-04-20T09:09:58.177296Z",
     "shell.execute_reply": "2025-04-20T09:09:58.176298Z"
    },
    "papermill": {
     "duration": 0.017306,
     "end_time": "2025-04-20T09:09:58.178916",
     "exception": false,
     "start_time": "2025-04-20T09:09:58.161610",
     "status": "completed"
    },
    "tags": []
   },
   "outputs": [
    {
     "data": {
      "text/plain": [
       "(Index(['Unnamed: 0', 'ID', 'resname', 'resid', 'x_1', 'y_1', 'z_1', 'x_2',\n",
       "        'y_2', 'z_2', 'x_3', 'y_3', 'z_3', 'x_4', 'y_4', 'z_4', 'x_5', 'y_5',\n",
       "        'z_5', 'flag', 'x_1_true', 'y_1_true', 'z_1_true', 'target_id'],\n",
       "       dtype='object'),\n",
       " Index(['Unnamed: 0', 'ID', 'resname', 'resid', 'x_1', 'y_1', 'z_1', 'x_2',\n",
       "        'y_2', 'z_2', 'x_3', 'y_3', 'z_3', 'x_4', 'y_4', 'z_4', 'x_5', 'y_5',\n",
       "        'z_5', 'flag', 'x_1_true', 'y_1_true', 'z_1_true', 'target_id'],\n",
       "       dtype='object'),\n",
       " Index(['ID', 'resname', 'resid', 'x_1', 'y_1', 'z_1', 'x_2', 'y_2', 'z_2',\n",
       "        'x_3', 'y_3', 'z_3', 'x_4', 'y_4', 'z_4', 'x_5', 'y_5', 'z_5',\n",
       "        'x_1_true', 'y_1_true', 'z_1_true', 'target_id'],\n",
       "       dtype='object'))"
      ]
     },
     "execution_count": 9,
     "metadata": {},
     "output_type": "execute_result"
    }
   ],
   "source": [
    "exp_1_oof.columns, exp_2_oof.columns, exp_3_oof.columns"
   ]
  },
  {
   "cell_type": "code",
   "execution_count": 10,
   "id": "dfd24fed",
   "metadata": {
    "execution": {
     "iopub.execute_input": "2025-04-20T09:09:58.199330Z",
     "iopub.status.busy": "2025-04-20T09:09:58.198807Z",
     "iopub.status.idle": "2025-04-20T09:09:58.240626Z",
     "shell.execute_reply": "2025-04-20T09:09:58.239559Z"
    },
    "papermill": {
     "duration": 0.055698,
     "end_time": "2025-04-20T09:09:58.242409",
     "exception": false,
     "start_time": "2025-04-20T09:09:58.186711",
     "status": "completed"
    },
    "tags": []
   },
   "outputs": [
    {
     "data": {
      "text/html": [
       "<div>\n",
       "<style scoped>\n",
       "    .dataframe tbody tr th:only-of-type {\n",
       "        vertical-align: middle;\n",
       "    }\n",
       "\n",
       "    .dataframe tbody tr th {\n",
       "        vertical-align: top;\n",
       "    }\n",
       "\n",
       "    .dataframe thead th {\n",
       "        text-align: right;\n",
       "    }\n",
       "</style>\n",
       "<table border=\"1\" class=\"dataframe\">\n",
       "  <thead>\n",
       "    <tr style=\"text-align: right;\">\n",
       "      <th></th>\n",
       "      <th>Unnamed: 0</th>\n",
       "      <th>ID</th>\n",
       "      <th>resname</th>\n",
       "      <th>resid</th>\n",
       "      <th>x_1</th>\n",
       "      <th>y_1</th>\n",
       "      <th>z_1</th>\n",
       "      <th>x_2</th>\n",
       "      <th>y_2</th>\n",
       "      <th>z_2</th>\n",
       "      <th>...</th>\n",
       "      <th>y_4</th>\n",
       "      <th>z_4</th>\n",
       "      <th>x_5</th>\n",
       "      <th>y_5</th>\n",
       "      <th>z_5</th>\n",
       "      <th>flag</th>\n",
       "      <th>x_1_true</th>\n",
       "      <th>y_1_true</th>\n",
       "      <th>z_1_true</th>\n",
       "      <th>target_id</th>\n",
       "    </tr>\n",
       "  </thead>\n",
       "  <tbody>\n",
       "    <tr>\n",
       "      <th>0</th>\n",
       "      <td>0</td>\n",
       "      <td>1SCL_A_1</td>\n",
       "      <td>G</td>\n",
       "      <td>1</td>\n",
       "      <td>-89.44650</td>\n",
       "      <td>440.98752</td>\n",
       "      <td>-191.07695</td>\n",
       "      <td>-85.431590</td>\n",
       "      <td>441.04114</td>\n",
       "      <td>-191.89421</td>\n",
       "      <td>...</td>\n",
       "      <td>440.77075</td>\n",
       "      <td>-189.97743</td>\n",
       "      <td>-88.49204</td>\n",
       "      <td>443.50134</td>\n",
       "      <td>-189.03722</td>\n",
       "      <td>False</td>\n",
       "      <td>13.760</td>\n",
       "      <td>-25.974001</td>\n",
       "      <td>0.102</td>\n",
       "      <td>1SCL_A</td>\n",
       "    </tr>\n",
       "    <tr>\n",
       "      <th>1</th>\n",
       "      <td>1</td>\n",
       "      <td>1SCL_A_2</td>\n",
       "      <td>G</td>\n",
       "      <td>2</td>\n",
       "      <td>-86.84754</td>\n",
       "      <td>444.70746</td>\n",
       "      <td>-187.42662</td>\n",
       "      <td>-82.974150</td>\n",
       "      <td>444.25116</td>\n",
       "      <td>-188.79414</td>\n",
       "      <td>...</td>\n",
       "      <td>445.63367</td>\n",
       "      <td>-186.70834</td>\n",
       "      <td>-86.35016</td>\n",
       "      <td>448.01245</td>\n",
       "      <td>-185.88399</td>\n",
       "      <td>False</td>\n",
       "      <td>9.310</td>\n",
       "      <td>-29.638000</td>\n",
       "      <td>2.669</td>\n",
       "      <td>1SCL_A</td>\n",
       "    </tr>\n",
       "    <tr>\n",
       "      <th>2</th>\n",
       "      <td>2</td>\n",
       "      <td>1SCL_A_3</td>\n",
       "      <td>G</td>\n",
       "      <td>3</td>\n",
       "      <td>-84.42002</td>\n",
       "      <td>450.20407</td>\n",
       "      <td>-186.49513</td>\n",
       "      <td>-80.990265</td>\n",
       "      <td>448.82376</td>\n",
       "      <td>-186.72595</td>\n",
       "      <td>...</td>\n",
       "      <td>450.10754</td>\n",
       "      <td>-184.92595</td>\n",
       "      <td>-84.62899</td>\n",
       "      <td>453.17456</td>\n",
       "      <td>-185.34094</td>\n",
       "      <td>False</td>\n",
       "      <td>5.529</td>\n",
       "      <td>-27.813000</td>\n",
       "      <td>5.878</td>\n",
       "      <td>1SCL_A</td>\n",
       "    </tr>\n",
       "    <tr>\n",
       "      <th>3</th>\n",
       "      <td>3</td>\n",
       "      <td>1SCL_A_4</td>\n",
       "      <td>U</td>\n",
       "      <td>4</td>\n",
       "      <td>-82.65829</td>\n",
       "      <td>454.56104</td>\n",
       "      <td>-187.05147</td>\n",
       "      <td>-80.184710</td>\n",
       "      <td>455.09888</td>\n",
       "      <td>-187.27373</td>\n",
       "      <td>...</td>\n",
       "      <td>455.17950</td>\n",
       "      <td>-185.91920</td>\n",
       "      <td>-83.52623</td>\n",
       "      <td>458.62033</td>\n",
       "      <td>-186.64482</td>\n",
       "      <td>False</td>\n",
       "      <td>2.678</td>\n",
       "      <td>-24.900999</td>\n",
       "      <td>9.793</td>\n",
       "      <td>1SCL_A</td>\n",
       "    </tr>\n",
       "    <tr>\n",
       "      <th>4</th>\n",
       "      <td>4</td>\n",
       "      <td>1SCL_A_5</td>\n",
       "      <td>G</td>\n",
       "      <td>5</td>\n",
       "      <td>-82.31447</td>\n",
       "      <td>459.51068</td>\n",
       "      <td>-189.50598</td>\n",
       "      <td>-80.920364</td>\n",
       "      <td>459.51350</td>\n",
       "      <td>-188.50897</td>\n",
       "      <td>...</td>\n",
       "      <td>460.33838</td>\n",
       "      <td>-188.98530</td>\n",
       "      <td>-84.19373</td>\n",
       "      <td>462.99750</td>\n",
       "      <td>-190.29022</td>\n",
       "      <td>False</td>\n",
       "      <td>1.827</td>\n",
       "      <td>-20.136000</td>\n",
       "      <td>11.793</td>\n",
       "      <td>1SCL_A</td>\n",
       "    </tr>\n",
       "  </tbody>\n",
       "</table>\n",
       "<p>5 rows × 24 columns</p>\n",
       "</div>"
      ],
      "text/plain": [
       "   Unnamed: 0        ID resname  resid       x_1        y_1        z_1  \\\n",
       "0           0  1SCL_A_1       G      1 -89.44650  440.98752 -191.07695   \n",
       "1           1  1SCL_A_2       G      2 -86.84754  444.70746 -187.42662   \n",
       "2           2  1SCL_A_3       G      3 -84.42002  450.20407 -186.49513   \n",
       "3           3  1SCL_A_4       U      4 -82.65829  454.56104 -187.05147   \n",
       "4           4  1SCL_A_5       G      5 -82.31447  459.51068 -189.50598   \n",
       "\n",
       "         x_2        y_2        z_2  ...        y_4        z_4       x_5  \\\n",
       "0 -85.431590  441.04114 -191.89421  ...  440.77075 -189.97743 -88.49204   \n",
       "1 -82.974150  444.25116 -188.79414  ...  445.63367 -186.70834 -86.35016   \n",
       "2 -80.990265  448.82376 -186.72595  ...  450.10754 -184.92595 -84.62899   \n",
       "3 -80.184710  455.09888 -187.27373  ...  455.17950 -185.91920 -83.52623   \n",
       "4 -80.920364  459.51350 -188.50897  ...  460.33838 -188.98530 -84.19373   \n",
       "\n",
       "         y_5        z_5   flag  x_1_true   y_1_true  z_1_true  target_id  \n",
       "0  443.50134 -189.03722  False    13.760 -25.974001     0.102     1SCL_A  \n",
       "1  448.01245 -185.88399  False     9.310 -29.638000     2.669     1SCL_A  \n",
       "2  453.17456 -185.34094  False     5.529 -27.813000     5.878     1SCL_A  \n",
       "3  458.62033 -186.64482  False     2.678 -24.900999     9.793     1SCL_A  \n",
       "4  462.99750 -190.29022  False     1.827 -20.136000    11.793     1SCL_A  \n",
       "\n",
       "[5 rows x 24 columns]"
      ]
     },
     "execution_count": 10,
     "metadata": {},
     "output_type": "execute_result"
    }
   ],
   "source": [
    "exp_1_oof.head()"
   ]
  },
  {
   "cell_type": "code",
   "execution_count": 11,
   "id": "f8d17ec2",
   "metadata": {
    "execution": {
     "iopub.execute_input": "2025-04-20T09:09:58.258802Z",
     "iopub.status.busy": "2025-04-20T09:09:58.258212Z",
     "iopub.status.idle": "2025-04-20T09:09:58.306846Z",
     "shell.execute_reply": "2025-04-20T09:09:58.305557Z"
    },
    "papermill": {
     "duration": 0.058297,
     "end_time": "2025-04-20T09:09:58.308847",
     "exception": false,
     "start_time": "2025-04-20T09:09:58.250550",
     "status": "completed"
    },
    "tags": []
   },
   "outputs": [],
   "source": [
    "# Find common target_ids across all three dataframes\n",
    "common_target_ids = set(exp_1_oof['target_id']).intersection(\n",
    "    set(exp_2_oof['target_id'])).intersection(\n",
    "    set(exp_3_oof['target_id'])).intersection(\n",
    "    set(fold_df['target_id']))\n",
    "\n",
    "# Filter exp_1_oof to keep only rows with common target_ids\n",
    "exp_1_oof = exp_1_oof[exp_1_oof['target_id'].isin(common_target_ids)]\n",
    "\n",
    "# Filter exp_2_oof to keep only rows with common target_ids\n",
    "exp_2_oof = exp_2_oof[exp_2_oof['target_id'].isin(common_target_ids)]\n",
    "\n",
    "exp_3_oof = exp_3_oof[exp_3_oof['target_id'].isin(common_target_ids)]"
   ]
  },
  {
   "cell_type": "code",
   "execution_count": 12,
   "id": "2ad5ffd8",
   "metadata": {
    "execution": {
     "iopub.execute_input": "2025-04-20T09:09:58.323092Z",
     "iopub.status.busy": "2025-04-20T09:09:58.322767Z",
     "iopub.status.idle": "2025-04-20T09:09:58.329187Z",
     "shell.execute_reply": "2025-04-20T09:09:58.328264Z"
    },
    "papermill": {
     "duration": 0.015407,
     "end_time": "2025-04-20T09:09:58.330892",
     "exception": false,
     "start_time": "2025-04-20T09:09:58.315485",
     "status": "completed"
    },
    "tags": []
   },
   "outputs": [
    {
     "data": {
      "text/plain": [
       "173"
      ]
     },
     "execution_count": 12,
     "metadata": {},
     "output_type": "execute_result"
    }
   ],
   "source": [
    "len(common_target_ids)"
   ]
  },
  {
   "cell_type": "code",
   "execution_count": 13,
   "id": "80f0b410",
   "metadata": {
    "execution": {
     "iopub.execute_input": "2025-04-20T09:09:58.345192Z",
     "iopub.status.busy": "2025-04-20T09:09:58.344841Z",
     "iopub.status.idle": "2025-04-20T09:09:58.351993Z",
     "shell.execute_reply": "2025-04-20T09:09:58.350953Z"
    },
    "papermill": {
     "duration": 0.016284,
     "end_time": "2025-04-20T09:09:58.353914",
     "exception": false,
     "start_time": "2025-04-20T09:09:58.337630",
     "status": "completed"
    },
    "tags": []
   },
   "outputs": [
    {
     "data": {
      "text/plain": [
       "((23230, 24), (23230, 24), (25124, 22))"
      ]
     },
     "execution_count": 13,
     "metadata": {},
     "output_type": "execute_result"
    }
   ],
   "source": [
    "exp_1_oof.shape, exp_2_oof.shape, exp_3_oof.shape"
   ]
  },
  {
   "cell_type": "code",
   "execution_count": 14,
   "id": "69805971",
   "metadata": {
    "execution": {
     "iopub.execute_input": "2025-04-20T09:09:58.368646Z",
     "iopub.status.busy": "2025-04-20T09:09:58.368324Z",
     "iopub.status.idle": "2025-04-20T09:09:58.522074Z",
     "shell.execute_reply": "2025-04-20T09:09:58.520926Z"
    },
    "papermill": {
     "duration": 0.163259,
     "end_time": "2025-04-20T09:09:58.523882",
     "exception": false,
     "start_time": "2025-04-20T09:09:58.360623",
     "status": "completed"
    },
    "tags": []
   },
   "outputs": [],
   "source": [
    "import pandas as pd\n",
    "\n",
    "# Define key columns for matching\n",
    "key_cols = ['ID', 'resname', 'resid', 'target_id']\n",
    "\n",
    "# Find common keys across all three DataFrames\n",
    "common_keys = pd.merge(exp_1_oof[key_cols], exp_2_oof[key_cols], on=key_cols)\n",
    "common_keys = pd.merge(common_keys, exp_3_oof[key_cols], on=key_cols)\n",
    "\n",
    "# Filter each DataFrame using common keys\n",
    "exp_1_oof = pd.merge(exp_1_oof, common_keys, on=key_cols)\n",
    "exp_2_oof = pd.merge(exp_2_oof, common_keys, on=key_cols)\n",
    "exp_3_oof = pd.merge(exp_3_oof, common_keys, on=key_cols)"
   ]
  },
  {
   "cell_type": "code",
   "execution_count": 15,
   "id": "f7cff58e",
   "metadata": {
    "execution": {
     "iopub.execute_input": "2025-04-20T09:09:58.538373Z",
     "iopub.status.busy": "2025-04-20T09:09:58.538029Z",
     "iopub.status.idle": "2025-04-20T09:09:58.544617Z",
     "shell.execute_reply": "2025-04-20T09:09:58.543610Z"
    },
    "papermill": {
     "duration": 0.015644,
     "end_time": "2025-04-20T09:09:58.546341",
     "exception": false,
     "start_time": "2025-04-20T09:09:58.530697",
     "status": "completed"
    },
    "tags": []
   },
   "outputs": [
    {
     "data": {
      "text/plain": [
       "((23230, 24), (23230, 24), (23230, 22))"
      ]
     },
     "execution_count": 15,
     "metadata": {},
     "output_type": "execute_result"
    }
   ],
   "source": [
    "exp_1_oof.shape, exp_2_oof.shape, exp_3_oof.shape"
   ]
  },
  {
   "cell_type": "markdown",
   "id": "b82cee03",
   "metadata": {
    "papermill": {
     "duration": 0.006305,
     "end_time": "2025-04-20T09:09:58.559144",
     "exception": false,
     "start_time": "2025-04-20T09:09:58.552839",
     "status": "completed"
    },
    "tags": []
   },
   "source": [
    "## Step -1: Hill climbing code"
   ]
  },
  {
   "cell_type": "code",
   "execution_count": 16,
   "id": "3c41e673",
   "metadata": {
    "execution": {
     "iopub.execute_input": "2025-04-20T09:09:58.573733Z",
     "iopub.status.busy": "2025-04-20T09:09:58.573408Z",
     "iopub.status.idle": "2025-04-20T09:09:58.615516Z",
     "shell.execute_reply": "2025-04-20T09:09:58.614227Z"
    },
    "papermill": {
     "duration": 0.051922,
     "end_time": "2025-04-20T09:09:58.617500",
     "exception": false,
     "start_time": "2025-04-20T09:09:58.565578",
     "status": "completed"
    },
    "tags": []
   },
   "outputs": [],
   "source": [
    "import gc\n",
    "import os\n",
    "import re\n",
    "import sys\n",
    "import numpy as np\n",
    "import pandas as pd\n",
    "from tqdm import tqdm\n",
    "from concurrent.futures import ProcessPoolExecutor, as_completed\n",
    "import multiprocessing"
   ]
  },
  {
   "cell_type": "code",
   "execution_count": 17,
   "id": "4d1dc261",
   "metadata": {
    "execution": {
     "iopub.execute_input": "2025-04-20T09:09:58.633082Z",
     "iopub.status.busy": "2025-04-20T09:09:58.632751Z",
     "iopub.status.idle": "2025-04-20T09:09:58.638718Z",
     "shell.execute_reply": "2025-04-20T09:09:58.637624Z"
    },
    "papermill": {
     "duration": 0.016146,
     "end_time": "2025-04-20T09:09:58.640693",
     "exception": false,
     "start_time": "2025-04-20T09:09:58.624547",
     "status": "completed"
    },
    "tags": []
   },
   "outputs": [],
   "source": [
    "def setup_usalign():\n",
    "    \"\"\"\n",
    "    Sets up USalign by copying it to the working directory and making it executable.\n",
    "    \"\"\"\n",
    "    # Copy USalign to working directory if it doesn't exist\n",
    "    if not os.path.exists('/kaggle/working/USalign'):\n",
    "        os.system('cp //kaggle/input/usalign/USalign /kaggle/working/')\n",
    "        os.system('sudo chmod u+x /kaggle/working/USalign')\n",
    "        print(\"USalign binary copied and made executable\")\n",
    "    return '/kaggle/working/USalign'"
   ]
  },
  {
   "cell_type": "code",
   "execution_count": 18,
   "id": "be1cc01b",
   "metadata": {
    "execution": {
     "iopub.execute_input": "2025-04-20T09:09:58.662097Z",
     "iopub.status.busy": "2025-04-20T09:09:58.661562Z",
     "iopub.status.idle": "2025-04-20T09:09:58.672534Z",
     "shell.execute_reply": "2025-04-20T09:09:58.671233Z"
    },
    "papermill": {
     "duration": 0.02528,
     "end_time": "2025-04-20T09:09:58.675042",
     "exception": false,
     "start_time": "2025-04-20T09:09:58.649762",
     "status": "completed"
    },
    "tags": []
   },
   "outputs": [],
   "source": [
    "def parse_tmscore_output(output):\n",
    "    # Extract TM-score based on length of reference structure (second)\n",
    "    tm_score_match = re.findall(r'TM-score=\\s+([\\d.]+)', output)[1]\n",
    "    if not tm_score_match:\n",
    "        raise ValueError('No TM score found')\n",
    "    return float(tm_score_match)\n",
    "\n",
    "\n",
    "def write_target_line(\n",
    "    atom_name, atom_serial, residue_name, chain_id, residue_num, x_coord, y_coord, z_coord, occupancy=1.0, b_factor=0.0, atom_type='P'\n",
    ") -> str:\n",
    "    \"\"\"\n",
    "    Writes a single line of PDB format based on provided atom information.\n",
    "    \"\"\"\n",
    "    return f'ATOM  {atom_serial:>5d}  {atom_name:<5s} {residue_name:<3s} {residue_num:>3d}    {x_coord:>8.3f}{y_coord:>8.3f}{z_coord:>8.3f}{occupancy:>6.2f}{b_factor:>6.2f}           {atom_type}\\n'"
   ]
  },
  {
   "cell_type": "code",
   "execution_count": 19,
   "id": "f47aed20",
   "metadata": {
    "execution": {
     "iopub.execute_input": "2025-04-20T09:09:58.696207Z",
     "iopub.status.busy": "2025-04-20T09:09:58.695758Z",
     "iopub.status.idle": "2025-04-20T09:09:58.706211Z",
     "shell.execute_reply": "2025-04-20T09:09:58.705075Z"
    },
    "papermill": {
     "duration": 0.020447,
     "end_time": "2025-04-20T09:09:58.707849",
     "exception": false,
     "start_time": "2025-04-20T09:09:58.687402",
     "status": "completed"
    },
    "tags": []
   },
   "outputs": [],
   "source": [
    "def write2pdb(df: pd.DataFrame, xyz_id: str, target_path: str) -> int:\n",
    "    resolved_cnt = 0\n",
    "    with open(target_path, 'w') as target_file:\n",
    "        for _, row in df.iterrows():\n",
    "            x_coord = row[f'x_{xyz_id}']\n",
    "            y_coord = row[f'y_{xyz_id}']\n",
    "            z_coord = row[f'z_{xyz_id}']\n",
    "\n",
    "            if x_coord > -1e17 and y_coord > -1e17 and z_coord > -1e17:\n",
    "                resolved_cnt += 1\n",
    "                target_line = write_target_line(\n",
    "                    atom_name=\"C1'\",\n",
    "                    atom_serial=int(row['resid']),\n",
    "                    residue_name=row['resname'],\n",
    "                    chain_id='0',\n",
    "                    residue_num=int(row['resid']),\n",
    "                    x_coord=x_coord,\n",
    "                    y_coord=y_coord,\n",
    "                    z_coord=z_coord,\n",
    "                    atom_type='C',\n",
    "                )\n",
    "                target_file.write(target_line)\n",
    "    return resolved_cnt"
   ]
  },
  {
   "cell_type": "code",
   "execution_count": 20,
   "id": "d7cff1a3",
   "metadata": {
    "execution": {
     "iopub.execute_input": "2025-04-20T09:09:58.724277Z",
     "iopub.status.busy": "2025-04-20T09:09:58.723896Z",
     "iopub.status.idle": "2025-04-20T09:09:58.731022Z",
     "shell.execute_reply": "2025-04-20T09:09:58.730214Z"
    },
    "papermill": {
     "duration": 0.017883,
     "end_time": "2025-04-20T09:09:58.732613",
     "exception": false,
     "start_time": "2025-04-20T09:09:58.714730",
     "status": "completed"
    },
    "tags": []
   },
   "outputs": [],
   "source": [
    "def write_ground_truth_pdb(df: pd.DataFrame, target_path: str) -> int:\n",
    "    \"\"\"\n",
    "    Writes ground truth coordinates to a PDB file.\n",
    "    \"\"\"\n",
    "    resolved_cnt = 0\n",
    "    with open(target_path, 'w') as target_file:\n",
    "        for _, row in df.iterrows():\n",
    "            x_coord = row['x_1_true']\n",
    "            y_coord = row['y_1_true']\n",
    "            z_coord = row['z_1_true']\n",
    "\n",
    "            if x_coord > -1e17 and y_coord > -1e17 and z_coord > -1e17:\n",
    "                resolved_cnt += 1\n",
    "                target_line = write_target_line(\n",
    "                    atom_name=\"C1'\",\n",
    "                    atom_serial=int(row['resid']),\n",
    "                    residue_name=row['resname'],\n",
    "                    chain_id='0',\n",
    "                    residue_num=int(row['resid']),\n",
    "                    x_coord=x_coord,\n",
    "                    y_coord=y_coord,\n",
    "                    z_coord=z_coord,\n",
    "                    atom_type='C',\n",
    "                )\n",
    "                target_file.write(target_line)\n",
    "    return resolved_cnt"
   ]
  },
  {
   "cell_type": "code",
   "execution_count": 21,
   "id": "8aae2cd2",
   "metadata": {
    "execution": {
     "iopub.execute_input": "2025-04-20T09:09:58.749463Z",
     "iopub.status.busy": "2025-04-20T09:09:58.748900Z",
     "iopub.status.idle": "2025-04-20T09:09:58.758376Z",
     "shell.execute_reply": "2025-04-20T09:09:58.757201Z"
    },
    "papermill": {
     "duration": 0.01954,
     "end_time": "2025-04-20T09:09:58.760329",
     "exception": false,
     "start_time": "2025-04-20T09:09:58.740789",
     "status": "completed"
    },
    "tags": []
   },
   "outputs": [],
   "source": [
    "def evaluate_single_weight(args):\n",
    "    \"\"\"\n",
    "    Evaluates a single weight combination for ensembling two RNA structure predictions.\n",
    "    \n",
    "    Args:\n",
    "        args (tuple): Contains weight, first_pred_df, second_pred_df, temporary_dir, and usalign_path\n",
    "        \n",
    "    Returns:\n",
    "        tuple: weight and resulting score\n",
    "    \"\"\"\n",
    "    weight, first_pred_df, second_pred_df, temp_dir, usalign_path = args\n",
    "    \n",
    "    # Create a copy of the first prediction dataframe\n",
    "    ensemble_df = first_pred_df.copy()\n",
    "    \n",
    "    # For each prediction (1-5), blend the coordinates using the weight\n",
    "    for pred_idx in range(1, 6):\n",
    "        # Blend x coordinates\n",
    "        ensemble_df[f'x_{pred_idx}'] = (1 - weight) * first_pred_df[f'x_{pred_idx}'] + weight * second_pred_df[f'x_{pred_idx}']\n",
    "        # Blend y coordinates\n",
    "        ensemble_df[f'y_{pred_idx}'] = (1 - weight) * first_pred_df[f'y_{pred_idx}'] + weight * second_pred_df[f'y_{pred_idx}']\n",
    "        # Blend z coordinates\n",
    "        ensemble_df[f'z_{pred_idx}'] = (1 - weight) * first_pred_df[f'z_{pred_idx}'] + weight * second_pred_df[f'z_{pred_idx}']\n",
    "    \n",
    "    # Create unique filenames for this process to avoid conflicts in parallel processing\n",
    "    process_id = os.getpid()\n",
    "    native_pdb = f'{temp_dir}/native_{process_id}.pdb'\n",
    "    predicted_pdb = f'{temp_dir}/predicted_{process_id}.pdb'\n",
    "    \n",
    "    # Evaluate using TM-score\n",
    "    score = score_ensemble(ensemble_df, native_pdb, predicted_pdb, usalign_path)\n",
    "    \n",
    "    return weight, score"
   ]
  },
  {
   "cell_type": "code",
   "execution_count": 22,
   "id": "3c1bfc90",
   "metadata": {
    "execution": {
     "iopub.execute_input": "2025-04-20T09:09:58.775080Z",
     "iopub.status.busy": "2025-04-20T09:09:58.774755Z",
     "iopub.status.idle": "2025-04-20T09:09:58.785347Z",
     "shell.execute_reply": "2025-04-20T09:09:58.784319Z"
    },
    "papermill": {
     "duration": 0.020163,
     "end_time": "2025-04-20T09:09:58.787171",
     "exception": false,
     "start_time": "2025-04-20T09:09:58.767008",
     "status": "completed"
    },
    "tags": []
   },
   "outputs": [],
   "source": [
    "from tqdm import tqdm\n",
    "\n",
    "def score_ensemble(ensemble_df, native_pdb='native.pdb', predicted_pdb='predicted.pdb', usalign_path=None):\n",
    "    \"\"\"\n",
    "    Scores the ensemble predictions against the ground truth using TM-score.\n",
    "    \n",
    "    Args:\n",
    "        ensemble_df (pd.DataFrame): DataFrame with predicted coordinates and ground truth\n",
    "        native_pdb (str): Path to write the native PDB file\n",
    "        predicted_pdb (str): Path to write the predicted PDB file\n",
    "        usalign_path (str): Path to the USalign executable\n",
    "        \n",
    "    Returns:\n",
    "        float: Average TM-score across all targets\n",
    "    \"\"\"\n",
    "    if usalign_path is None:\n",
    "        usalign_path = '/kaggle/working/USalign'\n",
    "    \n",
    "    from contextlib import contextmanager\n",
    "    \n",
    "    @contextmanager\n",
    "    def no_stdout():\n",
    "        old_stdout = sys.stdout\n",
    "        sys.stdout = open(os.devnull, 'w')\n",
    "        try:\n",
    "            yield\n",
    "        finally:\n",
    "            sys.stdout = old_stdout\n",
    "    \n",
    "    # Extract target_id from ID (target_resid)\n",
    "    ensemble_df['target_id'] = ensemble_df['ID'].apply(lambda x: x.split('_')[0])\n",
    "    \n",
    "    results = []\n",
    "    # Iterate through each target_id and compute TM-score\n",
    "    unique_targets = ensemble_df['target_id'].unique()\n",
    "    for target_id in tqdm(unique_targets):\n",
    "        group_data = ensemble_df[ensemble_df['target_id'] == target_id]\n",
    "        \n",
    "        # Write ground truth PDB once per target\n",
    "        with no_stdout():\n",
    "            resolved_cnt_truth = write_ground_truth_pdb(group_data, native_pdb)\n",
    "        \n",
    "        if resolved_cnt_truth == 0:\n",
    "            continue  # Skip if no ground truth coordinates\n",
    "        \n",
    "        target_id_scores = []\n",
    "        for pred_cnt in range(1, 6):\n",
    "            # Write predicted PDB\n",
    "            with no_stdout():\n",
    "                resolved_cnt_pred = write2pdb(group_data, pred_cnt, predicted_pdb)\n",
    "            \n",
    "            if resolved_cnt_pred > 0:\n",
    "                try:\n",
    "                    command = f'{usalign_path} {predicted_pdb} {native_pdb} -atom \" C1\\'\"'\n",
    "                    usalign_output = os.popen(command).read()\n",
    "                    tm_score = parse_tmscore_output(usalign_output)\n",
    "                    target_id_scores.append(tm_score)\n",
    "                except Exception as e:\n",
    "                    # Silent error handling during optimization\n",
    "                    continue\n",
    "        \n",
    "        if target_id_scores:\n",
    "            results.append(max(target_id_scores))\n",
    "    \n",
    "    # Return average TM-score across all targets\n",
    "    if not results:\n",
    "        return 0.0\n",
    "    return float(sum(results) / len(results))"
   ]
  },
  {
   "cell_type": "code",
   "execution_count": 23,
   "id": "387f76ae",
   "metadata": {
    "execution": {
     "iopub.execute_input": "2025-04-20T09:09:58.802946Z",
     "iopub.status.busy": "2025-04-20T09:09:58.802604Z",
     "iopub.status.idle": "2025-04-20T09:09:58.818168Z",
     "shell.execute_reply": "2025-04-20T09:09:58.817135Z"
    },
    "papermill": {
     "duration": 0.025758,
     "end_time": "2025-04-20T09:09:58.820420",
     "exception": false,
     "start_time": "2025-04-20T09:09:58.794662",
     "status": "completed"
    },
    "tags": []
   },
   "outputs": [],
   "source": [
    "def hill_climbing_optimizer(experiments_list, weight_step=0.05, max_iterations=1, num_cores=None):\n",
    "    \"\"\"\n",
    "    Performs hill climbing optimization to find the best ensemble weights for RNA structure predictions.\n",
    "    \n",
    "    Args:\n",
    "        experiments_list (list): List of dataframes with predictions\n",
    "        weight_step (float): Step size for weight exploration\n",
    "        max_iterations (int): Maximum number of iterations\n",
    "        num_cores (int): Number of CPU cores to use for parallelization\n",
    "        \n",
    "    Returns:\n",
    "        tuple: Dictionary of weights, best score, and final ensemble dataframe\n",
    "    \"\"\"\n",
    "    # Set up USalign\n",
    "    usalign_path = setup_usalign()\n",
    "    \n",
    "    if num_cores is None:\n",
    "        num_cores = max(1, multiprocessing.cpu_count() - 1)\n",
    "    \n",
    "    # Create temporary directory for parallel processing\n",
    "    temp_dir = '/tmp/rna_ensemble'\n",
    "    os.makedirs(temp_dir, exist_ok=True)\n",
    "    \n",
    "    # Start with the first experiment as baseline\n",
    "    best_ensemble_df = experiments_list[0].copy()\n",
    "    remaining_experiments = experiments_list[1:].copy()\n",
    "    \n",
    "    # Dictionary to store weights for each experiment\n",
    "    model_weights = {}\n",
    "    \n",
    "    # Define the weight range to explore\n",
    "    weights_range = np.arange(0.0, 1.0 + weight_step, weight_step)\n",
    "    weights_range = np.arange(-0.50, 0.51, 0.01)\n",
    "    print(f\"Number of weights testing : {len(weights_range)}\")\n",
    "    \n",
    "    # Get initial score\n",
    "    initial_score = score_ensemble(best_ensemble_df, usalign_path=usalign_path)\n",
    "    best_score = initial_score\n",
    "    print(f\"Initial score: {best_score:.6f}\")\n",
    "    \n",
    "    iteration = 0\n",
    "    while remaining_experiments and iteration < max_iterations:\n",
    "        iteration += 1\n",
    "        print(f\"\\nIteration {iteration}/{max_iterations}\")\n",
    "        \n",
    "        best_iteration = {\n",
    "            'index': -1,\n",
    "            'weight': 0,\n",
    "            'score': best_score,\n",
    "            'df': None\n",
    "        }\n",
    "        \n",
    "        # Try each remaining model\n",
    "        for i, model_df in enumerate(remaining_experiments):\n",
    "            try:\n",
    "                print(f\"Testing model {i+1}/{len(remaining_experiments)}\")\n",
    "                \n",
    "                # Prepare arguments for parallel processing\n",
    "                args_list = [(weight, best_ensemble_df, model_df, temp_dir, usalign_path) \n",
    "                             for weight in weights_range]\n",
    "                \n",
    "                # Process weights in parallel\n",
    "                with ProcessPoolExecutor(max_workers=num_cores) as executor:\n",
    "                    futures = [executor.submit(evaluate_single_weight, args) for args in args_list]\n",
    "                    \n",
    "                    # Process results as they complete\n",
    "                    for future in tqdm(as_completed(futures), total=len(futures), \n",
    "                                      desc=f\"Testing weights for model {i+1}\"):\n",
    "                        weight, new_score = future.result()\n",
    "                        \n",
    "                        # Update best if improved\n",
    "                        if new_score > best_iteration['score']:\n",
    "                            # Create the ensemble for this weight\n",
    "                            tmp_ensemble_df = best_ensemble_df.copy()\n",
    "                            for pred_idx in range(1, 6):\n",
    "                                tmp_ensemble_df[f'x_{pred_idx}'] = (1 - weight) * best_ensemble_df[f'x_{pred_idx}'] + weight * model_df[f'x_{pred_idx}']\n",
    "                                tmp_ensemble_df[f'y_{pred_idx}'] = (1 - weight) * best_ensemble_df[f'y_{pred_idx}'] + weight * model_df[f'y_{pred_idx}']\n",
    "                                tmp_ensemble_df[f'z_{pred_idx}'] = (1 - weight) * best_ensemble_df[f'z_{pred_idx}'] + weight * model_df[f'z_{pred_idx}']\n",
    "                            \n",
    "                            best_iteration.update({\n",
    "                                'index': i,\n",
    "                                'weight': weight,\n",
    "                                'score': new_score,\n",
    "                                'df': tmp_ensemble_df.copy()\n",
    "                            })\n",
    "                \n",
    "                # Clean up\n",
    "                gc.collect()\n",
    "                \n",
    "            except Exception as e:\n",
    "                print(f\"Error processing model {i+1}: {str(e)}\")\n",
    "                continue\n",
    "        \n",
    "        # Check if we found an improvement\n",
    "        if best_iteration['index'] == -1:\n",
    "            print(\"No improvement found, stopping\")\n",
    "            break\n",
    "            \n",
    "        # Update ensemble with best model found\n",
    "        best_score = best_iteration['score']\n",
    "        best_ensemble_df = best_iteration['df'].copy()\n",
    "        \n",
    "        # Add weight to the selected model and remove it from remaining\n",
    "        selected_model = remaining_experiments.pop(best_iteration['index'])\n",
    "        model_weights[f\"model_{iteration}\"] = best_iteration['weight']\n",
    "        \n",
    "        print(f\"Added model with weight {best_iteration['weight']:.4f}, New score: {best_iteration['score']:.6f}\")\n",
    "        \n",
    "    print(\"\\nOptimization complete!\")\n",
    "    print(f\"Initial score: {initial_score:.6f}\")\n",
    "    print(f\"Final score: {best_score:.6f}\")\n",
    "    print(f\"Improvement: {best_score - initial_score:.6f} ({(best_score - initial_score) / initial_score * 100:.2f}%)\")\n",
    "    print(f\"Model weights: {model_weights}\")\n",
    "    \n",
    "    # Clean up temporary directory\n",
    "    for filename in os.listdir(temp_dir):\n",
    "        os.remove(os.path.join(temp_dir, filename))\n",
    "    os.rmdir(temp_dir)\n",
    "    \n",
    "    return model_weights, best_score, best_ensemble_df"
   ]
  },
  {
   "cell_type": "code",
   "execution_count": 24,
   "id": "9f86204f",
   "metadata": {
    "execution": {
     "iopub.execute_input": "2025-04-20T09:09:58.835561Z",
     "iopub.status.busy": "2025-04-20T09:09:58.835240Z",
     "iopub.status.idle": "2025-04-20T11:21:37.770456Z",
     "shell.execute_reply": "2025-04-20T11:21:37.769310Z"
    },
    "papermill": {
     "duration": 7898.944972,
     "end_time": "2025-04-20T11:21:37.772526",
     "exception": false,
     "start_time": "2025-04-20T09:09:58.827554",
     "status": "completed"
    },
    "tags": []
   },
   "outputs": [
    {
     "name": "stdout",
     "output_type": "stream",
     "text": [
      "USalign binary copied and made executable\n",
      "Number of weights testing : 101\n"
     ]
    },
    {
     "name": "stderr",
     "output_type": "stream",
     "text": [
      "100%|██████████| 155/155 [00:59<00:00,  2.61it/s]"
     ]
    },
    {
     "name": "stdout",
     "output_type": "stream",
     "text": [
      "Initial score: 0.356892\n",
      "\n",
      "Iteration 1/10\n",
      "Testing model 1/2\n"
     ]
    },
    {
     "name": "stderr",
     "output_type": "stream",
     "text": [
      "\n",
      "100%|██████████| 155/155 [01:31<00:00,  1.69it/s]\n",
      "100%|██████████| 155/155 [01:33<00:00,  1.66it/s]\n",
      "100%|██████████| 155/155 [01:34<00:00,  1.64it/s]\n",
      "100%|██████████| 155/155 [01:35<00:00,  1.62it/s]\n",
      "100%|██████████| 155/155 [01:33<00:00,  1.66it/s]\n",
      "100%|██████████| 155/155 [01:31<00:00,  1.69it/s]\n",
      "Testing weights for model 1:   7%|▋         | 7/101 [03:09<30:19, 19.36s/it]\n",
      "100%|██████████| 155/155 [01:34<00:00,  1.65it/s]\n",
      "100%|██████████| 155/155 [01:32<00:00,  1.67it/s]\n",
      "100%|██████████| 155/155 [01:33<00:00,  1.65it/s]\n",
      "100%|██████████| 155/155 [01:31<00:00,  1.69it/s]\n",
      "100%|██████████| 155/155 [01:32<00:00,  1.68it/s]\n",
      "100%|██████████| 155/155 [01:34<00:00,  1.65it/s]\n",
      "100%|██████████| 155/155 [01:34<00:00,  1.63it/s]\n",
      "100%|██████████| 155/155 [01:35<00:00,  1.62it/s]\n",
      "100%|██████████| 155/155 [01:37<00:00,  1.60it/s]\n",
      "100%|██████████| 155/155 [01:40<00:00,  1.54it/s]\n",
      "100%|██████████| 155/155 [01:40<00:00,  1.54it/s]\n",
      "100%|██████████| 155/155 [01:40<00:00,  1.55it/s]\n",
      "100%|██████████| 155/155 [01:41<00:00,  1.53it/s]\n",
      "100%|██████████| 155/155 [01:39<00:00,  1.56it/s]\n",
      "100%|██████████| 155/155 [01:41<00:00,  1.52it/s]\n",
      "100%|██████████| 155/155 [01:40<00:00,  1.55it/s]\n",
      "100%|██████████| 155/155 [01:43<00:00,  1.50it/s]\n",
      "100%|██████████| 155/155 [01:43<00:00,  1.50it/s]\n",
      "100%|██████████| 155/155 [01:43<00:00,  1.50it/s]\n",
      "100%|██████████| 155/155 [01:45<00:00,  1.48it/s]\n",
      "100%|██████████| 155/155 [01:45<00:00,  1.47it/s]\n",
      "100%|██████████| 155/155 [01:44<00:00,  1.49it/s]\n",
      "100%|██████████| 155/155 [01:42<00:00,  1.51it/s]\n",
      "100%|██████████| 155/155 [01:42<00:00,  1.51it/s]\n",
      "100%|██████████| 155/155 [01:42<00:00,  1.51it/s]\n",
      "100%|██████████| 155/155 [01:42<00:00,  1.51it/s]\n",
      "100%|██████████| 155/155 [01:43<00:00,  1.50it/s]\n",
      "100%|██████████| 155/155 [01:44<00:00,  1.49it/s]\n",
      "100%|██████████| 155/155 [01:43<00:00,  1.50it/s]\n",
      "100%|██████████| 155/155 [01:44<00:00,  1.48it/s]\n",
      "100%|██████████| 155/155 [01:44<00:00,  1.49it/s]\n",
      "100%|██████████| 155/155 [01:45<00:00,  1.46it/s]\n",
      "100%|██████████| 155/155 [01:45<00:00,  1.46it/s]\n",
      "100%|██████████| 155/155 [01:44<00:00,  1.48it/s]\n",
      "100%|██████████| 155/155 [01:43<00:00,  1.50it/s]\n",
      "100%|██████████| 155/155 [01:42<00:00,  1.51it/s]\n",
      "Testing weights for model 1:  44%|████▎     | 44/101 [18:24<15:29, 16.31s/it]\n",
      "100%|██████████| 155/155 [01:41<00:00,  1.52it/s]\n",
      "100%|██████████| 155/155 [01:42<00:00,  1.51it/s]\n",
      "100%|██████████| 155/155 [01:43<00:00,  1.50it/s]\n",
      "100%|██████████| 155/155 [01:46<00:00,  1.46it/s]\n",
      "100%|██████████| 155/155 [01:42<00:00,  1.52it/s]\n",
      "100%|██████████| 155/155 [01:42<00:00,  1.52it/s]\n",
      "100%|██████████| 155/155 [01:42<00:00,  1.51it/s]\n",
      "100%|██████████| 155/155 [01:41<00:00,  1.52it/s]\n",
      "100%|██████████| 155/155 [01:39<00:00,  1.55it/s]\n",
      "100%|██████████| 155/155 [01:40<00:00,  1.55it/s]\n",
      "100%|██████████| 155/155 [01:43<00:00,  1.50it/s]\n",
      "100%|██████████| 155/155 [01:40<00:00,  1.54it/s]\n",
      "100%|██████████| 155/155 [01:42<00:00,  1.51it/s]\n",
      "100%|██████████| 155/155 [01:47<00:00,  1.44it/s]\n",
      "100%|██████████| 155/155 [01:47<00:00,  1.44it/s]\n",
      "100%|██████████| 155/155 [01:47<00:00,  1.44it/s]\n",
      "100%|██████████| 155/155 [01:48<00:00,  1.43it/s]\n",
      "100%|██████████| 155/155 [01:48<00:00,  1.43it/s]\n",
      "100%|██████████| 155/155 [01:49<00:00,  1.42it/s]\n",
      "100%|██████████| 155/155 [01:49<00:00,  1.41it/s]\n",
      "100%|██████████| 155/155 [01:46<00:00,  1.46it/s]\n",
      "100%|██████████| 155/155 [01:46<00:00,  1.46it/s]\n",
      "100%|██████████| 155/155 [01:45<00:00,  1.46it/s]\n",
      "100%|██████████| 155/155 [01:48<00:00,  1.43it/s]\n",
      "100%|██████████| 155/155 [01:45<00:00,  1.46it/s]\n",
      "100%|██████████| 155/155 [01:46<00:00,  1.46it/s]\n",
      "100%|██████████| 155/155 [01:43<00:00,  1.49it/s]\n",
      "100%|██████████| 155/155 [01:47<00:00,  1.45it/s]\n",
      "100%|██████████| 155/155 [01:47<00:00,  1.44it/s]\n",
      "100%|██████████| 155/155 [01:43<00:00,  1.49it/s]\n",
      "100%|██████████| 155/155 [01:47<00:00,  1.45it/s]\n",
      "100%|██████████| 155/155 [01:43<00:00,  1.50it/s]\n",
      "100%|██████████| 155/155 [01:43<00:00,  1.49it/s]\n",
      "100%|██████████| 155/155 [01:41<00:00,  1.53it/s]\n",
      "100%|██████████| 155/155 [01:43<00:00,  1.50it/s]\n",
      "100%|██████████| 155/155 [01:41<00:00,  1.53it/s]\n",
      "100%|██████████| 155/155 [01:43<00:00,  1.50it/s]\n",
      "100%|██████████| 155/155 [01:44<00:00,  1.48it/s]\n",
      "100%|██████████| 155/155 [01:41<00:00,  1.52it/s]\n",
      "100%|██████████| 155/155 [01:41<00:00,  1.53it/s]\n",
      "100%|██████████| 155/155 [01:42<00:00,  1.52it/s]\n",
      "100%|██████████| 155/155 [01:41<00:00,  1.52it/s]\n",
      "100%|██████████| 155/155 [01:40<00:00,  1.54it/s]\n",
      "100%|██████████| 155/155 [01:42<00:00,  1.51it/s]\n",
      "100%|██████████| 155/155 [01:39<00:00,  1.56it/s]\n",
      "100%|██████████| 155/155 [01:39<00:00,  1.55it/s]\n",
      "100%|██████████| 155/155 [01:38<00:00,  1.57it/s]\n",
      "100%|██████████| 155/155 [01:40<00:00,  1.54it/s]\n",
      "100%|██████████| 155/155 [01:37<00:00,  1.59it/s]\n",
      "100%|██████████| 155/155 [01:37<00:00,  1.58it/s]\n",
      "100%|██████████| 155/155 [01:37<00:00,  1.59it/s]\n",
      "100%|██████████| 155/155 [01:36<00:00,  1.61it/s]\n",
      "100%|██████████| 155/155 [01:37<00:00,  1.59it/s]\n",
      "100%|██████████| 155/155 [01:37<00:00,  1.59it/s]\n",
      "100%|██████████| 155/155 [01:33<00:00,  1.65it/s]\n",
      "100%|██████████| 155/155 [01:32<00:00,  1.68it/s]\n",
      "100%|██████████| 155/155 [00:57<00:00,  2.72it/s]\n",
      "Testing weights for model 1: 100%|██████████| 101/101 [43:11<00:00, 25.65s/it]"
     ]
    },
    {
     "name": "stdout",
     "output_type": "stream",
     "text": [
      "Testing model 2/2\n"
     ]
    },
    {
     "name": "stderr",
     "output_type": "stream",
     "text": [
      "\n",
      "100%|██████████| 155/155 [01:29<00:00,  1.74it/s]\n",
      "100%|██████████| 155/155 [01:29<00:00,  1.73it/s]\n",
      "100%|██████████| 155/155 [01:30<00:00,  1.72it/s]\n",
      "100%|██████████| 155/155 [01:31<00:00,  1.69it/s]\n",
      "100%|██████████| 155/155 [01:29<00:00,  1.72it/s]\n",
      "100%|██████████| 155/155 [01:31<00:00,  1.69it/s]\n",
      "100%|██████████| 155/155 [01:32<00:00,  1.67it/s]\n",
      "100%|██████████| 155/155 [01:31<00:00,  1.69it/s]\n",
      "100%|██████████| 155/155 [01:32<00:00,  1.68it/s]\n",
      "100%|██████████| 155/155 [01:32<00:00,  1.67it/s]\n",
      "100%|██████████| 155/155 [01:31<00:00,  1.69it/s]\n",
      "100%|██████████| 155/155 [01:33<00:00,  1.67it/s]\n",
      "100%|██████████| 155/155 [01:35<00:00,  1.63it/s]\n",
      "100%|██████████| 155/155 [01:35<00:00,  1.62it/s]\n",
      "100%|██████████| 155/155 [01:34<00:00,  1.63it/s]\n",
      "100%|██████████| 155/155 [01:37<00:00,  1.58it/s]\n",
      "100%|██████████| 155/155 [01:35<00:00,  1.62it/s]\n",
      "100%|██████████| 155/155 [01:36<00:00,  1.60it/s]\n",
      "100%|██████████| 155/155 [01:37<00:00,  1.59it/s]\n",
      "100%|██████████| 155/155 [01:40<00:00,  1.55it/s]\n",
      "100%|██████████| 155/155 [01:38<00:00,  1.58it/s]\n",
      "100%|██████████| 155/155 [01:38<00:00,  1.57it/s]\n",
      "100%|██████████| 155/155 [01:40<00:00,  1.54it/s]\n",
      "100%|██████████| 155/155 [01:40<00:00,  1.55it/s]\n",
      "100%|██████████| 155/155 [01:38<00:00,  1.57it/s]\n",
      "100%|██████████| 155/155 [01:41<00:00,  1.53it/s]\n",
      "100%|██████████| 155/155 [01:39<00:00,  1.56it/s]\n",
      "100%|██████████| 155/155 [01:41<00:00,  1.53it/s]\n",
      "100%|██████████| 155/155 [01:39<00:00,  1.55it/s]\n",
      "100%|██████████| 155/155 [01:42<00:00,  1.51it/s]\n",
      "100%|██████████| 155/155 [01:43<00:00,  1.50it/s]\n",
      "100%|██████████| 155/155 [01:41<00:00,  1.52it/s]\n",
      "100%|██████████| 155/155 [01:42<00:00,  1.51it/s]\n",
      "100%|██████████| 155/155 [01:42<00:00,  1.52it/s]\n",
      "100%|██████████| 155/155 [01:43<00:00,  1.49it/s]\n",
      "100%|██████████| 155/155 [01:43<00:00,  1.50it/s]\n",
      "100%|██████████| 155/155 [01:44<00:00,  1.48it/s]\n",
      "100%|██████████| 155/155 [01:41<00:00,  1.52it/s]\n",
      "100%|██████████| 155/155 [01:44<00:00,  1.49it/s]\n",
      "100%|██████████| 155/155 [01:42<00:00,  1.51it/s]\n",
      "100%|██████████| 155/155 [01:43<00:00,  1.50it/s]\n",
      "100%|██████████| 155/155 [01:41<00:00,  1.53it/s]\n",
      "100%|██████████| 155/155 [01:42<00:00,  1.52it/s]\n",
      "100%|██████████| 155/155 [01:43<00:00,  1.50it/s]\n",
      "100%|██████████| 155/155 [01:41<00:00,  1.53it/s]\n",
      "100%|██████████| 155/155 [01:40<00:00,  1.54it/s]\n",
      "100%|██████████| 155/155 [01:40<00:00,  1.54it/s]\n",
      "100%|██████████| 155/155 [01:39<00:00,  1.56it/s]\n",
      "100%|██████████| 155/155 [01:42<00:00,  1.52it/s]\n",
      "100%|██████████| 155/155 [01:43<00:00,  1.49it/s]\n",
      "100%|██████████| 155/155 [01:42<00:00,  1.51it/s]\n",
      "100%|██████████| 155/155 [01:43<00:00,  1.50it/s]\n",
      "100%|██████████| 155/155 [01:38<00:00,  1.57it/s]\n",
      "100%|██████████| 155/155 [01:41<00:00,  1.52it/s]\n",
      "100%|██████████| 155/155 [01:41<00:00,  1.52it/s]\n",
      "100%|██████████| 155/155 [01:42<00:00,  1.52it/s]\n",
      "100%|██████████| 155/155 [01:49<00:00,  1.41it/s]\n",
      "100%|██████████| 155/155 [01:49<00:00,  1.42it/s]\n",
      "100%|██████████| 155/155 [01:48<00:00,  1.43it/s]\n",
      "100%|██████████| 155/155 [01:52<00:00,  1.38it/s]\n",
      "100%|██████████| 155/155 [01:45<00:00,  1.46it/s]\n",
      "100%|██████████| 155/155 [01:46<00:00,  1.46it/s]\n",
      "100%|██████████| 155/155 [01:49<00:00,  1.41it/s]\n",
      "Testing weights for model 2:  63%|██████▎   | 64/101 [26:53<11:18, 18.34s/it]\n",
      "Testing weights for model 2:  64%|██████▍   | 65/101 [28:20<23:22, 38.95s/it]\n",
      "100%|██████████| 155/155 [01:51<00:00,  1.39it/s]\n",
      "100%|██████████| 155/155 [01:47<00:00,  1.45it/s]\n",
      "100%|██████████| 155/155 [01:49<00:00,  1.41it/s]\n",
      "100%|██████████| 155/155 [01:49<00:00,  1.42it/s]\n",
      "100%|██████████| 155/155 [01:49<00:00,  1.41it/s]\n",
      "100%|██████████| 155/155 [01:50<00:00,  1.41it/s]\n",
      "100%|██████████| 155/155 [01:48<00:00,  1.43it/s]\n",
      "100%|██████████| 155/155 [01:46<00:00,  1.46it/s]\n",
      "100%|██████████| 155/155 [01:48<00:00,  1.43it/s]\n",
      "100%|██████████| 155/155 [01:49<00:00,  1.42it/s]\n",
      "100%|██████████| 155/155 [01:48<00:00,  1.43it/s]\n",
      "100%|██████████| 155/155 [01:44<00:00,  3.33it/s]\n",
      "100%|██████████| 155/155 [01:47<00:00,  1.44it/s]\n",
      "100%|██████████| 155/155 [01:46<00:00,  1.46it/s]\n",
      "100%|██████████| 155/155 [01:43<00:00,  1.50it/s]\n",
      "100%|██████████| 155/155 [01:43<00:00,  1.49it/s]\n",
      "100%|██████████| 155/155 [01:43<00:00,  1.49it/s]\n",
      "100%|██████████| 155/155 [01:42<00:00,  3.37it/s]\n",
      "100%|██████████| 155/155 [01:42<00:00,  1.51it/s]\n",
      "100%|██████████| 155/155 [01:41<00:00,  1.52it/s]\n",
      "100%|██████████| 155/155 [01:43<00:00,  1.50it/s]\n",
      "100%|██████████| 155/155 [01:42<00:00,  1.51it/s]\n",
      "100%|██████████| 155/155 [01:43<00:00,  1.50it/s]\n",
      "100%|██████████| 155/155 [01:44<00:00,  1.48it/s]\n",
      "100%|██████████| 155/155 [01:43<00:00,  1.49it/s]\n",
      "100%|██████████| 155/155 [01:44<00:00,  1.48it/s]\n",
      "100%|██████████| 155/155 [01:41<00:00,  1.53it/s]\n",
      "100%|██████████| 155/155 [01:40<00:00,  1.54it/s]\n",
      "100%|██████████| 155/155 [01:38<00:00,  3.42it/s]\n",
      "100%|██████████| 155/155 [01:39<00:00,  1.55it/s]\n",
      "100%|██████████| 155/155 [01:39<00:00,  1.56it/s]\n",
      "100%|██████████| 155/155 [01:40<00:00,  1.54it/s]\n",
      "100%|██████████| 155/155 [01:40<00:00,  1.54it/s]\n",
      "100%|██████████| 155/155 [01:40<00:00,  1.54it/s]\n",
      "100%|██████████| 155/155 [01:37<00:00,  1.58it/s]\n",
      "100%|██████████| 155/155 [01:02<00:00,  2.47it/s]\n",
      "Testing weights for model 2: 100%|██████████| 101/101 [43:16<00:00, 25.71s/it]"
     ]
    },
    {
     "name": "stdout",
     "output_type": "stream",
     "text": [
      "Added model with weight 0.0100, New score: 0.360055\n",
      "\n",
      "Iteration 2/10\n",
      "Testing model 1/1\n"
     ]
    },
    {
     "name": "stderr",
     "output_type": "stream",
     "text": [
      "\n",
      "100%|██████████| 155/155 [01:30<00:00,  1.71it/s]\n",
      "100%|██████████| 155/155 [01:31<00:00,  1.70it/s]\n",
      "100%|██████████| 155/155 [01:32<00:00,  1.68it/s]\n",
      "100%|██████████| 155/155 [01:34<00:00,  1.64it/s]\n",
      "100%|██████████| 155/155 [01:34<00:00,  1.65it/s]\n",
      "100%|██████████| 155/155 [01:35<00:00,  1.62it/s]\n",
      "100%|██████████| 155/155 [01:34<00:00,  1.64it/s]\n",
      "100%|██████████| 155/155 [01:37<00:00,  1.59it/s]\n",
      "100%|██████████| 155/155 [01:36<00:00,  1.61it/s]\n",
      "100%|██████████| 155/155 [01:37<00:00,  1.59it/s]\n",
      "100%|██████████| 155/155 [01:33<00:00,  1.66it/s]\n",
      "100%|██████████| 155/155 [01:36<00:00,  1.61it/s]\n",
      "100%|██████████| 155/155 [01:35<00:00,  1.62it/s]\n",
      "100%|██████████| 155/155 [01:35<00:00,  1.62it/s]\n",
      "100%|██████████| 155/155 [01:37<00:00,  1.59it/s]\n",
      "100%|██████████| 155/155 [01:36<00:00,  1.61it/s]\n",
      "100%|██████████| 155/155 [01:38<00:00,  1.58it/s]\n",
      "100%|██████████| 155/155 [01:39<00:00,  1.56it/s]\n",
      "100%|██████████| 155/155 [01:37<00:00,  1.58it/s]\n",
      "100%|██████████| 155/155 [01:38<00:00,  1.58it/s]\n",
      "100%|██████████| 155/155 [01:38<00:00,  1.57it/s]\n",
      "100%|██████████| 155/155 [01:41<00:00,  1.53it/s]\n",
      "100%|██████████| 155/155 [01:39<00:00,  1.55it/s]\n",
      "100%|██████████| 155/155 [01:40<00:00,  1.54it/s]\n",
      "100%|██████████| 155/155 [01:40<00:00,  1.54it/s]\n",
      "100%|██████████| 155/155 [01:41<00:00,  1.53it/s]\n",
      "100%|██████████| 155/155 [01:43<00:00,  1.50it/s]\n",
      "100%|██████████| 155/155 [01:40<00:00,  1.54it/s]\n",
      "100%|██████████| 155/155 [01:42<00:00,  1.51it/s]\n",
      "100%|██████████| 155/155 [01:43<00:00,  1.50it/s]\n",
      "100%|██████████| 155/155 [01:43<00:00,  1.49it/s]\n",
      "100%|██████████| 155/155 [01:44<00:00,  1.48it/s]\n",
      "100%|██████████| 155/155 [01:42<00:00,  1.51it/s]\n",
      "100%|██████████| 155/155 [01:44<00:00,  1.48it/s]\n",
      "100%|██████████| 155/155 [01:42<00:00,  1.51it/s]\n",
      "100%|██████████| 155/155 [01:44<00:00,  1.48it/s]\n",
      "100%|██████████| 155/155 [01:46<00:00,  1.45it/s]\n",
      "100%|██████████| 155/155 [01:46<00:00,  1.45it/s]\n",
      "100%|██████████| 155/155 [01:46<00:00,  1.46it/s]\n",
      "100%|██████████| 155/155 [01:46<00:00,  1.45it/s]\n",
      "100%|██████████| 155/155 [01:45<00:00,  1.47it/s]\n",
      "100%|██████████| 155/155 [01:46<00:00,  1.46it/s]\n",
      "100%|██████████| 155/155 [01:45<00:00,  1.47it/s]\n",
      "100%|██████████| 155/155 [01:43<00:00,  1.50it/s]\n",
      "100%|██████████| 155/155 [01:41<00:00,  1.52it/s]\n",
      "100%|██████████| 155/155 [01:43<00:00,  1.50it/s]\n",
      "100%|██████████| 155/155 [01:41<00:00,  1.53it/s]\n",
      "100%|██████████| 155/155 [01:43<00:00,  1.50it/s]\n",
      "100%|██████████| 155/155 [01:41<00:00,  1.53it/s]\n",
      "100%|██████████| 155/155 [01:42<00:00,  1.52it/s]\n",
      "100%|██████████| 155/155 [01:41<00:00,  1.53it/s]\n",
      "100%|██████████| 155/155 [01:43<00:00,  1.49it/s]\n",
      "100%|██████████| 155/155 [01:42<00:00,  1.51it/s]\n",
      "100%|██████████| 155/155 [01:43<00:00,  1.50it/s]\n",
      "100%|██████████| 155/155 [01:44<00:00,  1.49it/s]\n",
      "100%|██████████| 155/155 [01:43<00:00,  1.49it/s]\n",
      "100%|██████████| 155/155 [01:41<00:00,  1.52it/s]\n",
      "100%|██████████| 155/155 [01:42<00:00,  1.51it/s]\n",
      "100%|██████████| 155/155 [01:44<00:00,  1.48it/s]\n",
      "100%|██████████| 155/155 [01:45<00:00,  1.47it/s]\n",
      "100%|██████████| 155/155 [01:48<00:00,  1.43it/s]\n",
      "100%|██████████| 155/155 [01:44<00:00,  1.48it/s]\n",
      "100%|██████████| 155/155 [01:46<00:00,  1.45it/s]\n",
      "100%|██████████| 155/155 [01:48<00:00,  1.43it/s]\n",
      "100%|██████████| 155/155 [01:50<00:00,  1.41it/s]\n",
      "100%|██████████| 155/155 [01:51<00:00,  1.39it/s]\n",
      "100%|██████████| 155/155 [01:50<00:00,  1.41it/s]\n",
      "100%|██████████| 155/155 [01:47<00:00,  1.44it/s]\n",
      "100%|██████████| 155/155 [01:52<00:00,  1.38it/s]\n",
      "100%|██████████| 155/155 [01:52<00:00,  1.37it/s]\n",
      "100%|██████████| 155/155 [01:53<00:00,  1.37it/s]\n",
      "100%|██████████| 155/155 [01:53<00:00,  1.36it/s]\n",
      "100%|██████████| 155/155 [01:49<00:00,  1.41it/s]\n",
      "100%|██████████| 155/155 [01:51<00:00,  1.39it/s]\n",
      "100%|██████████| 155/155 [01:51<00:00,  1.39it/s]\n",
      "100%|██████████| 155/155 [01:51<00:00,  1.39it/s]\n",
      "100%|██████████| 155/155 [01:53<00:00,  1.37it/s]\n",
      "100%|██████████| 155/155 [01:49<00:00,  1.41it/s]\n",
      "100%|██████████| 155/155 [01:50<00:00,  1.41it/s]\n",
      "100%|██████████| 155/155 [01:47<00:00,  1.44it/s]\n",
      "100%|██████████| 155/155 [01:49<00:00,  1.42it/s]\n",
      "100%|██████████| 155/155 [01:49<00:00,  1.42it/s]\n",
      "100%|██████████| 155/155 [01:47<00:00,  1.45it/s]\n",
      "100%|██████████| 155/155 [01:48<00:00,  1.43it/s]\n",
      "100%|██████████| 155/155 [01:46<00:00,  1.46it/s]\n",
      "100%|██████████| 155/155 [01:48<00:00,  1.42it/s]\n",
      "100%|██████████| 155/155 [01:49<00:00,  1.42it/s]\n",
      "100%|██████████| 155/155 [01:47<00:00,  1.44it/s]\n",
      "100%|██████████| 155/155 [01:43<00:00,  1.50it/s]\n",
      "100%|██████████| 155/155 [01:43<00:00,  1.50it/s]\n",
      "100%|██████████| 155/155 [01:43<00:00,  1.50it/s]\n",
      "100%|██████████| 155/155 [01:44<00:00,  1.48it/s]\n",
      "100%|██████████| 155/155 [01:45<00:00,  1.47it/s]\n",
      "100%|██████████| 155/155 [01:47<00:00,  1.45it/s]\n",
      "100%|██████████| 155/155 [01:45<00:00,  1.47it/s]\n",
      "100%|██████████| 155/155 [01:45<00:00,  1.47it/s]\n",
      "100%|██████████| 155/155 [01:41<00:00,  1.53it/s]\n",
      "100%|██████████| 155/155 [01:42<00:00,  1.52it/s]\n",
      "100%|██████████| 155/155 [01:44<00:00,  1.48it/s]\n",
      "100%|██████████| 155/155 [01:42<00:00,  1.52it/s]\n",
      "100%|██████████| 155/155 [00:59<00:00,  2.62it/s]\n",
      "Testing weights for model 1: 100%|██████████| 101/101 [44:10<00:00, 26.25s/it]"
     ]
    },
    {
     "name": "stdout",
     "output_type": "stream",
     "text": [
      "Added model with weight 0.0100, New score: 0.360924\n",
      "\n",
      "Optimization complete!\n",
      "Initial score: 0.356892\n",
      "Final score: 0.360924\n",
      "Improvement: 0.004032 (1.13%)\n",
      "Model weights: {'model_1': 0.010000000000000453, 'model_2': 0.010000000000000453}\n"
     ]
    },
    {
     "name": "stderr",
     "output_type": "stream",
     "text": [
      "\n"
     ]
    }
   ],
   "source": [
    "# Load your experiment dataframes\n",
    "experiment1_df = exp_1_oof\n",
    "experiment2_df = exp_2_oof\n",
    "experiment3_df = exp_3_oof\n",
    "\n",
    "# Create list of experiment dataframes\n",
    "experiments_list = [experiment1_df, experiment2_df, experiment3_df]\n",
    "\n",
    "# Run the hill climbing optimizer\n",
    "model_weights, best_score, final_ensemble = hill_climbing_optimizer(\n",
    "    experiments_list=experiments_list,\n",
    "    weight_step=0.1,\n",
    "    max_iterations=10,\n",
    "    num_cores=4\n",
    ")"
   ]
  },
  {
   "cell_type": "code",
   "execution_count": 25,
   "id": "beaa541a",
   "metadata": {
    "execution": {
     "iopub.execute_input": "2025-04-20T11:21:42.677856Z",
     "iopub.status.busy": "2025-04-20T11:21:42.677338Z",
     "iopub.status.idle": "2025-04-20T11:21:42.700989Z",
     "shell.execute_reply": "2025-04-20T11:21:42.699875Z"
    },
    "papermill": {
     "duration": 2.457282,
     "end_time": "2025-04-20T11:21:42.702679",
     "exception": false,
     "start_time": "2025-04-20T11:21:40.245397",
     "status": "completed"
    },
    "tags": []
   },
   "outputs": [
    {
     "data": {
      "text/plain": [
       "({'model_1': 0.010000000000000453, 'model_2': 0.010000000000000453},\n",
       " 0.3609239999999998,\n",
       "        Unnamed: 0         ID resname  resid         x_1         y_1  \\\n",
       " 0            1720   1FFK_9_1       U      1 -103.988279  467.668598   \n",
       " 1            1721   1FFK_9_2       U      2 -102.507799  464.748296   \n",
       " 2            1722   1FFK_9_3       A      3  -99.732552  461.893026   \n",
       " 3            1723   1FFK_9_4       G      4 -104.592810  457.038302   \n",
       " 4            1724   1FFK_9_5       G      5 -107.744409  451.865816   \n",
       " ...           ...        ...     ...    ...         ...         ...   \n",
       " 23225       64413  8Z1F_T_62       U     62  -90.337759  452.430621   \n",
       " 23226       64414  8Z1F_T_63       A     63  -86.829195  449.249144   \n",
       " 23227       64415  8Z1F_T_64       C     64  -86.630040  450.184442   \n",
       " 23228       64416  8Z1F_T_65       C     65  -87.150484  445.196258   \n",
       " 23229       64417  8Z1F_T_66       A     66  -90.105690  441.404682   \n",
       " \n",
       "               z_1         x_2         y_2         z_2  ...         y_4  \\\n",
       " 0     -178.600557 -103.688429  468.750827 -175.748030  ...  468.056522   \n",
       " 1     -173.629565 -101.560341  467.261632 -173.685729  ...  466.185690   \n",
       " 2     -170.462705 -100.658832  463.380058 -172.227839  ...  463.015193   \n",
       " 3     -171.547336 -106.572710  459.037212 -171.252264  ...  459.208506   \n",
       " 4     -173.968886 -107.344379  453.466745 -173.602368  ...  453.796453   \n",
       " ...           ...         ...         ...         ...  ...         ...   \n",
       " 23225 -198.206737  -89.620066  454.579370 -199.004540  ...  453.564402   \n",
       " 23226 -201.533433  -87.827982  453.565002 -204.112603  ...  450.167349   \n",
       " 23227 -205.829595  -88.774772  452.181912 -207.659732  ...  450.056360   \n",
       " 23228 -207.846060  -90.840505  446.874243 -207.612907  ...  447.548980   \n",
       " 23229 -211.943376  -93.727417  443.317211 -208.870519  ...  442.686404   \n",
       " \n",
       "               z_4         x_5         y_5         z_5   flag    x_1_true  \\\n",
       " 0     -179.904281 -105.625358  471.675794 -179.175789  False   50.841000   \n",
       " 1     -173.962199 -103.899405  470.290033 -174.162947  False   52.405998   \n",
       " 2     -171.379609 -101.395712  465.496097 -171.488110  False   57.773998   \n",
       " 3     -171.810825 -107.160169  461.310506 -171.508482  False   57.311001   \n",
       " 4     -173.358581 -109.965464  456.400566 -173.678146  False   57.646999   \n",
       " ...           ...         ...         ...         ...    ...         ...   \n",
       " 23225 -198.977634  -88.435814  456.866224 -198.089181  False  112.516998   \n",
       " 23226 -203.420314  -87.056852  455.653334 -202.923420  False  115.292999   \n",
       " 23227 -206.994432  -88.062006  455.574114 -206.071235  False  115.857002   \n",
       " 23228 -212.148612  -89.221955  452.951037 -210.517284  False  113.816002   \n",
       " 23229 -212.478948  -93.889841  450.520473 -213.040830  False  118.279999   \n",
       " \n",
       "          y_1_true    z_1_true  target_id  \n",
       " 0       14.916000   99.295998       1FFK  \n",
       " 1       10.401000  106.478996       1FFK  \n",
       " 2       14.789000  103.852997       1FFK  \n",
       " 3       16.924000   96.344002       1FFK  \n",
       " 4       20.913000   92.202003       1FFK  \n",
       " ...           ...         ...        ...  \n",
       " 23225  117.880997  119.245003       8Z1F  \n",
       " 23226  116.571999  114.827003       8Z1F  \n",
       " 23227  114.595001  109.509003       8Z1F  \n",
       " 23228  113.236000  104.339996       8Z1F  \n",
       " 23229  113.883003   98.071999       8Z1F  \n",
       " \n",
       " [23230 rows x 24 columns])"
      ]
     },
     "execution_count": 25,
     "metadata": {},
     "output_type": "execute_result"
    }
   ],
   "source": [
    "model_weights, best_score, final_ensemble"
   ]
  },
  {
   "cell_type": "code",
   "execution_count": 26,
   "id": "62ba46a1",
   "metadata": {
    "execution": {
     "iopub.execute_input": "2025-04-20T11:21:47.656042Z",
     "iopub.status.busy": "2025-04-20T11:21:47.655734Z",
     "iopub.status.idle": "2025-04-20T11:21:48.538865Z",
     "shell.execute_reply": "2025-04-20T11:21:48.537432Z"
    },
    "papermill": {
     "duration": 3.382979,
     "end_time": "2025-04-20T11:21:48.540993",
     "exception": false,
     "start_time": "2025-04-20T11:21:45.158014",
     "status": "completed"
    },
    "tags": []
   },
   "outputs": [],
   "source": [
    "# Save the final ensemble\n",
    "final_ensemble.to_csv('final_ensemble.csv', index=False)"
   ]
  },
  {
   "cell_type": "code",
   "execution_count": null,
   "id": "72eb79a3",
   "metadata": {
    "papermill": {
     "duration": 2.405047,
     "end_time": "2025-04-20T11:21:53.508740",
     "exception": false,
     "start_time": "2025-04-20T11:21:51.103693",
     "status": "completed"
    },
    "tags": []
   },
   "outputs": [],
   "source": []
  }
 ],
 "metadata": {
  "kaggle": {
   "accelerator": "none",
   "dataSources": [
    {
     "databundleVersionId": 11553390,
     "isSourceIdPinned": false,
     "sourceId": 87793,
     "sourceType": "competition"
    },
    {
     "datasetId": 6742586,
     "sourceId": 10855324,
     "sourceType": "datasetVersion"
    },
    {
     "sourceId": 232754793,
     "sourceType": "kernelVersion"
    },
    {
     "sourceId": 233427159,
     "sourceType": "kernelVersion"
    },
    {
     "sourceId": 233747992,
     "sourceType": "kernelVersion"
    },
    {
     "sourceId": 233810385,
     "sourceType": "kernelVersion"
    },
    {
     "sourceId": 234582641,
     "sourceType": "kernelVersion"
    },
    {
     "sourceId": 234620162,
     "sourceType": "kernelVersion"
    }
   ],
   "dockerImageVersionId": 31012,
   "isGpuEnabled": false,
   "isInternetEnabled": true,
   "language": "python",
   "sourceType": "notebook"
  },
  "kernelspec": {
   "display_name": "Python 3",
   "language": "python",
   "name": "python3"
  },
  "language_info": {
   "codemirror_mode": {
    "name": "ipython",
    "version": 3
   },
   "file_extension": ".py",
   "mimetype": "text/x-python",
   "name": "python",
   "nbconvert_exporter": "python",
   "pygments_lexer": "ipython3",
   "version": "3.11.11"
  },
  "papermill": {
   "default_parameters": {},
   "duration": 7929.222644,
   "end_time": "2025-04-20T11:21:58.593044",
   "environment_variables": {},
   "exception": null,
   "input_path": "__notebook__.ipynb",
   "output_path": "__notebook__.ipynb",
   "parameters": {},
   "start_time": "2025-04-20T09:09:49.370400",
   "version": "2.6.0"
  }
 },
 "nbformat": 4,
 "nbformat_minor": 5
}
