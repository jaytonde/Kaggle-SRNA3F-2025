{
 "cells": [
  {
   "cell_type": "markdown",
   "id": "e8d187b4",
   "metadata": {
    "papermill": {
     "duration": 0.005505,
     "end_time": "2025-04-14T15:05:00.807260",
     "exception": false,
     "start_time": "2025-04-14T15:05:00.801755",
     "status": "completed"
    },
    "tags": []
   },
   "source": [
    "## Step 1 : Imports"
   ]
  },
  {
   "cell_type": "code",
   "execution_count": 1,
   "id": "bd9871e4",
   "metadata": {
    "execution": {
     "iopub.execute_input": "2025-04-14T15:05:00.818201Z",
     "iopub.status.busy": "2025-04-14T15:05:00.817859Z",
     "iopub.status.idle": "2025-04-14T15:05:02.753437Z",
     "shell.execute_reply": "2025-04-14T15:05:02.752441Z"
    },
    "papermill": {
     "duration": 1.943049,
     "end_time": "2025-04-14T15:05:02.755225",
     "exception": false,
     "start_time": "2025-04-14T15:05:00.812176",
     "status": "completed"
    },
    "tags": []
   },
   "outputs": [],
   "source": [
    "import pandas as pd"
   ]
  },
  {
   "cell_type": "markdown",
   "id": "1de52581",
   "metadata": {
    "papermill": {
     "duration": 0.004688,
     "end_time": "2025-04-14T15:05:02.764834",
     "exception": false,
     "start_time": "2025-04-14T15:05:02.760146",
     "status": "completed"
    },
    "tags": []
   },
   "source": [
    "## Step 2: Load the oof files"
   ]
  },
  {
   "cell_type": "code",
   "execution_count": 2,
   "id": "16dc2cec",
   "metadata": {
    "execution": {
     "iopub.execute_input": "2025-04-14T15:05:02.775844Z",
     "iopub.status.busy": "2025-04-14T15:05:02.775264Z",
     "iopub.status.idle": "2025-04-14T15:05:02.867316Z",
     "shell.execute_reply": "2025-04-14T15:05:02.866359Z"
    },
    "papermill": {
     "duration": 0.099295,
     "end_time": "2025-04-14T15:05:02.868875",
     "exception": false,
     "start_time": "2025-04-14T15:05:02.769580",
     "status": "completed"
    },
    "tags": []
   },
   "outputs": [
    {
     "data": {
      "text/plain": [
       "(178, 7)"
      ]
     },
     "execution_count": 2,
     "metadata": {},
     "output_type": "execute_result"
    }
   ],
   "source": [
    "fold_df = pd.read_csv(\"/kaggle/input/folding-strategy-rna/rna_dataset_with_fold.csv\")\n",
    "fold_df = fold_df[fold_df[\"fold\"]==1]\n",
    "fold_df.shape"
   ]
  },
  {
   "cell_type": "code",
   "execution_count": 3,
   "id": "668b9b26",
   "metadata": {
    "execution": {
     "iopub.execute_input": "2025-04-14T15:05:02.880104Z",
     "iopub.status.busy": "2025-04-14T15:05:02.879737Z",
     "iopub.status.idle": "2025-04-14T15:05:02.886658Z",
     "shell.execute_reply": "2025-04-14T15:05:02.885839Z"
    },
    "papermill": {
     "duration": 0.014146,
     "end_time": "2025-04-14T15:05:02.888055",
     "exception": false,
     "start_time": "2025-04-14T15:05:02.873909",
     "status": "completed"
    },
    "tags": []
   },
   "outputs": [
    {
     "data": {
      "text/plain": [
       "Index(['target_id', 'sequence', 'temporal_cutoff', 'description',\n",
       "       'all_sequences', 'sequence_length', 'fold'],\n",
       "      dtype='object')"
      ]
     },
     "execution_count": 3,
     "metadata": {},
     "output_type": "execute_result"
    }
   ],
   "source": [
    "fold_df.columns"
   ]
  },
  {
   "cell_type": "code",
   "execution_count": 4,
   "id": "b85b9bbe",
   "metadata": {
    "execution": {
     "iopub.execute_input": "2025-04-14T15:05:02.899388Z",
     "iopub.status.busy": "2025-04-14T15:05:02.899065Z",
     "iopub.status.idle": "2025-04-14T15:05:02.922428Z",
     "shell.execute_reply": "2025-04-14T15:05:02.921538Z"
    },
    "papermill": {
     "duration": 0.030793,
     "end_time": "2025-04-14T15:05:02.923882",
     "exception": false,
     "start_time": "2025-04-14T15:05:02.893089",
     "status": "completed"
    },
    "tags": []
   },
   "outputs": [
    {
     "data": {
      "text/html": [
       "<div>\n",
       "<style scoped>\n",
       "    .dataframe tbody tr th:only-of-type {\n",
       "        vertical-align: middle;\n",
       "    }\n",
       "\n",
       "    .dataframe tbody tr th {\n",
       "        vertical-align: top;\n",
       "    }\n",
       "\n",
       "    .dataframe thead th {\n",
       "        text-align: right;\n",
       "    }\n",
       "</style>\n",
       "<table border=\"1\" class=\"dataframe\">\n",
       "  <thead>\n",
       "    <tr style=\"text-align: right;\">\n",
       "      <th></th>\n",
       "      <th>target_id</th>\n",
       "      <th>sequence</th>\n",
       "      <th>temporal_cutoff</th>\n",
       "      <th>description</th>\n",
       "      <th>all_sequences</th>\n",
       "      <th>sequence_length</th>\n",
       "      <th>fold</th>\n",
       "    </tr>\n",
       "  </thead>\n",
       "  <tbody>\n",
       "    <tr>\n",
       "      <th>67</th>\n",
       "      <td>1FFK_9</td>\n",
       "      <td>UUAGGCGGCCACAGCGGUGGGGUUGCCUCCCGUACCCAUCCCGAAC...</td>\n",
       "      <td>2000-08-14</td>\n",
       "      <td>CRYSTAL STRUCTURE OF THE LARGE RIBOSOMAL SUBUN...</td>\n",
       "      <td>&gt;1FFK_1|Chain A[auth 0]|23S RRNA|Haloarcula ma...</td>\n",
       "      <td>122</td>\n",
       "      <td>1</td>\n",
       "    </tr>\n",
       "    <tr>\n",
       "      <th>74</th>\n",
       "      <td>1FOQ_A</td>\n",
       "      <td>UCAAUGGUACGGUACUUCCAUUGUCAUGUGUAUGUUGGGGAUUAAA...</td>\n",
       "      <td>2000-12-22</td>\n",
       "      <td>PENTAMERIC MODEL OF THE BACTERIOPHAGE PHI29 PR...</td>\n",
       "      <td>&gt;1FOQ_1|Chains A, B, C, D, E|BACTERIOPHAGE PHI...</td>\n",
       "      <td>120</td>\n",
       "      <td>1</td>\n",
       "    </tr>\n",
       "    <tr>\n",
       "      <th>148</th>\n",
       "      <td>1S9S_A</td>\n",
       "      <td>GGCGGUACUAGUUGAGAAACUAGCUCUGUAUCUGGCGGACCCGUGG...</td>\n",
       "      <td>2004-04-06</td>\n",
       "      <td>SOLUTION STRUCTURE OF MLV PSI SITE</td>\n",
       "      <td>&gt;1S9S_1|Chain A|MLV Psi encapsidation site|nul...</td>\n",
       "      <td>101</td>\n",
       "      <td>1</td>\n",
       "    </tr>\n",
       "    <tr>\n",
       "      <th>173</th>\n",
       "      <td>1ZC8_Z</td>\n",
       "      <td>GCCCGUCACGCCAUGGGAGCGGGCUCUACCCGAAGUCGCCGGGAGC...</td>\n",
       "      <td>2005-04-19</td>\n",
       "      <td>Coordinates of tmRNA, SmpB, EF-Tu and h44 fitt...</td>\n",
       "      <td>&gt;1ZC8_1|Chain A|TLD 16S ribosomal RNA|Thermus ...</td>\n",
       "      <td>91</td>\n",
       "      <td>1</td>\n",
       "    </tr>\n",
       "    <tr>\n",
       "      <th>186</th>\n",
       "      <td>1YSH_B</td>\n",
       "      <td>UAGACGGUGGGAGAGGGUGGUGGAAUUCCCGGAGUAGCGGUGAAAU...</td>\n",
       "      <td>2005-07-05</td>\n",
       "      <td>Localization and dynamic behavior of ribosomal...</td>\n",
       "      <td>&gt;1YSH_1|Chain A|RNA (28-MER)|synthetic constru...</td>\n",
       "      <td>101</td>\n",
       "      <td>1</td>\n",
       "    </tr>\n",
       "    <tr>\n",
       "      <th>...</th>\n",
       "      <td>...</td>\n",
       "      <td>...</td>\n",
       "      <td>...</td>\n",
       "      <td>...</td>\n",
       "      <td>...</td>\n",
       "      <td>...</td>\n",
       "      <td>...</td>\n",
       "    </tr>\n",
       "    <tr>\n",
       "      <th>832</th>\n",
       "      <td>9G7C_A</td>\n",
       "      <td>GGGAGUCGGGUCUGUGGUUGAAAGUCGAUGCCAGUCGCAGGCGAAA...</td>\n",
       "      <td>2024-10-30</td>\n",
       "      <td>Cryo-EM structure of raiA ncRNA from Clostridi...</td>\n",
       "      <td>&gt;9G7C_1|Chain A|raiA (224-MER)|Clostridium sp....</td>\n",
       "      <td>224</td>\n",
       "      <td>1</td>\n",
       "    </tr>\n",
       "    <tr>\n",
       "      <th>839</th>\n",
       "      <td>8T3E_EC</td>\n",
       "      <td>AAACUCCAUGUAUUGGUUACCCAUCUGCAUCGAAAACUCUCCGAAC...</td>\n",
       "      <td>2024-12-11</td>\n",
       "      <td>Hypomethylated yeast 80S bound with Taura synd...</td>\n",
       "      <td>&gt;8T3E_1|Chain A[auth BA]|40S ribosomal protein...</td>\n",
       "      <td>202</td>\n",
       "      <td>1</td>\n",
       "    </tr>\n",
       "    <tr>\n",
       "      <th>840</th>\n",
       "      <td>8T3F_EC</td>\n",
       "      <td>AAACUCCAUGUAUUGGUUACCCAUCUGCAUCGAAAACUCUCCGAAC...</td>\n",
       "      <td>2024-12-11</td>\n",
       "      <td>Hypomethylated yeast 80S bound with Taura synd...</td>\n",
       "      <td>&gt;8T3F_1|Chain A[auth BA]|40S ribosomal protein...</td>\n",
       "      <td>202</td>\n",
       "      <td>1</td>\n",
       "    </tr>\n",
       "    <tr>\n",
       "      <th>842</th>\n",
       "      <td>8Z1G_T</td>\n",
       "      <td>GGUAAAAUGGCUGAGUGAAGCAUUGGACUGUAAAUCUAAAGACAGG...</td>\n",
       "      <td>2024-12-18</td>\n",
       "      <td>Cryo-EM structure of human ELAC2-pre-tRNA</td>\n",
       "      <td>&gt;8Z1G_1|Chain A[auth T]|Homo sapiens mitochond...</td>\n",
       "      <td>86</td>\n",
       "      <td>1</td>\n",
       "    </tr>\n",
       "    <tr>\n",
       "      <th>843</th>\n",
       "      <td>8Z1F_T</td>\n",
       "      <td>GGUAAAAUGGCUGAGUGAAGCAUUGGACUGUAAAUCUAAAGACAGG...</td>\n",
       "      <td>2024-12-18</td>\n",
       "      <td>Cryo-EM structure of human ELAC2-tRNA</td>\n",
       "      <td>&gt;8Z1F_1|Chain A[auth T]|Homo sapiens mitochond...</td>\n",
       "      <td>86</td>\n",
       "      <td>1</td>\n",
       "    </tr>\n",
       "  </tbody>\n",
       "</table>\n",
       "<p>178 rows × 7 columns</p>\n",
       "</div>"
      ],
      "text/plain": [
       "    target_id                                           sequence  \\\n",
       "67     1FFK_9  UUAGGCGGCCACAGCGGUGGGGUUGCCUCCCGUACCCAUCCCGAAC...   \n",
       "74     1FOQ_A  UCAAUGGUACGGUACUUCCAUUGUCAUGUGUAUGUUGGGGAUUAAA...   \n",
       "148    1S9S_A  GGCGGUACUAGUUGAGAAACUAGCUCUGUAUCUGGCGGACCCGUGG...   \n",
       "173    1ZC8_Z  GCCCGUCACGCCAUGGGAGCGGGCUCUACCCGAAGUCGCCGGGAGC...   \n",
       "186    1YSH_B  UAGACGGUGGGAGAGGGUGGUGGAAUUCCCGGAGUAGCGGUGAAAU...   \n",
       "..        ...                                                ...   \n",
       "832    9G7C_A  GGGAGUCGGGUCUGUGGUUGAAAGUCGAUGCCAGUCGCAGGCGAAA...   \n",
       "839   8T3E_EC  AAACUCCAUGUAUUGGUUACCCAUCUGCAUCGAAAACUCUCCGAAC...   \n",
       "840   8T3F_EC  AAACUCCAUGUAUUGGUUACCCAUCUGCAUCGAAAACUCUCCGAAC...   \n",
       "842    8Z1G_T  GGUAAAAUGGCUGAGUGAAGCAUUGGACUGUAAAUCUAAAGACAGG...   \n",
       "843    8Z1F_T  GGUAAAAUGGCUGAGUGAAGCAUUGGACUGUAAAUCUAAAGACAGG...   \n",
       "\n",
       "    temporal_cutoff                                        description  \\\n",
       "67       2000-08-14  CRYSTAL STRUCTURE OF THE LARGE RIBOSOMAL SUBUN...   \n",
       "74       2000-12-22  PENTAMERIC MODEL OF THE BACTERIOPHAGE PHI29 PR...   \n",
       "148      2004-04-06                 SOLUTION STRUCTURE OF MLV PSI SITE   \n",
       "173      2005-04-19  Coordinates of tmRNA, SmpB, EF-Tu and h44 fitt...   \n",
       "186      2005-07-05  Localization and dynamic behavior of ribosomal...   \n",
       "..              ...                                                ...   \n",
       "832      2024-10-30  Cryo-EM structure of raiA ncRNA from Clostridi...   \n",
       "839      2024-12-11  Hypomethylated yeast 80S bound with Taura synd...   \n",
       "840      2024-12-11  Hypomethylated yeast 80S bound with Taura synd...   \n",
       "842      2024-12-18          Cryo-EM structure of human ELAC2-pre-tRNA   \n",
       "843      2024-12-18              Cryo-EM structure of human ELAC2-tRNA   \n",
       "\n",
       "                                         all_sequences  sequence_length  fold  \n",
       "67   >1FFK_1|Chain A[auth 0]|23S RRNA|Haloarcula ma...              122     1  \n",
       "74   >1FOQ_1|Chains A, B, C, D, E|BACTERIOPHAGE PHI...              120     1  \n",
       "148  >1S9S_1|Chain A|MLV Psi encapsidation site|nul...              101     1  \n",
       "173  >1ZC8_1|Chain A|TLD 16S ribosomal RNA|Thermus ...               91     1  \n",
       "186  >1YSH_1|Chain A|RNA (28-MER)|synthetic constru...              101     1  \n",
       "..                                                 ...              ...   ...  \n",
       "832  >9G7C_1|Chain A|raiA (224-MER)|Clostridium sp....              224     1  \n",
       "839  >8T3E_1|Chain A[auth BA]|40S ribosomal protein...              202     1  \n",
       "840  >8T3F_1|Chain A[auth BA]|40S ribosomal protein...              202     1  \n",
       "842  >8Z1G_1|Chain A[auth T]|Homo sapiens mitochond...               86     1  \n",
       "843  >8Z1F_1|Chain A[auth T]|Homo sapiens mitochond...               86     1  \n",
       "\n",
       "[178 rows x 7 columns]"
      ]
     },
     "execution_count": 4,
     "metadata": {},
     "output_type": "execute_result"
    }
   ],
   "source": [
    "fold_df"
   ]
  },
  {
   "cell_type": "code",
   "execution_count": 5,
   "id": "894ea0c8",
   "metadata": {
    "execution": {
     "iopub.execute_input": "2025-04-14T15:05:02.936057Z",
     "iopub.status.busy": "2025-04-14T15:05:02.935341Z",
     "iopub.status.idle": "2025-04-14T15:05:03.743795Z",
     "shell.execute_reply": "2025-04-14T15:05:03.742923Z"
    },
    "papermill": {
     "duration": 0.816137,
     "end_time": "2025-04-14T15:05:03.745399",
     "exception": false,
     "start_time": "2025-04-14T15:05:02.929262",
     "status": "completed"
    },
    "tags": []
   },
   "outputs": [],
   "source": [
    "exp_1_oof = pd.read_csv(\"/kaggle/input/train-ribonanzanet-inference-03/ribonanzanet1_oof.csv\")\n",
    "exp_2_oof = pd.read_csv(\"/kaggle/input/ribonanzanet-3d-inference/ribonanzanet1_public_oof.csv\")"
   ]
  },
  {
   "cell_type": "code",
   "execution_count": 6,
   "id": "17c6ea33",
   "metadata": {
    "execution": {
     "iopub.execute_input": "2025-04-14T15:05:03.757295Z",
     "iopub.status.busy": "2025-04-14T15:05:03.757013Z",
     "iopub.status.idle": "2025-04-14T15:05:03.835031Z",
     "shell.execute_reply": "2025-04-14T15:05:03.834044Z"
    },
    "papermill": {
     "duration": 0.085737,
     "end_time": "2025-04-14T15:05:03.836611",
     "exception": false,
     "start_time": "2025-04-14T15:05:03.750874",
     "status": "completed"
    },
    "tags": []
   },
   "outputs": [],
   "source": [
    "exp_1_oof[\"target_id\"] = exp_1_oof[\"ID\"].apply(lambda x: x.split(\"_\")[0]+'_'+x.split(\"_\")[1])\n",
    "exp_2_oof[\"target_id\"] = exp_2_oof[\"ID\"].apply(lambda x: x.split(\"_\")[0]+'_'+x.split(\"_\")[1])"
   ]
  },
  {
   "cell_type": "code",
   "execution_count": 7,
   "id": "96e12a45",
   "metadata": {
    "execution": {
     "iopub.execute_input": "2025-04-14T15:05:03.848646Z",
     "iopub.status.busy": "2025-04-14T15:05:03.848327Z",
     "iopub.status.idle": "2025-04-14T15:05:03.853989Z",
     "shell.execute_reply": "2025-04-14T15:05:03.853174Z"
    },
    "papermill": {
     "duration": 0.013344,
     "end_time": "2025-04-14T15:05:03.855396",
     "exception": false,
     "start_time": "2025-04-14T15:05:03.842052",
     "status": "completed"
    },
    "tags": []
   },
   "outputs": [
    {
     "data": {
      "text/plain": [
       "((59508, 24), (59508, 24))"
      ]
     },
     "execution_count": 7,
     "metadata": {},
     "output_type": "execute_result"
    }
   ],
   "source": [
    "exp_1_oof.shape, exp_2_oof.shape"
   ]
  },
  {
   "cell_type": "code",
   "execution_count": 8,
   "id": "375aca42",
   "metadata": {
    "execution": {
     "iopub.execute_input": "2025-04-14T15:05:03.868313Z",
     "iopub.status.busy": "2025-04-14T15:05:03.867594Z",
     "iopub.status.idle": "2025-04-14T15:05:03.873974Z",
     "shell.execute_reply": "2025-04-14T15:05:03.873174Z"
    },
    "papermill": {
     "duration": 0.014283,
     "end_time": "2025-04-14T15:05:03.875400",
     "exception": false,
     "start_time": "2025-04-14T15:05:03.861117",
     "status": "completed"
    },
    "tags": []
   },
   "outputs": [
    {
     "data": {
      "text/plain": [
       "(Index(['Unnamed: 0', 'ID', 'resname', 'resid', 'x_1', 'y_1', 'z_1', 'x_2',\n",
       "        'y_2', 'z_2', 'x_3', 'y_3', 'z_3', 'x_4', 'y_4', 'z_4', 'x_5', 'y_5',\n",
       "        'z_5', 'flag', 'x_1_true', 'y_1_true', 'z_1_true', 'target_id'],\n",
       "       dtype='object'),\n",
       " Index(['Unnamed: 0', 'ID', 'resname', 'resid', 'x_1', 'y_1', 'z_1', 'x_2',\n",
       "        'y_2', 'z_2', 'x_3', 'y_3', 'z_3', 'x_4', 'y_4', 'z_4', 'x_5', 'y_5',\n",
       "        'z_5', 'flag', 'x_1_true', 'y_1_true', 'z_1_true', 'target_id'],\n",
       "       dtype='object'))"
      ]
     },
     "execution_count": 8,
     "metadata": {},
     "output_type": "execute_result"
    }
   ],
   "source": [
    "exp_1_oof.columns, exp_2_oof.columns"
   ]
  },
  {
   "cell_type": "code",
   "execution_count": 9,
   "id": "7c1c3061",
   "metadata": {
    "execution": {
     "iopub.execute_input": "2025-04-14T15:05:03.888180Z",
     "iopub.status.busy": "2025-04-14T15:05:03.887889Z",
     "iopub.status.idle": "2025-04-14T15:05:03.915247Z",
     "shell.execute_reply": "2025-04-14T15:05:03.914532Z"
    },
    "papermill": {
     "duration": 0.035434,
     "end_time": "2025-04-14T15:05:03.916617",
     "exception": false,
     "start_time": "2025-04-14T15:05:03.881183",
     "status": "completed"
    },
    "tags": []
   },
   "outputs": [
    {
     "data": {
      "text/html": [
       "<div>\n",
       "<style scoped>\n",
       "    .dataframe tbody tr th:only-of-type {\n",
       "        vertical-align: middle;\n",
       "    }\n",
       "\n",
       "    .dataframe tbody tr th {\n",
       "        vertical-align: top;\n",
       "    }\n",
       "\n",
       "    .dataframe thead th {\n",
       "        text-align: right;\n",
       "    }\n",
       "</style>\n",
       "<table border=\"1\" class=\"dataframe\">\n",
       "  <thead>\n",
       "    <tr style=\"text-align: right;\">\n",
       "      <th></th>\n",
       "      <th>Unnamed: 0</th>\n",
       "      <th>ID</th>\n",
       "      <th>resname</th>\n",
       "      <th>resid</th>\n",
       "      <th>x_1</th>\n",
       "      <th>y_1</th>\n",
       "      <th>z_1</th>\n",
       "      <th>x_2</th>\n",
       "      <th>y_2</th>\n",
       "      <th>z_2</th>\n",
       "      <th>...</th>\n",
       "      <th>y_4</th>\n",
       "      <th>z_4</th>\n",
       "      <th>x_5</th>\n",
       "      <th>y_5</th>\n",
       "      <th>z_5</th>\n",
       "      <th>flag</th>\n",
       "      <th>x_1_true</th>\n",
       "      <th>y_1_true</th>\n",
       "      <th>z_1_true</th>\n",
       "      <th>target_id</th>\n",
       "    </tr>\n",
       "  </thead>\n",
       "  <tbody>\n",
       "    <tr>\n",
       "      <th>0</th>\n",
       "      <td>0</td>\n",
       "      <td>1SCL_A_1</td>\n",
       "      <td>G</td>\n",
       "      <td>1</td>\n",
       "      <td>-89.44650</td>\n",
       "      <td>440.98752</td>\n",
       "      <td>-191.07695</td>\n",
       "      <td>-85.431590</td>\n",
       "      <td>441.04114</td>\n",
       "      <td>-191.89421</td>\n",
       "      <td>...</td>\n",
       "      <td>440.77075</td>\n",
       "      <td>-189.97743</td>\n",
       "      <td>-88.49204</td>\n",
       "      <td>443.50134</td>\n",
       "      <td>-189.03722</td>\n",
       "      <td>False</td>\n",
       "      <td>13.760</td>\n",
       "      <td>-25.974001</td>\n",
       "      <td>0.102</td>\n",
       "      <td>1SCL_A</td>\n",
       "    </tr>\n",
       "    <tr>\n",
       "      <th>1</th>\n",
       "      <td>1</td>\n",
       "      <td>1SCL_A_2</td>\n",
       "      <td>G</td>\n",
       "      <td>2</td>\n",
       "      <td>-86.84754</td>\n",
       "      <td>444.70746</td>\n",
       "      <td>-187.42662</td>\n",
       "      <td>-82.974150</td>\n",
       "      <td>444.25116</td>\n",
       "      <td>-188.79414</td>\n",
       "      <td>...</td>\n",
       "      <td>445.63367</td>\n",
       "      <td>-186.70834</td>\n",
       "      <td>-86.35016</td>\n",
       "      <td>448.01245</td>\n",
       "      <td>-185.88399</td>\n",
       "      <td>False</td>\n",
       "      <td>9.310</td>\n",
       "      <td>-29.638000</td>\n",
       "      <td>2.669</td>\n",
       "      <td>1SCL_A</td>\n",
       "    </tr>\n",
       "    <tr>\n",
       "      <th>2</th>\n",
       "      <td>2</td>\n",
       "      <td>1SCL_A_3</td>\n",
       "      <td>G</td>\n",
       "      <td>3</td>\n",
       "      <td>-84.42002</td>\n",
       "      <td>450.20407</td>\n",
       "      <td>-186.49513</td>\n",
       "      <td>-80.990265</td>\n",
       "      <td>448.82376</td>\n",
       "      <td>-186.72595</td>\n",
       "      <td>...</td>\n",
       "      <td>450.10754</td>\n",
       "      <td>-184.92595</td>\n",
       "      <td>-84.62899</td>\n",
       "      <td>453.17456</td>\n",
       "      <td>-185.34094</td>\n",
       "      <td>False</td>\n",
       "      <td>5.529</td>\n",
       "      <td>-27.813000</td>\n",
       "      <td>5.878</td>\n",
       "      <td>1SCL_A</td>\n",
       "    </tr>\n",
       "    <tr>\n",
       "      <th>3</th>\n",
       "      <td>3</td>\n",
       "      <td>1SCL_A_4</td>\n",
       "      <td>U</td>\n",
       "      <td>4</td>\n",
       "      <td>-82.65829</td>\n",
       "      <td>454.56104</td>\n",
       "      <td>-187.05147</td>\n",
       "      <td>-80.184710</td>\n",
       "      <td>455.09888</td>\n",
       "      <td>-187.27373</td>\n",
       "      <td>...</td>\n",
       "      <td>455.17950</td>\n",
       "      <td>-185.91920</td>\n",
       "      <td>-83.52623</td>\n",
       "      <td>458.62033</td>\n",
       "      <td>-186.64482</td>\n",
       "      <td>False</td>\n",
       "      <td>2.678</td>\n",
       "      <td>-24.900999</td>\n",
       "      <td>9.793</td>\n",
       "      <td>1SCL_A</td>\n",
       "    </tr>\n",
       "    <tr>\n",
       "      <th>4</th>\n",
       "      <td>4</td>\n",
       "      <td>1SCL_A_5</td>\n",
       "      <td>G</td>\n",
       "      <td>5</td>\n",
       "      <td>-82.31447</td>\n",
       "      <td>459.51068</td>\n",
       "      <td>-189.50598</td>\n",
       "      <td>-80.920364</td>\n",
       "      <td>459.51350</td>\n",
       "      <td>-188.50897</td>\n",
       "      <td>...</td>\n",
       "      <td>460.33838</td>\n",
       "      <td>-188.98530</td>\n",
       "      <td>-84.19373</td>\n",
       "      <td>462.99750</td>\n",
       "      <td>-190.29022</td>\n",
       "      <td>False</td>\n",
       "      <td>1.827</td>\n",
       "      <td>-20.136000</td>\n",
       "      <td>11.793</td>\n",
       "      <td>1SCL_A</td>\n",
       "    </tr>\n",
       "  </tbody>\n",
       "</table>\n",
       "<p>5 rows × 24 columns</p>\n",
       "</div>"
      ],
      "text/plain": [
       "   Unnamed: 0        ID resname  resid       x_1        y_1        z_1  \\\n",
       "0           0  1SCL_A_1       G      1 -89.44650  440.98752 -191.07695   \n",
       "1           1  1SCL_A_2       G      2 -86.84754  444.70746 -187.42662   \n",
       "2           2  1SCL_A_3       G      3 -84.42002  450.20407 -186.49513   \n",
       "3           3  1SCL_A_4       U      4 -82.65829  454.56104 -187.05147   \n",
       "4           4  1SCL_A_5       G      5 -82.31447  459.51068 -189.50598   \n",
       "\n",
       "         x_2        y_2        z_2  ...        y_4        z_4       x_5  \\\n",
       "0 -85.431590  441.04114 -191.89421  ...  440.77075 -189.97743 -88.49204   \n",
       "1 -82.974150  444.25116 -188.79414  ...  445.63367 -186.70834 -86.35016   \n",
       "2 -80.990265  448.82376 -186.72595  ...  450.10754 -184.92595 -84.62899   \n",
       "3 -80.184710  455.09888 -187.27373  ...  455.17950 -185.91920 -83.52623   \n",
       "4 -80.920364  459.51350 -188.50897  ...  460.33838 -188.98530 -84.19373   \n",
       "\n",
       "         y_5        z_5   flag  x_1_true   y_1_true  z_1_true  target_id  \n",
       "0  443.50134 -189.03722  False    13.760 -25.974001     0.102     1SCL_A  \n",
       "1  448.01245 -185.88399  False     9.310 -29.638000     2.669     1SCL_A  \n",
       "2  453.17456 -185.34094  False     5.529 -27.813000     5.878     1SCL_A  \n",
       "3  458.62033 -186.64482  False     2.678 -24.900999     9.793     1SCL_A  \n",
       "4  462.99750 -190.29022  False     1.827 -20.136000    11.793     1SCL_A  \n",
       "\n",
       "[5 rows x 24 columns]"
      ]
     },
     "execution_count": 9,
     "metadata": {},
     "output_type": "execute_result"
    }
   ],
   "source": [
    "exp_1_oof.head()"
   ]
  },
  {
   "cell_type": "code",
   "execution_count": 10,
   "id": "bdaf0fdf",
   "metadata": {
    "execution": {
     "iopub.execute_input": "2025-04-14T15:05:03.929508Z",
     "iopub.status.busy": "2025-04-14T15:05:03.929215Z",
     "iopub.status.idle": "2025-04-14T15:05:03.968038Z",
     "shell.execute_reply": "2025-04-14T15:05:03.967062Z"
    },
    "papermill": {
     "duration": 0.046957,
     "end_time": "2025-04-14T15:05:03.969703",
     "exception": false,
     "start_time": "2025-04-14T15:05:03.922746",
     "status": "completed"
    },
    "tags": []
   },
   "outputs": [],
   "source": [
    "# Find common target_ids across all three dataframes\n",
    "common_target_ids = set(exp_1_oof['target_id']).intersection(\n",
    "    set(exp_2_oof['target_id'])).intersection(\n",
    "    set(fold_df['target_id']))\n",
    "\n",
    "# Filter exp_1_oof to keep only rows with common target_ids\n",
    "exp_1_oof = exp_1_oof[exp_1_oof['target_id'].isin(common_target_ids)]\n",
    "\n",
    "# Filter exp_2_oof to keep only rows with common target_ids\n",
    "exp_2_oof = exp_2_oof[exp_2_oof['target_id'].isin(common_target_ids)]"
   ]
  },
  {
   "cell_type": "code",
   "execution_count": 11,
   "id": "724796fd",
   "metadata": {
    "execution": {
     "iopub.execute_input": "2025-04-14T15:05:03.982902Z",
     "iopub.status.busy": "2025-04-14T15:05:03.982083Z",
     "iopub.status.idle": "2025-04-14T15:05:03.987318Z",
     "shell.execute_reply": "2025-04-14T15:05:03.986641Z"
    },
    "papermill": {
     "duration": 0.013028,
     "end_time": "2025-04-14T15:05:03.988625",
     "exception": false,
     "start_time": "2025-04-14T15:05:03.975597",
     "status": "completed"
    },
    "tags": []
   },
   "outputs": [
    {
     "data": {
      "text/plain": [
       "173"
      ]
     },
     "execution_count": 11,
     "metadata": {},
     "output_type": "execute_result"
    }
   ],
   "source": [
    "len(common_target_ids)"
   ]
  },
  {
   "cell_type": "code",
   "execution_count": 12,
   "id": "725a019f",
   "metadata": {
    "execution": {
     "iopub.execute_input": "2025-04-14T15:05:04.001337Z",
     "iopub.status.busy": "2025-04-14T15:05:04.001048Z",
     "iopub.status.idle": "2025-04-14T15:05:04.006620Z",
     "shell.execute_reply": "2025-04-14T15:05:04.005885Z"
    },
    "papermill": {
     "duration": 0.013615,
     "end_time": "2025-04-14T15:05:04.008096",
     "exception": false,
     "start_time": "2025-04-14T15:05:03.994481",
     "status": "completed"
    },
    "tags": []
   },
   "outputs": [
    {
     "data": {
      "text/plain": [
       "((23230, 24), (23230, 24))"
      ]
     },
     "execution_count": 12,
     "metadata": {},
     "output_type": "execute_result"
    }
   ],
   "source": [
    "exp_1_oof.shape, exp_2_oof.shape"
   ]
  },
  {
   "cell_type": "markdown",
   "id": "1ca9ed27",
   "metadata": {
    "papermill": {
     "duration": 0.005687,
     "end_time": "2025-04-14T15:05:04.019749",
     "exception": false,
     "start_time": "2025-04-14T15:05:04.014062",
     "status": "completed"
    },
    "tags": []
   },
   "source": [
    "## Step -1: Hill climbing code"
   ]
  },
  {
   "cell_type": "code",
   "execution_count": 13,
   "id": "c9faebe9",
   "metadata": {
    "execution": {
     "iopub.execute_input": "2025-04-14T15:05:04.033124Z",
     "iopub.status.busy": "2025-04-14T15:05:04.032551Z",
     "iopub.status.idle": "2025-04-14T15:05:04.074032Z",
     "shell.execute_reply": "2025-04-14T15:05:04.073169Z"
    },
    "papermill": {
     "duration": 0.049997,
     "end_time": "2025-04-14T15:05:04.075784",
     "exception": false,
     "start_time": "2025-04-14T15:05:04.025787",
     "status": "completed"
    },
    "tags": []
   },
   "outputs": [],
   "source": [
    "import gc\n",
    "import os\n",
    "import re\n",
    "import sys\n",
    "import numpy as np\n",
    "import pandas as pd\n",
    "from tqdm import tqdm\n",
    "from concurrent.futures import ProcessPoolExecutor, as_completed\n",
    "import multiprocessing"
   ]
  },
  {
   "cell_type": "code",
   "execution_count": 14,
   "id": "a9355f42",
   "metadata": {
    "execution": {
     "iopub.execute_input": "2025-04-14T15:05:04.088816Z",
     "iopub.status.busy": "2025-04-14T15:05:04.088443Z",
     "iopub.status.idle": "2025-04-14T15:05:04.093377Z",
     "shell.execute_reply": "2025-04-14T15:05:04.092545Z"
    },
    "papermill": {
     "duration": 0.013188,
     "end_time": "2025-04-14T15:05:04.094876",
     "exception": false,
     "start_time": "2025-04-14T15:05:04.081688",
     "status": "completed"
    },
    "tags": []
   },
   "outputs": [],
   "source": [
    "def setup_usalign():\n",
    "    \"\"\"\n",
    "    Sets up USalign by copying it to the working directory and making it executable.\n",
    "    \"\"\"\n",
    "    # Copy USalign to working directory if it doesn't exist\n",
    "    if not os.path.exists('/kaggle/working/USalign'):\n",
    "        os.system('cp //kaggle/input/usalign/USalign /kaggle/working/')\n",
    "        os.system('sudo chmod u+x /kaggle/working/USalign')\n",
    "        print(\"USalign binary copied and made executable\")\n",
    "    return '/kaggle/working/USalign'"
   ]
  },
  {
   "cell_type": "code",
   "execution_count": 15,
   "id": "152c16af",
   "metadata": {
    "execution": {
     "iopub.execute_input": "2025-04-14T15:05:04.107962Z",
     "iopub.status.busy": "2025-04-14T15:05:04.107635Z",
     "iopub.status.idle": "2025-04-14T15:05:04.113539Z",
     "shell.execute_reply": "2025-04-14T15:05:04.112658Z"
    },
    "papermill": {
     "duration": 0.014055,
     "end_time": "2025-04-14T15:05:04.114921",
     "exception": false,
     "start_time": "2025-04-14T15:05:04.100866",
     "status": "completed"
    },
    "tags": []
   },
   "outputs": [],
   "source": [
    "def parse_tmscore_output(output):\n",
    "    # Extract TM-score based on length of reference structure (second)\n",
    "    tm_score_match = re.findall(r'TM-score=\\s+([\\d.]+)', output)[1]\n",
    "    if not tm_score_match:\n",
    "        raise ValueError('No TM score found')\n",
    "    return float(tm_score_match)\n",
    "\n",
    "\n",
    "def write_target_line(\n",
    "    atom_name, atom_serial, residue_name, chain_id, residue_num, x_coord, y_coord, z_coord, occupancy=1.0, b_factor=0.0, atom_type='P'\n",
    ") -> str:\n",
    "    \"\"\"\n",
    "    Writes a single line of PDB format based on provided atom information.\n",
    "    \"\"\"\n",
    "    return f'ATOM  {atom_serial:>5d}  {atom_name:<5s} {residue_name:<3s} {residue_num:>3d}    {x_coord:>8.3f}{y_coord:>8.3f}{z_coord:>8.3f}{occupancy:>6.2f}{b_factor:>6.2f}           {atom_type}\\n'"
   ]
  },
  {
   "cell_type": "code",
   "execution_count": 16,
   "id": "7a2f94ce",
   "metadata": {
    "execution": {
     "iopub.execute_input": "2025-04-14T15:05:04.127702Z",
     "iopub.status.busy": "2025-04-14T15:05:04.127365Z",
     "iopub.status.idle": "2025-04-14T15:05:04.133787Z",
     "shell.execute_reply": "2025-04-14T15:05:04.132960Z"
    },
    "papermill": {
     "duration": 0.014384,
     "end_time": "2025-04-14T15:05:04.135150",
     "exception": false,
     "start_time": "2025-04-14T15:05:04.120766",
     "status": "completed"
    },
    "tags": []
   },
   "outputs": [],
   "source": [
    "def write2pdb(df: pd.DataFrame, xyz_id: str, target_path: str) -> int:\n",
    "    resolved_cnt = 0\n",
    "    with open(target_path, 'w') as target_file:\n",
    "        for _, row in df.iterrows():\n",
    "            x_coord = row[f'x_{xyz_id}']\n",
    "            y_coord = row[f'y_{xyz_id}']\n",
    "            z_coord = row[f'z_{xyz_id}']\n",
    "\n",
    "            if x_coord > -1e17 and y_coord > -1e17 and z_coord > -1e17:\n",
    "                resolved_cnt += 1\n",
    "                target_line = write_target_line(\n",
    "                    atom_name=\"C1'\",\n",
    "                    atom_serial=int(row['resid']),\n",
    "                    residue_name=row['resname'],\n",
    "                    chain_id='0',\n",
    "                    residue_num=int(row['resid']),\n",
    "                    x_coord=x_coord,\n",
    "                    y_coord=y_coord,\n",
    "                    z_coord=z_coord,\n",
    "                    atom_type='C',\n",
    "                )\n",
    "                target_file.write(target_line)\n",
    "    return resolved_cnt"
   ]
  },
  {
   "cell_type": "code",
   "execution_count": 17,
   "id": "b6a59523",
   "metadata": {
    "execution": {
     "iopub.execute_input": "2025-04-14T15:05:04.148128Z",
     "iopub.status.busy": "2025-04-14T15:05:04.147839Z",
     "iopub.status.idle": "2025-04-14T15:05:04.154007Z",
     "shell.execute_reply": "2025-04-14T15:05:04.153222Z"
    },
    "papermill": {
     "duration": 0.014395,
     "end_time": "2025-04-14T15:05:04.155439",
     "exception": false,
     "start_time": "2025-04-14T15:05:04.141044",
     "status": "completed"
    },
    "tags": []
   },
   "outputs": [],
   "source": [
    "def write_ground_truth_pdb(df: pd.DataFrame, target_path: str) -> int:\n",
    "    \"\"\"\n",
    "    Writes ground truth coordinates to a PDB file.\n",
    "    \"\"\"\n",
    "    resolved_cnt = 0\n",
    "    with open(target_path, 'w') as target_file:\n",
    "        for _, row in df.iterrows():\n",
    "            x_coord = row['x_1_true']\n",
    "            y_coord = row['y_1_true']\n",
    "            z_coord = row['z_1_true']\n",
    "\n",
    "            if x_coord > -1e17 and y_coord > -1e17 and z_coord > -1e17:\n",
    "                resolved_cnt += 1\n",
    "                target_line = write_target_line(\n",
    "                    atom_name=\"C1'\",\n",
    "                    atom_serial=int(row['resid']),\n",
    "                    residue_name=row['resname'],\n",
    "                    chain_id='0',\n",
    "                    residue_num=int(row['resid']),\n",
    "                    x_coord=x_coord,\n",
    "                    y_coord=y_coord,\n",
    "                    z_coord=z_coord,\n",
    "                    atom_type='C',\n",
    "                )\n",
    "                target_file.write(target_line)\n",
    "    return resolved_cnt"
   ]
  },
  {
   "cell_type": "code",
   "execution_count": 18,
   "id": "1f2470a9",
   "metadata": {
    "execution": {
     "iopub.execute_input": "2025-04-14T15:05:04.168436Z",
     "iopub.status.busy": "2025-04-14T15:05:04.168156Z",
     "iopub.status.idle": "2025-04-14T15:05:04.174920Z",
     "shell.execute_reply": "2025-04-14T15:05:04.174103Z"
    },
    "papermill": {
     "duration": 0.015158,
     "end_time": "2025-04-14T15:05:04.176579",
     "exception": false,
     "start_time": "2025-04-14T15:05:04.161421",
     "status": "completed"
    },
    "tags": []
   },
   "outputs": [],
   "source": [
    "def evaluate_single_weight(args):\n",
    "    \"\"\"\n",
    "    Evaluates a single weight combination for ensembling two RNA structure predictions.\n",
    "    \n",
    "    Args:\n",
    "        args (tuple): Contains weight, first_pred_df, second_pred_df, temporary_dir, and usalign_path\n",
    "        \n",
    "    Returns:\n",
    "        tuple: weight and resulting score\n",
    "    \"\"\"\n",
    "    weight, first_pred_df, second_pred_df, temp_dir, usalign_path = args\n",
    "    \n",
    "    # Create a copy of the first prediction dataframe\n",
    "    ensemble_df = first_pred_df.copy()\n",
    "    \n",
    "    # For each prediction (1-5), blend the coordinates using the weight\n",
    "    for pred_idx in range(1, 6):\n",
    "        # Blend x coordinates\n",
    "        ensemble_df[f'x_{pred_idx}'] = (1 - weight) * first_pred_df[f'x_{pred_idx}'] + weight * second_pred_df[f'x_{pred_idx}']\n",
    "        # Blend y coordinates\n",
    "        ensemble_df[f'y_{pred_idx}'] = (1 - weight) * first_pred_df[f'y_{pred_idx}'] + weight * second_pred_df[f'y_{pred_idx}']\n",
    "        # Blend z coordinates\n",
    "        ensemble_df[f'z_{pred_idx}'] = (1 - weight) * first_pred_df[f'z_{pred_idx}'] + weight * second_pred_df[f'z_{pred_idx}']\n",
    "    \n",
    "    # Create unique filenames for this process to avoid conflicts in parallel processing\n",
    "    process_id = os.getpid()\n",
    "    native_pdb = f'{temp_dir}/native_{process_id}.pdb'\n",
    "    predicted_pdb = f'{temp_dir}/predicted_{process_id}.pdb'\n",
    "    \n",
    "    # Evaluate using TM-score\n",
    "    score = score_ensemble(ensemble_df, native_pdb, predicted_pdb, usalign_path)\n",
    "    \n",
    "    return weight, score"
   ]
  },
  {
   "cell_type": "code",
   "execution_count": 19,
   "id": "09da6de4",
   "metadata": {
    "execution": {
     "iopub.execute_input": "2025-04-14T15:05:04.190216Z",
     "iopub.status.busy": "2025-04-14T15:05:04.189878Z",
     "iopub.status.idle": "2025-04-14T15:05:04.201374Z",
     "shell.execute_reply": "2025-04-14T15:05:04.200346Z"
    },
    "papermill": {
     "duration": 0.02056,
     "end_time": "2025-04-14T15:05:04.203159",
     "exception": false,
     "start_time": "2025-04-14T15:05:04.182599",
     "status": "completed"
    },
    "tags": []
   },
   "outputs": [],
   "source": [
    "from tqdm import tqdm\n",
    "\n",
    "def score_ensemble(ensemble_df, native_pdb='native.pdb', predicted_pdb='predicted.pdb', usalign_path=None):\n",
    "    \"\"\"\n",
    "    Scores the ensemble predictions against the ground truth using TM-score.\n",
    "    \n",
    "    Args:\n",
    "        ensemble_df (pd.DataFrame): DataFrame with predicted coordinates and ground truth\n",
    "        native_pdb (str): Path to write the native PDB file\n",
    "        predicted_pdb (str): Path to write the predicted PDB file\n",
    "        usalign_path (str): Path to the USalign executable\n",
    "        \n",
    "    Returns:\n",
    "        float: Average TM-score across all targets\n",
    "    \"\"\"\n",
    "    if usalign_path is None:\n",
    "        usalign_path = '/kaggle/working/USalign'\n",
    "    \n",
    "    from contextlib import contextmanager\n",
    "    \n",
    "    @contextmanager\n",
    "    def no_stdout():\n",
    "        old_stdout = sys.stdout\n",
    "        sys.stdout = open(os.devnull, 'w')\n",
    "        try:\n",
    "            yield\n",
    "        finally:\n",
    "            sys.stdout = old_stdout\n",
    "    \n",
    "    # Extract target_id from ID (target_resid)\n",
    "    ensemble_df['target_id'] = ensemble_df['ID'].apply(lambda x: x.split('_')[0])\n",
    "    \n",
    "    results = []\n",
    "    # Iterate through each target_id and compute TM-score\n",
    "    unique_targets = ensemble_df['target_id'].unique()\n",
    "    for target_id in tqdm(unique_targets):\n",
    "        group_data = ensemble_df[ensemble_df['target_id'] == target_id]\n",
    "        \n",
    "        # Write ground truth PDB once per target\n",
    "        with no_stdout():\n",
    "            resolved_cnt_truth = write_ground_truth_pdb(group_data, native_pdb)\n",
    "        \n",
    "        if resolved_cnt_truth == 0:\n",
    "            continue  # Skip if no ground truth coordinates\n",
    "        \n",
    "        target_id_scores = []\n",
    "        for pred_cnt in range(1, 6):\n",
    "            # Write predicted PDB\n",
    "            with no_stdout():\n",
    "                resolved_cnt_pred = write2pdb(group_data, pred_cnt, predicted_pdb)\n",
    "            \n",
    "            if resolved_cnt_pred > 0:\n",
    "                try:\n",
    "                    command = f'{usalign_path} {predicted_pdb} {native_pdb} -atom \" C1\\'\"'\n",
    "                    usalign_output = os.popen(command).read()\n",
    "                    tm_score = parse_tmscore_output(usalign_output)\n",
    "                    target_id_scores.append(tm_score)\n",
    "                except Exception as e:\n",
    "                    # Silent error handling during optimization\n",
    "                    continue\n",
    "        \n",
    "        if target_id_scores:\n",
    "            results.append(max(target_id_scores))\n",
    "    \n",
    "    # Return average TM-score across all targets\n",
    "    if not results:\n",
    "        return 0.0\n",
    "    return float(sum(results) / len(results))"
   ]
  },
  {
   "cell_type": "code",
   "execution_count": 20,
   "id": "745ae7a5",
   "metadata": {
    "execution": {
     "iopub.execute_input": "2025-04-14T15:05:04.220978Z",
     "iopub.status.busy": "2025-04-14T15:05:04.220642Z",
     "iopub.status.idle": "2025-04-14T15:05:04.240695Z",
     "shell.execute_reply": "2025-04-14T15:05:04.239609Z"
    },
    "papermill": {
     "duration": 0.030345,
     "end_time": "2025-04-14T15:05:04.242632",
     "exception": false,
     "start_time": "2025-04-14T15:05:04.212287",
     "status": "completed"
    },
    "tags": []
   },
   "outputs": [],
   "source": [
    "def hill_climbing_optimizer(experiments_list, weight_step=0.05, max_iterations=50, num_cores=None):\n",
    "    \"\"\"\n",
    "    Performs hill climbing optimization to find the best ensemble weights for RNA structure predictions.\n",
    "    \n",
    "    Args:\n",
    "        experiments_list (list): List of dataframes with predictions\n",
    "        weight_step (float): Step size for weight exploration\n",
    "        max_iterations (int): Maximum number of iterations\n",
    "        num_cores (int): Number of CPU cores to use for parallelization\n",
    "        \n",
    "    Returns:\n",
    "        tuple: Dictionary of weights, best score, and final ensemble dataframe\n",
    "    \"\"\"\n",
    "    # Set up USalign\n",
    "    usalign_path = setup_usalign()\n",
    "    \n",
    "    if num_cores is None:\n",
    "        num_cores = max(1, multiprocessing.cpu_count() - 1)\n",
    "    \n",
    "    # Create temporary directory for parallel processing\n",
    "    temp_dir = '/tmp/rna_ensemble'\n",
    "    os.makedirs(temp_dir, exist_ok=True)\n",
    "    \n",
    "    # Start with the first experiment as baseline\n",
    "    best_ensemble_df = experiments_list[0].copy()\n",
    "    remaining_experiments = experiments_list[1:].copy()\n",
    "    \n",
    "    # Dictionary to store weights for each experiment\n",
    "    model_weights = {}\n",
    "    \n",
    "    # Define the weight range to explore\n",
    "    weights_range = np.arange(0.0, 1.0 + weight_step, weight_step)\n",
    "    weights_range = np.arange(-0.50, 0.51, 0.01)\n",
    "    print(f\"Number of weights testing : {len(weights_range)}\")\n",
    "    \n",
    "    # Get initial score\n",
    "    initial_score = score_ensemble(best_ensemble_df, usalign_path=usalign_path)\n",
    "    best_score = initial_score\n",
    "    print(f\"Initial score: {best_score:.6f}\")\n",
    "    \n",
    "    iteration = 0\n",
    "    while remaining_experiments and iteration < max_iterations:\n",
    "        iteration += 1\n",
    "        print(f\"\\nIteration {iteration}/{max_iterations}\")\n",
    "        \n",
    "        best_iteration = {\n",
    "            'index': -1,\n",
    "            'weight': 0,\n",
    "            'score': best_score,\n",
    "            'df': None\n",
    "        }\n",
    "        \n",
    "        # Try each remaining model\n",
    "        for i, model_df in enumerate(remaining_experiments):\n",
    "            try:\n",
    "                print(f\"Testing model {i+1}/{len(remaining_experiments)}\")\n",
    "                \n",
    "                # Prepare arguments for parallel processing\n",
    "                args_list = [(weight, best_ensemble_df, model_df, temp_dir, usalign_path) \n",
    "                             for weight in weights_range]\n",
    "                \n",
    "                # Process weights in parallel\n",
    "                with ProcessPoolExecutor(max_workers=num_cores) as executor:\n",
    "                    futures = [executor.submit(evaluate_single_weight, args) for args in args_list]\n",
    "                    \n",
    "                    # Process results as they complete\n",
    "                    for future in tqdm(as_completed(futures), total=len(futures), \n",
    "                                      desc=f\"Testing weights for model {i+1}\"):\n",
    "                        weight, new_score = future.result()\n",
    "                        \n",
    "                        # Update best if improved\n",
    "                        if new_score > best_iteration['score']:\n",
    "                            # Create the ensemble for this weight\n",
    "                            tmp_ensemble_df = best_ensemble_df.copy()\n",
    "                            for pred_idx in range(1, 6):\n",
    "                                tmp_ensemble_df[f'x_{pred_idx}'] = (1 - weight) * best_ensemble_df[f'x_{pred_idx}'] + weight * model_df[f'x_{pred_idx}']\n",
    "                                tmp_ensemble_df[f'y_{pred_idx}'] = (1 - weight) * best_ensemble_df[f'y_{pred_idx}'] + weight * model_df[f'y_{pred_idx}']\n",
    "                                tmp_ensemble_df[f'z_{pred_idx}'] = (1 - weight) * best_ensemble_df[f'z_{pred_idx}'] + weight * model_df[f'z_{pred_idx}']\n",
    "                            \n",
    "                            best_iteration.update({\n",
    "                                'index': i,\n",
    "                                'weight': weight,\n",
    "                                'score': new_score,\n",
    "                                'df': tmp_ensemble_df.copy()\n",
    "                            })\n",
    "                \n",
    "                # Clean up\n",
    "                gc.collect()\n",
    "                \n",
    "            except Exception as e:\n",
    "                print(f\"Error processing model {i+1}: {str(e)}\")\n",
    "                continue\n",
    "        \n",
    "        # Check if we found an improvement\n",
    "        if best_iteration['index'] == -1:\n",
    "            print(\"No improvement found, stopping\")\n",
    "            break\n",
    "            \n",
    "        # Update ensemble with best model found\n",
    "        best_score = best_iteration['score']\n",
    "        best_ensemble_df = best_iteration['df'].copy()\n",
    "        \n",
    "        # Add weight to the selected model and remove it from remaining\n",
    "        selected_model = remaining_experiments.pop(best_iteration['index'])\n",
    "        model_weights[f\"model_{iteration}\"] = best_iteration['weight']\n",
    "        \n",
    "        print(f\"Added model with weight {best_iteration['weight']:.4f}, New score: {best_iteration['score']:.6f}\")\n",
    "        \n",
    "    print(\"\\nOptimization complete!\")\n",
    "    print(f\"Initial score: {initial_score:.6f}\")\n",
    "    print(f\"Final score: {best_score:.6f}\")\n",
    "    print(f\"Improvement: {best_score - initial_score:.6f} ({(best_score - initial_score) / initial_score * 100:.2f}%)\")\n",
    "    print(f\"Model weights: {model_weights}\")\n",
    "    \n",
    "    # Clean up temporary directory\n",
    "    for filename in os.listdir(temp_dir):\n",
    "        os.remove(os.path.join(temp_dir, filename))\n",
    "    os.rmdir(temp_dir)\n",
    "    \n",
    "    return model_weights, best_score, best_ensemble_df"
   ]
  },
  {
   "cell_type": "code",
   "execution_count": 21,
   "id": "97e93c69",
   "metadata": {
    "execution": {
     "iopub.execute_input": "2025-04-14T15:05:04.257636Z",
     "iopub.status.busy": "2025-04-14T15:05:04.257318Z",
     "iopub.status.idle": "2025-04-14T15:43:59.581275Z",
     "shell.execute_reply": "2025-04-14T15:43:59.580204Z"
    },
    "papermill": {
     "duration": 2335.332573,
     "end_time": "2025-04-14T15:43:59.582869",
     "exception": false,
     "start_time": "2025-04-14T15:05:04.250296",
     "status": "completed"
    },
    "tags": []
   },
   "outputs": [
    {
     "name": "stdout",
     "output_type": "stream",
     "text": [
      "USalign binary copied and made executable\n",
      "Number of weights testing : 101\n"
     ]
    },
    {
     "name": "stderr",
     "output_type": "stream",
     "text": [
      "100%|██████████| 155/155 [00:54<00:00,  2.84it/s]"
     ]
    },
    {
     "name": "stdout",
     "output_type": "stream",
     "text": [
      "Initial score: 0.356892\n",
      "\n",
      "Iteration 1/10\n",
      "Testing model 1/1\n"
     ]
    },
    {
     "name": "stderr",
     "output_type": "stream",
     "text": [
      "\n",
      "100%|██████████| 155/155 [01:19<00:00,  1.95it/s]\n",
      "100%|██████████| 155/155 [01:20<00:00,  1.92it/s]\n",
      "100%|██████████| 155/155 [01:21<00:00,  1.91it/s]\n",
      "100%|██████████| 155/155 [01:22<00:00,  1.88it/s]\n",
      "100%|██████████| 155/155 [01:21<00:00,  1.91it/s]\n",
      "100%|██████████| 155/155 [01:20<00:00,  1.93it/s]\n",
      "100%|██████████| 155/155 [01:22<00:00,  1.88it/s]\n",
      "100%|██████████| 155/155 [01:21<00:00,  1.89it/s]\n",
      "100%|██████████| 155/155 [01:22<00:00,  1.89it/s]\n",
      "100%|██████████| 155/155 [01:21<00:00,  1.89it/s]\n",
      "100%|██████████| 155/155 [01:21<00:00,  1.91it/s]\n",
      "100%|██████████| 155/155 [01:21<00:00,  1.89it/s]\n",
      "100%|██████████| 155/155 [01:23<00:00,  1.87it/s]\n",
      "100%|██████████| 155/155 [01:24<00:00,  1.83it/s]\n",
      "100%|██████████| 155/155 [01:24<00:00,  1.84it/s]\n",
      "100%|██████████| 155/155 [01:24<00:00,  1.84it/s]\n",
      "100%|██████████| 155/155 [01:26<00:00,  1.79it/s]\n",
      "100%|██████████| 155/155 [01:26<00:00,  1.80it/s]\n",
      "100%|██████████| 155/155 [01:25<00:00,  1.80it/s]\n",
      "100%|██████████| 155/155 [01:27<00:00,  1.78it/s]\n",
      "100%|██████████| 155/155 [01:24<00:00,  1.83it/s]\n",
      "100%|██████████| 155/155 [01:26<00:00,  1.79it/s]\n",
      "100%|██████████| 155/155 [01:25<00:00,  1.81it/s]\n",
      "100%|██████████| 155/155 [01:29<00:00,  1.74it/s]\n",
      "100%|██████████| 155/155 [01:29<00:00,  1.74it/s]\n",
      "100%|██████████| 155/155 [01:29<00:00,  1.74it/s]\n",
      "100%|██████████| 155/155 [01:30<00:00,  1.72it/s]\n",
      "100%|██████████| 155/155 [01:31<00:00,  1.69it/s]\n",
      "100%|██████████| 155/155 [01:29<00:00,  1.74it/s]\n",
      "100%|██████████| 155/155 [01:29<00:00,  1.73it/s]\n",
      "100%|██████████| 155/155 [01:28<00:00,  1.74it/s]\n",
      "100%|██████████| 155/155 [01:29<00:00,  1.73it/s]\n",
      "100%|██████████| 155/155 [01:28<00:00,  1.74it/s]\n",
      "100%|██████████| 155/155 [01:28<00:00,  1.75it/s]\n",
      "100%|██████████| 155/155 [01:29<00:00,  1.72it/s]\n",
      "Testing weights for model 1:  36%|███▌      | 36/101 [12:57<15:31, 14.33s/it]\n",
      "100%|██████████| 155/155 [01:32<00:00,  1.68it/s]\n",
      "100%|██████████| 155/155 [01:31<00:00,  1.69it/s]\n",
      "100%|██████████| 155/155 [01:33<00:00,  1.66it/s]\n",
      "100%|██████████| 155/155 [01:32<00:00,  1.67it/s]\n",
      "100%|██████████| 155/155 [01:32<00:00,  1.68it/s]\n",
      "100%|██████████| 155/155 [01:31<00:00,  1.69it/s]\n",
      "100%|██████████| 155/155 [01:30<00:00,  1.72it/s]\n",
      "100%|██████████| 155/155 [01:31<00:00,  1.70it/s]\n",
      "100%|██████████| 155/155 [01:28<00:00,  1.76it/s]\n",
      "100%|██████████| 155/155 [01:29<00:00,  1.73it/s]\n",
      "100%|██████████| 155/155 [01:29<00:00,  1.73it/s]\n",
      "100%|██████████| 155/155 [01:32<00:00,  1.68it/s]\n",
      "100%|██████████| 155/155 [01:29<00:00,  1.73it/s]\n",
      "100%|██████████| 155/155 [01:29<00:00,  1.74it/s]\n",
      "100%|██████████| 155/155 [01:29<00:00,  1.73it/s]\n",
      "100%|██████████| 155/155 [01:28<00:00,  1.75it/s]\n",
      "100%|██████████| 155/155 [01:27<00:00,  1.77it/s]\n",
      "100%|██████████| 155/155 [01:29<00:00,  1.73it/s]\n",
      "100%|██████████| 155/155 [01:31<00:00,  1.70it/s]\n",
      "100%|██████████| 155/155 [01:30<00:00,  1.71it/s]\n",
      "100%|██████████| 155/155 [01:28<00:00,  1.74it/s]\n",
      "100%|██████████| 155/155 [01:32<00:00,  1.67it/s]\n",
      "100%|██████████| 155/155 [01:33<00:00,  1.66it/s]\n",
      "100%|██████████| 155/155 [01:34<00:00,  1.65it/s]\n",
      "100%|██████████| 155/155 [01:32<00:00,  1.67it/s]\n",
      "100%|██████████| 155/155 [01:32<00:00,  1.67it/s]\n",
      "100%|██████████| 155/155 [01:34<00:00,  1.64it/s]\n",
      "100%|██████████| 155/155 [01:35<00:00,  1.63it/s]\n",
      "100%|██████████| 155/155 [01:34<00:00,  1.64it/s]\n",
      "100%|██████████| 155/155 [01:34<00:00,  1.65it/s]\n",
      "100%|██████████| 155/155 [01:34<00:00,  1.64it/s]\n",
      "100%|██████████| 155/155 [01:35<00:00,  1.63it/s]\n",
      "100%|██████████| 155/155 [01:35<00:00,  1.62it/s]\n",
      "100%|██████████| 155/155 [01:35<00:00,  1.62it/s]\n",
      "100%|██████████| 155/155 [01:32<00:00,  1.68it/s]\n",
      "100%|██████████| 155/155 [01:36<00:00,  1.61it/s]\n",
      "100%|██████████| 155/155 [01:36<00:00,  1.61it/s]\n",
      "100%|██████████| 155/155 [01:33<00:00,  1.66it/s]\n",
      "100%|██████████| 155/155 [01:35<00:00,  1.63it/s]\n",
      "100%|██████████| 155/155 [01:33<00:00,  1.67it/s]\n",
      "100%|██████████| 155/155 [01:33<00:00,  1.66it/s]\n",
      "100%|██████████| 155/155 [01:31<00:00,  1.69it/s]\n",
      "100%|██████████| 155/155 [01:32<00:00,  1.67it/s]\n",
      "100%|██████████| 155/155 [01:29<00:00,  1.73it/s]\n",
      "100%|██████████| 155/155 [01:33<00:00,  1.66it/s]\n",
      "100%|██████████| 155/155 [01:31<00:00,  1.70it/s]\n",
      "100%|██████████| 155/155 [01:30<00:00,  1.71it/s]\n",
      "100%|██████████| 155/155 [01:30<00:00,  1.72it/s]\n",
      "100%|██████████| 155/155 [01:29<00:00,  1.73it/s]\n",
      "100%|██████████| 155/155 [01:29<00:00,  1.73it/s]\n",
      "100%|██████████| 155/155 [01:30<00:00,  1.72it/s]\n",
      "100%|██████████| 155/155 [01:31<00:00,  1.69it/s]\n",
      "100%|██████████| 155/155 [01:30<00:00,  1.72it/s]\n",
      "100%|██████████| 155/155 [01:29<00:00,  1.73it/s]\n",
      "100%|██████████| 155/155 [01:28<00:00,  1.75it/s]\n",
      "100%|██████████| 155/155 [01:30<00:00,  1.72it/s]\n",
      "100%|██████████| 155/155 [01:27<00:00,  1.78it/s]\n",
      "100%|██████████| 155/155 [01:27<00:00,  1.77it/s]\n",
      "100%|██████████| 155/155 [01:29<00:00,  1.74it/s]\n",
      "100%|██████████| 155/155 [01:27<00:00,  1.77it/s]\n",
      "100%|██████████| 155/155 [01:27<00:00,  1.77it/s]\n",
      "100%|██████████| 155/155 [01:27<00:00,  1.78it/s]\n",
      "100%|██████████| 155/155 [01:23<00:00,  1.85it/s]\n",
      "100%|██████████| 155/155 [01:22<00:00,  1.88it/s]\n",
      "100%|██████████| 155/155 [00:54<00:00,  2.83it/s]\n",
      "Testing weights for model 1: 100%|██████████| 101/101 [38:00<00:00, 22.58s/it]"
     ]
    },
    {
     "name": "stdout",
     "output_type": "stream",
     "text": [
      "Added model with weight 0.0100, New score: 0.360055\n",
      "\n",
      "Optimization complete!\n",
      "Initial score: 0.356892\n",
      "Final score: 0.360055\n",
      "Improvement: 0.003163 (0.89%)\n",
      "Model weights: {'model_1': 0.010000000000000453}\n"
     ]
    },
    {
     "name": "stderr",
     "output_type": "stream",
     "text": [
      "\n"
     ]
    }
   ],
   "source": [
    "# Load your experiment dataframes\n",
    "experiment1_df = exp_1_oof\n",
    "experiment2_df = exp_2_oof\n",
    "\n",
    "# Create list of experiment dataframes\n",
    "experiments_list = [experiment1_df, experiment2_df]\n",
    "\n",
    "# Run the hill climbing optimizer\n",
    "model_weights, best_score, final_ensemble = hill_climbing_optimizer(\n",
    "    experiments_list=experiments_list,\n",
    "    weight_step=0.1,\n",
    "    max_iterations=10,\n",
    "    num_cores=4\n",
    ")"
   ]
  },
  {
   "cell_type": "code",
   "execution_count": 22,
   "id": "a5556fe2",
   "metadata": {
    "execution": {
     "iopub.execute_input": "2025-04-14T15:44:01.135963Z",
     "iopub.status.busy": "2025-04-14T15:44:01.135611Z",
     "iopub.status.idle": "2025-04-14T15:44:01.156043Z",
     "shell.execute_reply": "2025-04-14T15:44:01.155143Z"
    },
    "papermill": {
     "duration": 0.840222,
     "end_time": "2025-04-14T15:44:01.157545",
     "exception": false,
     "start_time": "2025-04-14T15:44:00.317323",
     "status": "completed"
    },
    "tags": []
   },
   "outputs": [
    {
     "data": {
      "text/plain": [
       "({'model_1': 0.010000000000000453},\n",
       " 0.3600551612903228,\n",
       "        Unnamed: 0         ID resname  resid         x_1         y_1  \\\n",
       " 1709         1720   1FFK_9_1       U      1 -105.116440  472.604155   \n",
       " 1710         1721   1FFK_9_2       U      2 -103.569543  469.711245   \n",
       " 1711         1722   1FFK_9_3       A      3 -100.721181  466.767187   \n",
       " 1712         1723   1FFK_9_4       G      4 -105.674383  461.825833   \n",
       " 1713         1724   1FFK_9_5       G      5 -108.873500  456.556830   \n",
       " ...           ...        ...     ...    ...         ...         ...   \n",
       " 59503       64413  8Z1F_T_62       U     62  -91.282302  457.036544   \n",
       " 59504       64414  8Z1F_T_63       A     63  -87.750626  453.817912   \n",
       " 59505       64415  8Z1F_T_64       C     64  -87.527391  454.765797   \n",
       " 59506       64416  8Z1F_T_65       C     65  -88.011947  449.739074   \n",
       " 59507       64417  8Z1F_T_66       A     66  -90.967616  445.921439   \n",
       " \n",
       "               z_1         x_2         y_2         z_2  ...         y_4  \\\n",
       " 1709  -180.298954 -104.644095  473.708276 -177.594005  ...  472.568249   \n",
       " 1710  -175.328832 -102.548390  472.218044 -175.582170  ...  470.713143   \n",
       " 1711  -172.097380 -101.602430  468.231386 -174.109809  ...  467.540881   \n",
       " 1712  -173.137153 -107.511303  463.842983 -173.074118  ...  463.649226   \n",
       " 1713  -175.552407 -108.259239  458.190002 -175.409796  ...  458.178330   \n",
       " ...           ...         ...         ...         ...  ...         ...   \n",
       " 59503 -200.149836  -90.598929  459.152839 -200.954539  ...  458.034059   \n",
       " 59504 -203.457772  -88.835624  458.120016 -206.129453  ...  454.558919   \n",
       " 59505 -207.741461  -89.840863  456.712880 -209.693063  ...  454.400545   \n",
       " 59506 -209.736695  -91.946716  451.349022 -209.607637  ...  451.833422   \n",
       " 59507 -213.844028  -94.891689  447.750721 -210.841863  ...  446.883759   \n",
       " \n",
       "               z_4         x_5         y_5         z_5   flag    x_1_true  \\\n",
       " 1709  -181.635328 -106.762464  476.268370 -180.821363  False   50.841000   \n",
       " 1710  -175.562173 -105.114225  474.865155 -175.782171  False   52.405998   \n",
       " 1711  -173.026720 -102.525717  470.020167 -173.139192  False   57.773998   \n",
       " 1712  -173.524111 -108.271843  465.777157 -173.134978  False   57.311001   \n",
       " 1713  -175.140276 -111.045938  460.820747 -175.327189  False   57.646999   \n",
       " ...           ...         ...         ...         ...    ...         ...   \n",
       " 59503 -200.961801  -89.276798  461.462363 -200.162551  False  112.516998   \n",
       " 59504 -205.419342  -87.842206  460.215533 -205.059689  False  115.292999   \n",
       " 59505 -209.025744  -88.823813  460.115063 -208.273272  False  115.857002   \n",
       " 59506 -214.252026  -89.985562  457.461877 -212.807591  False  113.816002   \n",
       " 59507 -214.590273  -94.689414  455.006864 -215.398174  False  118.279999   \n",
       " \n",
       "          y_1_true    z_1_true  target_id  \n",
       " 1709    14.916000   99.295998       1FFK  \n",
       " 1710    10.401000  106.478996       1FFK  \n",
       " 1711    14.789000  103.852997       1FFK  \n",
       " 1712    16.924000   96.344002       1FFK  \n",
       " 1713    20.913000   92.202003       1FFK  \n",
       " ...           ...         ...        ...  \n",
       " 59503  117.880997  119.245003       8Z1F  \n",
       " 59504  116.571999  114.827003       8Z1F  \n",
       " 59505  114.595001  109.509003       8Z1F  \n",
       " 59506  113.236000  104.339996       8Z1F  \n",
       " 59507  113.883003   98.071999       8Z1F  \n",
       " \n",
       " [23230 rows x 24 columns])"
      ]
     },
     "execution_count": 22,
     "metadata": {},
     "output_type": "execute_result"
    }
   ],
   "source": [
    "model_weights, best_score, final_ensemble"
   ]
  },
  {
   "cell_type": "code",
   "execution_count": 23,
   "id": "ae8044e8",
   "metadata": {
    "execution": {
     "iopub.execute_input": "2025-04-14T15:44:02.700571Z",
     "iopub.status.busy": "2025-04-14T15:44:02.699699Z",
     "iopub.status.idle": "2025-04-14T15:44:03.496050Z",
     "shell.execute_reply": "2025-04-14T15:44:03.494989Z"
    },
    "papermill": {
     "duration": 1.529046,
     "end_time": "2025-04-14T15:44:03.497766",
     "exception": false,
     "start_time": "2025-04-14T15:44:01.968720",
     "status": "completed"
    },
    "tags": []
   },
   "outputs": [],
   "source": [
    "# Save the final ensemble\n",
    "final_ensemble.to_csv('final_ensemble.csv', index=False)"
   ]
  },
  {
   "cell_type": "code",
   "execution_count": null,
   "id": "d231d9e3",
   "metadata": {
    "papermill": {
     "duration": 0.82913,
     "end_time": "2025-04-14T15:44:05.142950",
     "exception": false,
     "start_time": "2025-04-14T15:44:04.313820",
     "status": "completed"
    },
    "tags": []
   },
   "outputs": [],
   "source": []
  }
 ],
 "metadata": {
  "kaggle": {
   "accelerator": "none",
   "dataSources": [
    {
     "databundleVersionId": 11553390,
     "isSourceIdPinned": false,
     "sourceId": 87793,
     "sourceType": "competition"
    },
    {
     "datasetId": 6742586,
     "sourceId": 10855324,
     "sourceType": "datasetVersion"
    },
    {
     "sourceId": 232754793,
     "sourceType": "kernelVersion"
    },
    {
     "sourceId": 233427159,
     "sourceType": "kernelVersion"
    },
    {
     "sourceId": 233465492,
     "sourceType": "kernelVersion"
    },
    {
     "sourceId": 233747992,
     "sourceType": "kernelVersion"
    },
    {
     "sourceId": 233810385,
     "sourceType": "kernelVersion"
    }
   ],
   "dockerImageVersionId": 31012,
   "isGpuEnabled": false,
   "isInternetEnabled": true,
   "language": "python",
   "sourceType": "notebook"
  },
  "kernelspec": {
   "display_name": "Python 3",
   "language": "python",
   "name": "python3"
  },
  "language_info": {
   "codemirror_mode": {
    "name": "ipython",
    "version": 3
   },
   "file_extension": ".py",
   "mimetype": "text/x-python",
   "name": "python",
   "nbconvert_exporter": "python",
   "pygments_lexer": "ipython3",
   "version": "3.11.11"
  },
  "papermill": {
   "default_parameters": {},
   "duration": 2352.350104,
   "end_time": "2025-04-14T15:44:08.492630",
   "environment_variables": {},
   "exception": null,
   "input_path": "__notebook__.ipynb",
   "output_path": "__notebook__.ipynb",
   "parameters": {},
   "start_time": "2025-04-14T15:04:56.142526",
   "version": "2.6.0"
  }
 },
 "nbformat": 4,
 "nbformat_minor": 5
}
