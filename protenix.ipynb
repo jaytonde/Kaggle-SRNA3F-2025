{
 "cells": [
  {
   "cell_type": "code",
   "execution_count": 1,
   "id": "976ff701",
   "metadata": {
    "execution": {
     "iopub.execute_input": "2025-04-25T01:18:03.974845Z",
     "iopub.status.busy": "2025-04-25T01:18:03.974499Z",
     "iopub.status.idle": "2025-04-25T01:18:03.978822Z",
     "shell.execute_reply": "2025-04-25T01:18:03.978231Z"
    },
    "papermill": {
     "duration": 0.010419,
     "end_time": "2025-04-25T01:18:03.980055",
     "exception": false,
     "start_time": "2025-04-25T01:18:03.969636",
     "status": "completed"
    },
    "tags": []
   },
   "outputs": [],
   "source": [
    "MODEL_TYPE = 'protenix'\n",
    "VALIDATION = True"
   ]
  },
  {
   "cell_type": "markdown",
   "id": "1079c953",
   "metadata": {
    "papermill": {
     "duration": 0.002867,
     "end_time": "2025-04-25T01:18:03.986349",
     "exception": false,
     "start_time": "2025-04-25T01:18:03.983482",
     "status": "completed"
    },
    "tags": []
   },
   "source": [
    "## Install requirements "
   ]
  },
  {
   "cell_type": "code",
   "execution_count": 2,
   "id": "5da98b58",
   "metadata": {
    "execution": {
     "iopub.execute_input": "2025-04-25T01:18:03.992872Z",
     "iopub.status.busy": "2025-04-25T01:18:03.992639Z",
     "iopub.status.idle": "2025-04-25T01:18:18.404136Z",
     "shell.execute_reply": "2025-04-25T01:18:18.403208Z"
    },
    "papermill": {
     "duration": 14.416378,
     "end_time": "2025-04-25T01:18:18.405682",
     "exception": false,
     "start_time": "2025-04-25T01:18:03.989304",
     "status": "completed"
    },
    "tags": []
   },
   "outputs": [
    {
     "name": "stdout",
     "output_type": "stream",
     "text": [
      "Requirement already satisfied: protenix in /usr/local/lib/python3.10/dist-packages (0.4.6)\r\n",
      "Requirement already satisfied: biopython in /usr/local/lib/python3.10/dist-packages (1.85)\r\n",
      "Requirement already satisfied: numpy in /usr/local/lib/python3.10/dist-packages (from biopython) (1.26.4)\r\n",
      "Requirement already satisfied: mkl_fft in /usr/local/lib/python3.10/dist-packages (from numpy->biopython) (1.3.8)\r\n",
      "Requirement already satisfied: mkl_random in /usr/local/lib/python3.10/dist-packages (from numpy->biopython) (1.2.4)\r\n",
      "Requirement already satisfied: mkl_umath in /usr/local/lib/python3.10/dist-packages (from numpy->biopython) (0.1.1)\r\n",
      "Requirement already satisfied: mkl in /usr/local/lib/python3.10/dist-packages (from numpy->biopython) (2025.0.1)\r\n",
      "Requirement already satisfied: tbb4py in /usr/local/lib/python3.10/dist-packages (from numpy->biopython) (2022.0.0)\r\n",
      "Requirement already satisfied: mkl-service in /usr/local/lib/python3.10/dist-packages (from numpy->biopython) (2.4.1)\r\n",
      "Requirement already satisfied: intel-openmp>=2024 in /usr/local/lib/python3.10/dist-packages (from mkl->numpy->biopython) (2024.2.0)\r\n",
      "Requirement already satisfied: tbb==2022.* in /usr/local/lib/python3.10/dist-packages (from mkl->numpy->biopython) (2022.0.0)\r\n",
      "Requirement already satisfied: tcmlib==1.* in /usr/local/lib/python3.10/dist-packages (from tbb==2022.*->mkl->numpy->biopython) (1.2.0)\r\n",
      "Requirement already satisfied: intel-cmplr-lib-rt in /usr/local/lib/python3.10/dist-packages (from mkl_umath->numpy->biopython) (2024.2.0)\r\n",
      "Requirement already satisfied: intel-cmplr-lib-ur==2024.2.0 in /usr/local/lib/python3.10/dist-packages (from intel-openmp>=2024->mkl->numpy->biopython) (2024.2.0)\r\n",
      "Requirement already satisfied: ml-collections in /usr/local/lib/python3.10/dist-packages (1.1.0)\r\n",
      "Requirement already satisfied: absl-py in /usr/local/lib/python3.10/dist-packages (from ml-collections) (1.4.0)\r\n",
      "Requirement already satisfied: PyYAML in /usr/local/lib/python3.10/dist-packages (from ml-collections) (6.0.2)\r\n",
      "Requirement already satisfied: biotite==1.0.1 in /usr/local/lib/python3.10/dist-packages (1.0.1)\r\n",
      "Requirement already satisfied: biotraj<2.0,>=1.0 in /usr/local/lib/python3.10/dist-packages (from biotite==1.0.1) (1.2.2)\r\n",
      "Requirement already satisfied: msgpack>=0.5.6 in /usr/local/lib/python3.10/dist-packages (from biotite==1.0.1) (1.1.0)\r\n",
      "Requirement already satisfied: networkx>=2.0 in /usr/local/lib/python3.10/dist-packages (from biotite==1.0.1) (3.4.2)\r\n",
      "Requirement already satisfied: numpy>=1.25 in /usr/local/lib/python3.10/dist-packages (from biotite==1.0.1) (1.26.4)\r\n",
      "Requirement already satisfied: requests>=2.12 in /usr/local/lib/python3.10/dist-packages (from biotite==1.0.1) (2.32.3)\r\n",
      "Requirement already satisfied: scipy>=1.13 in /usr/local/lib/python3.10/dist-packages (from biotraj<2.0,>=1.0->biotite==1.0.1) (1.13.1)\r\n",
      "Requirement already satisfied: mkl_fft in /usr/local/lib/python3.10/dist-packages (from numpy>=1.25->biotite==1.0.1) (1.3.8)\r\n",
      "Requirement already satisfied: mkl_random in /usr/local/lib/python3.10/dist-packages (from numpy>=1.25->biotite==1.0.1) (1.2.4)\r\n",
      "Requirement already satisfied: mkl_umath in /usr/local/lib/python3.10/dist-packages (from numpy>=1.25->biotite==1.0.1) (0.1.1)\r\n",
      "Requirement already satisfied: mkl in /usr/local/lib/python3.10/dist-packages (from numpy>=1.25->biotite==1.0.1) (2025.0.1)\r\n",
      "Requirement already satisfied: tbb4py in /usr/local/lib/python3.10/dist-packages (from numpy>=1.25->biotite==1.0.1) (2022.0.0)\r\n",
      "Requirement already satisfied: mkl-service in /usr/local/lib/python3.10/dist-packages (from numpy>=1.25->biotite==1.0.1) (2.4.1)\r\n",
      "Requirement already satisfied: charset-normalizer<4,>=2 in /usr/local/lib/python3.10/dist-packages (from requests>=2.12->biotite==1.0.1) (3.4.1)\r\n",
      "Requirement already satisfied: idna<4,>=2.5 in /usr/local/lib/python3.10/dist-packages (from requests>=2.12->biotite==1.0.1) (3.10)\r\n",
      "Requirement already satisfied: urllib3<3,>=1.21.1 in /usr/local/lib/python3.10/dist-packages (from requests>=2.12->biotite==1.0.1) (2.3.0)\r\n",
      "Requirement already satisfied: certifi>=2017.4.17 in /usr/local/lib/python3.10/dist-packages (from requests>=2.12->biotite==1.0.1) (2025.1.31)\r\n",
      "Requirement already satisfied: intel-openmp>=2024 in /usr/local/lib/python3.10/dist-packages (from mkl->numpy>=1.25->biotite==1.0.1) (2024.2.0)\r\n",
      "Requirement already satisfied: tbb==2022.* in /usr/local/lib/python3.10/dist-packages (from mkl->numpy>=1.25->biotite==1.0.1) (2022.0.0)\r\n",
      "Requirement already satisfied: tcmlib==1.* in /usr/local/lib/python3.10/dist-packages (from tbb==2022.*->mkl->numpy>=1.25->biotite==1.0.1) (1.2.0)\r\n",
      "Requirement already satisfied: intel-cmplr-lib-rt in /usr/local/lib/python3.10/dist-packages (from mkl_umath->numpy>=1.25->biotite==1.0.1) (2024.2.0)\r\n",
      "Requirement already satisfied: intel-cmplr-lib-ur==2024.2.0 in /usr/local/lib/python3.10/dist-packages (from intel-openmp>=2024->mkl->numpy>=1.25->biotite==1.0.1) (2024.2.0)\r\n",
      "Requirement already satisfied: rdkit in /usr/local/lib/python3.10/dist-packages (2024.9.6)\r\n",
      "Requirement already satisfied: numpy in /usr/local/lib/python3.10/dist-packages (from rdkit) (1.26.4)\r\n",
      "Requirement already satisfied: Pillow in /usr/local/lib/python3.10/dist-packages (from rdkit) (11.0.0)\r\n",
      "Requirement already satisfied: mkl_fft in /usr/local/lib/python3.10/dist-packages (from numpy->rdkit) (1.3.8)\r\n",
      "Requirement already satisfied: mkl_random in /usr/local/lib/python3.10/dist-packages (from numpy->rdkit) (1.2.4)\r\n",
      "Requirement already satisfied: mkl_umath in /usr/local/lib/python3.10/dist-packages (from numpy->rdkit) (0.1.1)\r\n",
      "Requirement already satisfied: mkl in /usr/local/lib/python3.10/dist-packages (from numpy->rdkit) (2025.0.1)\r\n",
      "Requirement already satisfied: tbb4py in /usr/local/lib/python3.10/dist-packages (from numpy->rdkit) (2022.0.0)\r\n",
      "Requirement already satisfied: mkl-service in /usr/local/lib/python3.10/dist-packages (from numpy->rdkit) (2.4.1)\r\n",
      "Requirement already satisfied: intel-openmp>=2024 in /usr/local/lib/python3.10/dist-packages (from mkl->numpy->rdkit) (2024.2.0)\r\n",
      "Requirement already satisfied: tbb==2022.* in /usr/local/lib/python3.10/dist-packages (from mkl->numpy->rdkit) (2022.0.0)\r\n",
      "Requirement already satisfied: tcmlib==1.* in /usr/local/lib/python3.10/dist-packages (from tbb==2022.*->mkl->numpy->rdkit) (1.2.0)\r\n",
      "Requirement already satisfied: intel-cmplr-lib-rt in /usr/local/lib/python3.10/dist-packages (from mkl_umath->numpy->rdkit) (2024.2.0)\r\n",
      "Requirement already satisfied: intel-cmplr-lib-ur==2024.2.0 in /usr/local/lib/python3.10/dist-packages (from intel-openmp>=2024->mkl->numpy->rdkit) (2024.2.0)\r\n"
     ]
    }
   ],
   "source": [
    "#if MODEL_TYPE=='protenix' and VALIDATION:\n",
    "!pip install --no-deps protenix\n",
    "!pip install biopython\n",
    "!pip install ml-collections\n",
    "!pip install biotite==1.0.1\n",
    "!pip install rdkit\n",
    "!export PROTENIX_DATA_ROOT_DIR=/kaggle/input/protenix-checkpoints"
   ]
  },
  {
   "cell_type": "code",
   "execution_count": 3,
   "id": "d4b3977d",
   "metadata": {
    "execution": {
     "iopub.execute_input": "2025-04-25T01:18:18.413981Z",
     "iopub.status.busy": "2025-04-25T01:18:18.413729Z",
     "iopub.status.idle": "2025-04-25T01:18:18.763581Z",
     "shell.execute_reply": "2025-04-25T01:18:18.762762Z"
    },
    "papermill": {
     "duration": 0.355376,
     "end_time": "2025-04-25T01:18:18.764966",
     "exception": false,
     "start_time": "2025-04-25T01:18:18.409590",
     "status": "completed"
    },
    "tags": []
   },
   "outputs": [
    {
     "name": "stdout",
     "output_type": "stream",
     "text": [
      "components.v20240608.cif\t\tmodel_v0.2.0.pt\r\n",
      "components.v20240608.cif.rdkit_mol.pkl\r\n"
     ]
    }
   ],
   "source": [
    "! mkdir /af3-dev \n",
    "! ln -s /kaggle/input/protenix-checkpoints /af3-dev/release_data\n",
    "! ls /af3-dev/release_data/"
   ]
  },
  {
   "cell_type": "markdown",
   "id": "462feb9a",
   "metadata": {
    "papermill": {
     "duration": 0.003435,
     "end_time": "2025-04-25T01:18:18.772250",
     "exception": false,
     "start_time": "2025-04-25T01:18:18.768815",
     "status": "completed"
    },
    "tags": []
   },
   "source": [
    "## Helper scripts"
   ]
  },
  {
   "cell_type": "code",
   "execution_count": 4,
   "id": "68724c84",
   "metadata": {
    "_cell_guid": "b1076dfc-b9ad-4769-8c92-a6c4dae69d19",
    "_uuid": "8f2839f25d086af736a60e9eeb907d3b93b6e0e5",
    "execution": {
     "iopub.execute_input": "2025-04-25T01:18:18.780266Z",
     "iopub.status.busy": "2025-04-25T01:18:18.780001Z",
     "iopub.status.idle": "2025-04-25T01:18:22.947989Z",
     "shell.execute_reply": "2025-04-25T01:18:22.947110Z"
    },
    "papermill": {
     "duration": 4.17352,
     "end_time": "2025-04-25T01:18:22.949301",
     "exception": false,
     "start_time": "2025-04-25T01:18:18.775781",
     "status": "completed"
    },
    "tags": []
   },
   "outputs": [
    {
     "name": "stdout",
     "output_type": "stream",
     "text": [
      "IMPORT OK !!!!\n"
     ]
    }
   ],
   "source": [
    "import Bio\n",
    "\n",
    "from copy import deepcopy\n",
    "\n",
    "import pandas as pd\n",
    "from Bio.PDB import Atom, Model, Chain, Residue, Structure, PDBParser\n",
    "from Bio import SeqIO\n",
    "import os, sys\n",
    "import re\n",
    "import numpy as np\n",
    "import torch\n",
    "\n",
    "import matplotlib\n",
    "import matplotlib.pyplot as plt\n",
    "from tqdm import tqdm\n",
    "import time\n",
    "time0=time.time()\n",
    "\n",
    "print('IMPORT OK !!!!')"
   ]
  },
  {
   "cell_type": "code",
   "execution_count": 5,
   "id": "721fc47f",
   "metadata": {
    "execution": {
     "iopub.execute_input": "2025-04-25T01:18:22.957651Z",
     "iopub.status.busy": "2025-04-25T01:18:22.957295Z",
     "iopub.status.idle": "2025-04-25T01:18:23.057717Z",
     "shell.execute_reply": "2025-04-25T01:18:23.056885Z"
    },
    "papermill": {
     "duration": 0.10603,
     "end_time": "2025-04-25T01:18:23.059071",
     "exception": false,
     "start_time": "2025-04-25T01:18:22.953041",
     "status": "completed"
    },
    "tags": []
   },
   "outputs": [
    {
     "name": "stdout",
     "output_type": "stream",
     "text": [
      "PYTHON /usr/bin/python3\n",
      "HELPER OK!!!\n"
     ]
    }
   ],
   "source": [
    "PYTHON = sys.executable\n",
    "print('PYTHON',PYTHON)\n",
    "\n",
    "RHONET_DIR=\\\n",
    "'/kaggle/input/data-for-demo-for-rhofold-plus-with-kaggle-msa/RhoFold-main'\n",
    "#'<your downloaded rhofold repo>/RhoFold-main'\n",
    "\n",
    "USALIGN = \\\n",
    "'/kaggle/working//USalign'\n",
    "#'<your us align path>/USalign'\n",
    "\n",
    "os.system('cp /kaggle/input/usalign/USalign /kaggle/working/')\n",
    "os.system('sudo chmod u+x /kaggle/working//USalign')\n",
    "sys.path.append(RHONET_DIR)\n",
    "\n",
    "\n",
    "DATA_KAGGLE_DIR = '/kaggle/input/stanford-rna-3d-folding'\n",
    "\n",
    "\n",
    "# helper ----\n",
    "class dotdict(dict):\n",
    "\t__setattr__ = dict.__setitem__\n",
    "\t__delattr__ = dict.__delitem__\n",
    "\n",
    "\tdef __getattr__(self, name):\n",
    "\t\ttry:\n",
    "\t\t\treturn self[name]\n",
    "\t\texcept KeyError:\n",
    "\t\t\traise AttributeError(name)\n",
    "\n",
    "# visualisation helper ----\n",
    "def set_aspect_equal(ax):\n",
    "\tx_limits = ax.get_xlim()\n",
    "\ty_limits = ax.get_ylim()\n",
    "\tz_limits = ax.get_zlim()\n",
    "\n",
    "\t# Compute the mean of each axis\n",
    "\tx_middle = np.mean(x_limits)\n",
    "\ty_middle = np.mean(y_limits)\n",
    "\tz_middle = np.mean(z_limits)\n",
    "\n",
    "\t# Compute the max range across all axes\n",
    "\tmax_range = max(x_limits[1] - x_limits[0],\n",
    "\t\t\t\t\ty_limits[1] - y_limits[0],\n",
    "\t\t\t\t\tz_limits[1] - z_limits[0]) / 2.0\n",
    "\n",
    "\t# Set the new limits to ensure equal scaling\n",
    "\tax.set_xlim(x_middle - max_range, x_middle + max_range)\n",
    "\tax.set_ylim(y_middle - max_range, y_middle + max_range)\n",
    "\tax.set_zlim(z_middle - max_range, z_middle + max_range)\n",
    "\n",
    "\n",
    "\n",
    "\n",
    "# xyz df helper --------------------\n",
    "def get_truth_df(target_id):\n",
    "    truth_df = LABEL_DF[LABEL_DF['target_id'] == target_id]\n",
    "    truth_df = truth_df.reset_index(drop=True)\n",
    "    return truth_df\n",
    "\n",
    "def parse_output_to_df(output, seq, target_id):\n",
    "    df = []\n",
    "    chain_data = []\n",
    "    for i, res in enumerate(seq):\n",
    "        d=dict(ID = target_id,\n",
    "                    resname=res,\n",
    "                    resid=i+1)\n",
    "        for n in range(len(output)):\n",
    "            d={**d, f'x_{n+1}': round(output[n,i,0].item(),3),\n",
    "                     f'y_{n+1}': round(output[n,i,1].item(),3),\n",
    "                     f'z_{n+1}': round(output[n,i,2].item(),3)}\n",
    "        chain_data.append(d)\n",
    "\n",
    "    if len(chain_data)!=0:\n",
    "        chain_df = pd.DataFrame(chain_data)\n",
    "        df.append(chain_df)\n",
    "        ##print(chain_df)\n",
    "    return df\n",
    "\n",
    "def parse_pdb_to_df(pdb_file, target_id):\n",
    "    parser = PDBParser()\n",
    "    structure = parser.get_structure('', pdb_file)\n",
    "\n",
    "    df = []\n",
    "    for model in structure:\n",
    "        for chain in model:\n",
    "            print(chain)\n",
    "            chain_data = []\n",
    "            for residue in chain:\n",
    "                # print(residue)\n",
    "                if residue.get_resname() in ['A', 'U', 'G', 'C']:\n",
    "                    # Check if the residue has a C1' atom\n",
    "                    if 'C1\\'' in residue:\n",
    "                        atom = residue['C1\\'']\n",
    "                        xyz = atom.get_coord()\n",
    "                        resname = residue.get_resname()\n",
    "                        resid = residue.get_id()[1]\n",
    "\n",
    "                        #todo detect discontinous: resid = prev_resid+1\n",
    "                        #ID\tresname\tresid\tx_1\ty_1\tz_1\n",
    "                        chain_data.append(dict(\n",
    "                            ID = target_id+'_'+str(resid),\n",
    "                            resname=resname,\n",
    "                            resid=resid,\n",
    "                            x_1=xyz[0],\n",
    "                            y_1=xyz[1],\n",
    "                            z_1=xyz[2],\n",
    "                        ))\n",
    "                        ##print(f\"Residue {resname} {resid}, Atom: {atom.get_name()}, xyz: {xyz}\")\n",
    "\n",
    "            if len(chain_data)!=0:\n",
    "                chain_df = pd.DataFrame(chain_data)\n",
    "                df.append(chain_df)\n",
    "                ##print(chain_df)\n",
    "    return df\n",
    "\n",
    "# usalign helper --------------------\n",
    "def write_target_line(\n",
    "    atom_name, atom_serial, residue_name, chain_id, residue_num, x_coord, y_coord, z_coord, occupancy=1.0, b_factor=0.0, atom_type='P'\n",
    "):\n",
    "    \"\"\"\n",
    "    Writes a single line of PDB format based on provided atom information.\n",
    "\n",
    "    Args:\n",
    "        atom_name (str): Name of the atom (e.g., \"N\", \"CA\").\n",
    "        atom_serial (int): Atom serial number.\n",
    "        residue_name (str): Residue name (e.g., \"ALA\").\n",
    "        chain_id (str): Chain identifier.\n",
    "        residue_num (int): Residue number.\n",
    "        x_coord (float): X coordinate.\n",
    "        y_coord (float): Y coordinate.\n",
    "        z_coord (float): Z coordinate.\n",
    "        occupancy (float, optional): Occupancy value (default: 1.0).\n",
    "        b_factor (float, optional): B-factor value (default: 0.0).\n",
    "\n",
    "    Returns:\n",
    "        str: A single line of PDB string.\n",
    "    \"\"\"\n",
    "    return f'ATOM  {atom_serial:>5d}  {atom_name:<5s} {residue_name:<3s} {residue_num:>3d}    {x_coord:>8.3f}{y_coord:>8.3f}{z_coord:>8.3f}{occupancy:>6.2f}{b_factor:>6.2f}           {atom_type}\\n'\n",
    "\n",
    "def write_xyz_to_pdb(df, pdb_file, xyz_id = 1):\n",
    "    resolved_cnt = 0\n",
    "    with open(pdb_file, 'w') as target_file:\n",
    "        for _, row in df.iterrows():\n",
    "            x_coord = row[f'x_{xyz_id}']\n",
    "            y_coord = row[f'y_{xyz_id}']\n",
    "            z_coord = row[f'z_{xyz_id}']\n",
    "\n",
    "            if x_coord > -1e17 and y_coord > -1e17 and z_coord > -1e17:\n",
    "                resolved_cnt += 1\n",
    "                target_line = write_target_line(\n",
    "                    atom_name=\"C1'\",\n",
    "                    atom_serial=int(row['resid']),\n",
    "                    residue_name=row['resname'],\n",
    "                    chain_id='0',\n",
    "                    residue_num=int(row['resid']),\n",
    "                    x_coord=x_coord,\n",
    "                    y_coord=y_coord,\n",
    "                    z_coord=z_coord,\n",
    "                    atom_type='C',\n",
    "                )\n",
    "                target_file.write(target_line)\n",
    "    return resolved_cnt\n",
    "\n",
    "def parse_usalign_for_tm_score(output):\n",
    "    # Extract TM-score based on length of reference structure (second)\n",
    "    tm_score_match = re.findall(r'TM-score=\\s+([\\d.]+)', output)[1]\n",
    "    if not tm_score_match:\n",
    "        raise ValueError('No TM score found')\n",
    "    return float(tm_score_match)\n",
    "\n",
    "def parse_usalign_for_transform(output):\n",
    "    # Locate the rotation matrix section\n",
    "    matrix_lines = []\n",
    "    found_matrix = False\n",
    "\n",
    "    for line in output.splitlines():\n",
    "        if \"The rotation matrix to rotate Structure_1 to Structure_2\" in line:\n",
    "            found_matrix = True\n",
    "        elif found_matrix and re.match(r'^\\d+\\s+[-\\d.]+\\s+[-\\d.]+\\s+[-\\d.]+\\s+[-\\d.]+$', line):\n",
    "            matrix_lines.append(line)\n",
    "        elif found_matrix and not line.strip():\n",
    "            break  # Stop parsing if an empty line is encountered after the matrix\n",
    "\n",
    "    # Parse the rotation matrix values\n",
    "    rotation_matrix = []\n",
    "    for line in matrix_lines:\n",
    "        parts = line.split()\n",
    "        row_values = list(map(float, parts[1:]))  # Skip the first column (index)\n",
    "        rotation_matrix.append(row_values)\n",
    "\n",
    "    return np.array(rotation_matrix)\n",
    "\n",
    "def call_usalign(predict_df, truth_df, verbose=1):\n",
    "    truth_pdb = '~truth.pdb'\n",
    "    predict_pdb = '~predict.pdb'\n",
    "    write_xyz_to_pdb(predict_df, predict_pdb, xyz_id=1)\n",
    "    write_xyz_to_pdb(truth_df, truth_pdb, xyz_id=1)\n",
    "\n",
    "    command = f'{USALIGN} {predict_pdb} {truth_pdb} -atom \" C1\\'\" -m -'\n",
    "    output = os.popen(command).read()\n",
    "    if verbose==1:\n",
    "        print(output)\n",
    "    tm_score = parse_usalign_for_tm_score(output)\n",
    "    transform = parse_usalign_for_transform(output)\n",
    "    return tm_score, transform\n",
    "\n",
    "print('HELPER OK!!!')"
   ]
  },
  {
   "cell_type": "code",
   "execution_count": 6,
   "id": "8c229968",
   "metadata": {
    "execution": {
     "iopub.execute_input": "2025-04-25T01:18:23.067558Z",
     "iopub.status.busy": "2025-04-25T01:18:23.067309Z",
     "iopub.status.idle": "2025-04-25T01:18:27.738264Z",
     "shell.execute_reply": "2025-04-25T01:18:27.737242Z"
    },
    "papermill": {
     "duration": 4.677011,
     "end_time": "2025-04-25T01:18:27.739999",
     "exception": false,
     "start_time": "2025-04-25T01:18:23.062988",
     "status": "completed"
    },
    "tags": []
   },
   "outputs": [],
   "source": [
    "if MODEL_TYPE=='protenix':\n",
    "    \n",
    "    \n",
    "    from runner.batch_inference import get_default_runner\n",
    "    from runner.inference import update_inference_configs, InferenceRunner\n",
    "\n",
    "    from protenix.data.infer_data_pipeline import InferenceDataset\n",
    "\n",
    "    np.random.seed(0)\n",
    "    torch.random.manual_seed(0)\n",
    "    torch.cuda.manual_seed_all(0)\n",
    "\n",
    "    class DictDataset(InferenceDataset):\n",
    "        def __init__(\n",
    "            self,\n",
    "            seq_list: list,\n",
    "            dump_dir: str,\n",
    "            id_list: list = None,\n",
    "            use_msa: bool = False,\n",
    "        ) -> None:\n",
    "\n",
    "            self.dump_dir = dump_dir\n",
    "            self.use_msa = use_msa\n",
    "            if isinstance(id_list,type(None)):\n",
    "                self.inputs = [{\"sequences\": \n",
    "                                [{\"rnaSequence\": \n",
    "                                  {\"sequence\": seq, \n",
    "                                   \"count\": 1}}],\n",
    "                                \"name\": \"query\"} for seq in seq_list]\n",
    "            else:\n",
    "                self.inputs = [{\"sequences\": \n",
    "                                [{\"rnaSequence\": \n",
    "                                  {\"sequence\": seq, \n",
    "                                   \"count\": 1}}],\n",
    "                                \"name\": i} for i, seq in zip(id_list,seq_list)]"
   ]
  },
  {
   "cell_type": "code",
   "execution_count": 7,
   "id": "3a2bab84",
   "metadata": {
    "execution": {
     "iopub.execute_input": "2025-04-25T01:18:27.748952Z",
     "iopub.status.busy": "2025-04-25T01:18:27.748364Z",
     "iopub.status.idle": "2025-04-25T01:18:43.555715Z",
     "shell.execute_reply": "2025-04-25T01:18:43.554988Z"
    },
    "papermill": {
     "duration": 15.813461,
     "end_time": "2025-04-25T01:18:43.557428",
     "exception": false,
     "start_time": "2025-04-25T01:18:27.743967",
     "status": "completed"
    },
    "tags": []
   },
   "outputs": [
    {
     "name": "stdout",
     "output_type": "stream",
     "text": [
      "train scheduler 16.0\n",
      "inference scheduler 16.0\n",
      "Diffusion Module has 16.0\n"
     ]
    },
    {
     "name": "stderr",
     "output_type": "stream",
     "text": [
      "/usr/local/lib/python3.10/dist-packages/runner/inference.py:107: FutureWarning: You are using `torch.load` with `weights_only=False` (the current default value), which uses the default pickle module implicitly. It is possible to construct malicious pickle data which will execute arbitrary code during unpickling (See https://github.com/pytorch/pytorch/blob/main/SECURITY.md#untrusted-models for more details). In a future release, the default value for `weights_only` will be flipped to `True`. This limits the functions that could be executed during unpickling. Arbitrary objects will no longer be allowed to be loaded via this mode unless they are explicitly allowlisted by the user via `torch.serialization.add_safe_globals`. We recommend you start setting `weights_only=True` for any use case where you don't have full control of the loaded file. Please open an issue on GitHub for any issues related to this experimental feature.\n",
      "  checkpoint = torch.load(checkpoint_path, self.device)\n"
     ]
    }
   ],
   "source": [
    "if MODEL_TYPE=='protenix':\n",
    "\n",
    "    from configs.configs_base import configs as configs_base\n",
    "    from configs.configs_data import data_configs\n",
    "    from configs.configs_inference import inference_configs\n",
    "    from protenix.config.config import parse_configs\n",
    "\n",
    "    configs_base[\"use_deepspeed_evo_attention\"] = (\n",
    "    os.environ.get(\"USE_DEEPSPEED_EVO_ATTENTION\", False) == \"true\")\n",
    "    configs_base[\"model\"][\"N_cycle\"] = 10 #10\n",
    "    configs_base[\"sample_diffusion\"][\"N_sample\"] = (1 if VALIDATION else 5)\n",
    "    configs_base[\"sample_diffusion\"][\"N_step\"] = 200\n",
    "    inference_configs['load_checkpoint_path']='/kaggle/input/protenix-checkpoints/model_v0.2.0.pt'\n",
    "    configs = {**configs_base, **{\"data\": data_configs}, **inference_configs}\n",
    "\n",
    "    configs = parse_configs(\n",
    "            configs=configs,\n",
    "            fill_required_with_null=True,\n",
    "        )\n",
    "    \n",
    "    runner=InferenceRunner(configs)\n"
   ]
  },
  {
   "cell_type": "code",
   "execution_count": 8,
   "id": "1692ad46",
   "metadata": {
    "execution": {
     "iopub.execute_input": "2025-04-25T01:18:43.566399Z",
     "iopub.status.busy": "2025-04-25T01:18:43.566113Z",
     "iopub.status.idle": "2025-04-25T01:18:43.571275Z",
     "shell.execute_reply": "2025-04-25T01:18:43.570464Z"
    },
    "papermill": {
     "duration": 0.010845,
     "end_time": "2025-04-25T01:18:43.572600",
     "exception": false,
     "start_time": "2025-04-25T01:18:43.561755",
     "status": "completed"
    },
    "tags": []
   },
   "outputs": [
    {
     "data": {
      "text/plain": [
       "True"
      ]
     },
     "execution_count": 8,
     "metadata": {},
     "output_type": "execute_result"
    }
   ],
   "source": [
    "VALIDATION"
   ]
  },
  {
   "cell_type": "code",
   "execution_count": 9,
   "id": "b08380d0",
   "metadata": {
    "execution": {
     "iopub.execute_input": "2025-04-25T01:18:43.581028Z",
     "iopub.status.busy": "2025-04-25T01:18:43.580825Z",
     "iopub.status.idle": "2025-04-25T01:18:43.944370Z",
     "shell.execute_reply": "2025-04-25T01:18:43.943599Z"
    },
    "papermill": {
     "duration": 0.369533,
     "end_time": "2025-04-25T01:18:43.946043",
     "exception": false,
     "start_time": "2025-04-25T01:18:43.576510",
     "status": "completed"
    },
    "tags": []
   },
   "outputs": [],
   "source": [
    "if VALIDATION:\n",
    "    LABEL_DF = pd.read_csv('/kaggle/input/stanford-rna-3d-folding/train_labels.csv')\n",
    "    LABEL_DF.rename(columns={'x_1': 'x_true', 'y_1': 'y_true', 'z_1': 'z_true'}, inplace=True)\n",
    "    LABEL_DF['target_id'] = LABEL_DF['ID'].apply(lambda x: '_'.join(x.split('_')[:-1]))\n",
    "    train_df=pd.read_csv('/kaggle/input/folding-strategy-rna/rna_dataset_with_fold.csv')\n",
    "    train_df = train_df[train_df['fold']==1]\n",
    "    train_df.reset_index(drop=True, inplace=True)"
   ]
  },
  {
   "cell_type": "code",
   "execution_count": 10,
   "id": "d2ac81c4",
   "metadata": {
    "execution": {
     "iopub.execute_input": "2025-04-25T01:18:43.955775Z",
     "iopub.status.busy": "2025-04-25T01:18:43.955523Z",
     "iopub.status.idle": "2025-04-25T01:18:43.974248Z",
     "shell.execute_reply": "2025-04-25T01:18:43.973521Z"
    },
    "papermill": {
     "duration": 0.024801,
     "end_time": "2025-04-25T01:18:43.975485",
     "exception": false,
     "start_time": "2025-04-25T01:18:43.950684",
     "status": "completed"
    },
    "tags": []
   },
   "outputs": [
    {
     "data": {
      "text/html": [
       "<div>\n",
       "<style scoped>\n",
       "    .dataframe tbody tr th:only-of-type {\n",
       "        vertical-align: middle;\n",
       "    }\n",
       "\n",
       "    .dataframe tbody tr th {\n",
       "        vertical-align: top;\n",
       "    }\n",
       "\n",
       "    .dataframe thead th {\n",
       "        text-align: right;\n",
       "    }\n",
       "</style>\n",
       "<table border=\"1\" class=\"dataframe\">\n",
       "  <thead>\n",
       "    <tr style=\"text-align: right;\">\n",
       "      <th></th>\n",
       "      <th>target_id</th>\n",
       "      <th>sequence</th>\n",
       "      <th>temporal_cutoff</th>\n",
       "      <th>description</th>\n",
       "      <th>all_sequences</th>\n",
       "      <th>sequence_length</th>\n",
       "      <th>fold</th>\n",
       "    </tr>\n",
       "  </thead>\n",
       "  <tbody>\n",
       "    <tr>\n",
       "      <th>0</th>\n",
       "      <td>1FFK_9</td>\n",
       "      <td>UUAGGCGGCCACAGCGGUGGGGUUGCCUCCCGUACCCAUCCCGAAC...</td>\n",
       "      <td>2000-08-14</td>\n",
       "      <td>CRYSTAL STRUCTURE OF THE LARGE RIBOSOMAL SUBUN...</td>\n",
       "      <td>&gt;1FFK_1|Chain A[auth 0]|23S RRNA|Haloarcula ma...</td>\n",
       "      <td>122</td>\n",
       "      <td>1</td>\n",
       "    </tr>\n",
       "    <tr>\n",
       "      <th>1</th>\n",
       "      <td>1FOQ_A</td>\n",
       "      <td>UCAAUGGUACGGUACUUCCAUUGUCAUGUGUAUGUUGGGGAUUAAA...</td>\n",
       "      <td>2000-12-22</td>\n",
       "      <td>PENTAMERIC MODEL OF THE BACTERIOPHAGE PHI29 PR...</td>\n",
       "      <td>&gt;1FOQ_1|Chains A, B, C, D, E|BACTERIOPHAGE PHI...</td>\n",
       "      <td>120</td>\n",
       "      <td>1</td>\n",
       "    </tr>\n",
       "    <tr>\n",
       "      <th>2</th>\n",
       "      <td>1S9S_A</td>\n",
       "      <td>GGCGGUACUAGUUGAGAAACUAGCUCUGUAUCUGGCGGACCCGUGG...</td>\n",
       "      <td>2004-04-06</td>\n",
       "      <td>SOLUTION STRUCTURE OF MLV PSI SITE</td>\n",
       "      <td>&gt;1S9S_1|Chain A|MLV Psi encapsidation site|nul...</td>\n",
       "      <td>101</td>\n",
       "      <td>1</td>\n",
       "    </tr>\n",
       "    <tr>\n",
       "      <th>3</th>\n",
       "      <td>1ZC8_Z</td>\n",
       "      <td>GCCCGUCACGCCAUGGGAGCGGGCUCUACCCGAAGUCGCCGGGAGC...</td>\n",
       "      <td>2005-04-19</td>\n",
       "      <td>Coordinates of tmRNA, SmpB, EF-Tu and h44 fitt...</td>\n",
       "      <td>&gt;1ZC8_1|Chain A|TLD 16S ribosomal RNA|Thermus ...</td>\n",
       "      <td>91</td>\n",
       "      <td>1</td>\n",
       "    </tr>\n",
       "    <tr>\n",
       "      <th>4</th>\n",
       "      <td>1YSH_B</td>\n",
       "      <td>UAGACGGUGGGAGAGGGUGGUGGAAUUCCCGGAGUAGCGGUGAAAU...</td>\n",
       "      <td>2005-07-05</td>\n",
       "      <td>Localization and dynamic behavior of ribosomal...</td>\n",
       "      <td>&gt;1YSH_1|Chain A|RNA (28-MER)|synthetic constru...</td>\n",
       "      <td>101</td>\n",
       "      <td>1</td>\n",
       "    </tr>\n",
       "    <tr>\n",
       "      <th>...</th>\n",
       "      <td>...</td>\n",
       "      <td>...</td>\n",
       "      <td>...</td>\n",
       "      <td>...</td>\n",
       "      <td>...</td>\n",
       "      <td>...</td>\n",
       "      <td>...</td>\n",
       "    </tr>\n",
       "    <tr>\n",
       "      <th>173</th>\n",
       "      <td>9G7C_A</td>\n",
       "      <td>GGGAGUCGGGUCUGUGGUUGAAAGUCGAUGCCAGUCGCAGGCGAAA...</td>\n",
       "      <td>2024-10-30</td>\n",
       "      <td>Cryo-EM structure of raiA ncRNA from Clostridi...</td>\n",
       "      <td>&gt;9G7C_1|Chain A|raiA (224-MER)|Clostridium sp....</td>\n",
       "      <td>224</td>\n",
       "      <td>1</td>\n",
       "    </tr>\n",
       "    <tr>\n",
       "      <th>174</th>\n",
       "      <td>8T3E_EC</td>\n",
       "      <td>AAACUCCAUGUAUUGGUUACCCAUCUGCAUCGAAAACUCUCCGAAC...</td>\n",
       "      <td>2024-12-11</td>\n",
       "      <td>Hypomethylated yeast 80S bound with Taura synd...</td>\n",
       "      <td>&gt;8T3E_1|Chain A[auth BA]|40S ribosomal protein...</td>\n",
       "      <td>202</td>\n",
       "      <td>1</td>\n",
       "    </tr>\n",
       "    <tr>\n",
       "      <th>175</th>\n",
       "      <td>8T3F_EC</td>\n",
       "      <td>AAACUCCAUGUAUUGGUUACCCAUCUGCAUCGAAAACUCUCCGAAC...</td>\n",
       "      <td>2024-12-11</td>\n",
       "      <td>Hypomethylated yeast 80S bound with Taura synd...</td>\n",
       "      <td>&gt;8T3F_1|Chain A[auth BA]|40S ribosomal protein...</td>\n",
       "      <td>202</td>\n",
       "      <td>1</td>\n",
       "    </tr>\n",
       "    <tr>\n",
       "      <th>176</th>\n",
       "      <td>8Z1G_T</td>\n",
       "      <td>GGUAAAAUGGCUGAGUGAAGCAUUGGACUGUAAAUCUAAAGACAGG...</td>\n",
       "      <td>2024-12-18</td>\n",
       "      <td>Cryo-EM structure of human ELAC2-pre-tRNA</td>\n",
       "      <td>&gt;8Z1G_1|Chain A[auth T]|Homo sapiens mitochond...</td>\n",
       "      <td>86</td>\n",
       "      <td>1</td>\n",
       "    </tr>\n",
       "    <tr>\n",
       "      <th>177</th>\n",
       "      <td>8Z1F_T</td>\n",
       "      <td>GGUAAAAUGGCUGAGUGAAGCAUUGGACUGUAAAUCUAAAGACAGG...</td>\n",
       "      <td>2024-12-18</td>\n",
       "      <td>Cryo-EM structure of human ELAC2-tRNA</td>\n",
       "      <td>&gt;8Z1F_1|Chain A[auth T]|Homo sapiens mitochond...</td>\n",
       "      <td>86</td>\n",
       "      <td>1</td>\n",
       "    </tr>\n",
       "  </tbody>\n",
       "</table>\n",
       "<p>178 rows × 7 columns</p>\n",
       "</div>"
      ],
      "text/plain": [
       "    target_id                                           sequence  \\\n",
       "0      1FFK_9  UUAGGCGGCCACAGCGGUGGGGUUGCCUCCCGUACCCAUCCCGAAC...   \n",
       "1      1FOQ_A  UCAAUGGUACGGUACUUCCAUUGUCAUGUGUAUGUUGGGGAUUAAA...   \n",
       "2      1S9S_A  GGCGGUACUAGUUGAGAAACUAGCUCUGUAUCUGGCGGACCCGUGG...   \n",
       "3      1ZC8_Z  GCCCGUCACGCCAUGGGAGCGGGCUCUACCCGAAGUCGCCGGGAGC...   \n",
       "4      1YSH_B  UAGACGGUGGGAGAGGGUGGUGGAAUUCCCGGAGUAGCGGUGAAAU...   \n",
       "..        ...                                                ...   \n",
       "173    9G7C_A  GGGAGUCGGGUCUGUGGUUGAAAGUCGAUGCCAGUCGCAGGCGAAA...   \n",
       "174   8T3E_EC  AAACUCCAUGUAUUGGUUACCCAUCUGCAUCGAAAACUCUCCGAAC...   \n",
       "175   8T3F_EC  AAACUCCAUGUAUUGGUUACCCAUCUGCAUCGAAAACUCUCCGAAC...   \n",
       "176    8Z1G_T  GGUAAAAUGGCUGAGUGAAGCAUUGGACUGUAAAUCUAAAGACAGG...   \n",
       "177    8Z1F_T  GGUAAAAUGGCUGAGUGAAGCAUUGGACUGUAAAUCUAAAGACAGG...   \n",
       "\n",
       "    temporal_cutoff                                        description  \\\n",
       "0        2000-08-14  CRYSTAL STRUCTURE OF THE LARGE RIBOSOMAL SUBUN...   \n",
       "1        2000-12-22  PENTAMERIC MODEL OF THE BACTERIOPHAGE PHI29 PR...   \n",
       "2        2004-04-06                 SOLUTION STRUCTURE OF MLV PSI SITE   \n",
       "3        2005-04-19  Coordinates of tmRNA, SmpB, EF-Tu and h44 fitt...   \n",
       "4        2005-07-05  Localization and dynamic behavior of ribosomal...   \n",
       "..              ...                                                ...   \n",
       "173      2024-10-30  Cryo-EM structure of raiA ncRNA from Clostridi...   \n",
       "174      2024-12-11  Hypomethylated yeast 80S bound with Taura synd...   \n",
       "175      2024-12-11  Hypomethylated yeast 80S bound with Taura synd...   \n",
       "176      2024-12-18          Cryo-EM structure of human ELAC2-pre-tRNA   \n",
       "177      2024-12-18              Cryo-EM structure of human ELAC2-tRNA   \n",
       "\n",
       "                                         all_sequences  sequence_length  fold  \n",
       "0    >1FFK_1|Chain A[auth 0]|23S RRNA|Haloarcula ma...              122     1  \n",
       "1    >1FOQ_1|Chains A, B, C, D, E|BACTERIOPHAGE PHI...              120     1  \n",
       "2    >1S9S_1|Chain A|MLV Psi encapsidation site|nul...              101     1  \n",
       "3    >1ZC8_1|Chain A|TLD 16S ribosomal RNA|Thermus ...               91     1  \n",
       "4    >1YSH_1|Chain A|RNA (28-MER)|synthetic constru...              101     1  \n",
       "..                                                 ...              ...   ...  \n",
       "173  >9G7C_1|Chain A|raiA (224-MER)|Clostridium sp....              224     1  \n",
       "174  >8T3E_1|Chain A[auth BA]|40S ribosomal protein...              202     1  \n",
       "175  >8T3F_1|Chain A[auth BA]|40S ribosomal protein...              202     1  \n",
       "176  >8Z1G_1|Chain A[auth T]|Homo sapiens mitochond...               86     1  \n",
       "177  >8Z1F_1|Chain A[auth T]|Homo sapiens mitochond...               86     1  \n",
       "\n",
       "[178 rows x 7 columns]"
      ]
     },
     "execution_count": 10,
     "metadata": {},
     "output_type": "execute_result"
    }
   ],
   "source": [
    "train_df"
   ]
  },
  {
   "cell_type": "code",
   "execution_count": 11,
   "id": "fca22d49",
   "metadata": {
    "execution": {
     "iopub.execute_input": "2025-04-25T01:18:43.984682Z",
     "iopub.status.busy": "2025-04-25T01:18:43.984450Z",
     "iopub.status.idle": "2025-04-25T02:19:01.713714Z",
     "shell.execute_reply": "2025-04-25T02:19:01.712845Z"
    },
    "papermill": {
     "duration": 3617.73525,
     "end_time": "2025-04-25T02:19:01.715078",
     "exception": false,
     "start_time": "2025-04-25T01:18:43.979828",
     "status": "completed"
    },
    "tags": []
   },
   "outputs": [
    {
     "name": "stderr",
     "output_type": "stream",
     "text": [
      "100%|██████████| 178/178 [1:00:17<00:00, 20.32s/it]"
     ]
    },
    {
     "name": "stdout",
     "output_type": "stream",
     "text": [
      "nan\n"
     ]
    },
    {
     "name": "stderr",
     "output_type": "stream",
     "text": [
      "\n"
     ]
    },
    {
     "data": {
      "text/plain": [
       "<Axes: >"
      ]
     },
     "metadata": {},
     "output_type": "display_data"
    },
    {
     "data": {
      "image/png": "[encoded data removed]",
      "text/plain": [
       "<Figure size 640x480 with 1 Axes>"
      ]
     },
     "metadata": {},
     "output_type": "display_data"
    }
   ],
   "source": [
    "import warnings\n",
    "warnings.filterwarnings(\"ignore\")  \n",
    "\n",
    "train_df['protenix_tm_score'] = None\n",
    "dataset                       = DictDataset(train_df.sequence, dump_dir='output', id_list=train_df.target_id, use_msa=False)\n",
    "num_data                      = len(dataset)\n",
    "\n",
    "if MODEL_TYPE=='protenix' and VALIDATION:\n",
    "    for i, seq in tqdm(enumerate(train_df.sequence), total=num_data):\n",
    "        if train_df.loc[i,'protenix_tm_score']!=None:\n",
    "            continue\n",
    "        if len(seq)>300:\n",
    "            continue\n",
    "            \n",
    "        target_id = train_df.loc[i,'target_id']\n",
    "        truth_df  = get_truth_df(target_id)\n",
    "        \n",
    "        if sum(~np.isnan(truth_df.x_true))<3:\n",
    "            continue\n",
    "            \n",
    "        data, atom_array, data_error_message=dataset[i]\n",
    "        \n",
    "        if data_error_message!='':\n",
    "            continue\n",
    "            \n",
    "        new_configs   = update_inference_configs(configs, data[\"N_token\"].item())\n",
    "        runner.update_model_configs(new_configs)\n",
    "        prediction    = runner.predict(data)\n",
    "        prediction    = prediction['coordinate'][:,data['input_feature_dict']['atom_to_tokatom_idx']==12]       \n",
    "        result        = parse_output_to_df(prediction[:1], seq, target_id)[0]\n",
    "        try:\n",
    "            tm_score, transform                 = call_usalign(result, truth_df, verbose=0)\n",
    "            train_df.loc[i,'protenix_tm_score'] = tm_score\n",
    "        except:\n",
    "            pass\n",
    "            \n",
    "        if (time.time()-time0)>(12*3600-360):\n",
    "            break\n",
    "\n",
    "\n",
    "        result['ID']=result.apply(lambda x: x.ID + '_' + str(x.resid), axis=1)\n",
    "        result.to_csv('proteinx_oof.csv', index=False, mode='a', header=(i==0))\n",
    "        torch.cuda.empty_cache()\n",
    "            \n",
    "    train_df.to_csv('tm_scores.csv', index=False)\n",
    "    print(train_df.protenix_tm_score.mean())\n",
    "    display(train_df.protenix_tm_score.hist())"
   ]
  },
  {
   "cell_type": "code",
   "execution_count": 12,
   "id": "9a80713d",
   "metadata": {
    "execution": {
     "iopub.execute_input": "2025-04-25T02:19:01.739714Z",
     "iopub.status.busy": "2025-04-25T02:19:01.739469Z",
     "iopub.status.idle": "2025-04-25T02:19:01.742637Z",
     "shell.execute_reply": "2025-04-25T02:19:01.741990Z"
    },
    "papermill": {
     "duration": 0.016499,
     "end_time": "2025-04-25T02:19:01.743747",
     "exception": false,
     "start_time": "2025-04-25T02:19:01.727248",
     "status": "completed"
    },
    "tags": []
   },
   "outputs": [],
   "source": [
    "# import warnings\n",
    "# warnings.filterwarnings(\"ignore\") \n",
    "\n",
    "# test_df=pd.read_csv('/kaggle/input/stanford-rna-3d-folding/test_sequences.csv') \n",
    "\n",
    "# dataset = DictDataset(test_df.sequence, dump_dir='output', id_list=test_df.target_id, use_msa=False)\n",
    "# num_data = len(dataset)\n",
    "\n",
    "# if MODEL_TYPE=='protenix' and not VALIDATION:\n",
    "#     for i, seq in tqdm(enumerate(test_df.sequence),total=num_data):\n",
    "#         try:\n",
    "            \n",
    "#             data, atom_array, data_error_message = dataset[i]\n",
    "#             target_id                            = data[\"sample_name\"]\n",
    "#             assert target_id==test_df.target_id[i]\n",
    "#             assert data_error_message==''\n",
    "            \n",
    "#             new_configs  = update_inference_configs(configs, data[\"N_token\"].item())\n",
    "#             runner.update_model_configs(new_configs)\n",
    "#             prediction   = runner.predict(data)\n",
    "#             prediction   = prediction['coordinate'][:,data['input_feature_dict']['atom_to_tokatom_idx']==12]\n",
    "#             result       = parse_output_to_df(prediction, seq, target_id)[0]\n",
    "            \n",
    "#         except:\n",
    "#             target_id==test_df.target_id[i]\n",
    "#             print('Failed to predict', target_id)\n",
    "#             result=pd.DataFrame(columns=['ID', 'resname', 'resid', \n",
    "#                                          'x_1', 'y_1', 'z_1', \n",
    "#                                          'x_2', 'y_2', 'z_2',\n",
    "#                                          'x_3', 'y_3', 'z_3', \n",
    "#                                          'x_4', 'y_4', 'z_4', \n",
    "#                                          'x_5', 'y_5', 'z_5'], \n",
    "#                                          data=[[target_id, x, j+1] + [0.0]*15 for j, x in enumerate(seq)])\n",
    "            \n",
    "#         result['ID']=result.apply(lambda x: x.ID + '_' + str(x.resid), axis=1)\n",
    "#         result.to_csv('submission.csv', index=False, mode='a', header=(i==0))\n",
    "#         torch.cuda.empty_cache()\n",
    "\n",
    "#     display(pd.read_csv('submission.csv'))"
   ]
  },
  {
   "cell_type": "code",
   "execution_count": null,
   "id": "4f195115",
   "metadata": {
    "papermill": {
     "duration": 0.011096,
     "end_time": "2025-04-25T02:19:01.766090",
     "exception": false,
     "start_time": "2025-04-25T02:19:01.754994",
     "status": "completed"
    },
    "tags": []
   },
   "outputs": [],
   "source": []
  }
 ],
 "metadata": {
  "kaggle": {
   "accelerator": "gpu",
   "dataSources": [
    {
     "databundleVersionId": 11553390,
     "sourceId": 87793,
     "sourceType": "competition"
    },
    {
     "datasetId": 6742586,
     "sourceId": 10855324,
     "sourceType": "datasetVersion"
    },
    {
     "datasetId": 6933267,
     "sourceId": 11118830,
     "sourceType": "datasetVersion"
    },
    {
     "sourceId": 224830487,
     "sourceType": "kernelVersion"
    },
    {
     "sourceId": 233747992,
     "sourceType": "kernelVersion"
    }
   ],
   "dockerImageVersionId": 30919,
   "isGpuEnabled": true,
   "isInternetEnabled": true,
   "language": "python",
   "sourceType": "notebook"
  },
  "kernelspec": {
   "display_name": "Python 3",
   "language": "python",
   "name": "python3"
  },
  "language_info": {
   "codemirror_mode": {
    "name": "ipython",
    "version": 3
   },
   "file_extension": ".py",
   "mimetype": "text/x-python",
   "name": "python",
   "nbconvert_exporter": "python",
   "pygments_lexer": "ipython3",
   "version": "3.10.12"
  },
  "papermill": {
   "default_parameters": {},
   "duration": 3663.391428,
   "end_time": "2025-04-25T02:19:04.728603",
   "environment_variables": {},
   "exception": null,
   "input_path": "__notebook__.ipynb",
   "output_path": "__notebook__.ipynb",
   "parameters": {},
   "start_time": "2025-04-25T01:18:01.337175",
   "version": "2.6.0"
  }
 },
 "nbformat": 4,
 "nbformat_minor": 5
}
