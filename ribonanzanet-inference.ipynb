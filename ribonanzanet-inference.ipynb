{
 "cells": [
  {
   "cell_type": "markdown",
   "id": "8a7ae303",
   "metadata": {
    "_cell_guid": "b1076dfc-b9ad-4769-8c92-a6c4dae69d19",
    "_uuid": "8f2839f25d086af736a60e9eeb907d3b93b6e0e5",
    "papermill": {
     "duration": 0.004007,
     "end_time": "2025-03-23T06:18:54.807126",
     "exception": false,
     "start_time": "2025-03-23T06:18:54.803119",
     "status": "completed"
    },
    "tags": []
   },
   "source": [
    "## Step 1: Imports"
   ]
  },
  {
   "cell_type": "code",
   "execution_count": 1,
   "id": "c52fabe6",
   "metadata": {
    "execution": {
     "iopub.execute_input": "2025-03-23T06:18:54.814779Z",
     "iopub.status.busy": "2025-03-23T06:18:54.814534Z",
     "iopub.status.idle": "2025-03-23T06:18:58.501846Z",
     "shell.execute_reply": "2025-03-23T06:18:58.501208Z"
    },
    "papermill": {
     "duration": 3.692713,
     "end_time": "2025-03-23T06:18:58.503367",
     "exception": false,
     "start_time": "2025-03-23T06:18:54.810654",
     "status": "completed"
    },
    "tags": []
   },
   "outputs": [],
   "source": [
    "import pandas as pd\n",
    "import torch\n",
    "import matplotlib.pyplot as plt\n",
    "import numpy as np\n",
    "import torch\n",
    "import random\n",
    "import pickle\n",
    "from tqdm import tqdm"
   ]
  },
  {
   "cell_type": "markdown",
   "id": "093ba8ec",
   "metadata": {
    "execution": {
     "iopub.execute_input": "2025-03-23T05:46:43.960507Z",
     "iopub.status.busy": "2025-03-23T05:46:43.960229Z",
     "iopub.status.idle": "2025-03-23T05:46:43.964160Z",
     "shell.execute_reply": "2025-03-23T05:46:43.963334Z",
     "shell.execute_reply.started": "2025-03-23T05:46:43.960484Z"
    },
    "papermill": {
     "duration": 0.003113,
     "end_time": "2025-03-23T06:18:58.510179",
     "exception": false,
     "start_time": "2025-03-23T06:18:58.507066",
     "status": "completed"
    },
    "tags": []
   },
   "source": [
    "## Step 2: Define model configurations"
   ]
  },
  {
   "cell_type": "code",
   "execution_count": 2,
   "id": "9ebcfc1e",
   "metadata": {
    "execution": {
     "iopub.execute_input": "2025-03-23T06:18:58.517648Z",
     "iopub.status.busy": "2025-03-23T06:18:58.517317Z",
     "iopub.status.idle": "2025-03-23T06:18:58.521038Z",
     "shell.execute_reply": "2025-03-23T06:18:58.520446Z"
    },
    "papermill": {
     "duration": 0.008811,
     "end_time": "2025-03-23T06:18:58.522246",
     "exception": false,
     "start_time": "2025-03-23T06:18:58.513435",
     "status": "completed"
    },
    "tags": []
   },
   "outputs": [],
   "source": [
    "config = {\n",
    "    \"seed\"                        : 0,\n",
    "    \"cutoff_date\"                 : \"2020-01-01\",\n",
    "    \"test_cutoff_date\"            : \"2022-05-01\",\n",
    "    \"max_len\"                     : 384,\n",
    "    \"batch_size\"                  : 1,\n",
    "    \"learning_rate\"               : 1e-4,\n",
    "    \"weight_decay\"                : 0.0,\n",
    "    \"mixed_precision\"             : \"bf16\",\n",
    "    \"model_config_path\"           : \"../working/configs/pairwise.yaml\",  # Adjust path as needed\n",
    "    \"epochs\"                      : 10,\n",
    "    \"cos_epoch\"                   : 5,\n",
    "    \"loss_power_scale\"            : 1.0,\n",
    "    \"max_cycles\"                  : 1,\n",
    "    \"grad_clip\"                   : 0.1,\n",
    "    \"gradient_accumulation_steps\" : 1,\n",
    "    \"d_clamp\"                     : 30,\n",
    "    \"max_len_filter\"              : 9999999,\n",
    "    \"structural_violation_epoch\"  : 50,\n",
    "    \"balance_weight\"              : False,\n",
    "}"
   ]
  },
  {
   "cell_type": "markdown",
   "id": "c7e676e7",
   "metadata": {
    "papermill": {
     "duration": 0.003117,
     "end_time": "2025-03-23T06:18:58.528789",
     "exception": false,
     "start_time": "2025-03-23T06:18:58.525672",
     "status": "completed"
    },
    "tags": []
   },
   "source": [
    "## Step 3: Create test dataset"
   ]
  },
  {
   "cell_type": "code",
   "execution_count": 3,
   "id": "49df2632",
   "metadata": {
    "execution": {
     "iopub.execute_input": "2025-03-23T06:18:58.536030Z",
     "iopub.status.busy": "2025-03-23T06:18:58.535779Z",
     "iopub.status.idle": "2025-03-23T06:18:58.550055Z",
     "shell.execute_reply": "2025-03-23T06:18:58.549385Z"
    },
    "papermill": {
     "duration": 0.019193,
     "end_time": "2025-03-23T06:18:58.551258",
     "exception": false,
     "start_time": "2025-03-23T06:18:58.532065",
     "status": "completed"
    },
    "tags": []
   },
   "outputs": [
    {
     "data": {
      "text/plain": [
       "(12, 5)"
      ]
     },
     "execution_count": 3,
     "metadata": {},
     "output_type": "execute_result"
    }
   ],
   "source": [
    "test_data = pd.read_csv(\"/kaggle/input/stanford-rna-3d-folding/test_sequences.csv\")\n",
    "test_data.shape"
   ]
  },
  {
   "cell_type": "code",
   "execution_count": 4,
   "id": "637b6451",
   "metadata": {
    "execution": {
     "iopub.execute_input": "2025-03-23T06:18:58.559456Z",
     "iopub.status.busy": "2025-03-23T06:18:58.559237Z",
     "iopub.status.idle": "2025-03-23T06:18:58.564119Z",
     "shell.execute_reply": "2025-03-23T06:18:58.563439Z"
    },
    "papermill": {
     "duration": 0.010562,
     "end_time": "2025-03-23T06:18:58.565331",
     "exception": false,
     "start_time": "2025-03-23T06:18:58.554769",
     "status": "completed"
    },
    "tags": []
   },
   "outputs": [],
   "source": [
    "from torch.utils.data import Dataset, DataLoader\n",
    "\n",
    "class RNADataset(Dataset):\n",
    "    \n",
    "    def __init__(self,data):\n",
    "        self.data   = data\n",
    "        self.tokens = {nt:i for i,nt in enumerate('ACGU')}\n",
    "\n",
    "    def __len__(self):\n",
    "        return len(self.data)\n",
    "    \n",
    "    def __getitem__(self, idx):\n",
    "        sequence = [self.tokens[nt] for nt in (self.data.loc[idx,'sequence'])]\n",
    "        sequence = np.array(sequence)\n",
    "        sequence = torch.tensor(sequence)\n",
    "        return {'sequence':sequence}"
   ]
  },
  {
   "cell_type": "code",
   "execution_count": 5,
   "id": "42d252e8",
   "metadata": {
    "execution": {
     "iopub.execute_input": "2025-03-23T06:18:58.573545Z",
     "iopub.status.busy": "2025-03-23T06:18:58.573326Z",
     "iopub.status.idle": "2025-03-23T06:18:58.625136Z",
     "shell.execute_reply": "2025-03-23T06:18:58.624496Z"
    },
    "papermill": {
     "duration": 0.057286,
     "end_time": "2025-03-23T06:18:58.626382",
     "exception": false,
     "start_time": "2025-03-23T06:18:58.569096",
     "status": "completed"
    },
    "tags": []
   },
   "outputs": [
    {
     "data": {
      "text/plain": [
       "{'sequence': tensor([2, 2, 2, 2, 2, 1, 1, 0, 1, 0, 2, 1, 0, 2, 0, 0, 2, 1, 2, 3, 3, 1, 0, 1,\n",
       "         2, 3, 1, 2, 1, 0, 2, 1, 1, 1, 1, 3, 2, 3, 1, 0, 2, 1, 1, 0, 3, 3, 2, 1,\n",
       "         0, 1, 3, 1, 1, 2, 2, 1, 3, 2, 1, 2, 0, 0, 3, 3, 1, 3, 2, 1, 3])}"
      ]
     },
     "execution_count": 5,
     "metadata": {},
     "output_type": "execute_result"
    }
   ],
   "source": [
    "test_dataset = RNADataset(test_data)\n",
    "test_dataset[0]"
   ]
  },
  {
   "cell_type": "markdown",
   "id": "a8ac3166",
   "metadata": {
    "papermill": {
     "duration": 0.003292,
     "end_time": "2025-03-23T06:18:58.633167",
     "exception": false,
     "start_time": "2025-03-23T06:18:58.629875",
     "status": "completed"
    },
    "tags": []
   },
   "source": [
    "## Step 4: Model Class"
   ]
  },
  {
   "cell_type": "code",
   "execution_count": 6,
   "id": "453c3966",
   "metadata": {
    "execution": {
     "iopub.execute_input": "2025-03-23T06:18:58.640706Z",
     "iopub.status.busy": "2025-03-23T06:18:58.640504Z",
     "iopub.status.idle": "2025-03-23T06:19:02.048844Z",
     "shell.execute_reply": "2025-03-23T06:19:02.048181Z"
    },
    "papermill": {
     "duration": 3.413696,
     "end_time": "2025-03-23T06:19:02.050329",
     "exception": false,
     "start_time": "2025-03-23T06:18:58.636633",
     "status": "completed"
    },
    "tags": []
   },
   "outputs": [],
   "source": [
    "import sys\n",
    "import yaml\n",
    "sys.path.append(\"/kaggle/input/ribonanzanet2d-final\")\n",
    "from Network import *\n",
    "\n",
    "class Config:\n",
    "    def __init__(self, **entries):\n",
    "        self.__dict__.update(entries)\n",
    "        self.entries = entries\n",
    "\n",
    "    def print(self):\n",
    "        print(self.entries)\n",
    "\n",
    "def load_config_from_yaml(file_path):\n",
    "    with open(file_path, 'r') as file:\n",
    "        config = yaml.safe_load(file)\n",
    "    return Config(**config)\n",
    "\n",
    "class finetuned_RibonanzaNet(RibonanzaNet):\n",
    "    def __init__(self, config, pretrained=False):\n",
    "        super(finetuned_RibonanzaNet, self).__init__(config)\n",
    "        config.dropout     = 0.2\n",
    "        self.dropout       = nn.Dropout(0.0)\n",
    "        self.xyz_predictor = nn.Linear(256,3)\n",
    "        \n",
    "        if pretrained:\n",
    "            self.load_state_dict(torch.load(\"/kaggle/input/ribonanzanet-weights/RibonanzaNet.pt\",map_location='cpu'))\n",
    "\n",
    "    def forward(self,src):\n",
    "        sequence_features, pairwise_features = self.get_embeddings(src, torch.ones_like(src).long().to(src.device))\n",
    "        xyz                                  = self.xyz_predictor(sequence_features)\n",
    "        return xyz"
   ]
  },
  {
   "cell_type": "markdown",
   "id": "efe96ad5",
   "metadata": {
    "papermill": {
     "duration": 0.003511,
     "end_time": "2025-03-23T06:19:02.057707",
     "exception": false,
     "start_time": "2025-03-23T06:19:02.054196",
     "status": "completed"
    },
    "tags": []
   },
   "source": [
    "## Step 5: Load model for inference"
   ]
  },
  {
   "cell_type": "code",
   "execution_count": 7,
   "id": "d1b795b4",
   "metadata": {
    "execution": {
     "iopub.execute_input": "2025-03-23T06:19:02.065386Z",
     "iopub.status.busy": "2025-03-23T06:19:02.065044Z",
     "iopub.status.idle": "2025-03-23T06:19:03.064209Z",
     "shell.execute_reply": "2025-03-23T06:19:03.063425Z"
    },
    "papermill": {
     "duration": 1.004472,
     "end_time": "2025-03-23T06:19:03.065593",
     "exception": false,
     "start_time": "2025-03-23T06:19:02.061121",
     "status": "completed"
    },
    "tags": []
   },
   "outputs": [
    {
     "name": "stdout",
     "output_type": "stream",
     "text": [
      "constructing 9 ConvTransformerEncoderLayers\n"
     ]
    },
    {
     "name": "stderr",
     "output_type": "stream",
     "text": [
      "<ipython-input-7-2f611510b154>:2: FutureWarning: You are using `torch.load` with `weights_only=False` (the current default value), which uses the default pickle module implicitly. It is possible to construct malicious pickle data which will execute arbitrary code during unpickling (See https://github.com/pytorch/pytorch/blob/main/SECURITY.md#untrusted-models for more details). In a future release, the default value for `weights_only` will be flipped to `True`. This limits the functions that could be executed during unpickling. Arbitrary objects will no longer be allowed to be loaded via this mode unless they are explicitly allowlisted by the user via `torch.serialization.add_safe_globals`. We recommend you start setting `weights_only=True` for any use case where you don't have full control of the loaded file. Please open an issue on GitHub for any issues related to this experimental feature.\n",
      "  model.load_state_dict(torch.load(\"/kaggle/input/ribonanzanet-3d-finetune/RibonanzaNet-3D.pt\"))\n"
     ]
    },
    {
     "data": {
      "text/plain": [
       "<All keys matched successfully>"
      ]
     },
     "execution_count": 7,
     "metadata": {},
     "output_type": "execute_result"
    }
   ],
   "source": [
    "model = finetuned_RibonanzaNet(load_config_from_yaml(\"/kaggle/input/ribonanzanet2d-final/configs/pairwise.yaml\"),pretrained=False).cuda()\n",
    "model.load_state_dict(torch.load(\"/kaggle/input/ribonanzanet-3d-finetune/RibonanzaNet-3D.pt\"))"
   ]
  },
  {
   "cell_type": "code",
   "execution_count": 8,
   "id": "be331bfc",
   "metadata": {
    "execution": {
     "iopub.execute_input": "2025-03-23T06:19:03.074348Z",
     "iopub.status.busy": "2025-03-23T06:19:03.074094Z",
     "iopub.status.idle": "2025-03-23T06:19:03.080982Z",
     "shell.execute_reply": "2025-03-23T06:19:03.080177Z"
    },
    "papermill": {
     "duration": 0.012724,
     "end_time": "2025-03-23T06:19:03.082324",
     "exception": false,
     "start_time": "2025-03-23T06:19:03.069600",
     "status": "completed"
    },
    "tags": []
   },
   "outputs": [
    {
     "data": {
      "text/plain": [
       "finetuned_RibonanzaNet(\n",
       "  (transformer_encoder): ModuleList(\n",
       "    (0-7): 8 x ConvTransformerEncoderLayer(\n",
       "      (self_attn): MultiHeadAttention(\n",
       "        (w_qs): Linear(in_features=256, out_features=256, bias=False)\n",
       "        (w_ks): Linear(in_features=256, out_features=256, bias=False)\n",
       "        (w_vs): Linear(in_features=256, out_features=256, bias=False)\n",
       "        (fc): Linear(in_features=256, out_features=256, bias=False)\n",
       "        (attention): ScaledDotProductAttention(\n",
       "          (dropout): Dropout(p=0.1, inplace=False)\n",
       "        )\n",
       "        (dropout): Dropout(p=0.05, inplace=False)\n",
       "        (layer_norm): LayerNorm((256,), eps=1e-06, elementwise_affine=True)\n",
       "      )\n",
       "      (linear1): Linear(in_features=256, out_features=1024, bias=True)\n",
       "      (dropout): Dropout(p=0.05, inplace=False)\n",
       "      (linear2): Linear(in_features=1024, out_features=256, bias=True)\n",
       "      (norm1): LayerNorm((256,), eps=1e-05, elementwise_affine=True)\n",
       "      (norm2): LayerNorm((256,), eps=1e-05, elementwise_affine=True)\n",
       "      (norm3): LayerNorm((256,), eps=1e-05, elementwise_affine=True)\n",
       "      (dropout1): Dropout(p=0.05, inplace=False)\n",
       "      (dropout2): Dropout(p=0.05, inplace=False)\n",
       "      (dropout3): Dropout(p=0.05, inplace=False)\n",
       "      (pairwise2heads): Linear(in_features=64, out_features=8, bias=False)\n",
       "      (pairwise_norm): LayerNorm((64,), eps=1e-05, elementwise_affine=True)\n",
       "      (activation): GELU(approximate='none')\n",
       "      (conv): Conv1d(256, 256, kernel_size=(5,), stride=(1,), padding=(2,))\n",
       "      (triangle_update_out): TriangleMultiplicativeModule(\n",
       "        (norm): LayerNorm((64,), eps=1e-05, elementwise_affine=True)\n",
       "        (left_proj): Linear(in_features=64, out_features=64, bias=True)\n",
       "        (right_proj): Linear(in_features=64, out_features=64, bias=True)\n",
       "        (left_gate): Linear(in_features=64, out_features=64, bias=True)\n",
       "        (right_gate): Linear(in_features=64, out_features=64, bias=True)\n",
       "        (out_gate): Linear(in_features=64, out_features=64, bias=True)\n",
       "        (to_out_norm): LayerNorm((64,), eps=1e-05, elementwise_affine=True)\n",
       "        (to_out): Linear(in_features=64, out_features=64, bias=True)\n",
       "      )\n",
       "      (triangle_update_in): TriangleMultiplicativeModule(\n",
       "        (norm): LayerNorm((64,), eps=1e-05, elementwise_affine=True)\n",
       "        (left_proj): Linear(in_features=64, out_features=64, bias=True)\n",
       "        (right_proj): Linear(in_features=64, out_features=64, bias=True)\n",
       "        (left_gate): Linear(in_features=64, out_features=64, bias=True)\n",
       "        (right_gate): Linear(in_features=64, out_features=64, bias=True)\n",
       "        (out_gate): Linear(in_features=64, out_features=64, bias=True)\n",
       "        (to_out_norm): LayerNorm((64,), eps=1e-05, elementwise_affine=True)\n",
       "        (to_out): Linear(in_features=64, out_features=64, bias=True)\n",
       "      )\n",
       "      (pair_dropout_out): DropoutRowwise(\n",
       "        (dropout): Dropout(p=0.05, inplace=False)\n",
       "      )\n",
       "      (pair_dropout_in): DropoutRowwise(\n",
       "        (dropout): Dropout(p=0.05, inplace=False)\n",
       "      )\n",
       "      (outer_product_mean): Outer_Product_Mean(\n",
       "        (proj_down1): Linear(in_features=256, out_features=32, bias=True)\n",
       "        (proj_down2): Linear(in_features=1024, out_features=64, bias=True)\n",
       "      )\n",
       "      (pair_transition): Sequential(\n",
       "        (0): LayerNorm((64,), eps=1e-05, elementwise_affine=True)\n",
       "        (1): Linear(in_features=64, out_features=256, bias=True)\n",
       "        (2): ReLU(inplace=True)\n",
       "        (3): Linear(in_features=256, out_features=64, bias=True)\n",
       "      )\n",
       "    )\n",
       "    (8): ConvTransformerEncoderLayer(\n",
       "      (self_attn): MultiHeadAttention(\n",
       "        (w_qs): Linear(in_features=256, out_features=256, bias=False)\n",
       "        (w_ks): Linear(in_features=256, out_features=256, bias=False)\n",
       "        (w_vs): Linear(in_features=256, out_features=256, bias=False)\n",
       "        (fc): Linear(in_features=256, out_features=256, bias=False)\n",
       "        (attention): ScaledDotProductAttention(\n",
       "          (dropout): Dropout(p=0.1, inplace=False)\n",
       "        )\n",
       "        (dropout): Dropout(p=0.05, inplace=False)\n",
       "        (layer_norm): LayerNorm((256,), eps=1e-06, elementwise_affine=True)\n",
       "      )\n",
       "      (linear1): Linear(in_features=256, out_features=1024, bias=True)\n",
       "      (dropout): Dropout(p=0.05, inplace=False)\n",
       "      (linear2): Linear(in_features=1024, out_features=256, bias=True)\n",
       "      (norm1): LayerNorm((256,), eps=1e-05, elementwise_affine=True)\n",
       "      (norm2): LayerNorm((256,), eps=1e-05, elementwise_affine=True)\n",
       "      (norm3): LayerNorm((256,), eps=1e-05, elementwise_affine=True)\n",
       "      (dropout1): Dropout(p=0.05, inplace=False)\n",
       "      (dropout2): Dropout(p=0.05, inplace=False)\n",
       "      (dropout3): Dropout(p=0.05, inplace=False)\n",
       "      (pairwise2heads): Linear(in_features=64, out_features=8, bias=False)\n",
       "      (pairwise_norm): LayerNorm((64,), eps=1e-05, elementwise_affine=True)\n",
       "      (activation): GELU(approximate='none')\n",
       "      (conv): Conv1d(256, 256, kernel_size=(1,), stride=(1,))\n",
       "      (triangle_update_out): TriangleMultiplicativeModule(\n",
       "        (norm): LayerNorm((64,), eps=1e-05, elementwise_affine=True)\n",
       "        (left_proj): Linear(in_features=64, out_features=64, bias=True)\n",
       "        (right_proj): Linear(in_features=64, out_features=64, bias=True)\n",
       "        (left_gate): Linear(in_features=64, out_features=64, bias=True)\n",
       "        (right_gate): Linear(in_features=64, out_features=64, bias=True)\n",
       "        (out_gate): Linear(in_features=64, out_features=64, bias=True)\n",
       "        (to_out_norm): LayerNorm((64,), eps=1e-05, elementwise_affine=True)\n",
       "        (to_out): Linear(in_features=64, out_features=64, bias=True)\n",
       "      )\n",
       "      (triangle_update_in): TriangleMultiplicativeModule(\n",
       "        (norm): LayerNorm((64,), eps=1e-05, elementwise_affine=True)\n",
       "        (left_proj): Linear(in_features=64, out_features=64, bias=True)\n",
       "        (right_proj): Linear(in_features=64, out_features=64, bias=True)\n",
       "        (left_gate): Linear(in_features=64, out_features=64, bias=True)\n",
       "        (right_gate): Linear(in_features=64, out_features=64, bias=True)\n",
       "        (out_gate): Linear(in_features=64, out_features=64, bias=True)\n",
       "        (to_out_norm): LayerNorm((64,), eps=1e-05, elementwise_affine=True)\n",
       "        (to_out): Linear(in_features=64, out_features=64, bias=True)\n",
       "      )\n",
       "      (pair_dropout_out): DropoutRowwise(\n",
       "        (dropout): Dropout(p=0.05, inplace=False)\n",
       "      )\n",
       "      (pair_dropout_in): DropoutRowwise(\n",
       "        (dropout): Dropout(p=0.05, inplace=False)\n",
       "      )\n",
       "      (outer_product_mean): Outer_Product_Mean(\n",
       "        (proj_down1): Linear(in_features=256, out_features=32, bias=True)\n",
       "        (proj_down2): Linear(in_features=1024, out_features=64, bias=True)\n",
       "      )\n",
       "      (pair_transition): Sequential(\n",
       "        (0): LayerNorm((64,), eps=1e-05, elementwise_affine=True)\n",
       "        (1): Linear(in_features=64, out_features=256, bias=True)\n",
       "        (2): ReLU(inplace=True)\n",
       "        (3): Linear(in_features=256, out_features=64, bias=True)\n",
       "      )\n",
       "    )\n",
       "  )\n",
       "  (encoder): Embedding(5, 256, padding_idx=4)\n",
       "  (decoder): Linear(in_features=256, out_features=2, bias=True)\n",
       "  (outer_product_mean): Outer_Product_Mean(\n",
       "    (proj_down1): Linear(in_features=256, out_features=32, bias=True)\n",
       "    (proj_down2): Linear(in_features=1024, out_features=64, bias=True)\n",
       "  )\n",
       "  (pos_encoder): relpos(\n",
       "    (linear): Linear(in_features=17, out_features=64, bias=True)\n",
       "  )\n",
       "  (dropout): Dropout(p=0.0, inplace=False)\n",
       "  (xyz_predictor): Linear(in_features=256, out_features=3, bias=True)\n",
       ")"
      ]
     },
     "execution_count": 8,
     "metadata": {},
     "output_type": "execute_result"
    }
   ],
   "source": [
    "model"
   ]
  },
  {
   "cell_type": "markdown",
   "id": "28f6d9f3",
   "metadata": {
    "papermill": {
     "duration": 0.00367,
     "end_time": "2025-03-23T06:19:03.089972",
     "exception": false,
     "start_time": "2025-03-23T06:19:03.086302",
     "status": "completed"
    },
    "tags": []
   },
   "source": [
    "## Step 5: Inference on test dataset"
   ]
  },
  {
   "cell_type": "code",
   "execution_count": 9,
   "id": "3939c556",
   "metadata": {
    "execution": {
     "iopub.execute_input": "2025-03-23T06:19:03.098723Z",
     "iopub.status.busy": "2025-03-23T06:19:03.098515Z",
     "iopub.status.idle": "2025-03-23T06:19:15.927169Z",
     "shell.execute_reply": "2025-03-23T06:19:15.926131Z"
    },
    "papermill": {
     "duration": 12.834653,
     "end_time": "2025-03-23T06:19:15.928506",
     "exception": false,
     "start_time": "2025-03-23T06:19:03.093853",
     "status": "completed"
    },
    "tags": []
   },
   "outputs": [
    {
     "name": "stderr",
     "output_type": "stream",
     "text": [
      "  0%|          | 0/12 [00:00<?, ?it/s]/usr/local/lib/python3.10/dist-packages/torch/_dynamo/eval_frame.py:632: UserWarning: torch.utils.checkpoint: the use_reentrant parameter should be passed explicitly. In version 2.5 we will raise an exception if use_reentrant is not passed. use_reentrant=False is recommended, but if you need to preserve the current default behavior, you can pass use_reentrant=True. Refer to docs for more details on the differences between the two variants.\n",
      "  return fn(*args, **kwargs)\n",
      "/usr/local/lib/python3.10/dist-packages/torch/utils/checkpoint.py:87: UserWarning: None of the inputs have requires_grad=True. Gradients will be None\n",
      "  warnings.warn(\n",
      "100%|██████████| 12/12 [00:12<00:00,  1.07s/it]\n"
     ]
    }
   ],
   "source": [
    "model.eval()\n",
    "preds=[]\n",
    "for i in tqdm(range(len(test_dataset))):\n",
    "    src = test_dataset[i]['sequence'].long()\n",
    "    src = src.unsqueeze(0).cuda()\n",
    "\n",
    "    model.train()\n",
    "\n",
    "    tmp=[]\n",
    "    for i in range(4):\n",
    "        with torch.no_grad():\n",
    "            xyz= model(src).squeeze()\n",
    "        tmp.append(xyz.cpu().numpy())\n",
    "\n",
    "    model.eval()\n",
    "    with torch.no_grad():\n",
    "        xyz =model(src).squeeze()\n",
    "    tmp.append(xyz.cpu().numpy())\n",
    "\n",
    "    tmp=np.stack(tmp,0)\n",
    "    #exit()\n",
    "    preds.append(tmp)"
   ]
  },
  {
   "cell_type": "markdown",
   "id": "a4af8c66",
   "metadata": {
    "papermill": {
     "duration": 0.004662,
     "end_time": "2025-03-23T06:19:15.938327",
     "exception": false,
     "start_time": "2025-03-23T06:19:15.933665",
     "status": "completed"
    },
    "tags": []
   },
   "source": [
    "## Step 6: Plot the graph"
   ]
  },
  {
   "cell_type": "code",
   "execution_count": 10,
   "id": "8f946a83",
   "metadata": {
    "execution": {
     "iopub.execute_input": "2025-03-23T06:19:15.948415Z",
     "iopub.status.busy": "2025-03-23T06:19:15.948178Z",
     "iopub.status.idle": "2025-03-23T06:19:16.441417Z",
     "shell.execute_reply": "2025-03-23T06:19:16.440507Z"
    },
    "papermill": {
     "duration": 0.499874,
     "end_time": "2025-03-23T06:19:16.442788",
     "exception": false,
     "start_time": "2025-03-23T06:19:15.942914",
     "status": "completed"
    },
    "tags": []
   },
   "outputs": [
    {
     "data": {
      "text/html": [
       "<iframe\n",
       "    scrolling=\"no\"\n",
       "    width=\"100%\"\n",
       "    height=\"545px\"\n",
       "    src=\"iframe_figures/figure_10.html\"\n",
       "    frameborder=\"0\"\n",
       "    allowfullscreen\n",
       "></iframe>\n"
      ]
     },
     "metadata": {},
     "output_type": "display_data"
    }
   ],
   "source": [
    "import plotly.graph_objects as go\n",
    "import numpy as np\n",
    "\n",
    "# Example: Generate an Nx3 matrix\n",
    "\n",
    "xyz = preds[7][0]  # Replace this with your actual Nx3 data\n",
    "N = len(xyz)\n",
    "\n",
    "# Extract columns\n",
    "x, y, z = xyz[:, 0], xyz[:, 1], xyz[:, 2]\n",
    "\n",
    "# Create the 3D scatter plot\n",
    "fig = go.Figure(data=[go.Scatter3d(\n",
    "    x=x, y=y, z=z,\n",
    "    mode='markers',\n",
    "    marker=dict(\n",
    "        size=5,\n",
    "        color=z,  # Coloring based on z-value\n",
    "        colorscale='Viridis',  # Choose a colorscale\n",
    "        opacity=0.8\n",
    "    )\n",
    ")])\n",
    "\n",
    "# Customize layout\n",
    "fig.update_layout(\n",
    "    scene=dict(\n",
    "        xaxis_title=\"X\",\n",
    "        yaxis_title=\"Y\",\n",
    "        zaxis_title=\"Z\"\n",
    "    ),\n",
    "    title=\"3D Scatter Plot\"\n",
    ")\n",
    "\n",
    "# Show figure\n",
    "fig.show(renderer='iframe')"
   ]
  },
  {
   "cell_type": "markdown",
   "id": "0b8d7747",
   "metadata": {
    "papermill": {
     "duration": 0.004684,
     "end_time": "2025-03-23T06:19:16.452747",
     "exception": false,
     "start_time": "2025-03-23T06:19:16.448063",
     "status": "completed"
    },
    "tags": []
   },
   "source": [
    "## Step 7: Create submission file"
   ]
  },
  {
   "cell_type": "code",
   "execution_count": 11,
   "id": "5aa9f546",
   "metadata": {
    "execution": {
     "iopub.execute_input": "2025-03-23T06:19:16.462843Z",
     "iopub.status.busy": "2025-03-23T06:19:16.462611Z",
     "iopub.status.idle": "2025-03-23T06:19:16.580925Z",
     "shell.execute_reply": "2025-03-23T06:19:16.580126Z"
    },
    "papermill": {
     "duration": 0.124999,
     "end_time": "2025-03-23T06:19:16.582432",
     "exception": false,
     "start_time": "2025-03-23T06:19:16.457433",
     "status": "completed"
    },
    "tags": []
   },
   "outputs": [],
   "source": [
    "ID=[]\n",
    "resname=[]\n",
    "resid=[]\n",
    "x=[]\n",
    "y=[]\n",
    "z=[]\n",
    "\n",
    "data=[]\n",
    "\n",
    "for i in range(len(test_data)):\n",
    "    #print(test_data.loc[i])\n",
    "\n",
    "    \n",
    "    for j in range(len(test_data.loc[i,'sequence'])):\n",
    "        # ID.append(test_data.loc[i,'sequence_id']+f\"_{j+1}\")\n",
    "        # resname.append(test_data.loc[i,'sequence'][j])\n",
    "        # resid.append(j+1) # 1 indexed\n",
    "        row=[test_data.loc[i,'target_id']+f\"_{j+1}\",\n",
    "             test_data.loc[i,'sequence'][j],\n",
    "             j+1]\n",
    "\n",
    "        for k in range(5):\n",
    "            for kk in range(3):\n",
    "                row.append(preds[i][k][j][kk])\n",
    "        data.append(row)\n",
    "\n",
    "columns=['ID','resname','resid']\n",
    "for i in range(1,6):\n",
    "    columns+=[f\"x_{i}\"]\n",
    "    columns+=[f\"y_{i}\"]\n",
    "    columns+=[f\"z_{i}\"]\n",
    "\n",
    "\n",
    "submission=pd.DataFrame(data,columns=columns)\n",
    "\n",
    "\n",
    "submission\n",
    "submission.to_csv('submission.csv',index=False)"
   ]
  },
  {
   "cell_type": "code",
   "execution_count": 12,
   "id": "a9ab29fd",
   "metadata": {
    "execution": {
     "iopub.execute_input": "2025-03-23T06:19:16.592713Z",
     "iopub.status.busy": "2025-03-23T06:19:16.592492Z",
     "iopub.status.idle": "2025-03-23T06:19:16.621149Z",
     "shell.execute_reply": "2025-03-23T06:19:16.620419Z"
    },
    "papermill": {
     "duration": 0.035144,
     "end_time": "2025-03-23T06:19:16.622338",
     "exception": false,
     "start_time": "2025-03-23T06:19:16.587194",
     "status": "completed"
    },
    "tags": []
   },
   "outputs": [
    {
     "data": {
      "text/html": [
       "<div>\n",
       "<style scoped>\n",
       "    .dataframe tbody tr th:only-of-type {\n",
       "        vertical-align: middle;\n",
       "    }\n",
       "\n",
       "    .dataframe tbody tr th {\n",
       "        vertical-align: top;\n",
       "    }\n",
       "\n",
       "    .dataframe thead th {\n",
       "        text-align: right;\n",
       "    }\n",
       "</style>\n",
       "<table border=\"1\" class=\"dataframe\">\n",
       "  <thead>\n",
       "    <tr style=\"text-align: right;\">\n",
       "      <th></th>\n",
       "      <th>ID</th>\n",
       "      <th>resname</th>\n",
       "      <th>resid</th>\n",
       "      <th>x_1</th>\n",
       "      <th>y_1</th>\n",
       "      <th>z_1</th>\n",
       "      <th>x_2</th>\n",
       "      <th>y_2</th>\n",
       "      <th>z_2</th>\n",
       "      <th>x_3</th>\n",
       "      <th>y_3</th>\n",
       "      <th>z_3</th>\n",
       "      <th>x_4</th>\n",
       "      <th>y_4</th>\n",
       "      <th>z_4</th>\n",
       "      <th>x_5</th>\n",
       "      <th>y_5</th>\n",
       "      <th>z_5</th>\n",
       "    </tr>\n",
       "  </thead>\n",
       "  <tbody>\n",
       "    <tr>\n",
       "      <th>0</th>\n",
       "      <td>R1107_1</td>\n",
       "      <td>G</td>\n",
       "      <td>1</td>\n",
       "      <td>27.382818</td>\n",
       "      <td>-5.014665</td>\n",
       "      <td>-7.504237</td>\n",
       "      <td>25.829113</td>\n",
       "      <td>-8.191240</td>\n",
       "      <td>-0.886308</td>\n",
       "      <td>24.197435</td>\n",
       "      <td>-8.640811</td>\n",
       "      <td>3.325861</td>\n",
       "      <td>19.201536</td>\n",
       "      <td>-18.832836</td>\n",
       "      <td>-10.449270</td>\n",
       "      <td>26.907227</td>\n",
       "      <td>-9.046555</td>\n",
       "      <td>-2.278727</td>\n",
       "    </tr>\n",
       "    <tr>\n",
       "      <th>1</th>\n",
       "      <td>R1107_2</td>\n",
       "      <td>G</td>\n",
       "      <td>2</td>\n",
       "      <td>28.504259</td>\n",
       "      <td>-2.098067</td>\n",
       "      <td>1.953158</td>\n",
       "      <td>28.461988</td>\n",
       "      <td>-3.984068</td>\n",
       "      <td>4.423258</td>\n",
       "      <td>25.236124</td>\n",
       "      <td>-7.479849</td>\n",
       "      <td>3.677811</td>\n",
       "      <td>26.290943</td>\n",
       "      <td>-4.945357</td>\n",
       "      <td>0.466802</td>\n",
       "      <td>28.874458</td>\n",
       "      <td>-4.260791</td>\n",
       "      <td>4.040070</td>\n",
       "    </tr>\n",
       "    <tr>\n",
       "      <th>2</th>\n",
       "      <td>R1107_3</td>\n",
       "      <td>G</td>\n",
       "      <td>3</td>\n",
       "      <td>27.315416</td>\n",
       "      <td>-4.197384</td>\n",
       "      <td>5.914920</td>\n",
       "      <td>29.492739</td>\n",
       "      <td>-2.537778</td>\n",
       "      <td>3.618463</td>\n",
       "      <td>27.098528</td>\n",
       "      <td>-1.815700</td>\n",
       "      <td>6.419380</td>\n",
       "      <td>24.046560</td>\n",
       "      <td>-6.597889</td>\n",
       "      <td>5.548576</td>\n",
       "      <td>30.631533</td>\n",
       "      <td>-1.310431</td>\n",
       "      <td>4.699128</td>\n",
       "    </tr>\n",
       "    <tr>\n",
       "      <th>3</th>\n",
       "      <td>R1107_4</td>\n",
       "      <td>G</td>\n",
       "      <td>4</td>\n",
       "      <td>26.636129</td>\n",
       "      <td>-2.189180</td>\n",
       "      <td>5.222723</td>\n",
       "      <td>28.784063</td>\n",
       "      <td>0.898845</td>\n",
       "      <td>7.224222</td>\n",
       "      <td>22.800381</td>\n",
       "      <td>-3.927438</td>\n",
       "      <td>8.077315</td>\n",
       "      <td>26.338175</td>\n",
       "      <td>-2.648475</td>\n",
       "      <td>8.038135</td>\n",
       "      <td>31.214788</td>\n",
       "      <td>1.479454</td>\n",
       "      <td>6.515719</td>\n",
       "    </tr>\n",
       "    <tr>\n",
       "      <th>4</th>\n",
       "      <td>R1107_5</td>\n",
       "      <td>G</td>\n",
       "      <td>5</td>\n",
       "      <td>28.003691</td>\n",
       "      <td>2.172521</td>\n",
       "      <td>7.201588</td>\n",
       "      <td>27.461763</td>\n",
       "      <td>1.576155</td>\n",
       "      <td>6.573967</td>\n",
       "      <td>27.156673</td>\n",
       "      <td>-0.474489</td>\n",
       "      <td>2.611463</td>\n",
       "      <td>26.051687</td>\n",
       "      <td>0.396920</td>\n",
       "      <td>7.117808</td>\n",
       "      <td>29.375944</td>\n",
       "      <td>1.194736</td>\n",
       "      <td>5.723046</td>\n",
       "    </tr>\n",
       "    <tr>\n",
       "      <th>...</th>\n",
       "      <td>...</td>\n",
       "      <td>...</td>\n",
       "      <td>...</td>\n",
       "      <td>...</td>\n",
       "      <td>...</td>\n",
       "      <td>...</td>\n",
       "      <td>...</td>\n",
       "      <td>...</td>\n",
       "      <td>...</td>\n",
       "      <td>...</td>\n",
       "      <td>...</td>\n",
       "      <td>...</td>\n",
       "      <td>...</td>\n",
       "      <td>...</td>\n",
       "      <td>...</td>\n",
       "      <td>...</td>\n",
       "      <td>...</td>\n",
       "      <td>...</td>\n",
       "    </tr>\n",
       "    <tr>\n",
       "      <th>2510</th>\n",
       "      <td>R1190_114</td>\n",
       "      <td>U</td>\n",
       "      <td>114</td>\n",
       "      <td>19.666309</td>\n",
       "      <td>19.339981</td>\n",
       "      <td>27.091534</td>\n",
       "      <td>20.518946</td>\n",
       "      <td>18.253843</td>\n",
       "      <td>20.493660</td>\n",
       "      <td>15.961507</td>\n",
       "      <td>18.415779</td>\n",
       "      <td>30.640438</td>\n",
       "      <td>15.169608</td>\n",
       "      <td>18.806190</td>\n",
       "      <td>28.567331</td>\n",
       "      <td>18.383455</td>\n",
       "      <td>18.752460</td>\n",
       "      <td>31.582420</td>\n",
       "    </tr>\n",
       "    <tr>\n",
       "      <th>2511</th>\n",
       "      <td>R1190_115</td>\n",
       "      <td>U</td>\n",
       "      <td>115</td>\n",
       "      <td>16.043509</td>\n",
       "      <td>17.524162</td>\n",
       "      <td>29.082409</td>\n",
       "      <td>19.118191</td>\n",
       "      <td>15.794313</td>\n",
       "      <td>20.547287</td>\n",
       "      <td>14.515809</td>\n",
       "      <td>15.247387</td>\n",
       "      <td>31.592960</td>\n",
       "      <td>12.870030</td>\n",
       "      <td>18.579288</td>\n",
       "      <td>30.435932</td>\n",
       "      <td>16.322798</td>\n",
       "      <td>17.701756</td>\n",
       "      <td>32.300236</td>\n",
       "    </tr>\n",
       "    <tr>\n",
       "      <th>2512</th>\n",
       "      <td>R1190_116</td>\n",
       "      <td>U</td>\n",
       "      <td>116</td>\n",
       "      <td>15.216601</td>\n",
       "      <td>11.754694</td>\n",
       "      <td>30.492218</td>\n",
       "      <td>19.759642</td>\n",
       "      <td>11.880177</td>\n",
       "      <td>25.161959</td>\n",
       "      <td>13.912585</td>\n",
       "      <td>17.703234</td>\n",
       "      <td>33.970047</td>\n",
       "      <td>13.157947</td>\n",
       "      <td>19.311186</td>\n",
       "      <td>32.844975</td>\n",
       "      <td>15.308034</td>\n",
       "      <td>15.650916</td>\n",
       "      <td>34.541931</td>\n",
       "    </tr>\n",
       "    <tr>\n",
       "      <th>2513</th>\n",
       "      <td>R1190_117</td>\n",
       "      <td>U</td>\n",
       "      <td>117</td>\n",
       "      <td>12.137197</td>\n",
       "      <td>14.134659</td>\n",
       "      <td>32.694096</td>\n",
       "      <td>13.904111</td>\n",
       "      <td>13.003989</td>\n",
       "      <td>28.565392</td>\n",
       "      <td>9.205911</td>\n",
       "      <td>13.535951</td>\n",
       "      <td>33.497486</td>\n",
       "      <td>12.722174</td>\n",
       "      <td>19.108322</td>\n",
       "      <td>30.237867</td>\n",
       "      <td>12.111407</td>\n",
       "      <td>16.164152</td>\n",
       "      <td>34.995243</td>\n",
       "    </tr>\n",
       "    <tr>\n",
       "      <th>2514</th>\n",
       "      <td>R1190_118</td>\n",
       "      <td>U</td>\n",
       "      <td>118</td>\n",
       "      <td>5.684176</td>\n",
       "      <td>16.639042</td>\n",
       "      <td>35.856510</td>\n",
       "      <td>15.622725</td>\n",
       "      <td>14.822272</td>\n",
       "      <td>31.649311</td>\n",
       "      <td>1.187848</td>\n",
       "      <td>23.883326</td>\n",
       "      <td>37.105518</td>\n",
       "      <td>8.804180</td>\n",
       "      <td>30.330366</td>\n",
       "      <td>36.680809</td>\n",
       "      <td>4.569517</td>\n",
       "      <td>22.499050</td>\n",
       "      <td>38.686256</td>\n",
       "    </tr>\n",
       "  </tbody>\n",
       "</table>\n",
       "<p>2515 rows × 18 columns</p>\n",
       "</div>"
      ],
      "text/plain": [
       "             ID resname  resid        x_1        y_1        z_1        x_2  \\\n",
       "0       R1107_1       G      1  27.382818  -5.014665  -7.504237  25.829113   \n",
       "1       R1107_2       G      2  28.504259  -2.098067   1.953158  28.461988   \n",
       "2       R1107_3       G      3  27.315416  -4.197384   5.914920  29.492739   \n",
       "3       R1107_4       G      4  26.636129  -2.189180   5.222723  28.784063   \n",
       "4       R1107_5       G      5  28.003691   2.172521   7.201588  27.461763   \n",
       "...         ...     ...    ...        ...        ...        ...        ...   \n",
       "2510  R1190_114       U    114  19.666309  19.339981  27.091534  20.518946   \n",
       "2511  R1190_115       U    115  16.043509  17.524162  29.082409  19.118191   \n",
       "2512  R1190_116       U    116  15.216601  11.754694  30.492218  19.759642   \n",
       "2513  R1190_117       U    117  12.137197  14.134659  32.694096  13.904111   \n",
       "2514  R1190_118       U    118   5.684176  16.639042  35.856510  15.622725   \n",
       "\n",
       "            y_2        z_2        x_3        y_3        z_3        x_4  \\\n",
       "0     -8.191240  -0.886308  24.197435  -8.640811   3.325861  19.201536   \n",
       "1     -3.984068   4.423258  25.236124  -7.479849   3.677811  26.290943   \n",
       "2     -2.537778   3.618463  27.098528  -1.815700   6.419380  24.046560   \n",
       "3      0.898845   7.224222  22.800381  -3.927438   8.077315  26.338175   \n",
       "4      1.576155   6.573967  27.156673  -0.474489   2.611463  26.051687   \n",
       "...         ...        ...        ...        ...        ...        ...   \n",
       "2510  18.253843  20.493660  15.961507  18.415779  30.640438  15.169608   \n",
       "2511  15.794313  20.547287  14.515809  15.247387  31.592960  12.870030   \n",
       "2512  11.880177  25.161959  13.912585  17.703234  33.970047  13.157947   \n",
       "2513  13.003989  28.565392   9.205911  13.535951  33.497486  12.722174   \n",
       "2514  14.822272  31.649311   1.187848  23.883326  37.105518   8.804180   \n",
       "\n",
       "            y_4        z_4        x_5        y_5        z_5  \n",
       "0    -18.832836 -10.449270  26.907227  -9.046555  -2.278727  \n",
       "1     -4.945357   0.466802  28.874458  -4.260791   4.040070  \n",
       "2     -6.597889   5.548576  30.631533  -1.310431   4.699128  \n",
       "3     -2.648475   8.038135  31.214788   1.479454   6.515719  \n",
       "4      0.396920   7.117808  29.375944   1.194736   5.723046  \n",
       "...         ...        ...        ...        ...        ...  \n",
       "2510  18.806190  28.567331  18.383455  18.752460  31.582420  \n",
       "2511  18.579288  30.435932  16.322798  17.701756  32.300236  \n",
       "2512  19.311186  32.844975  15.308034  15.650916  34.541931  \n",
       "2513  19.108322  30.237867  12.111407  16.164152  34.995243  \n",
       "2514  30.330366  36.680809   4.569517  22.499050  38.686256  \n",
       "\n",
       "[2515 rows x 18 columns]"
      ]
     },
     "execution_count": 12,
     "metadata": {},
     "output_type": "execute_result"
    }
   ],
   "source": [
    "submission"
   ]
  },
  {
   "cell_type": "code",
   "execution_count": null,
   "id": "1a0e07d3",
   "metadata": {
    "papermill": {
     "duration": 0.004843,
     "end_time": "2025-03-23T06:19:16.632387",
     "exception": false,
     "start_time": "2025-03-23T06:19:16.627544",
     "status": "completed"
    },
    "tags": []
   },
   "outputs": [],
   "source": []
  }
 ],
 "metadata": {
  "kaggle": {
   "accelerator": "gpu",
   "dataSources": [
    {
     "databundleVersionId": 11512973,
     "isSourceIdPinned": false,
     "sourceId": 87793,
     "sourceType": "competition"
    },
    {
     "datasetId": 4299272,
     "sourceId": 7639698,
     "sourceType": "datasetVersion"
    },
    {
     "sourceId": 224703571,
     "sourceType": "kernelVersion"
    }
   ],
   "dockerImageVersionId": 30919,
   "isGpuEnabled": true,
   "isInternetEnabled": false,
   "language": "python",
   "sourceType": "notebook"
  },
  "kernelspec": {
   "display_name": "Python 3",
   "language": "python",
   "name": "python3"
  },
  "language_info": {
   "codemirror_mode": {
    "name": "ipython",
    "version": 3
   },
   "file_extension": ".py",
   "mimetype": "text/x-python",
   "name": "python",
   "nbconvert_exporter": "python",
   "pygments_lexer": "ipython3",
   "version": "3.10.12"
  },
  "papermill": {
   "default_parameters": {},
   "duration": 26.766642,
   "end_time": "2025-03-23T06:19:19.049484",
   "environment_variables": {},
   "exception": null,
   "input_path": "__notebook__.ipynb",
   "output_path": "__notebook__.ipynb",
   "parameters": {},
   "start_time": "2025-03-23T06:18:52.282842",
   "version": "2.6.0"
  }
 },
 "nbformat": 4,
 "nbformat_minor": 5
}
