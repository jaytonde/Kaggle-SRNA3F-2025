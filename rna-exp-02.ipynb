{
 "cells": [
  {
   "cell_type": "markdown",
   "id": "f7c7f446",
   "metadata": {
    "_cell_guid": "b1076dfc-b9ad-4769-8c92-a6c4dae69d19",
    "_uuid": "8f2839f25d086af736a60e9eeb907d3b93b6e0e5",
    "execution": {
     "iopub.execute_input": "2025-02-27T00:45:16.554394Z",
     "iopub.status.busy": "2025-02-27T00:45:16.553977Z",
     "iopub.status.idle": "2025-02-27T00:45:16.558565Z",
     "shell.execute_reply": "2025-02-27T00:45:16.557484Z",
     "shell.execute_reply.started": "2025-02-27T00:45:16.554372Z"
    },
    "papermill": {
     "duration": 0.006007,
     "end_time": "2025-03-31T06:26:03.183004",
     "exception": false,
     "start_time": "2025-03-31T06:26:03.176997",
     "status": "completed"
    },
    "tags": []
   },
   "source": [
    "## Step 1: Imports"
   ]
  },
  {
   "cell_type": "code",
   "execution_count": 1,
   "id": "574ecf3a",
   "metadata": {
    "execution": {
     "iopub.execute_input": "2025-03-31T06:26:03.194789Z",
     "iopub.status.busy": "2025-03-31T06:26:03.194485Z",
     "iopub.status.idle": "2025-03-31T06:26:07.301145Z",
     "shell.execute_reply": "2025-03-31T06:26:07.300458Z"
    },
    "papermill": {
     "duration": 4.114281,
     "end_time": "2025-03-31T06:26:07.302730",
     "exception": false,
     "start_time": "2025-03-31T06:26:03.188449",
     "status": "completed"
    },
    "tags": []
   },
   "outputs": [],
   "source": [
    "import pandas as pd\n",
    "import torch\n",
    "import matplotlib.pyplot as plt\n",
    "import numpy as np\n",
    "import torch\n",
    "import random\n",
    "import pickle\n",
    "from tqdm import tqdm"
   ]
  },
  {
   "cell_type": "code",
   "execution_count": 2,
   "id": "95636964",
   "metadata": {
    "execution": {
     "iopub.execute_input": "2025-03-31T06:26:07.314908Z",
     "iopub.status.busy": "2025-03-31T06:26:07.314565Z",
     "iopub.status.idle": "2025-03-31T06:26:07.321017Z",
     "shell.execute_reply": "2025-03-31T06:26:07.320425Z"
    },
    "papermill": {
     "duration": 0.013697,
     "end_time": "2025-03-31T06:26:07.322225",
     "exception": false,
     "start_time": "2025-03-31T06:26:07.308528",
     "status": "completed"
    },
    "tags": []
   },
   "outputs": [],
   "source": [
    "#set seed for everything\n",
    "torch.manual_seed(0)\n",
    "np.random.seed(0)\n",
    "random.seed(0)"
   ]
  },
  {
   "cell_type": "markdown",
   "id": "e2b76421",
   "metadata": {
    "papermill": {
     "duration": 0.005025,
     "end_time": "2025-03-31T06:26:07.332596",
     "exception": false,
     "start_time": "2025-03-31T06:26:07.327571",
     "status": "completed"
    },
    "tags": []
   },
   "source": [
    "## Step 2: Defining Config"
   ]
  },
  {
   "cell_type": "code",
   "execution_count": 3,
   "id": "7c421940",
   "metadata": {
    "execution": {
     "iopub.execute_input": "2025-03-31T06:26:07.343484Z",
     "iopub.status.busy": "2025-03-31T06:26:07.343226Z",
     "iopub.status.idle": "2025-03-31T06:26:07.347012Z",
     "shell.execute_reply": "2025-03-31T06:26:07.346414Z"
    },
    "papermill": {
     "duration": 0.010529,
     "end_time": "2025-03-31T06:26:07.348206",
     "exception": false,
     "start_time": "2025-03-31T06:26:07.337677",
     "status": "completed"
    },
    "tags": []
   },
   "outputs": [],
   "source": [
    "config = {\n",
    "    \"seed\"                         : 0,\n",
    "    \"cutoff_date\"                  : \"2020-01-01\",\n",
    "    \"test_cutoff_date\"             : \"2022-05-01\",\n",
    "    \"max_len\"                      : 384,\n",
    "    \"batch_size\"                   : 1,\n",
    "    \"learning_rate\"                : 1e-4,\n",
    "    \"weight_decay\"                 : 0.0,\n",
    "    \"mixed_precision\"              : \"bf16\",\n",
    "    \"model_config_path\"            : \"../working/configs/pairwise.yaml\",  # Adjust path as needed\n",
    "    \"epochs\"                       : 10,\n",
    "    \"cos_epoch\"                    : 5,\n",
    "    \"loss_power_scale\"             : 1.0,\n",
    "    \"max_cycles\"                   : 1,\n",
    "    \"grad_clip\"                    : 0.1,\n",
    "    \"gradient_accumulation_steps\"  : 1,\n",
    "    \"d_clamp\"                      : 30,\n",
    "    \"max_len_filter\"               : 9999999,\n",
    "    \"min_len_filter\"               : 10, \n",
    "    \"structural_violation_epoch\"   : 50,\n",
    "    \"balance_weight\"               : False,\n",
    "}"
   ]
  },
  {
   "cell_type": "markdown",
   "id": "c8f3bd4c",
   "metadata": {
    "execution": {
     "iopub.execute_input": "2025-02-27T00:35:07.63984Z",
     "iopub.status.busy": "2025-02-27T00:35:07.639563Z",
     "iopub.status.idle": "2025-02-27T00:35:07.643454Z",
     "shell.execute_reply": "2025-02-27T00:35:07.64259Z",
     "shell.execute_reply.started": "2025-02-27T00:35:07.639817Z"
    },
    "papermill": {
     "duration": 0.004943,
     "end_time": "2025-03-31T06:26:07.358739",
     "exception": false,
     "start_time": "2025-03-31T06:26:07.353796",
     "status": "completed"
    },
    "tags": []
   },
   "source": [
    "## Step 3 : Get data and do some data processing¶\n"
   ]
  },
  {
   "cell_type": "code",
   "execution_count": 4,
   "id": "27417618",
   "metadata": {
    "execution": {
     "iopub.execute_input": "2025-03-31T06:26:07.370266Z",
     "iopub.status.busy": "2025-03-31T06:26:07.369987Z",
     "iopub.status.idle": "2025-03-31T06:26:07.722497Z",
     "shell.execute_reply": "2025-03-31T06:26:07.721724Z"
    },
    "papermill": {
     "duration": 0.360153,
     "end_time": "2025-03-31T06:26:07.724198",
     "exception": false,
     "start_time": "2025-03-31T06:26:07.364045",
     "status": "completed"
    },
    "tags": []
   },
   "outputs": [],
   "source": [
    "valid_sequences = pd.read_csv(\"/kaggle/input/stanford-rna-3d-folding/train_sequences.csv\")\n",
    "valid_labels    = pd.read_csv(\"/kaggle/input/stanford-rna-3d-folding/train_labels.csv\")\n",
    "\n",
    "valid_sequences.drop(index=[610, 639, 687, 782], inplace=True)\n",
    "valid_labels.drop(index=[610, 639, 687, 782], inplace=True)\n",
    "\n",
    "valid_sequences = valid_sequences.reset_index()\n",
    "valid_labels = valid_labels.reset_index()"
   ]
  },
  {
   "cell_type": "code",
   "execution_count": 5,
   "id": "a4ffc181",
   "metadata": {
    "execution": {
     "iopub.execute_input": "2025-03-31T06:26:07.736087Z",
     "iopub.status.busy": "2025-03-31T06:26:07.735853Z",
     "iopub.status.idle": "2025-03-31T06:26:07.820530Z",
     "shell.execute_reply": "2025-03-31T06:26:07.819724Z"
    },
    "papermill": {
     "duration": 0.092071,
     "end_time": "2025-03-31T06:26:07.822131",
     "exception": false,
     "start_time": "2025-03-31T06:26:07.730060",
     "status": "completed"
    },
    "tags": []
   },
   "outputs": [
    {
     "data": {
      "text/plain": [
       "0         1SCL_A\n",
       "1         1SCL_A\n",
       "2         1SCL_A\n",
       "3         1SCL_A\n",
       "4         1SCL_A\n",
       "           ...  \n",
       "137086    8Z1F_T\n",
       "137087    8Z1F_T\n",
       "137088    8Z1F_T\n",
       "137089    8Z1F_T\n",
       "137090    8Z1F_T\n",
       "Name: pdb_id, Length: 137091, dtype: object"
      ]
     },
     "execution_count": 5,
     "metadata": {},
     "output_type": "execute_result"
    }
   ],
   "source": [
    "valid_labels[\"pdb_id\"] = valid_labels[\"ID\"].apply(lambda x: x.split(\"_\")[0]+'_'+x.split(\"_\")[1])\n",
    "valid_labels[\"pdb_id\"] "
   ]
  },
  {
   "cell_type": "markdown",
   "id": "5343aefa",
   "metadata": {
    "papermill": {
     "duration": 0.005198,
     "end_time": "2025-03-31T06:26:07.833046",
     "exception": false,
     "start_time": "2025-03-31T06:26:07.827848",
     "status": "completed"
    },
    "tags": []
   },
   "source": [
    "### Getting the trainig data ready"
   ]
  },
  {
   "cell_type": "code",
   "execution_count": 6,
   "id": "7ae49ddd",
   "metadata": {
    "execution": {
     "iopub.execute_input": "2025-03-31T06:26:07.844692Z",
     "iopub.status.busy": "2025-03-31T06:26:07.844448Z",
     "iopub.status.idle": "2025-03-31T06:27:23.120675Z",
     "shell.execute_reply": "2025-03-31T06:27:23.119957Z"
    },
    "papermill": {
     "duration": 75.283784,
     "end_time": "2025-03-31T06:27:23.122171",
     "exception": false,
     "start_time": "2025-03-31T06:26:07.838387",
     "status": "completed"
    },
    "tags": []
   },
   "outputs": [
    {
     "name": "stderr",
     "output_type": "stream",
     "text": [
      "  0%|          | 0/3502 [00:00<?, ?it/s]<ipython-input-6-545765b46205>:56: FutureWarning: The behavior of DataFrame concatenation with empty or all-NA entries is deprecated. In a future version, this will no longer exclude empty or all-NA columns when determining the result dtypes. To retain the old behavior, exclude the relevant entries before the concat operation.\n",
      "  train_labels = pd.concat([train_labels, pd.DataFrame(labels_rows)], ignore_index=True)\n",
      "100%|██████████| 3502/3502 [01:13<00:00, 47.42it/s]\n"
     ]
    }
   ],
   "source": [
    "import pandas as pd\n",
    "import os\n",
    "from tqdm import tqdm\n",
    "\n",
    "Test = False\n",
    "# Assuming your CSV files are in a folder\n",
    "folder_path = '/kaggle/input/rna-dataset-2/extracted'  # Replace with your actual folder path\n",
    "train_sequences = pd.DataFrame(columns=['target_id', 'sequence', 'temporal_cutoff', 'description', 'all_sequences'])\n",
    "train_labels    = pd.DataFrame(columns=['ID', 'resname','resid','x_1','y_1','z_1','pdb_id'])\n",
    "\n",
    "# Process each CSV file in the folder\n",
    "i = 0\n",
    "for file in tqdm(os.listdir(folder_path)):\n",
    "    i += 1\n",
    "    if Test:\n",
    "        if i == 100:\n",
    "            break\n",
    "    if file.endswith('.csv'):\n",
    "        file_path = os.path.join(folder_path, file)\n",
    "        df = pd.read_csv(file_path)\n",
    "        \n",
    "        # Extract target_id from the first row\n",
    "        target_id = df['target_id'].iloc[0]\n",
    "        \n",
    "        # Create sequence by concatenating all resname values\n",
    "        sequence = ''.join(df['resname'])\n",
    "        \n",
    "        # Add to result dataframe\n",
    "        new_row = pd.DataFrame({\n",
    "            'target_id': [target_id],\n",
    "            'sequence': [sequence],\n",
    "            'temporal_cutoff': [''],\n",
    "            'description': [''],\n",
    "            'all_sequences': ['']\n",
    "        })\n",
    "        \n",
    "        train_sequences = pd.concat([train_sequences, new_row], ignore_index=True)\n",
    "\n",
    "        # Create labels dataframe entries\n",
    "        labels_rows = []\n",
    "        for _, row in df.iterrows():\n",
    "            # Create ID in format target_id_resid\n",
    "            id_value = f\"{target_id}_{row['resid']}\"\n",
    "            \n",
    "            labels_rows.append({\n",
    "                'ID': id_value,\n",
    "                'resname': row['resname'],\n",
    "                'resid': row['resid'],\n",
    "                'x_1': row['x_1'],\n",
    "                'y_1': row['y_1'],\n",
    "                'z_1': row['z_1'],\n",
    "                'pdb_id': target_id\n",
    "            })\n",
    "        \n",
    "        # Add to labels dataframe\n",
    "        train_labels = pd.concat([train_labels, pd.DataFrame(labels_rows)], ignore_index=True)\n",
    "\n",
    "# Save the result to a new CSV file\n",
    "train_sequences.to_csv('converted_data.csv', index=False)\n",
    "train_labels.to_csv('converted_labels.csv', index=False)"
   ]
  },
  {
   "cell_type": "code",
   "execution_count": 7,
   "id": "70345bd7",
   "metadata": {
    "execution": {
     "iopub.execute_input": "2025-03-31T06:27:23.187027Z",
     "iopub.status.busy": "2025-03-31T06:27:23.186778Z",
     "iopub.status.idle": "2025-03-31T06:28:22.722699Z",
     "shell.execute_reply": "2025-03-31T06:28:22.721768Z"
    },
    "papermill": {
     "duration": 59.569164,
     "end_time": "2025-03-31T06:28:22.724024",
     "exception": false,
     "start_time": "2025-03-31T06:27:23.154860",
     "status": "completed"
    },
    "tags": []
   },
   "outputs": [
    {
     "name": "stderr",
     "output_type": "stream",
     "text": [
      "  3%|▎         | 96/3502 [00:01<00:57, 59.21it/s]<ipython-input-7-0b47ef48d34d>:6: RuntimeWarning: invalid value encountered in less\n",
      "  xyz[xyz<-1e17]=float('Nan');\n",
      "  4%|▎         | 128/3502 [00:02<00:56, 59.79it/s]<ipython-input-7-0b47ef48d34d>:6: RuntimeWarning: invalid value encountered in less\n",
      "  xyz[xyz<-1e17]=float('Nan');\n",
      "  4%|▍         | 140/3502 [00:02<00:56, 59.55it/s]<ipython-input-7-0b47ef48d34d>:6: RuntimeWarning: invalid value encountered in less\n",
      "  xyz[xyz<-1e17]=float('Nan');\n",
      "  5%|▍         | 158/3502 [00:02<00:56, 59.06it/s]<ipython-input-7-0b47ef48d34d>:6: RuntimeWarning: invalid value encountered in less\n",
      "  xyz[xyz<-1e17]=float('Nan');\n",
      "  7%|▋         | 233/3502 [00:03<00:56, 58.11it/s]<ipython-input-7-0b47ef48d34d>:6: RuntimeWarning: invalid value encountered in less\n",
      "  xyz[xyz<-1e17]=float('Nan');\n",
      "  8%|▊         | 276/3502 [00:04<00:54, 59.24it/s]<ipython-input-7-0b47ef48d34d>:6: RuntimeWarning: invalid value encountered in less\n",
      "  xyz[xyz<-1e17]=float('Nan');\n",
      "  8%|▊         | 288/3502 [00:04<00:54, 59.17it/s]<ipython-input-7-0b47ef48d34d>:6: RuntimeWarning: invalid value encountered in less\n",
      "  xyz[xyz<-1e17]=float('Nan');\n",
      " 12%|█▏        | 415/3502 [00:07<00:51, 59.84it/s]<ipython-input-7-0b47ef48d34d>:6: RuntimeWarning: invalid value encountered in less\n",
      "  xyz[xyz<-1e17]=float('Nan');\n",
      "<ipython-input-7-0b47ef48d34d>:6: RuntimeWarning: invalid value encountered in less\n",
      "  xyz[xyz<-1e17]=float('Nan');\n",
      " 13%|█▎        | 446/3502 [00:07<00:51, 59.16it/s]<ipython-input-7-0b47ef48d34d>:6: RuntimeWarning: invalid value encountered in less\n",
      "  xyz[xyz<-1e17]=float('Nan');\n",
      " 13%|█▎        | 458/3502 [00:07<00:51, 59.19it/s]<ipython-input-7-0b47ef48d34d>:6: RuntimeWarning: invalid value encountered in less\n",
      "  xyz[xyz<-1e17]=float('Nan');\n",
      " 14%|█▎        | 476/3502 [00:08<00:51, 59.30it/s]<ipython-input-7-0b47ef48d34d>:6: RuntimeWarning: invalid value encountered in less\n",
      "  xyz[xyz<-1e17]=float('Nan');\n",
      " 14%|█▍        | 488/3502 [00:08<00:50, 59.35it/s]<ipython-input-7-0b47ef48d34d>:6: RuntimeWarning: invalid value encountered in less\n",
      "  xyz[xyz<-1e17]=float('Nan');\n",
      " 14%|█▍        | 494/3502 [00:08<00:50, 59.03it/s]<ipython-input-7-0b47ef48d34d>:6: RuntimeWarning: invalid value encountered in less\n",
      "  xyz[xyz<-1e17]=float('Nan');\n",
      "<ipython-input-7-0b47ef48d34d>:6: RuntimeWarning: invalid value encountered in less\n",
      "  xyz[xyz<-1e17]=float('Nan');\n",
      " 14%|█▍        | 506/3502 [00:08<00:50, 59.08it/s]<ipython-input-7-0b47ef48d34d>:6: RuntimeWarning: invalid value encountered in less\n",
      "  xyz[xyz<-1e17]=float('Nan');\n",
      " 16%|█▌        | 569/3502 [00:09<00:49, 59.61it/s]<ipython-input-7-0b47ef48d34d>:6: RuntimeWarning: invalid value encountered in less\n",
      "  xyz[xyz<-1e17]=float('Nan');\n",
      "<ipython-input-7-0b47ef48d34d>:6: RuntimeWarning: invalid value encountered in less\n",
      "  xyz[xyz<-1e17]=float('Nan');\n",
      " 17%|█▋        | 594/3502 [00:10<00:48, 59.48it/s]<ipython-input-7-0b47ef48d34d>:6: RuntimeWarning: invalid value encountered in less\n",
      "  xyz[xyz<-1e17]=float('Nan');\n",
      " 18%|█▊        | 624/3502 [00:10<00:48, 59.23it/s]<ipython-input-7-0b47ef48d34d>:6: RuntimeWarning: invalid value encountered in less\n",
      "  xyz[xyz<-1e17]=float('Nan');\n",
      " 18%|█▊        | 642/3502 [00:10<00:48, 59.51it/s]<ipython-input-7-0b47ef48d34d>:6: RuntimeWarning: invalid value encountered in less\n",
      "  xyz[xyz<-1e17]=float('Nan');\n",
      " 19%|█▊        | 648/3502 [00:10<00:47, 59.52it/s]<ipython-input-7-0b47ef48d34d>:6: RuntimeWarning: invalid value encountered in less\n",
      "  xyz[xyz<-1e17]=float('Nan');\n",
      " 19%|█▉        | 678/3502 [00:11<00:47, 59.16it/s]<ipython-input-7-0b47ef48d34d>:6: RuntimeWarning: invalid value encountered in less\n",
      "  xyz[xyz<-1e17]=float('Nan');\n",
      " 21%|██        | 734/3502 [00:12<00:46, 59.49it/s]<ipython-input-7-0b47ef48d34d>:6: RuntimeWarning: invalid value encountered in less\n",
      "  xyz[xyz<-1e17]=float('Nan');\n",
      " 22%|██▏       | 758/3502 [00:12<00:49, 55.74it/s]<ipython-input-7-0b47ef48d34d>:6: RuntimeWarning: invalid value encountered in less\n",
      "  xyz[xyz<-1e17]=float('Nan');\n",
      " 23%|██▎       | 818/3502 [00:13<00:49, 54.03it/s]<ipython-input-7-0b47ef48d34d>:6: RuntimeWarning: invalid value encountered in less\n",
      "  xyz[xyz<-1e17]=float('Nan');\n",
      " 26%|██▌       | 896/3502 [00:15<00:43, 59.50it/s]<ipython-input-7-0b47ef48d34d>:6: RuntimeWarning: invalid value encountered in less\n",
      "  xyz[xyz<-1e17]=float('Nan');\n",
      " 27%|██▋       | 959/3502 [00:16<00:42, 59.57it/s]<ipython-input-7-0b47ef48d34d>:6: RuntimeWarning: invalid value encountered in less\n",
      "  xyz[xyz<-1e17]=float('Nan');\n",
      " 28%|██▊       | 966/3502 [00:16<00:42, 59.75it/s]<ipython-input-7-0b47ef48d34d>:6: RuntimeWarning: invalid value encountered in less\n",
      "  xyz[xyz<-1e17]=float('Nan');\n",
      " 29%|██▉       | 1008/3502 [00:17<00:41, 59.57it/s]<ipython-input-7-0b47ef48d34d>:6: RuntimeWarning: invalid value encountered in less\n",
      "  xyz[xyz<-1e17]=float('Nan');\n",
      " 30%|██▉       | 1039/3502 [00:17<00:41, 59.44it/s]<ipython-input-7-0b47ef48d34d>:6: RuntimeWarning: invalid value encountered in less\n",
      "  xyz[xyz<-1e17]=float('Nan');\n",
      " 32%|███▏      | 1126/3502 [00:19<00:39, 59.82it/s]<ipython-input-7-0b47ef48d34d>:6: RuntimeWarning: invalid value encountered in less\n",
      "  xyz[xyz<-1e17]=float('Nan');\n",
      " 34%|███▍      | 1193/3502 [00:20<00:38, 59.43it/s]<ipython-input-7-0b47ef48d34d>:6: RuntimeWarning: invalid value encountered in less\n",
      "  xyz[xyz<-1e17]=float('Nan');\n",
      " 35%|███▌      | 1230/3502 [00:20<00:38, 59.42it/s]<ipython-input-7-0b47ef48d34d>:6: RuntimeWarning: invalid value encountered in less\n",
      "  xyz[xyz<-1e17]=float('Nan');\n",
      " 36%|███▌      | 1267/3502 [00:21<00:37, 59.73it/s]<ipython-input-7-0b47ef48d34d>:6: RuntimeWarning: invalid value encountered in less\n",
      "  xyz[xyz<-1e17]=float('Nan');\n",
      " 37%|███▋      | 1292/3502 [00:21<00:37, 59.72it/s]<ipython-input-7-0b47ef48d34d>:6: RuntimeWarning: invalid value encountered in less\n",
      "  xyz[xyz<-1e17]=float('Nan');\n",
      " 39%|███▉      | 1367/3502 [00:23<00:35, 59.60it/s]<ipython-input-7-0b47ef48d34d>:6: RuntimeWarning: invalid value encountered in less\n",
      "  xyz[xyz<-1e17]=float('Nan');\n",
      " 40%|████      | 1403/3502 [00:23<00:36, 57.97it/s]<ipython-input-7-0b47ef48d34d>:6: RuntimeWarning: invalid value encountered in less\n",
      "  xyz[xyz<-1e17]=float('Nan');\n",
      " 40%|████      | 1415/3502 [00:24<00:35, 58.52it/s]<ipython-input-7-0b47ef48d34d>:6: RuntimeWarning: invalid value encountered in less\n",
      "  xyz[xyz<-1e17]=float('Nan');\n",
      "<ipython-input-7-0b47ef48d34d>:6: RuntimeWarning: invalid value encountered in less\n",
      "  xyz[xyz<-1e17]=float('Nan');\n",
      " 42%|████▏     | 1487/3502 [00:25<00:33, 59.61it/s]<ipython-input-7-0b47ef48d34d>:6: RuntimeWarning: invalid value encountered in less\n",
      "  xyz[xyz<-1e17]=float('Nan');\n",
      " 43%|████▎     | 1493/3502 [00:25<00:33, 59.71it/s]<ipython-input-7-0b47ef48d34d>:6: RuntimeWarning: invalid value encountered in less\n",
      "  xyz[xyz<-1e17]=float('Nan');\n",
      " 43%|████▎     | 1512/3502 [00:25<00:33, 59.71it/s]<ipython-input-7-0b47ef48d34d>:6: RuntimeWarning: invalid value encountered in less\n",
      "  xyz[xyz<-1e17]=float('Nan');\n",
      " 45%|████▍     | 1573/3502 [00:26<00:32, 59.03it/s]<ipython-input-7-0b47ef48d34d>:6: RuntimeWarning: invalid value encountered in less\n",
      "  xyz[xyz<-1e17]=float('Nan');\n",
      "<ipython-input-7-0b47ef48d34d>:6: RuntimeWarning: invalid value encountered in less\n",
      "  xyz[xyz<-1e17]=float('Nan');\n",
      " 47%|████▋     | 1634/3502 [00:27<00:31, 59.45it/s]<ipython-input-7-0b47ef48d34d>:6: RuntimeWarning: invalid value encountered in less\n",
      "  xyz[xyz<-1e17]=float('Nan');\n",
      " 47%|████▋     | 1640/3502 [00:27<00:31, 59.19it/s]<ipython-input-7-0b47ef48d34d>:6: RuntimeWarning: invalid value encountered in less\n",
      "  xyz[xyz<-1e17]=float('Nan');\n",
      " 47%|████▋     | 1658/3502 [00:28<00:30, 59.52it/s]<ipython-input-7-0b47ef48d34d>:6: RuntimeWarning: invalid value encountered in less\n",
      "  xyz[xyz<-1e17]=float('Nan');\n",
      " 49%|████▉     | 1709/3502 [00:29<00:29, 59.85it/s]<ipython-input-7-0b47ef48d34d>:6: RuntimeWarning: invalid value encountered in less\n",
      "  xyz[xyz<-1e17]=float('Nan');\n",
      " 49%|████▉     | 1715/3502 [00:29<00:30, 59.47it/s]<ipython-input-7-0b47ef48d34d>:6: RuntimeWarning: invalid value encountered in less\n",
      "  xyz[xyz<-1e17]=float('Nan');\n",
      " 52%|█████▏    | 1806/3502 [00:30<00:28, 59.18it/s]<ipython-input-7-0b47ef48d34d>:6: RuntimeWarning: invalid value encountered in less\n",
      "  xyz[xyz<-1e17]=float('Nan');\n",
      " 53%|█████▎    | 1857/3502 [00:31<00:27, 59.93it/s]<ipython-input-7-0b47ef48d34d>:6: RuntimeWarning: invalid value encountered in less\n",
      "  xyz[xyz<-1e17]=float('Nan');\n",
      " 55%|█████▌    | 1939/3502 [00:32<00:26, 59.66it/s]<ipython-input-7-0b47ef48d34d>:6: RuntimeWarning: invalid value encountered in less\n",
      "  xyz[xyz<-1e17]=float('Nan');\n",
      " 57%|█████▋    | 2000/3502 [00:33<00:25, 57.79it/s]<ipython-input-7-0b47ef48d34d>:6: RuntimeWarning: invalid value encountered in less\n",
      "  xyz[xyz<-1e17]=float('Nan');\n",
      " 58%|█████▊    | 2018/3502 [00:34<00:25, 58.46it/s]<ipython-input-7-0b47ef48d34d>:6: RuntimeWarning: invalid value encountered in less\n",
      "  xyz[xyz<-1e17]=float('Nan');\n",
      " 60%|██████    | 2105/3502 [00:35<00:23, 59.26it/s]<ipython-input-7-0b47ef48d34d>:6: RuntimeWarning: invalid value encountered in less\n",
      "  xyz[xyz<-1e17]=float('Nan');\n",
      "<ipython-input-7-0b47ef48d34d>:6: RuntimeWarning: invalid value encountered in less\n",
      "  xyz[xyz<-1e17]=float('Nan');\n",
      " 64%|██████▍   | 2241/3502 [00:38<00:21, 58.85it/s]<ipython-input-7-0b47ef48d34d>:6: RuntimeWarning: invalid value encountered in less\n",
      "  xyz[xyz<-1e17]=float('Nan');\n",
      " 66%|██████▌   | 2297/3502 [00:38<00:20, 59.41it/s]<ipython-input-7-0b47ef48d34d>:6: RuntimeWarning: invalid value encountered in less\n",
      "  xyz[xyz<-1e17]=float('Nan');\n",
      " 66%|██████▌   | 2303/3502 [00:39<00:20, 59.58it/s]<ipython-input-7-0b47ef48d34d>:6: RuntimeWarning: invalid value encountered in less\n",
      "  xyz[xyz<-1e17]=float('Nan');\n",
      " 68%|██████▊   | 2370/3502 [00:40<00:19, 59.36it/s]<ipython-input-7-0b47ef48d34d>:6: RuntimeWarning: invalid value encountered in less\n",
      "  xyz[xyz<-1e17]=float('Nan');\n",
      " 68%|██████▊   | 2376/3502 [00:40<00:19, 59.17it/s]<ipython-input-7-0b47ef48d34d>:6: RuntimeWarning: invalid value encountered in less\n",
      "  xyz[xyz<-1e17]=float('Nan');\n",
      " 68%|██████▊   | 2394/3502 [00:40<00:18, 59.24it/s]<ipython-input-7-0b47ef48d34d>:6: RuntimeWarning: invalid value encountered in less\n",
      "  xyz[xyz<-1e17]=float('Nan');\n",
      " 70%|██████▉   | 2445/3502 [00:41<00:17, 59.73it/s]<ipython-input-7-0b47ef48d34d>:6: RuntimeWarning: invalid value encountered in less\n",
      "  xyz[xyz<-1e17]=float('Nan');\n",
      " 73%|███████▎  | 2543/3502 [00:43<00:16, 59.46it/s]<ipython-input-7-0b47ef48d34d>:6: RuntimeWarning: invalid value encountered in less\n",
      "  xyz[xyz<-1e17]=float('Nan');\n",
      " 77%|███████▋  | 2681/3502 [00:45<00:14, 56.92it/s]<ipython-input-7-0b47ef48d34d>:6: RuntimeWarning: invalid value encountered in less\n",
      "  xyz[xyz<-1e17]=float('Nan');\n",
      " 77%|███████▋  | 2711/3502 [00:46<00:13, 58.74it/s]<ipython-input-7-0b47ef48d34d>:6: RuntimeWarning: invalid value encountered in less\n",
      "  xyz[xyz<-1e17]=float('Nan');\n",
      " 80%|███████▉  | 2786/3502 [00:47<00:12, 59.61it/s]<ipython-input-7-0b47ef48d34d>:6: RuntimeWarning: invalid value encountered in less\n",
      "  xyz[xyz<-1e17]=float('Nan');\n",
      " 81%|████████  | 2824/3502 [00:47<00:11, 59.48it/s]<ipython-input-7-0b47ef48d34d>:6: RuntimeWarning: invalid value encountered in less\n",
      "  xyz[xyz<-1e17]=float('Nan');\n",
      "<ipython-input-7-0b47ef48d34d>:6: RuntimeWarning: invalid value encountered in less\n",
      "  xyz[xyz<-1e17]=float('Nan');\n",
      " 81%|████████  | 2830/3502 [00:48<00:11, 59.16it/s]<ipython-input-7-0b47ef48d34d>:6: RuntimeWarning: invalid value encountered in less\n",
      "  xyz[xyz<-1e17]=float('Nan');\n",
      " 83%|████████▎ | 2906/3502 [00:49<00:09, 59.82it/s]<ipython-input-7-0b47ef48d34d>:6: RuntimeWarning: invalid value encountered in less\n",
      "  xyz[xyz<-1e17]=float('Nan');\n",
      " 85%|████████▌ | 2981/3502 [00:50<00:08, 59.86it/s]<ipython-input-7-0b47ef48d34d>:6: RuntimeWarning: invalid value encountered in less\n",
      "  xyz[xyz<-1e17]=float('Nan');\n",
      " 86%|████████▌ | 3019/3502 [00:51<00:08, 59.80it/s]<ipython-input-7-0b47ef48d34d>:6: RuntimeWarning: invalid value encountered in less\n",
      "  xyz[xyz<-1e17]=float('Nan');\n",
      " 86%|████████▋ | 3025/3502 [00:51<00:07, 59.71it/s]<ipython-input-7-0b47ef48d34d>:6: RuntimeWarning: invalid value encountered in less\n",
      "  xyz[xyz<-1e17]=float('Nan');\n",
      " 87%|████████▋ | 3043/3502 [00:51<00:07, 59.42it/s]<ipython-input-7-0b47ef48d34d>:6: RuntimeWarning: invalid value encountered in less\n",
      "  xyz[xyz<-1e17]=float('Nan');\n",
      " 90%|█████████ | 3155/3502 [00:53<00:06, 56.29it/s]<ipython-input-7-0b47ef48d34d>:6: RuntimeWarning: invalid value encountered in less\n",
      "  xyz[xyz<-1e17]=float('Nan');\n",
      " 91%|█████████▏| 3203/3502 [00:54<00:05, 54.10it/s]<ipython-input-7-0b47ef48d34d>:6: RuntimeWarning: invalid value encountered in less\n",
      "  xyz[xyz<-1e17]=float('Nan');\n",
      " 92%|█████████▏| 3233/3502 [00:54<00:04, 56.40it/s]<ipython-input-7-0b47ef48d34d>:6: RuntimeWarning: invalid value encountered in less\n",
      "  xyz[xyz<-1e17]=float('Nan');\n",
      " 92%|█████████▏| 3239/3502 [00:55<00:04, 57.05it/s]<ipython-input-7-0b47ef48d34d>:6: RuntimeWarning: invalid value encountered in less\n",
      "  xyz[xyz<-1e17]=float('Nan');\n",
      " 93%|█████████▎| 3269/3502 [00:55<00:03, 58.65it/s]<ipython-input-7-0b47ef48d34d>:6: RuntimeWarning: invalid value encountered in less\n",
      "  xyz[xyz<-1e17]=float('Nan');\n",
      " 94%|█████████▎| 3275/3502 [00:55<00:03, 58.87it/s]<ipython-input-7-0b47ef48d34d>:6: RuntimeWarning: invalid value encountered in less\n",
      "  xyz[xyz<-1e17]=float('Nan');\n",
      " 94%|█████████▍| 3300/3502 [00:56<00:03, 59.57it/s]<ipython-input-7-0b47ef48d34d>:6: RuntimeWarning: invalid value encountered in less\n",
      "  xyz[xyz<-1e17]=float('Nan');\n",
      " 95%|█████████▍| 3324/3502 [00:56<00:02, 59.41it/s]<ipython-input-7-0b47ef48d34d>:6: RuntimeWarning: invalid value encountered in less\n",
      "  xyz[xyz<-1e17]=float('Nan');\n",
      " 96%|█████████▌| 3348/3502 [00:56<00:02, 59.32it/s]<ipython-input-7-0b47ef48d34d>:6: RuntimeWarning: invalid value encountered in less\n",
      "  xyz[xyz<-1e17]=float('Nan');\n",
      " 97%|█████████▋| 3391/3502 [00:57<00:01, 59.67it/s]<ipython-input-7-0b47ef48d34d>:6: RuntimeWarning: invalid value encountered in less\n",
      "  xyz[xyz<-1e17]=float('Nan');\n",
      "<ipython-input-7-0b47ef48d34d>:6: RuntimeWarning: invalid value encountered in less\n",
      "  xyz[xyz<-1e17]=float('Nan');\n",
      " 98%|█████████▊| 3415/3502 [00:58<00:01, 59.19it/s]<ipython-input-7-0b47ef48d34d>:6: RuntimeWarning: invalid value encountered in less\n",
      "  xyz[xyz<-1e17]=float('Nan');\n",
      " 98%|█████████▊| 3421/3502 [00:58<00:01, 59.21it/s]<ipython-input-7-0b47ef48d34d>:6: RuntimeWarning: invalid value encountered in less\n",
      "  xyz[xyz<-1e17]=float('Nan');\n",
      " 99%|█████████▊| 3457/3502 [00:58<00:00, 58.85it/s]<ipython-input-7-0b47ef48d34d>:6: RuntimeWarning: invalid value encountered in less\n",
      "  xyz[xyz<-1e17]=float('Nan');\n",
      "100%|██████████| 3502/3502 [00:59<00:00, 58.85it/s]\n"
     ]
    },
    {
     "data": {
      "text/html": [
       "<div>\n",
       "<style scoped>\n",
       "    .dataframe tbody tr th:only-of-type {\n",
       "        vertical-align: middle;\n",
       "    }\n",
       "\n",
       "    .dataframe tbody tr th {\n",
       "        vertical-align: top;\n",
       "    }\n",
       "\n",
       "    .dataframe thead th {\n",
       "        text-align: right;\n",
       "    }\n",
       "</style>\n",
       "<table border=\"1\" class=\"dataframe\">\n",
       "  <thead>\n",
       "    <tr style=\"text-align: right;\">\n",
       "      <th></th>\n",
       "      <th>ID</th>\n",
       "      <th>resname</th>\n",
       "      <th>resid</th>\n",
       "      <th>x_1</th>\n",
       "      <th>y_1</th>\n",
       "      <th>z_1</th>\n",
       "      <th>pdb_id</th>\n",
       "    </tr>\n",
       "  </thead>\n",
       "  <tbody>\n",
       "    <tr>\n",
       "      <th>261583</th>\n",
       "      <td>1ykq_B_1</td>\n",
       "      <td>G</td>\n",
       "      <td>1</td>\n",
       "      <td>-20.224393</td>\n",
       "      <td>-16.491967</td>\n",
       "      <td>10.122993</td>\n",
       "      <td>1ykq_B</td>\n",
       "    </tr>\n",
       "    <tr>\n",
       "      <th>261584</th>\n",
       "      <td>1ykq_B_2</td>\n",
       "      <td>G</td>\n",
       "      <td>2</td>\n",
       "      <td>-19.009405</td>\n",
       "      <td>-18.617505</td>\n",
       "      <td>3.605266</td>\n",
       "      <td>1ykq_B</td>\n",
       "    </tr>\n",
       "    <tr>\n",
       "      <th>261585</th>\n",
       "      <td>1ykq_B_3</td>\n",
       "      <td>G</td>\n",
       "      <td>3</td>\n",
       "      <td>-18.749840</td>\n",
       "      <td>-16.821151</td>\n",
       "      <td>-1.208829</td>\n",
       "      <td>1ykq_B</td>\n",
       "    </tr>\n",
       "    <tr>\n",
       "      <th>261586</th>\n",
       "      <td>1ykq_B_4</td>\n",
       "      <td>C</td>\n",
       "      <td>4</td>\n",
       "      <td>-19.168544</td>\n",
       "      <td>-14.029909</td>\n",
       "      <td>-5.162431</td>\n",
       "      <td>1ykq_B</td>\n",
       "    </tr>\n",
       "    <tr>\n",
       "      <th>261587</th>\n",
       "      <td>1ykq_B_5</td>\n",
       "      <td>G</td>\n",
       "      <td>5</td>\n",
       "      <td>-21.532162</td>\n",
       "      <td>-7.105730</td>\n",
       "      <td>-5.407534</td>\n",
       "      <td>1ykq_B</td>\n",
       "    </tr>\n",
       "    <tr>\n",
       "      <th>261588</th>\n",
       "      <td>1ykq_B_6</td>\n",
       "      <td>A</td>\n",
       "      <td>6</td>\n",
       "      <td>-20.545637</td>\n",
       "      <td>-2.526273</td>\n",
       "      <td>-3.256684</td>\n",
       "      <td>1ykq_B</td>\n",
       "    </tr>\n",
       "    <tr>\n",
       "      <th>261589</th>\n",
       "      <td>1ykq_B_7</td>\n",
       "      <td>G</td>\n",
       "      <td>7</td>\n",
       "      <td>-17.606030</td>\n",
       "      <td>1.624600</td>\n",
       "      <td>0.147670</td>\n",
       "      <td>1ykq_B</td>\n",
       "    </tr>\n",
       "    <tr>\n",
       "      <th>261590</th>\n",
       "      <td>1ykq_B_8</td>\n",
       "      <td>G</td>\n",
       "      <td>8</td>\n",
       "      <td>-17.396982</td>\n",
       "      <td>8.433533</td>\n",
       "      <td>-4.715955</td>\n",
       "      <td>1ykq_B</td>\n",
       "    </tr>\n",
       "    <tr>\n",
       "      <th>261591</th>\n",
       "      <td>1ykq_B_9</td>\n",
       "      <td>C</td>\n",
       "      <td>9</td>\n",
       "      <td>-13.165123</td>\n",
       "      <td>12.746040</td>\n",
       "      <td>-5.572929</td>\n",
       "      <td>1ykq_B</td>\n",
       "    </tr>\n",
       "    <tr>\n",
       "      <th>261592</th>\n",
       "      <td>1ykq_B_10</td>\n",
       "      <td>C</td>\n",
       "      <td>10</td>\n",
       "      <td>-8.009336</td>\n",
       "      <td>13.896392</td>\n",
       "      <td>-3.604070</td>\n",
       "      <td>1ykq_B</td>\n",
       "    </tr>\n",
       "    <tr>\n",
       "      <th>261593</th>\n",
       "      <td>1ykq_B_11</td>\n",
       "      <td>G</td>\n",
       "      <td>11</td>\n",
       "      <td>-3.498635</td>\n",
       "      <td>12.866590</td>\n",
       "      <td>-1.163625</td>\n",
       "      <td>1ykq_B</td>\n",
       "    </tr>\n",
       "    <tr>\n",
       "      <th>261594</th>\n",
       "      <td>1ykq_B_12</td>\n",
       "      <td>U</td>\n",
       "      <td>12</td>\n",
       "      <td>0.096843</td>\n",
       "      <td>9.498861</td>\n",
       "      <td>1.539078</td>\n",
       "      <td>1ykq_B</td>\n",
       "    </tr>\n",
       "    <tr>\n",
       "      <th>261595</th>\n",
       "      <td>1ykq_B_13</td>\n",
       "      <td>G</td>\n",
       "      <td>13</td>\n",
       "      <td>1.705979</td>\n",
       "      <td>4.838022</td>\n",
       "      <td>1.010169</td>\n",
       "      <td>1ykq_B</td>\n",
       "    </tr>\n",
       "    <tr>\n",
       "      <th>261596</th>\n",
       "      <td>1ykq_B_14</td>\n",
       "      <td>C</td>\n",
       "      <td>14</td>\n",
       "      <td>2.276540</td>\n",
       "      <td>-0.491820</td>\n",
       "      <td>6.315622</td>\n",
       "      <td>1ykq_B</td>\n",
       "    </tr>\n",
       "    <tr>\n",
       "      <th>261597</th>\n",
       "      <td>1ykq_B_15</td>\n",
       "      <td>C</td>\n",
       "      <td>15</td>\n",
       "      <td>4.059973</td>\n",
       "      <td>-6.011783</td>\n",
       "      <td>6.466652</td>\n",
       "      <td>1ykq_B</td>\n",
       "    </tr>\n",
       "    <tr>\n",
       "      <th>261598</th>\n",
       "      <td>1ykq_B_16</td>\n",
       "      <td>A</td>\n",
       "      <td>16</td>\n",
       "      <td>5.387918</td>\n",
       "      <td>-9.129904</td>\n",
       "      <td>2.885776</td>\n",
       "      <td>1ykq_B</td>\n",
       "    </tr>\n",
       "    <tr>\n",
       "      <th>261599</th>\n",
       "      <td>1ykq_B_17</td>\n",
       "      <td>G</td>\n",
       "      <td>17</td>\n",
       "      <td>7.515125</td>\n",
       "      <td>-9.095163</td>\n",
       "      <td>-2.573487</td>\n",
       "      <td>1ykq_B</td>\n",
       "    </tr>\n",
       "    <tr>\n",
       "      <th>261600</th>\n",
       "      <td>1ykq_B_18</td>\n",
       "      <td>C</td>\n",
       "      <td>18</td>\n",
       "      <td>10.867509</td>\n",
       "      <td>-7.259226</td>\n",
       "      <td>-5.950583</td>\n",
       "      <td>1ykq_B</td>\n",
       "    </tr>\n",
       "    <tr>\n",
       "      <th>261601</th>\n",
       "      <td>1ykq_B_19</td>\n",
       "      <td>U</td>\n",
       "      <td>19</td>\n",
       "      <td>15.768796</td>\n",
       "      <td>-4.516491</td>\n",
       "      <td>-7.181563</td>\n",
       "      <td>1ykq_B</td>\n",
       "    </tr>\n",
       "    <tr>\n",
       "      <th>261602</th>\n",
       "      <td>1ykq_B_20</td>\n",
       "      <td>C</td>\n",
       "      <td>20</td>\n",
       "      <td>20.325222</td>\n",
       "      <td>-2.673375</td>\n",
       "      <td>-5.487996</td>\n",
       "      <td>1ykq_B</td>\n",
       "    </tr>\n",
       "    <tr>\n",
       "      <th>261603</th>\n",
       "      <td>1ykq_B_21</td>\n",
       "      <td>U</td>\n",
       "      <td>21</td>\n",
       "      <td>23.700989</td>\n",
       "      <td>-2.767757</td>\n",
       "      <td>-0.813417</td>\n",
       "      <td>1ykq_B</td>\n",
       "    </tr>\n",
       "    <tr>\n",
       "      <th>261604</th>\n",
       "      <td>1ykq_B_22</td>\n",
       "      <td>U</td>\n",
       "      <td>22</td>\n",
       "      <td>28.958047</td>\n",
       "      <td>-0.481682</td>\n",
       "      <td>1.524163</td>\n",
       "      <td>1ykq_B</td>\n",
       "    </tr>\n",
       "    <tr>\n",
       "      <th>261605</th>\n",
       "      <td>1ykq_B_23</td>\n",
       "      <td>C</td>\n",
       "      <td>23</td>\n",
       "      <td>25.242410</td>\n",
       "      <td>-5.256215</td>\n",
       "      <td>5.519647</td>\n",
       "      <td>1ykq_B</td>\n",
       "    </tr>\n",
       "    <tr>\n",
       "      <th>261606</th>\n",
       "      <td>1ykq_B_24</td>\n",
       "      <td>G</td>\n",
       "      <td>24</td>\n",
       "      <td>24.607271</td>\n",
       "      <td>-0.186082</td>\n",
       "      <td>8.764197</td>\n",
       "      <td>1ykq_B</td>\n",
       "    </tr>\n",
       "    <tr>\n",
       "      <th>261607</th>\n",
       "      <td>1ykq_B_25</td>\n",
       "      <td>G</td>\n",
       "      <td>25</td>\n",
       "      <td>21.148530</td>\n",
       "      <td>1.314297</td>\n",
       "      <td>4.366853</td>\n",
       "      <td>1ykq_B</td>\n",
       "    </tr>\n",
       "    <tr>\n",
       "      <th>261608</th>\n",
       "      <td>1ykq_B_26</td>\n",
       "      <td>A</td>\n",
       "      <td>26</td>\n",
       "      <td>19.200902</td>\n",
       "      <td>2.787692</td>\n",
       "      <td>-0.588043</td>\n",
       "      <td>1ykq_B</td>\n",
       "    </tr>\n",
       "    <tr>\n",
       "      <th>261609</th>\n",
       "      <td>1ykq_B_27</td>\n",
       "      <td>G</td>\n",
       "      <td>27</td>\n",
       "      <td>15.388243</td>\n",
       "      <td>2.104770</td>\n",
       "      <td>-4.233111</td>\n",
       "      <td>1ykq_B</td>\n",
       "    </tr>\n",
       "    <tr>\n",
       "      <th>261610</th>\n",
       "      <td>1ykq_B_28</td>\n",
       "      <td>C</td>\n",
       "      <td>28</td>\n",
       "      <td>10.805546</td>\n",
       "      <td>-0.293185</td>\n",
       "      <td>-7.018788</td>\n",
       "      <td>1ykq_B</td>\n",
       "    </tr>\n",
       "    <tr>\n",
       "      <th>261611</th>\n",
       "      <td>1ykq_B_29</td>\n",
       "      <td>A</td>\n",
       "      <td>29</td>\n",
       "      <td>6.037829</td>\n",
       "      <td>-1.213053</td>\n",
       "      <td>-8.428103</td>\n",
       "      <td>1ykq_B</td>\n",
       "    </tr>\n",
       "    <tr>\n",
       "      <th>261612</th>\n",
       "      <td>1ykq_B_30</td>\n",
       "      <td>A</td>\n",
       "      <td>30</td>\n",
       "      <td>0.682557</td>\n",
       "      <td>-2.451560</td>\n",
       "      <td>-7.323347</td>\n",
       "      <td>1ykq_B</td>\n",
       "    </tr>\n",
       "    <tr>\n",
       "      <th>261613</th>\n",
       "      <td>1ykq_B_31</td>\n",
       "      <td>U</td>\n",
       "      <td>31</td>\n",
       "      <td>-1.563250</td>\n",
       "      <td>-0.779794</td>\n",
       "      <td>-2.594699</td>\n",
       "      <td>1ykq_B</td>\n",
       "    </tr>\n",
       "    <tr>\n",
       "      <th>261614</th>\n",
       "      <td>1ykq_B_32</td>\n",
       "      <td>A</td>\n",
       "      <td>32</td>\n",
       "      <td>-6.775153</td>\n",
       "      <td>2.768450</td>\n",
       "      <td>2.663228</td>\n",
       "      <td>1ykq_B</td>\n",
       "    </tr>\n",
       "    <tr>\n",
       "      <th>261615</th>\n",
       "      <td>1ykq_B_33</td>\n",
       "      <td>C</td>\n",
       "      <td>33</td>\n",
       "      <td>-13.879069</td>\n",
       "      <td>1.192364</td>\n",
       "      <td>3.229901</td>\n",
       "      <td>1ykq_B</td>\n",
       "    </tr>\n",
       "    <tr>\n",
       "      <th>261616</th>\n",
       "      <td>1ykq_B_34</td>\n",
       "      <td>U</td>\n",
       "      <td>34</td>\n",
       "      <td>-9.921875</td>\n",
       "      <td>1.679778</td>\n",
       "      <td>6.881001</td>\n",
       "      <td>1ykq_B</td>\n",
       "    </tr>\n",
       "    <tr>\n",
       "      <th>261617</th>\n",
       "      <td>1ykq_B_35</td>\n",
       "      <td>C</td>\n",
       "      <td>35</td>\n",
       "      <td>-5.023947</td>\n",
       "      <td>6.938529</td>\n",
       "      <td>7.589571</td>\n",
       "      <td>1ykq_B</td>\n",
       "    </tr>\n",
       "    <tr>\n",
       "      <th>261618</th>\n",
       "      <td>1ykq_B_36</td>\n",
       "      <td>G</td>\n",
       "      <td>36</td>\n",
       "      <td>-5.779052</td>\n",
       "      <td>12.320281</td>\n",
       "      <td>6.207206</td>\n",
       "      <td>1ykq_B</td>\n",
       "    </tr>\n",
       "    <tr>\n",
       "      <th>261619</th>\n",
       "      <td>1ykq_B_37</td>\n",
       "      <td>G</td>\n",
       "      <td>37</td>\n",
       "      <td>-8.545540</td>\n",
       "      <td>15.986972</td>\n",
       "      <td>3.402366</td>\n",
       "      <td>1ykq_B</td>\n",
       "    </tr>\n",
       "    <tr>\n",
       "      <th>261620</th>\n",
       "      <td>1ykq_B_38</td>\n",
       "      <td>C</td>\n",
       "      <td>38</td>\n",
       "      <td>-13.382255</td>\n",
       "      <td>17.202453</td>\n",
       "      <td>0.043836</td>\n",
       "      <td>1ykq_B</td>\n",
       "    </tr>\n",
       "  </tbody>\n",
       "</table>\n",
       "</div>"
      ],
      "text/plain": [
       "               ID resname resid        x_1        y_1        z_1  pdb_id\n",
       "261583   1ykq_B_1       G     1 -20.224393 -16.491967  10.122993  1ykq_B\n",
       "261584   1ykq_B_2       G     2 -19.009405 -18.617505   3.605266  1ykq_B\n",
       "261585   1ykq_B_3       G     3 -18.749840 -16.821151  -1.208829  1ykq_B\n",
       "261586   1ykq_B_4       C     4 -19.168544 -14.029909  -5.162431  1ykq_B\n",
       "261587   1ykq_B_5       G     5 -21.532162  -7.105730  -5.407534  1ykq_B\n",
       "261588   1ykq_B_6       A     6 -20.545637  -2.526273  -3.256684  1ykq_B\n",
       "261589   1ykq_B_7       G     7 -17.606030   1.624600   0.147670  1ykq_B\n",
       "261590   1ykq_B_8       G     8 -17.396982   8.433533  -4.715955  1ykq_B\n",
       "261591   1ykq_B_9       C     9 -13.165123  12.746040  -5.572929  1ykq_B\n",
       "261592  1ykq_B_10       C    10  -8.009336  13.896392  -3.604070  1ykq_B\n",
       "261593  1ykq_B_11       G    11  -3.498635  12.866590  -1.163625  1ykq_B\n",
       "261594  1ykq_B_12       U    12   0.096843   9.498861   1.539078  1ykq_B\n",
       "261595  1ykq_B_13       G    13   1.705979   4.838022   1.010169  1ykq_B\n",
       "261596  1ykq_B_14       C    14   2.276540  -0.491820   6.315622  1ykq_B\n",
       "261597  1ykq_B_15       C    15   4.059973  -6.011783   6.466652  1ykq_B\n",
       "261598  1ykq_B_16       A    16   5.387918  -9.129904   2.885776  1ykq_B\n",
       "261599  1ykq_B_17       G    17   7.515125  -9.095163  -2.573487  1ykq_B\n",
       "261600  1ykq_B_18       C    18  10.867509  -7.259226  -5.950583  1ykq_B\n",
       "261601  1ykq_B_19       U    19  15.768796  -4.516491  -7.181563  1ykq_B\n",
       "261602  1ykq_B_20       C    20  20.325222  -2.673375  -5.487996  1ykq_B\n",
       "261603  1ykq_B_21       U    21  23.700989  -2.767757  -0.813417  1ykq_B\n",
       "261604  1ykq_B_22       U    22  28.958047  -0.481682   1.524163  1ykq_B\n",
       "261605  1ykq_B_23       C    23  25.242410  -5.256215   5.519647  1ykq_B\n",
       "261606  1ykq_B_24       G    24  24.607271  -0.186082   8.764197  1ykq_B\n",
       "261607  1ykq_B_25       G    25  21.148530   1.314297   4.366853  1ykq_B\n",
       "261608  1ykq_B_26       A    26  19.200902   2.787692  -0.588043  1ykq_B\n",
       "261609  1ykq_B_27       G    27  15.388243   2.104770  -4.233111  1ykq_B\n",
       "261610  1ykq_B_28       C    28  10.805546  -0.293185  -7.018788  1ykq_B\n",
       "261611  1ykq_B_29       A    29   6.037829  -1.213053  -8.428103  1ykq_B\n",
       "261612  1ykq_B_30       A    30   0.682557  -2.451560  -7.323347  1ykq_B\n",
       "261613  1ykq_B_31       U    31  -1.563250  -0.779794  -2.594699  1ykq_B\n",
       "261614  1ykq_B_32       A    32  -6.775153   2.768450   2.663228  1ykq_B\n",
       "261615  1ykq_B_33       C    33 -13.879069   1.192364   3.229901  1ykq_B\n",
       "261616  1ykq_B_34       U    34  -9.921875   1.679778   6.881001  1ykq_B\n",
       "261617  1ykq_B_35       C    35  -5.023947   6.938529   7.589571  1ykq_B\n",
       "261618  1ykq_B_36       G    36  -5.779052  12.320281   6.207206  1ykq_B\n",
       "261619  1ykq_B_37       G    37  -8.545540  15.986972   3.402366  1ykq_B\n",
       "261620  1ykq_B_38       C    38 -13.382255  17.202453   0.043836  1ykq_B"
      ]
     },
     "execution_count": 7,
     "metadata": {},
     "output_type": "execute_result"
    }
   ],
   "source": [
    "all_xyz=[]\n",
    "\n",
    "for pdb_id in tqdm(train_sequences['target_id']):\n",
    "    df = train_labels[train_labels[\"pdb_id\"]==pdb_id]\n",
    "    xyz=df[['x_1','y_1','z_1']].to_numpy().astype('float32')\n",
    "    xyz[xyz<-1e17]=float('Nan');\n",
    "    all_xyz.append(xyz)\n",
    "df"
   ]
  },
  {
   "cell_type": "code",
   "execution_count": 8,
   "id": "37089daf",
   "metadata": {
    "execution": {
     "iopub.execute_input": "2025-03-31T06:28:22.845200Z",
     "iopub.status.busy": "2025-03-31T06:28:22.844918Z",
     "iopub.status.idle": "2025-03-31T06:28:22.887553Z",
     "shell.execute_reply": "2025-03-31T06:28:22.886714Z"
    },
    "papermill": {
     "duration": 0.104132,
     "end_time": "2025-03-31T06:28:22.888904",
     "exception": false,
     "start_time": "2025-03-31T06:28:22.784772",
     "status": "completed"
    },
    "tags": []
   },
   "outputs": [
    {
     "name": "stdout",
     "output_type": "stream",
     "text": [
      "Longest sequence in train: 960\n"
     ]
    }
   ],
   "source": [
    "filter_nan = []\n",
    "max_len    = 0\n",
    "\n",
    "for xyz in all_xyz:\n",
    "    if len(xyz) > max_len:\n",
    "        max_len = len(xyz)\n",
    "    filter_nan.append((np.isnan(xyz).mean() <= 0.5) & \\\n",
    "                      (len(xyz)<config['max_len_filter']) & \\\n",
    "                      (len(xyz)>config['min_len_filter']))\n",
    "print(f\"Longest sequence in train: {max_len}\")\n",
    "\n",
    "filter_nan      = np.array(filter_nan)\n",
    "non_nan_indices = np.arange(len(filter_nan))[filter_nan]\n",
    "\n",
    "train_sequences = train_sequences.loc[non_nan_indices].reset_index(drop=True)\n",
    "all_xyz         = [all_xyz[i] for i in non_nan_indices]"
   ]
  },
  {
   "cell_type": "code",
   "execution_count": 9,
   "id": "9b653a5f",
   "metadata": {
    "execution": {
     "iopub.execute_input": "2025-03-31T06:28:23.009454Z",
     "iopub.status.busy": "2025-03-31T06:28:23.009166Z",
     "iopub.status.idle": "2025-03-31T06:28:31.132497Z",
     "shell.execute_reply": "2025-03-31T06:28:31.131635Z"
    },
    "papermill": {
     "duration": 8.18364,
     "end_time": "2025-03-31T06:28:31.133848",
     "exception": false,
     "start_time": "2025-03-31T06:28:22.950208",
     "status": "completed"
    },
    "tags": []
   },
   "outputs": [
    {
     "name": "stderr",
     "output_type": "stream",
     "text": [
      "  1%|▏         | 11/840 [00:00<00:07, 107.40it/s]<ipython-input-9-accc2319fea8>:6: RuntimeWarning: invalid value encountered in less\n",
      "  xyz[xyz<-1e17]=float('Nan');\n",
      "  4%|▍         | 33/840 [00:00<00:07, 105.91it/s]<ipython-input-9-accc2319fea8>:6: RuntimeWarning: invalid value encountered in less\n",
      "  xyz[xyz<-1e17]=float('Nan');\n",
      "<ipython-input-9-accc2319fea8>:6: RuntimeWarning: invalid value encountered in less\n",
      "  xyz[xyz<-1e17]=float('Nan');\n",
      "  8%|▊         | 66/840 [00:00<00:07, 106.07it/s]<ipython-input-9-accc2319fea8>:6: RuntimeWarning: invalid value encountered in less\n",
      "  xyz[xyz<-1e17]=float('Nan');\n",
      "  9%|▉         | 77/840 [00:00<00:07, 105.39it/s]<ipython-input-9-accc2319fea8>:6: RuntimeWarning: invalid value encountered in less\n",
      "  xyz[xyz<-1e17]=float('Nan');\n",
      "<ipython-input-9-accc2319fea8>:6: RuntimeWarning: invalid value encountered in less\n",
      "  xyz[xyz<-1e17]=float('Nan');\n",
      " 12%|█▏        | 99/840 [00:00<00:07, 105.42it/s]<ipython-input-9-accc2319fea8>:6: RuntimeWarning: invalid value encountered in less\n",
      "  xyz[xyz<-1e17]=float('Nan');\n",
      "<ipython-input-9-accc2319fea8>:6: RuntimeWarning: invalid value encountered in less\n",
      "  xyz[xyz<-1e17]=float('Nan');\n",
      " 14%|█▍        | 121/840 [00:01<00:06, 105.41it/s]<ipython-input-9-accc2319fea8>:6: RuntimeWarning: invalid value encountered in less\n",
      "  xyz[xyz<-1e17]=float('Nan');\n",
      "<ipython-input-9-accc2319fea8>:6: RuntimeWarning: invalid value encountered in less\n",
      "  xyz[xyz<-1e17]=float('Nan');\n",
      "<ipython-input-9-accc2319fea8>:6: RuntimeWarning: invalid value encountered in less\n",
      "  xyz[xyz<-1e17]=float('Nan');\n",
      " 16%|█▌        | 132/840 [00:01<00:06, 105.01it/s]<ipython-input-9-accc2319fea8>:6: RuntimeWarning: invalid value encountered in less\n",
      "  xyz[xyz<-1e17]=float('Nan');\n",
      "<ipython-input-9-accc2319fea8>:6: RuntimeWarning: invalid value encountered in less\n",
      "  xyz[xyz<-1e17]=float('Nan');\n",
      "<ipython-input-9-accc2319fea8>:6: RuntimeWarning: invalid value encountered in less\n",
      "  xyz[xyz<-1e17]=float('Nan');\n",
      "<ipython-input-9-accc2319fea8>:6: RuntimeWarning: invalid value encountered in less\n",
      "  xyz[xyz<-1e17]=float('Nan');\n",
      "<ipython-input-9-accc2319fea8>:6: RuntimeWarning: invalid value encountered in less\n",
      "  xyz[xyz<-1e17]=float('Nan');\n",
      " 17%|█▋        | 143/840 [00:01<00:06, 104.83it/s]<ipython-input-9-accc2319fea8>:6: RuntimeWarning: invalid value encountered in less\n",
      "  xyz[xyz<-1e17]=float('Nan');\n",
      " 18%|█▊        | 154/840 [00:01<00:06, 104.71it/s]<ipython-input-9-accc2319fea8>:6: RuntimeWarning: invalid value encountered in less\n",
      "  xyz[xyz<-1e17]=float('Nan');\n",
      " 20%|█▉        | 165/840 [00:01<00:06, 104.52it/s]<ipython-input-9-accc2319fea8>:6: RuntimeWarning: invalid value encountered in less\n",
      "  xyz[xyz<-1e17]=float('Nan');\n",
      "<ipython-input-9-accc2319fea8>:6: RuntimeWarning: invalid value encountered in less\n",
      "  xyz[xyz<-1e17]=float('Nan');\n",
      "<ipython-input-9-accc2319fea8>:6: RuntimeWarning: invalid value encountered in less\n",
      "  xyz[xyz<-1e17]=float('Nan');\n",
      " 21%|██        | 176/840 [00:01<00:06, 104.84it/s]<ipython-input-9-accc2319fea8>:6: RuntimeWarning: invalid value encountered in less\n",
      "  xyz[xyz<-1e17]=float('Nan');\n",
      "<ipython-input-9-accc2319fea8>:6: RuntimeWarning: invalid value encountered in less\n",
      "  xyz[xyz<-1e17]=float('Nan');\n",
      "<ipython-input-9-accc2319fea8>:6: RuntimeWarning: invalid value encountered in less\n",
      "  xyz[xyz<-1e17]=float('Nan');\n",
      "<ipython-input-9-accc2319fea8>:6: RuntimeWarning: invalid value encountered in less\n",
      "  xyz[xyz<-1e17]=float('Nan');\n",
      "<ipython-input-9-accc2319fea8>:6: RuntimeWarning: invalid value encountered in less\n",
      "  xyz[xyz<-1e17]=float('Nan');\n",
      "<ipython-input-9-accc2319fea8>:6: RuntimeWarning: invalid value encountered in less\n",
      "  xyz[xyz<-1e17]=float('Nan');\n",
      "<ipython-input-9-accc2319fea8>:6: RuntimeWarning: invalid value encountered in less\n",
      "  xyz[xyz<-1e17]=float('Nan');\n",
      " 22%|██▏       | 187/840 [00:01<00:06, 104.70it/s]<ipython-input-9-accc2319fea8>:6: RuntimeWarning: invalid value encountered in less\n",
      "  xyz[xyz<-1e17]=float('Nan');\n",
      "<ipython-input-9-accc2319fea8>:6: RuntimeWarning: invalid value encountered in less\n",
      "  xyz[xyz<-1e17]=float('Nan');\n",
      " 24%|██▎       | 198/840 [00:01<00:06, 104.61it/s]<ipython-input-9-accc2319fea8>:6: RuntimeWarning: invalid value encountered in less\n",
      "  xyz[xyz<-1e17]=float('Nan');\n",
      "<ipython-input-9-accc2319fea8>:6: RuntimeWarning: invalid value encountered in less\n",
      "  xyz[xyz<-1e17]=float('Nan');\n",
      "<ipython-input-9-accc2319fea8>:6: RuntimeWarning: invalid value encountered in less\n",
      "  xyz[xyz<-1e17]=float('Nan');\n",
      "<ipython-input-9-accc2319fea8>:6: RuntimeWarning: invalid value encountered in less\n",
      "  xyz[xyz<-1e17]=float('Nan');\n",
      "<ipython-input-9-accc2319fea8>:6: RuntimeWarning: invalid value encountered in less\n",
      "  xyz[xyz<-1e17]=float('Nan');\n",
      " 25%|██▍       | 209/840 [00:01<00:06, 103.89it/s]<ipython-input-9-accc2319fea8>:6: RuntimeWarning: invalid value encountered in less\n",
      "  xyz[xyz<-1e17]=float('Nan');\n",
      "<ipython-input-9-accc2319fea8>:6: RuntimeWarning: invalid value encountered in less\n",
      "  xyz[xyz<-1e17]=float('Nan');\n",
      "<ipython-input-9-accc2319fea8>:6: RuntimeWarning: invalid value encountered in less\n",
      "  xyz[xyz<-1e17]=float('Nan');\n",
      "<ipython-input-9-accc2319fea8>:6: RuntimeWarning: invalid value encountered in less\n",
      "  xyz[xyz<-1e17]=float('Nan');\n",
      "<ipython-input-9-accc2319fea8>:6: RuntimeWarning: invalid value encountered in less\n",
      "  xyz[xyz<-1e17]=float('Nan');\n",
      " 26%|██▌       | 220/840 [00:02<00:05, 104.36it/s]<ipython-input-9-accc2319fea8>:6: RuntimeWarning: invalid value encountered in less\n",
      "  xyz[xyz<-1e17]=float('Nan');\n",
      "<ipython-input-9-accc2319fea8>:6: RuntimeWarning: invalid value encountered in less\n",
      "  xyz[xyz<-1e17]=float('Nan');\n",
      "<ipython-input-9-accc2319fea8>:6: RuntimeWarning: invalid value encountered in less\n",
      "  xyz[xyz<-1e17]=float('Nan');\n",
      " 28%|██▊       | 231/840 [00:02<00:05, 104.28it/s]<ipython-input-9-accc2319fea8>:6: RuntimeWarning: invalid value encountered in less\n",
      "  xyz[xyz<-1e17]=float('Nan');\n",
      "<ipython-input-9-accc2319fea8>:6: RuntimeWarning: invalid value encountered in less\n",
      "  xyz[xyz<-1e17]=float('Nan');\n",
      " 29%|██▉       | 242/840 [00:02<00:05, 104.16it/s]<ipython-input-9-accc2319fea8>:6: RuntimeWarning: invalid value encountered in less\n",
      "  xyz[xyz<-1e17]=float('Nan');\n",
      "<ipython-input-9-accc2319fea8>:6: RuntimeWarning: invalid value encountered in less\n",
      "  xyz[xyz<-1e17]=float('Nan');\n",
      " 30%|███       | 253/840 [00:02<00:05, 103.81it/s]<ipython-input-9-accc2319fea8>:6: RuntimeWarning: invalid value encountered in less\n",
      "  xyz[xyz<-1e17]=float('Nan');\n",
      "<ipython-input-9-accc2319fea8>:6: RuntimeWarning: invalid value encountered in less\n",
      "  xyz[xyz<-1e17]=float('Nan');\n",
      "<ipython-input-9-accc2319fea8>:6: RuntimeWarning: invalid value encountered in less\n",
      "  xyz[xyz<-1e17]=float('Nan');\n",
      "<ipython-input-9-accc2319fea8>:6: RuntimeWarning: invalid value encountered in less\n",
      "  xyz[xyz<-1e17]=float('Nan');\n",
      "<ipython-input-9-accc2319fea8>:6: RuntimeWarning: invalid value encountered in less\n",
      "  xyz[xyz<-1e17]=float('Nan');\n",
      " 31%|███▏      | 264/840 [00:02<00:05, 103.41it/s]<ipython-input-9-accc2319fea8>:6: RuntimeWarning: invalid value encountered in less\n",
      "  xyz[xyz<-1e17]=float('Nan');\n",
      "<ipython-input-9-accc2319fea8>:6: RuntimeWarning: invalid value encountered in less\n",
      "  xyz[xyz<-1e17]=float('Nan');\n",
      " 33%|███▎      | 275/840 [00:02<00:05, 103.96it/s]<ipython-input-9-accc2319fea8>:6: RuntimeWarning: invalid value encountered in less\n",
      "  xyz[xyz<-1e17]=float('Nan');\n",
      "<ipython-input-9-accc2319fea8>:6: RuntimeWarning: invalid value encountered in less\n",
      "  xyz[xyz<-1e17]=float('Nan');\n",
      "<ipython-input-9-accc2319fea8>:6: RuntimeWarning: invalid value encountered in less\n",
      "  xyz[xyz<-1e17]=float('Nan');\n",
      "<ipython-input-9-accc2319fea8>:6: RuntimeWarning: invalid value encountered in less\n",
      "  xyz[xyz<-1e17]=float('Nan');\n",
      "<ipython-input-9-accc2319fea8>:6: RuntimeWarning: invalid value encountered in less\n",
      "  xyz[xyz<-1e17]=float('Nan');\n",
      "<ipython-input-9-accc2319fea8>:6: RuntimeWarning: invalid value encountered in less\n",
      "  xyz[xyz<-1e17]=float('Nan');\n",
      " 35%|███▌      | 297/840 [00:02<00:05, 104.03it/s]<ipython-input-9-accc2319fea8>:6: RuntimeWarning: invalid value encountered in less\n",
      "  xyz[xyz<-1e17]=float('Nan');\n",
      "<ipython-input-9-accc2319fea8>:6: RuntimeWarning: invalid value encountered in less\n",
      "  xyz[xyz<-1e17]=float('Nan');\n",
      "<ipython-input-9-accc2319fea8>:6: RuntimeWarning: invalid value encountered in less\n",
      "  xyz[xyz<-1e17]=float('Nan');\n",
      "<ipython-input-9-accc2319fea8>:6: RuntimeWarning: invalid value encountered in less\n",
      "  xyz[xyz<-1e17]=float('Nan');\n",
      "<ipython-input-9-accc2319fea8>:6: RuntimeWarning: invalid value encountered in less\n",
      "  xyz[xyz<-1e17]=float('Nan');\n",
      "<ipython-input-9-accc2319fea8>:6: RuntimeWarning: invalid value encountered in less\n",
      "  xyz[xyz<-1e17]=float('Nan');\n",
      " 37%|███▋      | 308/840 [00:02<00:05, 103.31it/s]<ipython-input-9-accc2319fea8>:6: RuntimeWarning: invalid value encountered in less\n",
      "  xyz[xyz<-1e17]=float('Nan');\n",
      "<ipython-input-9-accc2319fea8>:6: RuntimeWarning: invalid value encountered in less\n",
      "  xyz[xyz<-1e17]=float('Nan');\n",
      "<ipython-input-9-accc2319fea8>:6: RuntimeWarning: invalid value encountered in less\n",
      "  xyz[xyz<-1e17]=float('Nan');\n",
      " 39%|███▉      | 330/840 [00:03<00:04, 104.78it/s]<ipython-input-9-accc2319fea8>:6: RuntimeWarning: invalid value encountered in less\n",
      "  xyz[xyz<-1e17]=float('Nan');\n",
      " 41%|████      | 341/840 [00:03<00:04, 105.05it/s]<ipython-input-9-accc2319fea8>:6: RuntimeWarning: invalid value encountered in less\n",
      "  xyz[xyz<-1e17]=float('Nan');\n",
      "<ipython-input-9-accc2319fea8>:6: RuntimeWarning: invalid value encountered in less\n",
      "  xyz[xyz<-1e17]=float('Nan');\n",
      "<ipython-input-9-accc2319fea8>:6: RuntimeWarning: invalid value encountered in less\n",
      "  xyz[xyz<-1e17]=float('Nan');\n",
      " 42%|████▏     | 352/840 [00:03<00:04, 104.43it/s]<ipython-input-9-accc2319fea8>:6: RuntimeWarning: invalid value encountered in less\n",
      "  xyz[xyz<-1e17]=float('Nan');\n",
      "<ipython-input-9-accc2319fea8>:6: RuntimeWarning: invalid value encountered in less\n",
      "  xyz[xyz<-1e17]=float('Nan');\n",
      " 43%|████▎     | 363/840 [00:03<00:04, 104.67it/s]<ipython-input-9-accc2319fea8>:6: RuntimeWarning: invalid value encountered in less\n",
      "  xyz[xyz<-1e17]=float('Nan');\n",
      " 45%|████▍     | 374/840 [00:03<00:04, 102.58it/s]<ipython-input-9-accc2319fea8>:6: RuntimeWarning: invalid value encountered in less\n",
      "  xyz[xyz<-1e17]=float('Nan');\n",
      "<ipython-input-9-accc2319fea8>:6: RuntimeWarning: invalid value encountered in less\n",
      "  xyz[xyz<-1e17]=float('Nan');\n",
      " 46%|████▌     | 385/840 [00:03<00:04, 98.65it/s] <ipython-input-9-accc2319fea8>:6: RuntimeWarning: invalid value encountered in less\n",
      "  xyz[xyz<-1e17]=float('Nan');\n",
      " 47%|████▋     | 395/840 [00:03<00:04, 98.29it/s]<ipython-input-9-accc2319fea8>:6: RuntimeWarning: invalid value encountered in less\n",
      "  xyz[xyz<-1e17]=float('Nan');\n",
      "<ipython-input-9-accc2319fea8>:6: RuntimeWarning: invalid value encountered in less\n",
      "  xyz[xyz<-1e17]=float('Nan');\n",
      " 50%|████▉     | 417/840 [00:04<00:04, 102.10it/s]<ipython-input-9-accc2319fea8>:6: RuntimeWarning: invalid value encountered in less\n",
      "  xyz[xyz<-1e17]=float('Nan');\n",
      "<ipython-input-9-accc2319fea8>:6: RuntimeWarning: invalid value encountered in less\n",
      "  xyz[xyz<-1e17]=float('Nan');\n",
      " 51%|█████     | 428/840 [00:04<00:03, 103.35it/s]<ipython-input-9-accc2319fea8>:6: RuntimeWarning: invalid value encountered in less\n",
      "  xyz[xyz<-1e17]=float('Nan');\n",
      "<ipython-input-9-accc2319fea8>:6: RuntimeWarning: invalid value encountered in less\n",
      "  xyz[xyz<-1e17]=float('Nan');\n",
      "<ipython-input-9-accc2319fea8>:6: RuntimeWarning: invalid value encountered in less\n",
      "  xyz[xyz<-1e17]=float('Nan');\n",
      " 52%|█████▏    | 439/840 [00:04<00:03, 103.75it/s]<ipython-input-9-accc2319fea8>:6: RuntimeWarning: invalid value encountered in less\n",
      "  xyz[xyz<-1e17]=float('Nan');\n",
      "<ipython-input-9-accc2319fea8>:6: RuntimeWarning: invalid value encountered in less\n",
      "  xyz[xyz<-1e17]=float('Nan');\n",
      "<ipython-input-9-accc2319fea8>:6: RuntimeWarning: invalid value encountered in less\n",
      "  xyz[xyz<-1e17]=float('Nan');\n",
      "<ipython-input-9-accc2319fea8>:6: RuntimeWarning: invalid value encountered in less\n",
      "  xyz[xyz<-1e17]=float('Nan');\n",
      " 54%|█████▎    | 450/840 [00:04<00:03, 103.73it/s]<ipython-input-9-accc2319fea8>:6: RuntimeWarning: invalid value encountered in less\n",
      "  xyz[xyz<-1e17]=float('Nan');\n",
      "<ipython-input-9-accc2319fea8>:6: RuntimeWarning: invalid value encountered in less\n",
      "  xyz[xyz<-1e17]=float('Nan');\n",
      "<ipython-input-9-accc2319fea8>:6: RuntimeWarning: invalid value encountered in less\n",
      "  xyz[xyz<-1e17]=float('Nan');\n",
      "<ipython-input-9-accc2319fea8>:6: RuntimeWarning: invalid value encountered in less\n",
      "  xyz[xyz<-1e17]=float('Nan');\n",
      "<ipython-input-9-accc2319fea8>:6: RuntimeWarning: invalid value encountered in less\n",
      "  xyz[xyz<-1e17]=float('Nan');\n",
      "<ipython-input-9-accc2319fea8>:6: RuntimeWarning: invalid value encountered in less\n",
      "  xyz[xyz<-1e17]=float('Nan');\n",
      "<ipython-input-9-accc2319fea8>:6: RuntimeWarning: invalid value encountered in less\n",
      "  xyz[xyz<-1e17]=float('Nan');\n",
      " 55%|█████▍    | 461/840 [00:04<00:03, 103.26it/s]<ipython-input-9-accc2319fea8>:6: RuntimeWarning: invalid value encountered in less\n",
      "  xyz[xyz<-1e17]=float('Nan');\n",
      "<ipython-input-9-accc2319fea8>:6: RuntimeWarning: invalid value encountered in less\n",
      "  xyz[xyz<-1e17]=float('Nan');\n",
      "<ipython-input-9-accc2319fea8>:6: RuntimeWarning: invalid value encountered in less\n",
      "  xyz[xyz<-1e17]=float('Nan');\n",
      "<ipython-input-9-accc2319fea8>:6: RuntimeWarning: invalid value encountered in less\n",
      "  xyz[xyz<-1e17]=float('Nan');\n",
      " 56%|█████▌    | 472/840 [00:04<00:03, 103.61it/s]<ipython-input-9-accc2319fea8>:6: RuntimeWarning: invalid value encountered in less\n",
      "  xyz[xyz<-1e17]=float('Nan');\n",
      "<ipython-input-9-accc2319fea8>:6: RuntimeWarning: invalid value encountered in less\n",
      "  xyz[xyz<-1e17]=float('Nan');\n",
      " 57%|█████▊    | 483/840 [00:04<00:03, 103.24it/s]<ipython-input-9-accc2319fea8>:6: RuntimeWarning: invalid value encountered in less\n",
      "  xyz[xyz<-1e17]=float('Nan');\n",
      "<ipython-input-9-accc2319fea8>:6: RuntimeWarning: invalid value encountered in less\n",
      "  xyz[xyz<-1e17]=float('Nan');\n",
      "<ipython-input-9-accc2319fea8>:6: RuntimeWarning: invalid value encountered in less\n",
      "  xyz[xyz<-1e17]=float('Nan');\n",
      "<ipython-input-9-accc2319fea8>:6: RuntimeWarning: invalid value encountered in less\n",
      "  xyz[xyz<-1e17]=float('Nan');\n",
      "<ipython-input-9-accc2319fea8>:6: RuntimeWarning: invalid value encountered in less\n",
      "  xyz[xyz<-1e17]=float('Nan');\n",
      "<ipython-input-9-accc2319fea8>:6: RuntimeWarning: invalid value encountered in less\n",
      "  xyz[xyz<-1e17]=float('Nan');\n",
      " 59%|█████▉    | 494/840 [00:04<00:03, 103.41it/s]<ipython-input-9-accc2319fea8>:6: RuntimeWarning: invalid value encountered in less\n",
      "  xyz[xyz<-1e17]=float('Nan');\n",
      "<ipython-input-9-accc2319fea8>:6: RuntimeWarning: invalid value encountered in less\n",
      "  xyz[xyz<-1e17]=float('Nan');\n",
      "<ipython-input-9-accc2319fea8>:6: RuntimeWarning: invalid value encountered in less\n",
      "  xyz[xyz<-1e17]=float('Nan');\n",
      " 60%|██████    | 505/840 [00:04<00:03, 103.60it/s]<ipython-input-9-accc2319fea8>:6: RuntimeWarning: invalid value encountered in less\n",
      "  xyz[xyz<-1e17]=float('Nan');\n",
      " 61%|██████▏   | 516/840 [00:04<00:03, 103.24it/s]<ipython-input-9-accc2319fea8>:6: RuntimeWarning: invalid value encountered in less\n",
      "  xyz[xyz<-1e17]=float('Nan');\n",
      " 63%|██████▎   | 527/840 [00:05<00:03, 103.45it/s]<ipython-input-9-accc2319fea8>:6: RuntimeWarning: invalid value encountered in less\n",
      "  xyz[xyz<-1e17]=float('Nan');\n",
      " 64%|██████▍   | 538/840 [00:05<00:02, 103.81it/s]<ipython-input-9-accc2319fea8>:6: RuntimeWarning: invalid value encountered in less\n",
      "  xyz[xyz<-1e17]=float('Nan');\n",
      "<ipython-input-9-accc2319fea8>:6: RuntimeWarning: invalid value encountered in less\n",
      "  xyz[xyz<-1e17]=float('Nan');\n",
      " 65%|██████▌   | 549/840 [00:05<00:02, 102.37it/s]<ipython-input-9-accc2319fea8>:6: RuntimeWarning: invalid value encountered in less\n",
      "  xyz[xyz<-1e17]=float('Nan');\n",
      "<ipython-input-9-accc2319fea8>:6: RuntimeWarning: invalid value encountered in less\n",
      "  xyz[xyz<-1e17]=float('Nan');\n",
      "<ipython-input-9-accc2319fea8>:6: RuntimeWarning: invalid value encountered in less\n",
      "  xyz[xyz<-1e17]=float('Nan');\n",
      "<ipython-input-9-accc2319fea8>:6: RuntimeWarning: invalid value encountered in less\n",
      "  xyz[xyz<-1e17]=float('Nan');\n",
      "<ipython-input-9-accc2319fea8>:6: RuntimeWarning: invalid value encountered in less\n",
      "  xyz[xyz<-1e17]=float('Nan');\n",
      " 67%|██████▋   | 560/840 [00:05<00:02, 101.60it/s]<ipython-input-9-accc2319fea8>:6: RuntimeWarning: invalid value encountered in less\n",
      "  xyz[xyz<-1e17]=float('Nan');\n",
      "<ipython-input-9-accc2319fea8>:6: RuntimeWarning: invalid value encountered in less\n",
      "  xyz[xyz<-1e17]=float('Nan');\n",
      "<ipython-input-9-accc2319fea8>:6: RuntimeWarning: invalid value encountered in less\n",
      "  xyz[xyz<-1e17]=float('Nan');\n",
      "<ipython-input-9-accc2319fea8>:6: RuntimeWarning: invalid value encountered in less\n",
      "  xyz[xyz<-1e17]=float('Nan');\n",
      " 68%|██████▊   | 571/840 [00:05<00:02, 101.34it/s]<ipython-input-9-accc2319fea8>:6: RuntimeWarning: invalid value encountered in less\n",
      "  xyz[xyz<-1e17]=float('Nan');\n",
      "<ipython-input-9-accc2319fea8>:6: RuntimeWarning: invalid value encountered in less\n",
      "  xyz[xyz<-1e17]=float('Nan');\n",
      "<ipython-input-9-accc2319fea8>:6: RuntimeWarning: invalid value encountered in less\n",
      "  xyz[xyz<-1e17]=float('Nan');\n",
      "<ipython-input-9-accc2319fea8>:6: RuntimeWarning: invalid value encountered in less\n",
      "  xyz[xyz<-1e17]=float('Nan');\n",
      "<ipython-input-9-accc2319fea8>:6: RuntimeWarning: invalid value encountered in less\n",
      "  xyz[xyz<-1e17]=float('Nan');\n",
      "<ipython-input-9-accc2319fea8>:6: RuntimeWarning: invalid value encountered in less\n",
      "  xyz[xyz<-1e17]=float('Nan');\n",
      " 69%|██████▉   | 582/840 [00:05<00:02, 101.71it/s]<ipython-input-9-accc2319fea8>:6: RuntimeWarning: invalid value encountered in less\n",
      "  xyz[xyz<-1e17]=float('Nan');\n",
      "<ipython-input-9-accc2319fea8>:6: RuntimeWarning: invalid value encountered in less\n",
      "  xyz[xyz<-1e17]=float('Nan');\n",
      "<ipython-input-9-accc2319fea8>:6: RuntimeWarning: invalid value encountered in less\n",
      "  xyz[xyz<-1e17]=float('Nan');\n",
      "<ipython-input-9-accc2319fea8>:6: RuntimeWarning: invalid value encountered in less\n",
      "  xyz[xyz<-1e17]=float('Nan');\n",
      "<ipython-input-9-accc2319fea8>:6: RuntimeWarning: invalid value encountered in less\n",
      "  xyz[xyz<-1e17]=float('Nan');\n",
      " 71%|███████   | 593/840 [00:05<00:02, 101.77it/s]<ipython-input-9-accc2319fea8>:6: RuntimeWarning: invalid value encountered in less\n",
      "  xyz[xyz<-1e17]=float('Nan');\n",
      "<ipython-input-9-accc2319fea8>:6: RuntimeWarning: invalid value encountered in less\n",
      "  xyz[xyz<-1e17]=float('Nan');\n",
      "<ipython-input-9-accc2319fea8>:6: RuntimeWarning: invalid value encountered in less\n",
      "  xyz[xyz<-1e17]=float('Nan');\n",
      "<ipython-input-9-accc2319fea8>:6: RuntimeWarning: invalid value encountered in less\n",
      "  xyz[xyz<-1e17]=float('Nan');\n",
      "<ipython-input-9-accc2319fea8>:6: RuntimeWarning: invalid value encountered in less\n",
      "  xyz[xyz<-1e17]=float('Nan');\n",
      "<ipython-input-9-accc2319fea8>:6: RuntimeWarning: invalid value encountered in less\n",
      "  xyz[xyz<-1e17]=float('Nan');\n",
      " 72%|███████▏  | 604/840 [00:05<00:02, 101.95it/s]<ipython-input-9-accc2319fea8>:6: RuntimeWarning: invalid value encountered in less\n",
      "  xyz[xyz<-1e17]=float('Nan');\n",
      "<ipython-input-9-accc2319fea8>:6: RuntimeWarning: invalid value encountered in less\n",
      "  xyz[xyz<-1e17]=float('Nan');\n",
      "<ipython-input-9-accc2319fea8>:6: RuntimeWarning: invalid value encountered in less\n",
      "  xyz[xyz<-1e17]=float('Nan');\n",
      "<ipython-input-9-accc2319fea8>:6: RuntimeWarning: invalid value encountered in less\n",
      "  xyz[xyz<-1e17]=float('Nan');\n",
      " 75%|███████▍  | 626/840 [00:06<00:02, 102.94it/s]<ipython-input-9-accc2319fea8>:6: RuntimeWarning: invalid value encountered in less\n",
      "  xyz[xyz<-1e17]=float('Nan');\n",
      "<ipython-input-9-accc2319fea8>:6: RuntimeWarning: invalid value encountered in less\n",
      "  xyz[xyz<-1e17]=float('Nan');\n",
      "<ipython-input-9-accc2319fea8>:6: RuntimeWarning: invalid value encountered in less\n",
      "  xyz[xyz<-1e17]=float('Nan');\n",
      "<ipython-input-9-accc2319fea8>:6: RuntimeWarning: invalid value encountered in less\n",
      "  xyz[xyz<-1e17]=float('Nan');\n",
      "<ipython-input-9-accc2319fea8>:6: RuntimeWarning: invalid value encountered in less\n",
      "  xyz[xyz<-1e17]=float('Nan');\n",
      " 76%|███████▌  | 637/840 [00:06<00:01, 103.32it/s]<ipython-input-9-accc2319fea8>:6: RuntimeWarning: invalid value encountered in less\n",
      "  xyz[xyz<-1e17]=float('Nan');\n",
      " 77%|███████▋  | 648/840 [00:06<00:01, 104.25it/s]<ipython-input-9-accc2319fea8>:6: RuntimeWarning: invalid value encountered in less\n",
      "  xyz[xyz<-1e17]=float('Nan');\n",
      "<ipython-input-9-accc2319fea8>:6: RuntimeWarning: invalid value encountered in less\n",
      "  xyz[xyz<-1e17]=float('Nan');\n",
      "<ipython-input-9-accc2319fea8>:6: RuntimeWarning: invalid value encountered in less\n",
      "  xyz[xyz<-1e17]=float('Nan');\n",
      "<ipython-input-9-accc2319fea8>:6: RuntimeWarning: invalid value encountered in less\n",
      "  xyz[xyz<-1e17]=float('Nan');\n",
      "<ipython-input-9-accc2319fea8>:6: RuntimeWarning: invalid value encountered in less\n",
      "  xyz[xyz<-1e17]=float('Nan');\n",
      " 78%|███████▊  | 659/840 [00:06<00:01, 103.65it/s]<ipython-input-9-accc2319fea8>:6: RuntimeWarning: invalid value encountered in less\n",
      "  xyz[xyz<-1e17]=float('Nan');\n",
      "<ipython-input-9-accc2319fea8>:6: RuntimeWarning: invalid value encountered in less\n",
      "  xyz[xyz<-1e17]=float('Nan');\n",
      "<ipython-input-9-accc2319fea8>:6: RuntimeWarning: invalid value encountered in less\n",
      "  xyz[xyz<-1e17]=float('Nan');\n",
      "<ipython-input-9-accc2319fea8>:6: RuntimeWarning: invalid value encountered in less\n",
      "  xyz[xyz<-1e17]=float('Nan');\n",
      "<ipython-input-9-accc2319fea8>:6: RuntimeWarning: invalid value encountered in less\n",
      "  xyz[xyz<-1e17]=float('Nan');\n",
      "<ipython-input-9-accc2319fea8>:6: RuntimeWarning: invalid value encountered in less\n",
      "  xyz[xyz<-1e17]=float('Nan');\n",
      " 80%|███████▉  | 670/840 [00:06<00:01, 103.62it/s]<ipython-input-9-accc2319fea8>:6: RuntimeWarning: invalid value encountered in less\n",
      "  xyz[xyz<-1e17]=float('Nan');\n",
      "<ipython-input-9-accc2319fea8>:6: RuntimeWarning: invalid value encountered in less\n",
      "  xyz[xyz<-1e17]=float('Nan');\n",
      "<ipython-input-9-accc2319fea8>:6: RuntimeWarning: invalid value encountered in less\n",
      "  xyz[xyz<-1e17]=float('Nan');\n",
      "<ipython-input-9-accc2319fea8>:6: RuntimeWarning: invalid value encountered in less\n",
      "  xyz[xyz<-1e17]=float('Nan');\n",
      "<ipython-input-9-accc2319fea8>:6: RuntimeWarning: invalid value encountered in less\n",
      "  xyz[xyz<-1e17]=float('Nan');\n",
      "<ipython-input-9-accc2319fea8>:6: RuntimeWarning: invalid value encountered in less\n",
      "  xyz[xyz<-1e17]=float('Nan');\n",
      " 81%|████████  | 681/840 [00:06<00:01, 103.33it/s]<ipython-input-9-accc2319fea8>:6: RuntimeWarning: invalid value encountered in less\n",
      "  xyz[xyz<-1e17]=float('Nan');\n",
      "<ipython-input-9-accc2319fea8>:6: RuntimeWarning: invalid value encountered in less\n",
      "  xyz[xyz<-1e17]=float('Nan');\n",
      "<ipython-input-9-accc2319fea8>:6: RuntimeWarning: invalid value encountered in less\n",
      "  xyz[xyz<-1e17]=float('Nan');\n",
      " 82%|████████▏ | 692/840 [00:06<00:01, 103.52it/s]<ipython-input-9-accc2319fea8>:6: RuntimeWarning: invalid value encountered in less\n",
      "  xyz[xyz<-1e17]=float('Nan');\n",
      "<ipython-input-9-accc2319fea8>:6: RuntimeWarning: invalid value encountered in less\n",
      "  xyz[xyz<-1e17]=float('Nan');\n",
      "<ipython-input-9-accc2319fea8>:6: RuntimeWarning: invalid value encountered in less\n",
      "  xyz[xyz<-1e17]=float('Nan');\n",
      "<ipython-input-9-accc2319fea8>:6: RuntimeWarning: invalid value encountered in less\n",
      "  xyz[xyz<-1e17]=float('Nan');\n",
      " 84%|████████▎ | 703/840 [00:06<00:01, 103.08it/s]<ipython-input-9-accc2319fea8>:6: RuntimeWarning: invalid value encountered in less\n",
      "  xyz[xyz<-1e17]=float('Nan');\n",
      " 85%|████████▌ | 714/840 [00:06<00:01, 103.97it/s]<ipython-input-9-accc2319fea8>:6: RuntimeWarning: invalid value encountered in less\n",
      "  xyz[xyz<-1e17]=float('Nan');\n",
      "<ipython-input-9-accc2319fea8>:6: RuntimeWarning: invalid value encountered in less\n",
      "  xyz[xyz<-1e17]=float('Nan');\n",
      "<ipython-input-9-accc2319fea8>:6: RuntimeWarning: invalid value encountered in less\n",
      "  xyz[xyz<-1e17]=float('Nan');\n",
      "<ipython-input-9-accc2319fea8>:6: RuntimeWarning: invalid value encountered in less\n",
      "  xyz[xyz<-1e17]=float('Nan');\n",
      " 86%|████████▋ | 725/840 [00:06<00:01, 103.47it/s]<ipython-input-9-accc2319fea8>:6: RuntimeWarning: invalid value encountered in less\n",
      "  xyz[xyz<-1e17]=float('Nan');\n",
      "<ipython-input-9-accc2319fea8>:6: RuntimeWarning: invalid value encountered in less\n",
      "  xyz[xyz<-1e17]=float('Nan');\n",
      "<ipython-input-9-accc2319fea8>:6: RuntimeWarning: invalid value encountered in less\n",
      "  xyz[xyz<-1e17]=float('Nan');\n",
      " 88%|████████▊ | 736/840 [00:07<00:01, 103.39it/s]<ipython-input-9-accc2319fea8>:6: RuntimeWarning: invalid value encountered in less\n",
      "  xyz[xyz<-1e17]=float('Nan');\n",
      "<ipython-input-9-accc2319fea8>:6: RuntimeWarning: invalid value encountered in less\n",
      "  xyz[xyz<-1e17]=float('Nan');\n",
      "<ipython-input-9-accc2319fea8>:6: RuntimeWarning: invalid value encountered in less\n",
      "  xyz[xyz<-1e17]=float('Nan');\n",
      " 89%|████████▉ | 747/840 [00:07<00:00, 103.67it/s]<ipython-input-9-accc2319fea8>:6: RuntimeWarning: invalid value encountered in less\n",
      "  xyz[xyz<-1e17]=float('Nan');\n",
      "<ipython-input-9-accc2319fea8>:6: RuntimeWarning: invalid value encountered in less\n",
      "  xyz[xyz<-1e17]=float('Nan');\n",
      "<ipython-input-9-accc2319fea8>:6: RuntimeWarning: invalid value encountered in less\n",
      "  xyz[xyz<-1e17]=float('Nan');\n",
      " 90%|█████████ | 758/840 [00:07<00:00, 103.73it/s]<ipython-input-9-accc2319fea8>:6: RuntimeWarning: invalid value encountered in less\n",
      "  xyz[xyz<-1e17]=float('Nan');\n",
      " 92%|█████████▏| 769/840 [00:07<00:00, 103.84it/s]<ipython-input-9-accc2319fea8>:6: RuntimeWarning: invalid value encountered in less\n",
      "  xyz[xyz<-1e17]=float('Nan');\n",
      "<ipython-input-9-accc2319fea8>:6: RuntimeWarning: invalid value encountered in less\n",
      "  xyz[xyz<-1e17]=float('Nan');\n",
      "<ipython-input-9-accc2319fea8>:6: RuntimeWarning: invalid value encountered in less\n",
      "  xyz[xyz<-1e17]=float('Nan');\n",
      "<ipython-input-9-accc2319fea8>:6: RuntimeWarning: invalid value encountered in less\n",
      "  xyz[xyz<-1e17]=float('Nan');\n",
      " 93%|█████████▎| 780/840 [00:07<00:00, 103.21it/s]<ipython-input-9-accc2319fea8>:6: RuntimeWarning: invalid value encountered in less\n",
      "  xyz[xyz<-1e17]=float('Nan');\n",
      "<ipython-input-9-accc2319fea8>:6: RuntimeWarning: invalid value encountered in less\n",
      "  xyz[xyz<-1e17]=float('Nan');\n",
      "<ipython-input-9-accc2319fea8>:6: RuntimeWarning: invalid value encountered in less\n",
      "  xyz[xyz<-1e17]=float('Nan');\n",
      "<ipython-input-9-accc2319fea8>:6: RuntimeWarning: invalid value encountered in less\n",
      "  xyz[xyz<-1e17]=float('Nan');\n",
      "<ipython-input-9-accc2319fea8>:6: RuntimeWarning: invalid value encountered in less\n",
      "  xyz[xyz<-1e17]=float('Nan');\n",
      "<ipython-input-9-accc2319fea8>:6: RuntimeWarning: invalid value encountered in less\n",
      "  xyz[xyz<-1e17]=float('Nan');\n",
      "<ipython-input-9-accc2319fea8>:6: RuntimeWarning: invalid value encountered in less\n",
      "  xyz[xyz<-1e17]=float('Nan');\n",
      " 94%|█████████▍| 791/840 [00:07<00:00, 102.25it/s]<ipython-input-9-accc2319fea8>:6: RuntimeWarning: invalid value encountered in less\n",
      "  xyz[xyz<-1e17]=float('Nan');\n",
      "<ipython-input-9-accc2319fea8>:6: RuntimeWarning: invalid value encountered in less\n",
      "  xyz[xyz<-1e17]=float('Nan');\n",
      "<ipython-input-9-accc2319fea8>:6: RuntimeWarning: invalid value encountered in less\n",
      "  xyz[xyz<-1e17]=float('Nan');\n",
      "<ipython-input-9-accc2319fea8>:6: RuntimeWarning: invalid value encountered in less\n",
      "  xyz[xyz<-1e17]=float('Nan');\n",
      "<ipython-input-9-accc2319fea8>:6: RuntimeWarning: invalid value encountered in less\n",
      "  xyz[xyz<-1e17]=float('Nan');\n",
      "<ipython-input-9-accc2319fea8>:6: RuntimeWarning: invalid value encountered in less\n",
      "  xyz[xyz<-1e17]=float('Nan');\n",
      " 95%|█████████▌| 802/840 [00:07<00:00, 102.64it/s]<ipython-input-9-accc2319fea8>:6: RuntimeWarning: invalid value encountered in less\n",
      "  xyz[xyz<-1e17]=float('Nan');\n",
      "<ipython-input-9-accc2319fea8>:6: RuntimeWarning: invalid value encountered in less\n",
      "  xyz[xyz<-1e17]=float('Nan');\n",
      "<ipython-input-9-accc2319fea8>:6: RuntimeWarning: invalid value encountered in less\n",
      "  xyz[xyz<-1e17]=float('Nan');\n",
      "<ipython-input-9-accc2319fea8>:6: RuntimeWarning: invalid value encountered in less\n",
      "  xyz[xyz<-1e17]=float('Nan');\n",
      "<ipython-input-9-accc2319fea8>:6: RuntimeWarning: invalid value encountered in less\n",
      "  xyz[xyz<-1e17]=float('Nan');\n",
      "<ipython-input-9-accc2319fea8>:6: RuntimeWarning: invalid value encountered in less\n",
      "  xyz[xyz<-1e17]=float('Nan');\n",
      "<ipython-input-9-accc2319fea8>:6: RuntimeWarning: invalid value encountered in less\n",
      "  xyz[xyz<-1e17]=float('Nan');\n",
      "<ipython-input-9-accc2319fea8>:6: RuntimeWarning: invalid value encountered in less\n",
      "  xyz[xyz<-1e17]=float('Nan');\n",
      "<ipython-input-9-accc2319fea8>:6: RuntimeWarning: invalid value encountered in less\n",
      "  xyz[xyz<-1e17]=float('Nan');\n",
      " 97%|█████████▋| 813/840 [00:07<00:00, 102.49it/s]<ipython-input-9-accc2319fea8>:6: RuntimeWarning: invalid value encountered in less\n",
      "  xyz[xyz<-1e17]=float('Nan');\n",
      "<ipython-input-9-accc2319fea8>:6: RuntimeWarning: invalid value encountered in less\n",
      "  xyz[xyz<-1e17]=float('Nan');\n",
      "<ipython-input-9-accc2319fea8>:6: RuntimeWarning: invalid value encountered in less\n",
      "  xyz[xyz<-1e17]=float('Nan');\n",
      "<ipython-input-9-accc2319fea8>:6: RuntimeWarning: invalid value encountered in less\n",
      "  xyz[xyz<-1e17]=float('Nan');\n",
      "<ipython-input-9-accc2319fea8>:6: RuntimeWarning: invalid value encountered in less\n",
      "  xyz[xyz<-1e17]=float('Nan');\n",
      "<ipython-input-9-accc2319fea8>:6: RuntimeWarning: invalid value encountered in less\n",
      "  xyz[xyz<-1e17]=float('Nan');\n",
      " 98%|█████████▊| 824/840 [00:07<00:00, 102.31it/s]<ipython-input-9-accc2319fea8>:6: RuntimeWarning: invalid value encountered in less\n",
      "  xyz[xyz<-1e17]=float('Nan');\n",
      "<ipython-input-9-accc2319fea8>:6: RuntimeWarning: invalid value encountered in less\n",
      "  xyz[xyz<-1e17]=float('Nan');\n",
      "<ipython-input-9-accc2319fea8>:6: RuntimeWarning: invalid value encountered in less\n",
      "  xyz[xyz<-1e17]=float('Nan');\n",
      "<ipython-input-9-accc2319fea8>:6: RuntimeWarning: invalid value encountered in less\n",
      "  xyz[xyz<-1e17]=float('Nan');\n",
      "<ipython-input-9-accc2319fea8>:6: RuntimeWarning: invalid value encountered in less\n",
      "  xyz[xyz<-1e17]=float('Nan');\n",
      " 99%|█████████▉| 835/840 [00:08<00:00, 102.57it/s]<ipython-input-9-accc2319fea8>:6: RuntimeWarning: invalid value encountered in less\n",
      "  xyz[xyz<-1e17]=float('Nan');\n",
      "<ipython-input-9-accc2319fea8>:6: RuntimeWarning: invalid value encountered in less\n",
      "  xyz[xyz<-1e17]=float('Nan');\n",
      "<ipython-input-9-accc2319fea8>:6: RuntimeWarning: invalid value encountered in less\n",
      "  xyz[xyz<-1e17]=float('Nan');\n",
      "<ipython-input-9-accc2319fea8>:6: RuntimeWarning: invalid value encountered in less\n",
      "  xyz[xyz<-1e17]=float('Nan');\n",
      "<ipython-input-9-accc2319fea8>:6: RuntimeWarning: invalid value encountered in less\n",
      "  xyz[xyz<-1e17]=float('Nan');\n",
      "100%|██████████| 840/840 [00:08<00:00, 103.49it/s]\n"
     ]
    }
   ],
   "source": [
    "all_xyz_valid=[]\n",
    "\n",
    "for pdb_id in tqdm(valid_sequences['target_id']):\n",
    "    df = valid_labels[valid_labels[\"pdb_id\"]==pdb_id]\n",
    "    xyz=df[['x_1','y_1','z_1']].to_numpy().astype('float32')\n",
    "    xyz[xyz<-1e17]=float('Nan');\n",
    "    all_xyz_valid.append(xyz)"
   ]
  },
  {
   "cell_type": "code",
   "execution_count": 10,
   "id": "0d4d18b0",
   "metadata": {
    "execution": {
     "iopub.execute_input": "2025-03-31T06:28:31.307292Z",
     "iopub.status.busy": "2025-03-31T06:28:31.306986Z",
     "iopub.status.idle": "2025-03-31T06:28:31.325520Z",
     "shell.execute_reply": "2025-03-31T06:28:31.324599Z"
    },
    "papermill": {
     "duration": 0.124896,
     "end_time": "2025-03-31T06:28:31.326942",
     "exception": false,
     "start_time": "2025-03-31T06:28:31.202046",
     "status": "completed"
    },
    "tags": []
   },
   "outputs": [
    {
     "name": "stdout",
     "output_type": "stream",
     "text": [
      "Longest sequence in train: 4298\n"
     ]
    }
   ],
   "source": [
    "filter_nan_valid = []\n",
    "max_len_valid    = 0\n",
    "\n",
    "for xyz in all_xyz_valid:\n",
    "    if len(xyz) > max_len_valid:\n",
    "        max_len_valid = len(xyz)\n",
    "    filter_nan_valid.append((np.isnan(xyz).mean() <= 0.5) & \\\n",
    "                      (len(xyz)<config['max_len_filter']) & \\\n",
    "                      (len(xyz)>config['min_len_filter']))\n",
    "print(f\"Longest sequence in train: {max_len_valid}\")\n",
    "\n",
    "filter_nan_valid      = np.array(filter_nan_valid)\n",
    "non_nan_indices_valid = np.arange(len(filter_nan_valid))[filter_nan_valid]\n",
    "\n",
    "valid_sequences = valid_sequences.loc[non_nan_indices_valid].reset_index(drop=True)\n",
    "all_xyz_valid   = [all_xyz_valid[i] for i in non_nan_indices_valid]"
   ]
  },
  {
   "cell_type": "code",
   "execution_count": 11,
   "id": "acd712b6",
   "metadata": {
    "execution": {
     "iopub.execute_input": "2025-03-31T06:28:31.466715Z",
     "iopub.status.busy": "2025-03-31T06:28:31.466399Z",
     "iopub.status.idle": "2025-03-31T06:28:31.470789Z",
     "shell.execute_reply": "2025-03-31T06:28:31.469918Z"
    },
    "papermill": {
     "duration": 0.074285,
     "end_time": "2025-03-31T06:28:31.472156",
     "exception": false,
     "start_time": "2025-03-31T06:28:31.397871",
     "status": "completed"
    },
    "tags": []
   },
   "outputs": [],
   "source": [
    "#pack data into a dictionary\n",
    "\n",
    "data={\n",
    "      \"sequence\":train_sequences['sequence'].to_list(),\n",
    "      \"temporal_cutoff\": train_sequences['temporal_cutoff'].to_list(),\n",
    "      \"description\": train_sequences['description'].to_list(),\n",
    "      \"all_sequences\": train_sequences['all_sequences'].to_list(),\n",
    "      \"xyz\": all_xyz\n",
    "}"
   ]
  },
  {
   "cell_type": "code",
   "execution_count": 12,
   "id": "c194b049",
   "metadata": {
    "execution": {
     "iopub.execute_input": "2025-03-31T06:28:31.604624Z",
     "iopub.status.busy": "2025-03-31T06:28:31.604332Z",
     "iopub.status.idle": "2025-03-31T06:28:31.608206Z",
     "shell.execute_reply": "2025-03-31T06:28:31.607565Z"
    },
    "papermill": {
     "duration": 0.071406,
     "end_time": "2025-03-31T06:28:31.609414",
     "exception": false,
     "start_time": "2025-03-31T06:28:31.538008",
     "status": "completed"
    },
    "tags": []
   },
   "outputs": [],
   "source": [
    "#pack data into a dictionary\n",
    "\n",
    "valid_data={\n",
    "      \"sequence\":valid_sequences['sequence'].to_list(),\n",
    "      \"temporal_cutoff\": valid_sequences['temporal_cutoff'].to_list(),\n",
    "      \"description\": valid_sequences['description'].to_list(),\n",
    "      \"all_sequences\": valid_sequences['all_sequences'].to_list(),\n",
    "      \"xyz\": all_xyz_valid\n",
    "}"
   ]
  },
  {
   "cell_type": "markdown",
   "id": "a6732422",
   "metadata": {
    "papermill": {
     "duration": 0.06478,
     "end_time": "2025-03-31T06:28:31.739818",
     "exception": false,
     "start_time": "2025-03-31T06:28:31.675038",
     "status": "completed"
    },
    "tags": []
   },
   "source": [
    "## Step 4: Split train data into train/val/test¶\n",
    "We will simply do a temporal split, because that's how testing is done in structural biology in general (in actual blind tests)"
   ]
  },
  {
   "cell_type": "code",
   "execution_count": 13,
   "id": "5cd3c666",
   "metadata": {
    "execution": {
     "iopub.execute_input": "2025-03-31T06:28:31.870698Z",
     "iopub.status.busy": "2025-03-31T06:28:31.870446Z",
     "iopub.status.idle": "2025-03-31T06:28:31.873377Z",
     "shell.execute_reply": "2025-03-31T06:28:31.872739Z"
    },
    "papermill": {
     "duration": 0.069836,
     "end_time": "2025-03-31T06:28:31.874601",
     "exception": false,
     "start_time": "2025-03-31T06:28:31.804765",
     "status": "completed"
    },
    "tags": []
   },
   "outputs": [],
   "source": [
    "# # Split data into train and test\n",
    "# all_index        = np.arange(len(data['sequence']))\n",
    "# cutoff_date      = pd.Timestamp(config['cutoff_date'])\n",
    "# test_cutoff_date = pd.Timestamp(config['test_cutoff_date'])\n",
    "# train_index      = [i for i, d in enumerate(data['temporal_cutoff']) if pd.Timestamp(d) <= cutoff_date]\n",
    "# test_index       = [i for i, d in enumerate(data['temporal_cutoff']) if pd.Timestamp(d) > cutoff_date and pd.Timestamp(d) <= test_cutoff_date]"
   ]
  },
  {
   "cell_type": "code",
   "execution_count": 14,
   "id": "1a4d69cd",
   "metadata": {
    "execution": {
     "iopub.execute_input": "2025-03-31T06:28:32.006139Z",
     "iopub.status.busy": "2025-03-31T06:28:32.005931Z",
     "iopub.status.idle": "2025-03-31T06:28:32.009743Z",
     "shell.execute_reply": "2025-03-31T06:28:32.008911Z"
    },
    "papermill": {
     "duration": 0.071639,
     "end_time": "2025-03-31T06:28:32.010952",
     "exception": false,
     "start_time": "2025-03-31T06:28:31.939313",
     "status": "completed"
    },
    "tags": []
   },
   "outputs": [
    {
     "name": "stdout",
     "output_type": "stream",
     "text": [
      "Train size: 3412\n",
      "Test size: 764\n"
     ]
    }
   ],
   "source": [
    "print(f\"Train size: {len(train_sequences)}\")\n",
    "print(f\"Test size: {len(valid_sequences)}\")"
   ]
  },
  {
   "cell_type": "markdown",
   "id": "6936f1b3",
   "metadata": {
    "papermill": {
     "duration": 0.064679,
     "end_time": "2025-03-31T06:28:32.141158",
     "exception": false,
     "start_time": "2025-03-31T06:28:32.076479",
     "status": "completed"
    },
    "tags": []
   },
   "source": [
    "## Step 5: Get pytorch dataset¶"
   ]
  },
  {
   "cell_type": "code",
   "execution_count": 15,
   "id": "eab1c33f",
   "metadata": {
    "execution": {
     "iopub.execute_input": "2025-03-31T06:28:32.272059Z",
     "iopub.status.busy": "2025-03-31T06:28:32.271820Z",
     "iopub.status.idle": "2025-03-31T06:28:32.278049Z",
     "shell.execute_reply": "2025-03-31T06:28:32.277433Z"
    },
    "papermill": {
     "duration": 0.07295,
     "end_time": "2025-03-31T06:28:32.279135",
     "exception": false,
     "start_time": "2025-03-31T06:28:32.206185",
     "status": "completed"
    },
    "tags": []
   },
   "outputs": [],
   "source": [
    "from torch.utils.data import Dataset, DataLoader\n",
    "from ast import literal_eval\n",
    "\n",
    "def get_ct(bp,s):\n",
    "    ct_matrix=np.zeros((len(s),len(s)))\n",
    "    for b in bp:\n",
    "        ct_matrix[b[0]-1,b[1]-1]=1\n",
    "    return ct_matrix\n",
    "\n",
    "class RNA3D_Dataset(Dataset):\n",
    "    def __init__(self,indices,data):\n",
    "        self.indices  = indices\n",
    "        self.data     = data\n",
    "        self.tokens   = {nt:i for i,nt in enumerate('ACGU')}\n",
    "\n",
    "    def __len__(self):\n",
    "        return len(self.indices)\n",
    "    \n",
    "    def __getitem__(self, idx):\n",
    "\n",
    "        idx      = self.indices[idx]\n",
    "        sequence = [self.tokens[nt] for nt in (self.data['sequence'][idx])]\n",
    "        sequence = np.array(sequence)\n",
    "        sequence = torch.tensor(sequence)\n",
    "\n",
    "        #get C1' xyz\n",
    "        xyz      = self.data['xyz'][idx]\n",
    "        xyz      = torch.tensor(np.array(xyz))\n",
    "\n",
    "\n",
    "        if len(sequence)>config['max_len']:\n",
    "            crop_start  = np.random.randint(len(sequence)-config['max_len'])\n",
    "            crop_end    = crop_start+config['max_len']\n",
    "            sequence    = sequence[crop_start:crop_end]\n",
    "            xyz         = xyz[crop_start:crop_end]\n",
    "            \n",
    "        return {'sequence' : sequence, 'xyz' : xyz}"
   ]
  },
  {
   "cell_type": "code",
   "execution_count": 16,
   "id": "f5f8f12f",
   "metadata": {
    "execution": {
     "iopub.execute_input": "2025-03-31T06:28:32.411977Z",
     "iopub.status.busy": "2025-03-31T06:28:32.411753Z",
     "iopub.status.idle": "2025-03-31T06:28:32.414662Z",
     "shell.execute_reply": "2025-03-31T06:28:32.414087Z"
    },
    "papermill": {
     "duration": 0.070229,
     "end_time": "2025-03-31T06:28:32.415813",
     "exception": false,
     "start_time": "2025-03-31T06:28:32.345584",
     "status": "completed"
    },
    "tags": []
   },
   "outputs": [],
   "source": [
    "train_dataset = RNA3D_Dataset(train_sequences.index,data)\n",
    "val_dataset   = RNA3D_Dataset(valid_sequences.index,valid_data)"
   ]
  },
  {
   "cell_type": "code",
   "execution_count": 17,
   "id": "54eb1157",
   "metadata": {
    "execution": {
     "iopub.execute_input": "2025-03-31T06:28:32.546170Z",
     "iopub.status.busy": "2025-03-31T06:28:32.545949Z",
     "iopub.status.idle": "2025-03-31T06:28:32.548939Z",
     "shell.execute_reply": "2025-03-31T06:28:32.548188Z"
    },
    "papermill": {
     "duration": 0.069172,
     "end_time": "2025-03-31T06:28:32.550152",
     "exception": false,
     "start_time": "2025-03-31T06:28:32.480980",
     "status": "completed"
    },
    "tags": []
   },
   "outputs": [],
   "source": [
    "# for i in range(len(val_dataset)):\n",
    "#     try:\n",
    "#         length = len(val_dataset[i]['sequence'])\n",
    "#     except Exception as e:\n",
    "#         print(i,e)"
   ]
  },
  {
   "cell_type": "code",
   "execution_count": 18,
   "id": "a0fa435e",
   "metadata": {
    "execution": {
     "iopub.execute_input": "2025-03-31T06:28:32.681142Z",
     "iopub.status.busy": "2025-03-31T06:28:32.680921Z",
     "iopub.status.idle": "2025-03-31T06:28:32.754057Z",
     "shell.execute_reply": "2025-03-31T06:28:32.753306Z"
    },
    "papermill": {
     "duration": 0.139638,
     "end_time": "2025-03-31T06:28:32.755170",
     "exception": false,
     "start_time": "2025-03-31T06:28:32.615532",
     "status": "completed"
    },
    "tags": []
   },
   "outputs": [
    {
     "name": "stdout",
     "output_type": "stream",
     "text": [
      "Removing sample 26: sequence shape torch.Size([13]), xyz shape torch.Size([12, 3])\n",
      "Removing sample 27: sequence shape torch.Size([29]), xyz shape torch.Size([28, 3])\n",
      "Removing sample 30: sequence shape torch.Size([19]), xyz shape torch.Size([18, 3])\n",
      "Removing sample 34: sequence shape torch.Size([44]), xyz shape torch.Size([43, 3])\n",
      "Original dataset size: 764\n",
      "Filtered dataset size: 760\n"
     ]
    }
   ],
   "source": [
    "def filter_mismatched_samples(dataset):\n",
    "    valid_indices = []\n",
    "    \n",
    "    for i in range(len(dataset)):\n",
    "        sample = dataset[i]\n",
    "        # Check if the first dimension of sequence matches the first dimension of xyz\n",
    "        if sample['sequence'].shape[0] == sample['xyz'].shape[0]:\n",
    "            valid_indices.append(i)\n",
    "        else:\n",
    "            print(f\"Removing sample {i}: sequence shape {sample['sequence'].shape}, xyz shape {sample['xyz'].shape}\")\n",
    "    \n",
    "    # Create a filtered dataset using a subset of the original dataset\n",
    "    from torch.utils.data import Subset\n",
    "    filtered_dataset = Subset(dataset, valid_indices)\n",
    "    \n",
    "    print(f\"Original dataset size: {len(dataset)}\")\n",
    "    print(f\"Filtered dataset size: {len(filtered_dataset)}\")\n",
    "    \n",
    "    return filtered_dataset\n",
    "\n",
    "val_dataset = filter_mismatched_samples(val_dataset)\n"
   ]
  },
  {
   "cell_type": "code",
   "execution_count": 19,
   "id": "fb82a0c2",
   "metadata": {
    "execution": {
     "iopub.execute_input": "2025-03-31T06:28:32.886094Z",
     "iopub.status.busy": "2025-03-31T06:28:32.885887Z",
     "iopub.status.idle": "2025-03-31T06:28:32.889552Z",
     "shell.execute_reply": "2025-03-31T06:28:32.888877Z"
    },
    "papermill": {
     "duration": 0.070466,
     "end_time": "2025-03-31T06:28:32.890715",
     "exception": false,
     "start_time": "2025-03-31T06:28:32.820249",
     "status": "completed"
    },
    "tags": []
   },
   "outputs": [],
   "source": [
    "train_loader = DataLoader(train_dataset,batch_size=1,shuffle=True)\n",
    "val_loader   = DataLoader(val_dataset,batch_size=1,shuffle=False)"
   ]
  },
  {
   "cell_type": "markdown",
   "id": "54678171",
   "metadata": {
    "papermill": {
     "duration": 0.064884,
     "end_time": "2025-03-31T06:28:33.022317",
     "exception": false,
     "start_time": "2025-03-31T06:28:32.957433",
     "status": "completed"
    },
    "tags": []
   },
   "source": [
    "## Step 6: Get RibonanzaNet¶\n",
    "We will add a linear layer to predict xyz of C1' atoms"
   ]
  },
  {
   "cell_type": "code",
   "execution_count": 20,
   "id": "b2893597",
   "metadata": {
    "execution": {
     "iopub.execute_input": "2025-03-31T06:28:33.153805Z",
     "iopub.status.busy": "2025-03-31T06:28:33.153578Z",
     "iopub.status.idle": "2025-03-31T06:28:37.329978Z",
     "shell.execute_reply": "2025-03-31T06:28:37.328893Z"
    },
    "papermill": {
     "duration": 4.244063,
     "end_time": "2025-03-31T06:28:37.332026",
     "exception": false,
     "start_time": "2025-03-31T06:28:33.087963",
     "status": "completed"
    },
    "tags": []
   },
   "outputs": [
    {
     "name": "stdout",
     "output_type": "stream",
     "text": [
      "Requirement already satisfied: einops in /usr/local/lib/python3.10/dist-packages (0.8.0)\r\n"
     ]
    }
   ],
   "source": [
    "! pip install einops"
   ]
  },
  {
   "cell_type": "code",
   "execution_count": 21,
   "id": "6e5b2fed",
   "metadata": {
    "execution": {
     "iopub.execute_input": "2025-03-31T06:28:37.467682Z",
     "iopub.status.busy": "2025-03-31T06:28:37.467337Z",
     "iopub.status.idle": "2025-03-31T06:28:41.102637Z",
     "shell.execute_reply": "2025-03-31T06:28:41.101695Z"
    },
    "papermill": {
     "duration": 3.703377,
     "end_time": "2025-03-31T06:28:41.104232",
     "exception": false,
     "start_time": "2025-03-31T06:28:37.400855",
     "status": "completed"
    },
    "tags": []
   },
   "outputs": [],
   "source": [
    "import sys\n",
    "\n",
    "sys.path.append(\"/kaggle/input/ribonanzanet2d-final\")\n",
    "\n",
    "\n",
    "from Network import *\n",
    "import yaml\n",
    "\n",
    "class Config:\n",
    "    def __init__(self, **entries):\n",
    "        self.__dict__.update(entries)\n",
    "        self.entries=entries\n",
    "\n",
    "    def print(self):\n",
    "        print(self.entries)\n",
    "\n",
    "def load_config_from_yaml(file_path):\n",
    "    with open(file_path, 'r') as file:\n",
    "        config = yaml.safe_load(file)\n",
    "    return Config(**config)\n",
    "\n",
    "class finetuned_RibonanzaNet(RibonanzaNet):\n",
    "    def __init__(self, config, pretrained=False):\n",
    "        config.dropout=0.1\n",
    "        super(finetuned_RibonanzaNet, self).__init__(config)\n",
    "        #self.ct_predictor=nn.Linear(64,1)\n",
    "        if pretrained:\n",
    "            self.load_state_dict(torch.load(\"/kaggle/input/ribonanzanet-weights/RibonanzaNet.pt\",map_location='cpu'))\n",
    "        \n",
    "        self.dropout=nn.Dropout(0.0)\n",
    "        self.xyz_predictor=nn.Linear(256,3)\n",
    "\n",
    "    def forward(self,src):\n",
    "        \n",
    "        #with torch.no_grad():\n",
    "        sequence_features, pairwise_features=self.get_embeddings(src, torch.ones_like(src).long().to(src.device))\n",
    "        xyz=self.xyz_predictor(sequence_features)\n",
    "\n",
    "        return xyz"
   ]
  },
  {
   "cell_type": "code",
   "execution_count": 22,
   "id": "4eefa6a4",
   "metadata": {
    "execution": {
     "iopub.execute_input": "2025-03-31T06:28:41.237038Z",
     "iopub.status.busy": "2025-03-31T06:28:41.236653Z",
     "iopub.status.idle": "2025-03-31T06:28:42.227133Z",
     "shell.execute_reply": "2025-03-31T06:28:42.226438Z"
    },
    "papermill": {
     "duration": 1.057874,
     "end_time": "2025-03-31T06:28:42.228621",
     "exception": false,
     "start_time": "2025-03-31T06:28:41.170747",
     "status": "completed"
    },
    "tags": []
   },
   "outputs": [
    {
     "name": "stdout",
     "output_type": "stream",
     "text": [
      "constructing 9 ConvTransformerEncoderLayers\n"
     ]
    },
    {
     "name": "stderr",
     "output_type": "stream",
     "text": [
      "<ipython-input-21-e7f7b6f52864>:28: FutureWarning: You are using `torch.load` with `weights_only=False` (the current default value), which uses the default pickle module implicitly. It is possible to construct malicious pickle data which will execute arbitrary code during unpickling (See https://github.com/pytorch/pytorch/blob/main/SECURITY.md#untrusted-models for more details). In a future release, the default value for `weights_only` will be flipped to `True`. This limits the functions that could be executed during unpickling. Arbitrary objects will no longer be allowed to be loaded via this mode unless they are explicitly allowlisted by the user via `torch.serialization.add_safe_globals`. We recommend you start setting `weights_only=True` for any use case where you don't have full control of the loaded file. Please open an issue on GitHub for any issues related to this experimental feature.\n",
      "  self.load_state_dict(torch.load(\"/kaggle/input/ribonanzanet-weights/RibonanzaNet.pt\",map_location='cpu'))\n"
     ]
    }
   ],
   "source": [
    "model = finetuned_RibonanzaNet(load_config_from_yaml(\"/kaggle/input/ribonanzanet2d-final/configs/pairwise.yaml\"),pretrained=True).cuda()"
   ]
  },
  {
   "cell_type": "markdown",
   "id": "b3d7792e",
   "metadata": {
    "papermill": {
     "duration": 0.06449,
     "end_time": "2025-03-31T06:28:42.359563",
     "exception": false,
     "start_time": "2025-03-31T06:28:42.295073",
     "status": "completed"
    },
    "tags": []
   },
   "source": [
    "## Step 7: Training loop¶\n",
    "we will use dRMSD loss on the predicted xyz. the loss function is invariant to translations, rotations, and reflections. because dRMSD is invariant to reflections, it cannot distinguish chiral structures, so there may be better loss functions"
   ]
  },
  {
   "cell_type": "code",
   "execution_count": 23,
   "id": "bd53d920",
   "metadata": {
    "execution": {
     "iopub.execute_input": "2025-03-31T06:28:42.493511Z",
     "iopub.status.busy": "2025-03-31T06:28:42.493210Z",
     "iopub.status.idle": "2025-03-31T06:28:42.503514Z",
     "shell.execute_reply": "2025-03-31T06:28:42.502889Z"
    },
    "papermill": {
     "duration": 0.078843,
     "end_time": "2025-03-31T06:28:42.504822",
     "exception": false,
     "start_time": "2025-03-31T06:28:42.425979",
     "status": "completed"
    },
    "tags": []
   },
   "outputs": [],
   "source": [
    "def calculate_distance_matrix(X,Y,epsilon=1e-4):\n",
    "    return (torch.square(X[:,None]-Y[None,:])+epsilon).sum(-1).sqrt()\n",
    "\n",
    "\n",
    "def dRMSD(pred_x,\n",
    "          pred_y,\n",
    "          gt_x,\n",
    "          gt_y,\n",
    "          epsilon=1e-4,Z=10,d_clamp=None):\n",
    "    pred_dm=calculate_distance_matrix(pred_x,pred_y)\n",
    "    gt_dm=calculate_distance_matrix(gt_x,gt_y)\n",
    "\n",
    "    mask=~torch.isnan(gt_dm)\n",
    "    mask[torch.eye(mask.shape[0]).bool()]=False\n",
    "\n",
    "    if d_clamp is not None:\n",
    "        rmsd=(torch.square(pred_dm[mask]-gt_dm[mask])+epsilon).clip(0,d_clamp**2)\n",
    "    else:\n",
    "        rmsd=torch.square(pred_dm[mask]-gt_dm[mask])+epsilon\n",
    "\n",
    "    return rmsd.sqrt().mean()/Z\n",
    "\n",
    "def local_dRMSD(pred_x,\n",
    "          pred_y,\n",
    "          gt_x,\n",
    "          gt_y,\n",
    "          epsilon=1e-4,Z=10,d_clamp=30):\n",
    "    pred_dm=calculate_distance_matrix(pred_x,pred_y)\n",
    "    gt_dm=calculate_distance_matrix(gt_x,gt_y)\n",
    "\n",
    "\n",
    "\n",
    "    mask=(~torch.isnan(gt_dm))*(gt_dm<d_clamp)\n",
    "    mask[torch.eye(mask.shape[0]).bool()]=False\n",
    "\n",
    "\n",
    "\n",
    "    rmsd=torch.square(pred_dm[mask]-gt_dm[mask])+epsilon\n",
    "    # rmsd=(torch.square(pred_dm[mask]-gt_dm[mask])+epsilon).sqrt()/Z\n",
    "    #rmsd=torch.abs(pred_dm[mask]-gt_dm[mask])/Z\n",
    "    return rmsd.sqrt().mean()/Z\n",
    "\n",
    "def dRMAE(pred_x,\n",
    "          pred_y,\n",
    "          gt_x,\n",
    "          gt_y,\n",
    "          epsilon=1e-4,Z=10,d_clamp=None):\n",
    "    flag = False\n",
    "    pred_dm=calculate_distance_matrix(pred_x,pred_y)\n",
    "    gt_dm=calculate_distance_matrix(gt_x,gt_y)\n",
    "\n",
    "\n",
    "    if pred_dm.shape[0] != gt_dm.shape[0]:\n",
    "        print(f\"Got it\")\n",
    "        print(pred_dm.shape)\n",
    "        print(gt_dm.shape)\n",
    "        flag = True\n",
    "        \n",
    "    mask=~torch.isnan(gt_dm)\n",
    "    \n",
    "    mask[torch.eye(mask.shape[0]).bool()]=False\n",
    "\n",
    "    rmsd=torch.abs(pred_dm[mask]-gt_dm[mask])\n",
    "\n",
    "    return rmsd.mean()/Z, flag\n",
    "\n",
    "import torch\n",
    "\n",
    "def align_svd_mae(input, target, Z=10):\n",
    "    \"\"\"\n",
    "    Aligns the input (Nx3) to target (Nx3) using SVD-based Procrustes alignment\n",
    "    and computes RMSD loss.\n",
    "    \n",
    "    Args:\n",
    "        input (torch.Tensor): Nx3 tensor representing the input points.\n",
    "        target (torch.Tensor): Nx3 tensor representing the target points.\n",
    "    \n",
    "    Returns:\n",
    "        aligned_input (torch.Tensor): Nx3 aligned input.\n",
    "        rmsd_loss (torch.Tensor): RMSD loss.\n",
    "    \"\"\"\n",
    "    assert input.shape == target.shape, \"Input and target must have the same shape\"\n",
    "\n",
    "    #mask \n",
    "    mask=~torch.isnan(target.sum(-1))\n",
    "\n",
    "    input=input[mask]\n",
    "    target=target[mask]\n",
    "    \n",
    "    # Compute centroids\n",
    "    centroid_input = input.mean(dim=0, keepdim=True)\n",
    "    centroid_target = target.mean(dim=0, keepdim=True)\n",
    "\n",
    "    # Center the points\n",
    "    input_centered = input - centroid_input.detach()\n",
    "    target_centered = target - centroid_target\n",
    "\n",
    "    # Compute covariance matrix\n",
    "    cov_matrix = input_centered.T @ target_centered\n",
    "\n",
    "    # SVD to find optimal rotation\n",
    "    U, S, Vt = torch.svd(cov_matrix)\n",
    "\n",
    "    # Compute rotation matrix\n",
    "    R = Vt @ U.T\n",
    "\n",
    "    # Ensure a proper rotation (det(R) = 1, no reflection)\n",
    "    if torch.det(R) < 0:\n",
    "        Vt[-1, :] *= -1\n",
    "        R = Vt @ U.T\n",
    "\n",
    "    # Rotate input\n",
    "    aligned_input = (input_centered @ R.T.detach()) + centroid_target.detach()\n",
    "    \n",
    "    return torch.abs(aligned_input-target).mean()/Z"
   ]
  },
  {
   "cell_type": "code",
   "execution_count": 24,
   "id": "24bf6524",
   "metadata": {
    "execution": {
     "iopub.execute_input": "2025-03-31T06:28:42.636133Z",
     "iopub.status.busy": "2025-03-31T06:28:42.635923Z",
     "iopub.status.idle": "2025-03-31T15:31:26.289792Z",
     "shell.execute_reply": "2025-03-31T15:31:26.288886Z"
    },
    "papermill": {
     "duration": 32563.721471,
     "end_time": "2025-03-31T15:31:26.291365",
     "exception": false,
     "start_time": "2025-03-31T06:28:42.569894",
     "status": "completed"
    },
    "tags": []
   },
   "outputs": [
    {
     "name": "stderr",
     "output_type": "stream",
     "text": [
      "  0%|          | 0/3412 [00:00<?, ?it/s]/usr/local/lib/python3.10/dist-packages/torch/_dynamo/eval_frame.py:632: UserWarning: torch.utils.checkpoint: the use_reentrant parameter should be passed explicitly. In version 2.5 we will raise an exception if use_reentrant is not passed. use_reentrant=False is recommended, but if you need to preserve the current default behavior, you can pass use_reentrant=True. Refer to docs for more details on the differences between the two variants.\n",
      "  return fn(*args, **kwargs)\n",
      "Epoch 1 Loss: 2.63013479079514 OOMs: 0: 100%|██████████| 3412/3412 [10:07<00:00,  5.61it/s]\n",
      "  0%|          | 0/760 [00:00<?, ?it/s]/usr/local/lib/python3.10/dist-packages/torch/utils/checkpoint.py:87: UserWarning: None of the inputs have requires_grad=True. Gradients will be None\n",
      "  warnings.warn(\n",
      "100%|██████████| 760/760 [00:45<00:00, 16.83it/s]\n"
     ]
    },
    {
     "name": "stdout",
     "output_type": "stream",
     "text": [
      "val loss: 1.0122510364377184\n"
     ]
    },
    {
     "name": "stderr",
     "output_type": "stream",
     "text": [
      "Epoch 2 Loss: 1.6991498854976466 OOMs: 0: 100%|██████████| 3412/3412 [10:05<00:00,  5.64it/s]\n",
      "100%|██████████| 760/760 [00:45<00:00, 16.80it/s]\n"
     ]
    },
    {
     "name": "stdout",
     "output_type": "stream",
     "text": [
      "val loss: 0.825936627623282\n"
     ]
    },
    {
     "name": "stderr",
     "output_type": "stream",
     "text": [
      "Epoch 3 Loss: 1.448760587394517 OOMs: 0: 100%|██████████| 3412/3412 [10:07<00:00,  5.61it/s]\n",
      "100%|██████████| 760/760 [00:45<00:00, 16.77it/s]\n"
     ]
    },
    {
     "name": "stdout",
     "output_type": "stream",
     "text": [
      "val loss: 0.7578543737236606\n"
     ]
    },
    {
     "name": "stderr",
     "output_type": "stream",
     "text": [
      "Epoch 4 Loss: 1.2737084365551385 OOMs: 0: 100%|██████████| 3412/3412 [10:06<00:00,  5.63it/s]\n",
      "100%|██████████| 760/760 [00:45<00:00, 16.82it/s]\n"
     ]
    },
    {
     "name": "stdout",
     "output_type": "stream",
     "text": [
      "val loss: 0.6605237421040472\n"
     ]
    },
    {
     "name": "stderr",
     "output_type": "stream",
     "text": [
      "Epoch 5 Loss: 1.1466113532580007 OOMs: 0: 100%|██████████| 3412/3412 [10:09<00:00,  5.60it/s]\n",
      "100%|██████████| 760/760 [00:45<00:00, 16.80it/s]\n"
     ]
    },
    {
     "name": "stdout",
     "output_type": "stream",
     "text": [
      "val loss: 0.6187622575089335\n"
     ]
    },
    {
     "name": "stderr",
     "output_type": "stream",
     "text": [
      "Epoch 6 Loss: 1.0557277673005987 OOMs: 0: 100%|██████████| 3412/3412 [10:05<00:00,  5.63it/s]\n",
      "100%|██████████| 760/760 [00:45<00:00, 16.74it/s]\n"
     ]
    },
    {
     "name": "stdout",
     "output_type": "stream",
     "text": [
      "val loss: 0.603022581897676\n"
     ]
    },
    {
     "name": "stderr",
     "output_type": "stream",
     "text": [
      "Epoch 7 Loss: 0.9802063234098002 OOMs: 0: 100%|██████████| 3412/3412 [10:07<00:00,  5.62it/s]\n",
      "100%|██████████| 760/760 [00:45<00:00, 16.79it/s]\n"
     ]
    },
    {
     "name": "stdout",
     "output_type": "stream",
     "text": [
      "val loss: 0.604051398809411\n"
     ]
    },
    {
     "name": "stderr",
     "output_type": "stream",
     "text": [
      "Epoch 8 Loss: 0.9211117105486455 OOMs: 0: 100%|██████████| 3412/3412 [10:05<00:00,  5.63it/s]\n",
      "100%|██████████| 760/760 [00:44<00:00, 16.92it/s]\n"
     ]
    },
    {
     "name": "stdout",
     "output_type": "stream",
     "text": [
      "val loss: 0.5748598375014569\n"
     ]
    },
    {
     "name": "stderr",
     "output_type": "stream",
     "text": [
      "Epoch 9 Loss: 0.874432262841171 OOMs: 0: 100%|██████████| 3412/3412 [09:52<00:00,  5.76it/s]\n",
      "100%|██████████| 760/760 [00:44<00:00, 17.04it/s]\n"
     ]
    },
    {
     "name": "stdout",
     "output_type": "stream",
     "text": [
      "val loss: 0.569460204665206\n"
     ]
    },
    {
     "name": "stderr",
     "output_type": "stream",
     "text": [
      "Epoch 10 Loss: 0.8308126990708489 OOMs: 0: 100%|██████████| 3412/3412 [09:55<00:00,  5.73it/s]\n",
      "100%|██████████| 760/760 [00:45<00:00, 16.86it/s]\n"
     ]
    },
    {
     "name": "stdout",
     "output_type": "stream",
     "text": [
      "val loss: 0.5445793320277804\n"
     ]
    },
    {
     "name": "stderr",
     "output_type": "stream",
     "text": [
      "Epoch 11 Loss: 0.798288127951158 OOMs: 0: 100%|██████████| 3412/3412 [10:01<00:00,  5.68it/s]\n",
      "100%|██████████| 760/760 [00:44<00:00, 17.06it/s]\n"
     ]
    },
    {
     "name": "stdout",
     "output_type": "stream",
     "text": [
      "val loss: 0.5233549134217594\n"
     ]
    },
    {
     "name": "stderr",
     "output_type": "stream",
     "text": [
      "Epoch 12 Loss: 0.765400683837053 OOMs: 0: 100%|██████████| 3412/3412 [09:56<00:00,  5.72it/s]\n",
      "100%|██████████| 760/760 [00:45<00:00, 16.83it/s]\n"
     ]
    },
    {
     "name": "stdout",
     "output_type": "stream",
     "text": [
      "val loss: 0.5261005681890406\n"
     ]
    },
    {
     "name": "stderr",
     "output_type": "stream",
     "text": [
      "Epoch 13 Loss: 0.7343827488309194 OOMs: 0: 100%|██████████| 3412/3412 [10:02<00:00,  5.66it/s]\n",
      "100%|██████████| 760/760 [00:45<00:00, 16.87it/s]\n"
     ]
    },
    {
     "name": "stdout",
     "output_type": "stream",
     "text": [
      "val loss: 0.5093606946989894\n"
     ]
    },
    {
     "name": "stderr",
     "output_type": "stream",
     "text": [
      "Epoch 14 Loss: 0.7113317568619394 OOMs: 0: 100%|██████████| 3412/3412 [10:02<00:00,  5.66it/s]\n",
      "100%|██████████| 760/760 [00:45<00:00, 16.73it/s]\n"
     ]
    },
    {
     "name": "stdout",
     "output_type": "stream",
     "text": [
      "val loss: 0.5247547588017034\n"
     ]
    },
    {
     "name": "stderr",
     "output_type": "stream",
     "text": [
      "Epoch 15 Loss: 0.6863622933075898 OOMs: 0: 100%|██████████| 3412/3412 [10:00<00:00,  5.68it/s]\n",
      "100%|██████████| 760/760 [00:44<00:00, 16.94it/s]\n"
     ]
    },
    {
     "name": "stdout",
     "output_type": "stream",
     "text": [
      "val loss: 0.5137224103275099\n"
     ]
    },
    {
     "name": "stderr",
     "output_type": "stream",
     "text": [
      "Epoch 16 Loss: 0.6656217974548393 OOMs: 0: 100%|██████████| 3412/3412 [10:00<00:00,  5.68it/s]\n",
      "100%|██████████| 760/760 [00:45<00:00, 16.84it/s]\n"
     ]
    },
    {
     "name": "stdout",
     "output_type": "stream",
     "text": [
      "val loss: 0.4957782459445298\n"
     ]
    },
    {
     "name": "stderr",
     "output_type": "stream",
     "text": [
      "Epoch 17 Loss: 0.6508533743484184 OOMs: 0: 100%|██████████| 3412/3412 [10:01<00:00,  5.67it/s]\n",
      "100%|██████████| 760/760 [00:45<00:00, 16.61it/s]\n"
     ]
    },
    {
     "name": "stdout",
     "output_type": "stream",
     "text": [
      "val loss: 0.5024764935044865\n"
     ]
    },
    {
     "name": "stderr",
     "output_type": "stream",
     "text": [
      "Epoch 18 Loss: 0.6288595841815401 OOMs: 0: 100%|██████████| 3412/3412 [09:58<00:00,  5.70it/s]\n",
      "100%|██████████| 760/760 [00:44<00:00, 16.95it/s]\n"
     ]
    },
    {
     "name": "stdout",
     "output_type": "stream",
     "text": [
      "val loss: 0.5108312939097615\n"
     ]
    },
    {
     "name": "stderr",
     "output_type": "stream",
     "text": [
      "Epoch 19 Loss: 0.6152396792412712 OOMs: 0: 100%|██████████| 3412/3412 [09:58<00:00,  5.70it/s]\n",
      "100%|██████████| 760/760 [00:44<00:00, 16.94it/s]\n"
     ]
    },
    {
     "name": "stdout",
     "output_type": "stream",
     "text": [
      "val loss: 0.4982888803474213\n"
     ]
    },
    {
     "name": "stderr",
     "output_type": "stream",
     "text": [
      "Epoch 20 Loss: 0.598826937200578 OOMs: 0: 100%|██████████| 3412/3412 [10:03<00:00,  5.66it/s]\n",
      "100%|██████████| 760/760 [00:45<00:00, 16.76it/s]\n"
     ]
    },
    {
     "name": "stdout",
     "output_type": "stream",
     "text": [
      "val loss: 0.5126010220693914\n"
     ]
    },
    {
     "name": "stderr",
     "output_type": "stream",
     "text": [
      "Epoch 21 Loss: 0.5872691464495756 OOMs: 0: 100%|██████████| 3412/3412 [10:08<00:00,  5.61it/s]\n",
      "100%|██████████| 760/760 [00:45<00:00, 16.76it/s]\n"
     ]
    },
    {
     "name": "stdout",
     "output_type": "stream",
     "text": [
      "val loss: 0.48945972292536966\n"
     ]
    },
    {
     "name": "stderr",
     "output_type": "stream",
     "text": [
      "Epoch 22 Loss: 0.5727332368021414 OOMs: 0: 100%|██████████| 3412/3412 [10:09<00:00,  5.60it/s]\n",
      "100%|██████████| 760/760 [00:45<00:00, 16.80it/s]\n"
     ]
    },
    {
     "name": "stdout",
     "output_type": "stream",
     "text": [
      "val loss: 0.48521986914994686\n"
     ]
    },
    {
     "name": "stderr",
     "output_type": "stream",
     "text": [
      "Epoch 23 Loss: 0.5575436443780469 OOMs: 0: 100%|██████████| 3412/3412 [10:03<00:00,  5.65it/s]\n",
      "100%|██████████| 760/760 [00:44<00:00, 16.92it/s]\n"
     ]
    },
    {
     "name": "stdout",
     "output_type": "stream",
     "text": [
      "val loss: 0.4862393673509359\n"
     ]
    },
    {
     "name": "stderr",
     "output_type": "stream",
     "text": [
      "Epoch 24 Loss: 0.550487911221675 OOMs: 0: 100%|██████████| 3412/3412 [10:02<00:00,  5.67it/s]\n",
      "100%|██████████| 760/760 [00:45<00:00, 16.77it/s]\n"
     ]
    },
    {
     "name": "stdout",
     "output_type": "stream",
     "text": [
      "val loss: 0.4562255154608896\n"
     ]
    },
    {
     "name": "stderr",
     "output_type": "stream",
     "text": [
      "Epoch 25 Loss: 0.5383335867807146 OOMs: 0: 100%|██████████| 3412/3412 [10:04<00:00,  5.64it/s]\n",
      "100%|██████████| 760/760 [00:45<00:00, 16.80it/s]\n"
     ]
    },
    {
     "name": "stdout",
     "output_type": "stream",
     "text": [
      "val loss: 0.47107328176498414\n"
     ]
    },
    {
     "name": "stderr",
     "output_type": "stream",
     "text": [
      "Epoch 26 Loss: 0.5269554027302709 OOMs: 0: 100%|██████████| 3412/3412 [10:03<00:00,  5.66it/s]\n",
      "100%|██████████| 760/760 [00:45<00:00, 16.89it/s]\n"
     ]
    },
    {
     "name": "stdout",
     "output_type": "stream",
     "text": [
      "val loss: 0.45454770509937875\n"
     ]
    },
    {
     "name": "stderr",
     "output_type": "stream",
     "text": [
      "Epoch 27 Loss: 0.5198747554896584 OOMs: 0: 100%|██████████| 3412/3412 [10:12<00:00,  5.57it/s]\n",
      "100%|██████████| 760/760 [00:45<00:00, 16.65it/s]\n"
     ]
    },
    {
     "name": "stdout",
     "output_type": "stream",
     "text": [
      "val loss: 0.4510059370659292\n"
     ]
    },
    {
     "name": "stderr",
     "output_type": "stream",
     "text": [
      "Epoch 28 Loss: 0.5089436021086444 OOMs: 0: 100%|██████████| 3412/3412 [10:13<00:00,  5.56it/s]\n",
      "100%|██████████| 760/760 [00:45<00:00, 16.77it/s]\n"
     ]
    },
    {
     "name": "stdout",
     "output_type": "stream",
     "text": [
      "val loss: 0.45773747229066336\n"
     ]
    },
    {
     "name": "stderr",
     "output_type": "stream",
     "text": [
      "Epoch 29 Loss: 0.5010320884344831 OOMs: 0: 100%|██████████| 3412/3412 [10:09<00:00,  5.60it/s]\n",
      "100%|██████████| 760/760 [00:45<00:00, 16.68it/s]\n"
     ]
    },
    {
     "name": "stdout",
     "output_type": "stream",
     "text": [
      "val loss: 0.4582272725866029\n"
     ]
    },
    {
     "name": "stderr",
     "output_type": "stream",
     "text": [
      "Epoch 30 Loss: 0.49542009605996634 OOMs: 0: 100%|██████████| 3412/3412 [10:06<00:00,  5.63it/s]\n",
      "100%|██████████| 760/760 [00:45<00:00, 16.76it/s]\n"
     ]
    },
    {
     "name": "stdout",
     "output_type": "stream",
     "text": [
      "val loss: 0.44534884708394346\n"
     ]
    },
    {
     "name": "stderr",
     "output_type": "stream",
     "text": [
      "Epoch 31 Loss: 0.48246341187327857 OOMs: 0: 100%|██████████| 3412/3412 [10:20<00:00,  5.50it/s]\n",
      "100%|██████████| 760/760 [00:46<00:00, 16.31it/s]\n"
     ]
    },
    {
     "name": "stdout",
     "output_type": "stream",
     "text": [
      "val loss: 0.4643015937340495\n"
     ]
    },
    {
     "name": "stderr",
     "output_type": "stream",
     "text": [
      "Epoch 32 Loss: 0.4787195046505468 OOMs: 0: 100%|██████████| 3412/3412 [11:14<00:00,  5.06it/s]\n",
      "100%|██████████| 760/760 [00:49<00:00, 15.46it/s]\n"
     ]
    },
    {
     "name": "stdout",
     "output_type": "stream",
     "text": [
      "val loss: 0.43284502307835376\n"
     ]
    },
    {
     "name": "stderr",
     "output_type": "stream",
     "text": [
      "Epoch 33 Loss: 0.47286443001779555 OOMs: 0: 100%|██████████| 3412/3412 [10:38<00:00,  5.34it/s]\n",
      "100%|██████████| 760/760 [00:45<00:00, 16.75it/s]\n"
     ]
    },
    {
     "name": "stdout",
     "output_type": "stream",
     "text": [
      "val loss: 0.43618874203805863\n"
     ]
    },
    {
     "name": "stderr",
     "output_type": "stream",
     "text": [
      "Epoch 34 Loss: 0.4672221792195809 OOMs: 0: 100%|██████████| 3412/3412 [10:11<00:00,  5.58it/s]\n",
      "100%|██████████| 760/760 [00:45<00:00, 16.78it/s]\n"
     ]
    },
    {
     "name": "stdout",
     "output_type": "stream",
     "text": [
      "val loss: 0.4438545821381635\n"
     ]
    },
    {
     "name": "stderr",
     "output_type": "stream",
     "text": [
      "Epoch 35 Loss: 0.4594363097083981 OOMs: 0: 100%|██████████| 3412/3412 [10:06<00:00,  5.62it/s]\n",
      "100%|██████████| 760/760 [00:45<00:00, 16.83it/s]\n"
     ]
    },
    {
     "name": "stdout",
     "output_type": "stream",
     "text": [
      "val loss: 0.44452151044909105\n"
     ]
    },
    {
     "name": "stderr",
     "output_type": "stream",
     "text": [
      "Epoch 36 Loss: 0.453960042785316 OOMs: 0: 100%|██████████| 3412/3412 [10:05<00:00,  5.64it/s]\n",
      "100%|██████████| 760/760 [00:45<00:00, 16.78it/s]\n"
     ]
    },
    {
     "name": "stdout",
     "output_type": "stream",
     "text": [
      "val loss: 0.4453182041350948\n"
     ]
    },
    {
     "name": "stderr",
     "output_type": "stream",
     "text": [
      "Epoch 37 Loss: 0.4468786799068293 OOMs: 0: 100%|██████████| 3412/3412 [09:59<00:00,  5.69it/s]\n",
      "100%|██████████| 760/760 [00:44<00:00, 16.98it/s]\n"
     ]
    },
    {
     "name": "stdout",
     "output_type": "stream",
     "text": [
      "val loss: 0.4363552753225361\n"
     ]
    },
    {
     "name": "stderr",
     "output_type": "stream",
     "text": [
      "Epoch 38 Loss: 0.44097986889420054 OOMs: 0: 100%|██████████| 3412/3412 [09:51<00:00,  5.77it/s]\n",
      "100%|██████████| 760/760 [00:44<00:00, 17.01it/s]\n"
     ]
    },
    {
     "name": "stdout",
     "output_type": "stream",
     "text": [
      "val loss: 0.4191904941524722\n"
     ]
    },
    {
     "name": "stderr",
     "output_type": "stream",
     "text": [
      "Epoch 39 Loss: 0.4261215449838188 OOMs: 0: 100%|██████████| 3412/3412 [09:53<00:00,  5.75it/s]\n",
      "100%|██████████| 760/760 [00:44<00:00, 17.01it/s]\n"
     ]
    },
    {
     "name": "stdout",
     "output_type": "stream",
     "text": [
      "val loss: 0.4269484042042964\n"
     ]
    },
    {
     "name": "stderr",
     "output_type": "stream",
     "text": [
      "Epoch 40 Loss: 0.41709432092572785 OOMs: 0: 100%|██████████| 3412/3412 [10:01<00:00,  5.68it/s]\n",
      "100%|██████████| 760/760 [00:44<00:00, 16.92it/s]\n"
     ]
    },
    {
     "name": "stdout",
     "output_type": "stream",
     "text": [
      "val loss: 0.4197868126150417\n"
     ]
    },
    {
     "name": "stderr",
     "output_type": "stream",
     "text": [
      "Epoch 41 Loss: 0.40567801917978463 OOMs: 0: 100%|██████████| 3412/3412 [10:07<00:00,  5.62it/s]\n",
      "100%|██████████| 760/760 [00:45<00:00, 16.76it/s]\n"
     ]
    },
    {
     "name": "stdout",
     "output_type": "stream",
     "text": [
      "val loss: 0.43316404010218224\n"
     ]
    },
    {
     "name": "stderr",
     "output_type": "stream",
     "text": [
      "Epoch 42 Loss: 0.3920990620408937 OOMs: 0: 100%|██████████| 3412/3412 [10:01<00:00,  5.67it/s]\n",
      "100%|██████████| 760/760 [00:45<00:00, 16.72it/s]\n"
     ]
    },
    {
     "name": "stdout",
     "output_type": "stream",
     "text": [
      "val loss: 0.4166604302308865\n"
     ]
    },
    {
     "name": "stderr",
     "output_type": "stream",
     "text": [
      "Epoch 43 Loss: 0.3784568996757164 OOMs: 0: 100%|██████████| 3412/3412 [09:53<00:00,  5.75it/s]\n",
      "100%|██████████| 760/760 [00:44<00:00, 17.03it/s]\n"
     ]
    },
    {
     "name": "stdout",
     "output_type": "stream",
     "text": [
      "val loss: 0.4123418648261577\n"
     ]
    },
    {
     "name": "stderr",
     "output_type": "stream",
     "text": [
      "Epoch 44 Loss: 0.3677389472297197 OOMs: 0: 100%|██████████| 3412/3412 [09:52<00:00,  5.75it/s]\n",
      "100%|██████████| 760/760 [00:44<00:00, 17.05it/s]\n"
     ]
    },
    {
     "name": "stdout",
     "output_type": "stream",
     "text": [
      "val loss: 0.42210208220946555\n"
     ]
    },
    {
     "name": "stderr",
     "output_type": "stream",
     "text": [
      "Epoch 45 Loss: 0.3587652689745652 OOMs: 0: 100%|██████████| 3412/3412 [09:55<00:00,  5.73it/s]\n",
      "100%|██████████| 760/760 [00:45<00:00, 16.84it/s]\n"
     ]
    },
    {
     "name": "stdout",
     "output_type": "stream",
     "text": [
      "val loss: 0.4158411978891021\n"
     ]
    },
    {
     "name": "stderr",
     "output_type": "stream",
     "text": [
      "Epoch 46 Loss: 0.3492457014404822 OOMs: 0: 100%|██████████| 3412/3412 [09:56<00:00,  5.72it/s]\n",
      "100%|██████████| 760/760 [00:45<00:00, 16.80it/s]\n"
     ]
    },
    {
     "name": "stdout",
     "output_type": "stream",
     "text": [
      "val loss: 0.41182626708361664\n"
     ]
    },
    {
     "name": "stderr",
     "output_type": "stream",
     "text": [
      "Epoch 47 Loss: 0.34264299505611867 OOMs: 0: 100%|██████████| 3412/3412 [10:04<00:00,  5.64it/s]\n",
      "100%|██████████| 760/760 [00:44<00:00, 17.06it/s]\n"
     ]
    },
    {
     "name": "stdout",
     "output_type": "stream",
     "text": [
      "val loss: 0.418138586501836\n"
     ]
    },
    {
     "name": "stderr",
     "output_type": "stream",
     "text": [
      "Epoch 48 Loss: 0.3376249282512757 OOMs: 0: 100%|██████████| 3412/3412 [10:09<00:00,  5.60it/s]\n",
      "100%|██████████| 760/760 [00:45<00:00, 16.65it/s]\n"
     ]
    },
    {
     "name": "stdout",
     "output_type": "stream",
     "text": [
      "val loss: 0.40950466965227145\n"
     ]
    },
    {
     "name": "stderr",
     "output_type": "stream",
     "text": [
      "Epoch 49 Loss: 0.3346729422531856 OOMs: 0: 100%|██████████| 3412/3412 [10:14<00:00,  5.55it/s]\n",
      "100%|██████████| 760/760 [00:45<00:00, 16.67it/s]\n"
     ]
    },
    {
     "name": "stdout",
     "output_type": "stream",
     "text": [
      "val loss: 0.4032145107017928\n"
     ]
    },
    {
     "name": "stderr",
     "output_type": "stream",
     "text": [
      "Epoch 50 Loss: 0.33367977603169424 OOMs: 0: 100%|██████████| 3412/3412 [10:14<00:00,  5.55it/s]\n",
      "100%|██████████| 760/760 [00:45<00:00, 16.69it/s]\n"
     ]
    },
    {
     "name": "stdout",
     "output_type": "stream",
     "text": [
      "val loss: 0.40128159113963574\n"
     ]
    }
   ],
   "source": [
    "from tqdm import tqdm\n",
    "from torch.amp import GradScaler\n",
    "\n",
    "if Test:\n",
    "    epochs=1\n",
    "    cos_epoch=1\n",
    "else:\n",
    "    epochs=50\n",
    "    cos_epoch=35\n",
    "\n",
    "\n",
    "best_loss=np.inf\n",
    "optimizer = torch.optim.Adam(model.parameters(), weight_decay=0.0, lr=0.0001) #no weight decay following AF\n",
    "\n",
    "batch_size=1\n",
    "\n",
    "#for cycle in range(2):\n",
    "\n",
    "criterion=torch.nn.BCEWithLogitsLoss(reduction='none')\n",
    "\n",
    "scaler = GradScaler()\n",
    "\n",
    "schedule=torch.optim.lr_scheduler.CosineAnnealingLR(optimizer, T_max=(epochs-cos_epoch)*len(train_loader)//batch_size)\n",
    "\n",
    "best_val_loss=99999999999\n",
    "for epoch in range(epochs):\n",
    "    model.train()\n",
    "    tbar=tqdm(train_loader)\n",
    "    total_loss=0\n",
    "    oom=0\n",
    "    for idx, batch in enumerate(tbar):\n",
    "        #try:\n",
    "        sequence=batch['sequence'].cuda()\n",
    "        gt_xyz=batch['xyz'].cuda().squeeze()\n",
    "\n",
    "        #with torch.autocast(device_type='cuda', dtype=torch.float16):\n",
    "        pred_xyz=model(sequence).squeeze()\n",
    "        \n",
    "        loss1, flag=dRMAE(pred_xyz,pred_xyz,gt_xyz,gt_xyz) \n",
    "        loss = loss1 + align_svd_mae(pred_xyz, gt_xyz)\n",
    "             #local_dRMSD(pred_xyz,pred_xyz,gt_xyz,gt_xyz)\n",
    "\n",
    "        if flag:\n",
    "            print(f\"Error Sequence : {sequence, gt_xyz}\")\n",
    "            \n",
    "        if loss!=loss:\n",
    "            stop\n",
    "\n",
    "        \n",
    "        (loss/batch_size).backward()\n",
    "\n",
    "        if (idx+1)%batch_size==0 or idx+1 == len(tbar):\n",
    "\n",
    "            torch.nn.utils.clip_grad_norm_(model.parameters(), 1)\n",
    "            optimizer.step()\n",
    "            optimizer.zero_grad()\n",
    "            \n",
    "            if (epoch+1)>cos_epoch:\n",
    "                schedule.step()\n",
    "      \n",
    "        total_loss+=loss.item()\n",
    "        \n",
    "        tbar.set_description(f\"Epoch {epoch + 1} Loss: {total_loss/(idx+1)} OOMs: {oom}\")\n",
    "\n",
    "    tbar=tqdm(val_loader)\n",
    "    model.eval()\n",
    "    val_preds=[]\n",
    "    val_loss=0\n",
    "    for idx, batch in enumerate(tbar):\n",
    "        sequence=batch['sequence'].cuda()\n",
    "        gt_xyz=batch['xyz'].cuda().squeeze()\n",
    "\n",
    "        with torch.no_grad():\n",
    "            pred_xyz=model(sequence).squeeze()\n",
    "            loss, flag=dRMAE(pred_xyz,pred_xyz,gt_xyz,gt_xyz)\n",
    "            \n",
    "        val_loss+=loss.item()\n",
    "        val_preds.append([gt_xyz.cpu().numpy(),pred_xyz.cpu().numpy()])\n",
    "    val_loss=val_loss/len(tbar)\n",
    "    print(f\"val loss: {val_loss}\")\n",
    "    \n",
    "    \n",
    "    \n",
    "    if val_loss<best_val_loss:\n",
    "        best_val_loss=val_loss\n",
    "        best_preds=val_preds\n",
    "        torch.save(model.state_dict(),'RibonanzaNet-3D.pt')\n",
    "\n",
    "    # 1.053595052265986 train loss after epoch 0\n",
    "torch.save(model.state_dict(),'RibonanzaNet-3D-final.pt')"
   ]
  },
  {
   "cell_type": "code",
   "execution_count": null,
   "id": "7819d60e",
   "metadata": {
    "papermill": {
     "duration": 17.539346,
     "end_time": "2025-03-31T15:32:02.115872",
     "exception": false,
     "start_time": "2025-03-31T15:31:44.576526",
     "status": "completed"
    },
    "tags": []
   },
   "outputs": [],
   "source": []
  },
  {
   "cell_type": "code",
   "execution_count": null,
   "id": "4404d707",
   "metadata": {
    "papermill": {
     "duration": 17.651926,
     "end_time": "2025-03-31T15:32:37.262570",
     "exception": false,
     "start_time": "2025-03-31T15:32:19.610644",
     "status": "completed"
    },
    "tags": []
   },
   "outputs": [],
   "source": []
  }
 ],
 "metadata": {
  "kaggle": {
   "accelerator": "gpu",
   "dataSources": [
    {
     "databundleVersionId": 11553390,
     "sourceId": 87793,
     "sourceType": "competition"
    },
    {
     "datasetId": 4299272,
     "sourceId": 7639698,
     "sourceType": "datasetVersion"
    },
    {
     "datasetId": 4459124,
     "sourceId": 8318191,
     "sourceType": "datasetVersion"
    },
    {
     "datasetId": 6893114,
     "sourceId": 11062724,
     "sourceType": "datasetVersion"
    }
   ],
   "dockerImageVersionId": 30919,
   "isGpuEnabled": true,
   "isInternetEnabled": true,
   "language": "python",
   "sourceType": "notebook"
  },
  "kernelspec": {
   "display_name": "Python 3",
   "language": "python",
   "name": "python3"
  },
  "language_info": {
   "codemirror_mode": {
    "name": "ipython",
    "version": 3
   },
   "file_extension": ".py",
   "mimetype": "text/x-python",
   "name": "python",
   "nbconvert_exporter": "python",
   "pygments_lexer": "ipython3",
   "version": "3.10.12"
  },
  "papermill": {
   "default_parameters": {},
   "duration": 32817.267151,
   "end_time": "2025-03-31T15:32:57.776310",
   "environment_variables": {},
   "exception": null,
   "input_path": "__notebook__.ipynb",
   "output_path": "__notebook__.ipynb",
   "parameters": {},
   "start_time": "2025-03-31T06:26:00.509159",
   "version": "2.6.0"
  }
 },
 "nbformat": 4,
 "nbformat_minor": 5
}
